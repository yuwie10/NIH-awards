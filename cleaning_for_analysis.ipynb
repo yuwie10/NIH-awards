{
 "cells": [
  {
   "cell_type": "markdown",
   "metadata": {},
   "source": [
    "# NIH awards data\n",
    "https://exporter.nih.gov/ExPORTER_Catalog.aspx"
   ]
  },
  {
   "cell_type": "code",
   "execution_count": 1,
   "metadata": {
    "collapsed": false,
    "scrolled": false
   },
   "outputs": [],
   "source": [
    "import requests, zipfile, io\n",
    "from bs4 import BeautifulSoup\n",
    "import os\n",
    "\n",
    "import pandas as pd\n",
    "import numpy as np\n",
    "\n",
    "import cleaning_strings as cln\n",
    "\n",
    "from IPython.core.interactiveshell import InteractiveShell\n",
    "InteractiveShell.ast_node_interactivity = \"all\""
   ]
  },
  {
   "cell_type": "code",
   "execution_count": null,
   "metadata": {
    "collapsed": false,
    "scrolled": false
   },
   "outputs": [],
   "source": [
    "url = 'https://exporter.nih.gov/CSVs/final/RePORTER_PRJ_C_FY2016.zip'\n",
    "r = requests.get(url).content\n",
    "z = zipfile.ZipFile(io.BytesIO(r))\n",
    "z.extractall()\n",
    "\n",
    "csv = 'RePORTER_PRJ_C_FY2016.csv'\n",
    "grants_2016_raw = pd.read_csv(csv, encoding = 'latin1')\n",
    "os.remove(csv)\n",
    "\n",
    "pd.set_option('display.max_columns', 50)\n",
    "grants_2016_raw.head(10)"
   ]
  },
  {
   "cell_type": "code",
   "execution_count": null,
   "metadata": {
    "collapsed": false,
    "scrolled": false
   },
   "outputs": [],
   "source": [
    "grants_2016_raw.shape"
   ]
  },
  {
   "cell_type": "markdown",
   "metadata": {},
   "source": [
    "# Processing data\n",
    "\n",
    "## Basic text processing of column names"
   ]
  },
  {
   "cell_type": "code",
   "execution_count": null,
   "metadata": {
    "collapsed": false,
    "scrolled": false
   },
   "outputs": [],
   "source": [
    "grants_2016 = grants_2016_raw.copy()\n",
    "\n",
    "grants_2016.columns = grants_2016.columns.str.lower()\n",
    "grants_2016.head(1)"
   ]
  },
  {
   "cell_type": "code",
   "execution_count": null,
   "metadata": {
    "collapsed": false,
    "scrolled": false
   },
   "outputs": [],
   "source": [
    "#converts df to lowercase string\n",
    "grants_2016 = grants_2016.apply(lambda x: x.astype(str).str.lower())\n",
    "grants_2016.head(1)"
   ]
  },
  {
   "cell_type": "code",
   "execution_count": null,
   "metadata": {
    "collapsed": false,
    "scrolled": false
   },
   "outputs": [],
   "source": [
    "#converts 'nan' to NaN\n",
    "grants_2016.replace(['nan'], np.nan, inplace=True)\n",
    "grants_2016.head(1)"
   ]
  },
  {
   "cell_type": "code",
   "execution_count": 34,
   "metadata": {
    "collapsed": true
   },
   "outputs": [],
   "source": [
    "#Use this csv to clean PI information\n",
    "grants_2016.to_csv('grants_all.csv', index = False, compression = 'gzip')"
   ]
  },
  {
   "cell_type": "markdown",
   "metadata": {},
   "source": [
    "## Selecting columns for analysis\n",
    "There are a total of 45 columns, which may contain redundant or unnecessary information."
   ]
  },
  {
   "cell_type": "code",
   "execution_count": 35,
   "metadata": {
    "collapsed": false
   },
   "outputs": [
    {
     "data": {
      "text/html": [
       "<div>\n",
       "<table border=\"1\" class=\"dataframe\">\n",
       "  <thead>\n",
       "    <tr style=\"text-align: right;\">\n",
       "      <th></th>\n",
       "      <th>column_name</th>\n",
       "      <th>descriptions</th>\n",
       "    </tr>\n",
       "  </thead>\n",
       "  <tbody>\n",
       "    <tr>\n",
       "      <th>0</th>\n",
       "      <td>application_id</td>\n",
       "      <td>A unique identifier of the project record in the  ExPORTER database.</td>\n",
       "    </tr>\n",
       "    <tr>\n",
       "      <th>1</th>\n",
       "      <td>activity</td>\n",
       "      <td>A 3-character code identifying the grant, contract, or  intramural activity through which a project is supported. Within each  funding mechanism , NIH  uses 3-character activity codes (e.g., F32, K08, P01, R01, T32, etc.) to  differentiate the wide variety of research-related programs NIH supports. A  comprehensive  list of activity codes  for grants and cooperative agreements may be found  on the  Types of Grant  Programs  Web page. RePORTER also includes R&amp;D contracts (activity  codes beginning with the letter N) and intramural projects (beginning with the  letter Z).</td>\n",
       "    </tr>\n",
       "    <tr>\n",
       "      <th>2</th>\n",
       "      <td>administering_ic</td>\n",
       "      <td>Administering Institute or Center - A two-character  code to designate the agency,NIH Institute, or Center administering the  grant. See  Institute/Center code  definitions</td>\n",
       "    </tr>\n",
       "    <tr>\n",
       "      <th>3</th>\n",
       "      <td>application_type</td>\n",
       "      <td>A one-digit code to identify the type of  application funded: 1 = New application                              2 = Competing continuation (also, competing renewal)                              3 = Application for additional (supplemental) support.  There are two kinds of type   3competing revisions (which are peer-reviewed and administrative supplements)                              4 = Competing extension for an R37 award or first  non-competing year of a Fast Track SBIR/STTR award                              5 = Non-competing continuation                              7 = Change of grantee institution                              9 = Change of NIH awarding Institute or Division (on a  competing continuation)</td>\n",
       "    </tr>\n",
       "    <tr>\n",
       "      <th>4</th>\n",
       "      <td>arra_funded</td>\n",
       "      <td>“Y”  indicates a project supported by funds appropriated through the American  Recovery and Reinvestment Act of 2009.</td>\n",
       "    </tr>\n",
       "    <tr>\n",
       "      <th>5</th>\n",
       "      <td>award_notice_date</td>\n",
       "      <td>Award notice date or Notice of Grant Award (NGA) is a legally binding document stating the government has obligated funds and which defines the period of support and the terms and conditions of award.\\r\\n</td>\n",
       "    </tr>\n",
       "    <tr>\n",
       "      <th>6</th>\n",
       "      <td>budget_start</td>\n",
       "      <td>The date when a  project’s funding for a particular fiscal year begins.</td>\n",
       "    </tr>\n",
       "    <tr>\n",
       "      <th>7</th>\n",
       "      <td>budget_end</td>\n",
       "      <td>The date when a  project’s funding for a particular fiscal year ends.</td>\n",
       "    </tr>\n",
       "    <tr>\n",
       "      <th>8</th>\n",
       "      <td>cfda_code</td>\n",
       "      <td>Federal programs are assigned a number in the Catalog of Federal Domestic Assistance (CFDA), which is referred to as the \"CFDA code.\" The CFDA database helps the Federal government track all programs it has domestically funded. \\r\\n</td>\n",
       "    </tr>\n",
       "  </tbody>\n",
       "</table>\n",
       "</div>"
      ],
      "text/plain": [
       "                                            column_name  \\\n",
       "0                                        application_id   \n",
       "1                                              activity   \n",
       "2                                    administering_ic     \n",
       "3                                      application_type   \n",
       "4                                           arra_funded   \n",
       "5                                   award_notice_date     \n",
       "6                                        budget_start     \n",
       "7                                          budget_end     \n",
       "8                                           cfda_code     \n",
       "\n",
       "                                                                                                                                                                                                                                                                                                                                                                                                                                                                                                                                                                                                                                                                                                                                      descriptions  \n",
       "0                                                                                                                                                                                                                                                                                                                                                                                                                                                                                                                                                                                                                                                                            A unique identifier of the project record in the  ExPORTER database.   \n",
       "1                                                                                                                                                 A 3-character code identifying the grant, contract, or  intramural activity through which a project is supported. Within each  funding mechanism , NIH  uses 3-character activity codes (e.g., F32, K08, P01, R01, T32, etc.) to  differentiate the wide variety of research-related programs NIH supports. A  comprehensive  list of activity codes  for grants and cooperative agreements may be found  on the  Types of Grant  Programs  Web page. RePORTER also includes R&D contracts (activity  codes beginning with the letter N) and intramural projects (beginning with the  letter Z).  \n",
       "2                                                                                                                                                                                                                                                                                                                                                                                                                                                                                                                                                                     Administering Institute or Center - A two-character  code to designate the agency,NIH Institute, or Center administering the  grant. See  Institute/Center code  definitions  \n",
       "3  A one-digit code to identify the type of  application funded: 1 = New application                              2 = Competing continuation (also, competing renewal)                              3 = Application for additional (supplemental) support.  There are two kinds of type   3competing revisions (which are peer-reviewed and administrative supplements)                              4 = Competing extension for an R37 award or first  non-competing year of a Fast Track SBIR/STTR award                              5 = Non-competing continuation                              7 = Change of grantee institution                              9 = Change of NIH awarding Institute or Division (on a  competing continuation)  \n",
       "4                                                                                                                                                                                                                                                                                                                                                                                                                                                                                                                                                                                                                           “Y”  indicates a project supported by funds appropriated through the American  Recovery and Reinvestment Act of 2009.   \n",
       "5                                                                                                                                                                                                                                                                                                                                                                                                                                                                                                     Award notice date or Notice of Grant Award (NGA) is a legally binding document stating the government has obligated funds and which defines the period of support and the terms and conditions of award.\\r\\n                                  \n",
       "6                                                                                                                                                                                                                                                                                                                                                                                                                                                                                                                                                                                                                                                                         The date when a  project’s funding for a particular fiscal year begins.   \n",
       "7                                                                                                                                                                                                                                                                                                                                                                                                                                                                                                                                                                                                                                                                            The date when a  project’s funding for a particular fiscal year ends.  \n",
       "8                                                                                                                                                                                                                                                                                                                                                                                                                                                                                                       Federal programs are assigned a number in the Catalog of Federal Domestic Assistance (CFDA), which is referred to as the \"CFDA code.\" The CFDA database helps the Federal government track all programs it has domestically funded. \\r\\n    "
      ]
     },
     "execution_count": 35,
     "metadata": {},
     "output_type": "execute_result"
    }
   ],
   "source": [
    "grants_2016 = pd.read_csv('grants_all.csv', compression = 'gzip')\n",
    "pd.set_option('display.max_colwidth', 5000)\n",
    "col_info = pd.read_csv('grant_col_info_all.csv')\n",
    "col_info[:9]"
   ]
  },
  {
   "cell_type": "markdown",
   "metadata": {},
   "source": [
    "To remove (initial): 5-8, redundant information"
   ]
  },
  {
   "cell_type": "code",
   "execution_count": null,
   "metadata": {
    "collapsed": false
   },
   "outputs": [],
   "source": [
    "to_drop = ['award_notice_date', 'budget_start', 'budget_end', 'cfda_code']\n",
    "grants_2016 = grants_2016.drop(to_drop, axis = 1)"
   ]
  },
  {
   "cell_type": "code",
   "execution_count": null,
   "metadata": {
    "collapsed": false
   },
   "outputs": [],
   "source": [
    "col_info[9:18]"
   ]
  },
  {
   "cell_type": "markdown",
   "metadata": {},
   "source": [
    "To remove: 9 (may add in later if correlating with publications), 10-12, 16; also 2 (redundant with funding_ics)"
   ]
  },
  {
   "cell_type": "code",
   "execution_count": null,
   "metadata": {
    "collapsed": false
   },
   "outputs": [],
   "source": [
    "to_drop2 = ['administering_ic', 'core_project_num', 'ed_inst_type', 'foa_number', 'full_project_num', 'ic_name']\n",
    "grants_2016 = grants_2016.drop(to_drop2, axis = 1)"
   ]
  },
  {
   "cell_type": "code",
   "execution_count": null,
   "metadata": {
    "collapsed": false,
    "scrolled": false
   },
   "outputs": [],
   "source": [
    "col_info[18:27]"
   ]
  },
  {
   "cell_type": "markdown",
   "metadata": {},
   "source": [
    "All redundant: 18, 20-23, 25\n",
    "\n",
    "Also remove 19, 24, 26; these will be added again later."
   ]
  },
  {
   "cell_type": "code",
   "execution_count": null,
   "metadata": {
    "collapsed": true
   },
   "outputs": [],
   "source": [
    "to_drop3 = ['org_city', 'org_country', 'org_dept', 'org_district', 'org_duns', 'org_fips', 'org_name', 'org_state', 'org_zipcode']\n",
    "grants_2016 = grants_2016.drop(to_drop3, axis = 1)"
   ]
  },
  {
   "cell_type": "code",
   "execution_count": null,
   "metadata": {
    "collapsed": false
   },
   "outputs": [],
   "source": [
    "col_info[27:36]"
   ]
  },
  {
   "cell_type": "markdown",
   "metadata": {},
   "source": [
    "27 (phr): maybe later for text analysis, too complex for initial analysis; 29, 34, 35"
   ]
  },
  {
   "cell_type": "code",
   "execution_count": null,
   "metadata": {
    "collapsed": false
   },
   "outputs": [],
   "source": [
    "to_drop4 = ['phr', 'pi_names', 'program_officer_name', 'project_title', 'serial_number']\n",
    "grants_2016 = grants_2016.drop(to_drop4, axis = 1)"
   ]
  },
  {
   "cell_type": "code",
   "execution_count": null,
   "metadata": {
    "collapsed": false
   },
   "outputs": [],
   "source": [
    "col_info[36:]"
   ]
  },
  {
   "cell_type": "markdown",
   "metadata": {},
   "source": [
    "37 (redundant with 36, can always look up)"
   ]
  },
  {
   "cell_type": "code",
   "execution_count": null,
   "metadata": {
    "collapsed": false
   },
   "outputs": [],
   "source": [
    "#check number of subprojects\n",
    "#grants_2016.shape\n",
    "#subproject_cols = ['subproject_id', 'suffix', 'total_cost_sub_project']\n",
    "#grants_2016[subproject_cols].isnull().sum()"
   ]
  },
  {
   "cell_type": "code",
   "execution_count": null,
   "metadata": {
    "collapsed": false
   },
   "outputs": [],
   "source": [
    "grants_2016 = grants_2016.drop(['study_section_name', 'subproject_id', 'suffix'], axis = 1)"
   ]
  },
  {
   "cell_type": "code",
   "execution_count": null,
   "metadata": {
    "collapsed": false,
    "scrolled": false
   },
   "outputs": [],
   "source": [
    "pd.set_option('display.max_colwidth', 50)\n",
    "grants_2016.head()"
   ]
  },
  {
   "cell_type": "markdown",
   "metadata": {},
   "source": [
    "### More cleaning of columns"
   ]
  },
  {
   "cell_type": "markdown",
   "metadata": {},
   "source": [
    "Convert strings to numeric and dates"
   ]
  },
  {
   "cell_type": "code",
   "execution_count": null,
   "metadata": {
    "collapsed": false,
    "scrolled": false
   },
   "outputs": [],
   "source": [
    "def convert_column(df, list_of_names, function):\n",
    "    '''\n",
    "    Converts df column values from x to 'function'.\n",
    "    Function = numeric: pd.to_numeric()\n",
    "    Function = date: pd.to_datetime()\n",
    "    Takes a df and a list with the column names.\n",
    "    Returns df.\n",
    "    '''\n",
    "    for name in list_of_names:\n",
    "        if function == 'numeric':\n",
    "            df[name] = pd.to_numeric(df[name])\n",
    "        elif function == 'date':\n",
    "            df[name] = pd.to_datetime(df[name], errors = 'coerce')\n",
    "    return df\n",
    "\n",
    "numeric_cols = ['direct_cost_amt', 'indirect_cost_amt', 'total_cost', 'total_cost_sub_project']\n",
    "grants_2016 = convert_column(grants_2016, numeric_cols, function = 'numeric')\n",
    "\n",
    "date_cols = ['project_start', 'project_end']\n",
    "grants_2016 = convert_column(grants_2016, date_cols, function = 'date')\n",
    "\n",
    "\n",
    "grants_2016.head(1)"
   ]
  },
  {
   "cell_type": "markdown",
   "metadata": {},
   "source": [
    "## Extract funding institute information "
   ]
  },
  {
   "cell_type": "code",
   "execution_count": 42,
   "metadata": {
    "collapsed": true
   },
   "outputs": [],
   "source": [
    "grants_2016['funding_ics'] = grants_2016['funding_ics'].astype(str)\n",
    "institute_funds = pd.DataFrame([grants_2016['application_id'], grants_2016['funding_ics']]).T"
   ]
  },
  {
   "cell_type": "markdown",
   "metadata": {},
   "source": [
    "## Splitting individual PIs when more than one is listed on a grant\n",
    "Split grants with multiple PIs so that each row only has a single PI listed. This will allow analysis on funding per individual and per institution."
   ]
  },
  {
   "cell_type": "code",
   "execution_count": null,
   "metadata": {
    "collapsed": false,
    "scrolled": false
   },
   "outputs": [],
   "source": [
    "col_list = ['nih_spending_cats', 'pi_ids', 'project_terms']\n",
    "grants_2016 = cln.strip_series(grants_2016, col_list, strip = '; ')\n",
    "grants_2016 = cln.split_rows(grants_2016, col_name = 'pi_ids', by = ';')"
   ]
  },
  {
   "cell_type": "markdown",
   "metadata": {},
   "source": [
    "More cleaning"
   ]
  },
  {
   "cell_type": "code",
   "execution_count": null,
   "metadata": {
    "collapsed": false,
    "scrolled": false
   },
   "outputs": [],
   "source": [
    "grants_2016 = cln.strip_series(grants_2016, ['pi_ids'])\n",
    "grants_2016 = cln.strip_series(grants_2016, ['pi_ids'], strip = ' ')\n",
    "grants_2016.head()"
   ]
  },
  {
   "cell_type": "markdown",
   "metadata": {},
   "source": [
    "Split grant totals by number of associated PIs (assumption is that all PIs on a grant receive the same amount of money)."
   ]
  },
  {
   "cell_type": "code",
   "execution_count": null,
   "metadata": {
    "collapsed": false
   },
   "outputs": [],
   "source": [
    "#divide cost columns by # of times the application_id occurs\n",
    "pi_per_grant = pd.DataFrame(grants_2016['application_id'].value_counts())\n",
    "pi_per_grant = pi_per_grant.reset_index()\n",
    "pi_per_grant.columns = ['application_id', 'num_pis']\n",
    "\n",
    "#Match application IDs in grants_2016 and pi_per_grant\n",
    "#Divide the 3 cost columns by \n",
    "grants_2016 = pd.merge(grants_2016, pi_per_grant, on = 'application_id')"
   ]
  },
  {
   "cell_type": "code",
   "execution_count": null,
   "metadata": {
    "collapsed": false
   },
   "outputs": [],
   "source": [
    "grants_2016.head()"
   ]
  },
  {
   "cell_type": "code",
   "execution_count": null,
   "metadata": {
    "collapsed": false
   },
   "outputs": [],
   "source": [
    "def divide_by_column(df, col_list = ['direct_cost_amt', 'indirect_cost_amt', 'total_cost'], divide_by = 'num_pis'):\n",
    "    '''\n",
    "    \n",
    "    Divide df columns by value in another column\n",
    "    \n",
    "    '''\n",
    "    for col in col_list:\n",
    "        df[col] = round(df[col] / df[divide_by])\n",
    "    return df\n",
    "\n",
    "grants_2016 = divide_by_column(grants_2016)"
   ]
  },
  {
   "cell_type": "code",
   "execution_count": null,
   "metadata": {
    "collapsed": false,
    "scrolled": false
   },
   "outputs": [],
   "source": [
    "grants_2016.head()"
   ]
  },
  {
   "cell_type": "markdown",
   "metadata": {},
   "source": [
    "## Add organization information\n",
    "\n",
    "Import pi_info.csv, which contains the necessary information."
   ]
  },
  {
   "cell_type": "code",
   "execution_count": null,
   "metadata": {
    "collapsed": false
   },
   "outputs": [],
   "source": [
    "cols_import = ['pi_ids', 'org_name', 'org_country', 'org_zipcode']\n",
    "pi_info = pd.read_csv('pi_info.csv', compression = 'gzip', usecols = cols_import, dtype = {'pi_ids':str})\n",
    "pi_info.head()"
   ]
  },
  {
   "cell_type": "markdown",
   "metadata": {},
   "source": [
    "Merge the two dataframes so the information is listed together."
   ]
  },
  {
   "cell_type": "code",
   "execution_count": null,
   "metadata": {
    "collapsed": true
   },
   "outputs": [],
   "source": [
    "grants_2016 = pd.merge(grants_2016, pi_info, left_on = 'pi_ids', right_on = 'pi_ids', how = 'left')"
   ]
  },
  {
   "cell_type": "markdown",
   "metadata": {},
   "source": [
    "## Cost of grants (funds)\n",
    "There are 4 cost columns. Indirect and direct costs sum to total costs or to total subproject costs. Drop indirect and direct costs columns and combine the total costs into one column (costs are either listed as total cost or total subproject cost)."
   ]
  },
  {
   "cell_type": "code",
   "execution_count": null,
   "metadata": {
    "collapsed": true
   },
   "outputs": [],
   "source": [
    "grants_2016 = grants_2016.drop(['direct_cost_amt', 'indirect_cost_amt'], axis = 1)\n",
    "grants_2016['total_cost'].fillna(grants_2016['total_cost_sub_project'], inplace = True)\n",
    "del grants_2016['total_cost_sub_project']"
   ]
  },
  {
   "cell_type": "code",
   "execution_count": null,
   "metadata": {
    "collapsed": false
   },
   "outputs": [],
   "source": [
    "grants_2016.rename(columns = {'total_cost':'funds'}, inplace = True)\n",
    "grants_2016.head()"
   ]
  },
  {
   "cell_type": "markdown",
   "metadata": {},
   "source": [
    "Save dataframe to csv"
   ]
  },
  {
   "cell_type": "code",
   "execution_count": null,
   "metadata": {
    "collapsed": true
   },
   "outputs": [],
   "source": [
    "grants_2016.to_csv('for_analysis.csv', index = False, compression = 'gzip')"
   ]
  },
  {
   "cell_type": "markdown",
   "metadata": {},
   "source": [
    "## Institute funds per grant"
   ]
  },
  {
   "cell_type": "code",
   "execution_count": 43,
   "metadata": {
    "collapsed": false
   },
   "outputs": [
    {
     "data": {
      "text/html": [
       "<div>\n",
       "<table border=\"1\" class=\"dataframe\">\n",
       "  <thead>\n",
       "    <tr style=\"text-align: right;\">\n",
       "      <th></th>\n",
       "      <th>application_id</th>\n",
       "      <th>funding_ics</th>\n",
       "    </tr>\n",
       "  </thead>\n",
       "  <tbody>\n",
       "    <tr>\n",
       "      <th>0</th>\n",
       "      <td>9115627</td>\n",
       "      <td>nigms:194460\\</td>\n",
       "    </tr>\n",
       "    <tr>\n",
       "      <th>1</th>\n",
       "      <td>9128072</td>\n",
       "      <td>ninds:335781\\</td>\n",
       "    </tr>\n",
       "    <tr>\n",
       "      <th>2</th>\n",
       "      <td>9056435</td>\n",
       "      <td>fic:146822\\nida:75000\\</td>\n",
       "    </tr>\n",
       "    <tr>\n",
       "      <th>3</th>\n",
       "      <td>9213716</td>\n",
       "      <td>nimh:1593922\\</td>\n",
       "    </tr>\n",
       "    <tr>\n",
       "      <th>4</th>\n",
       "      <td>8986215</td>\n",
       "      <td>nimh:294755\\</td>\n",
       "    </tr>\n",
       "  </tbody>\n",
       "</table>\n",
       "</div>"
      ],
      "text/plain": [
       "  application_id             funding_ics\n",
       "0        9115627           nigms:194460\\\n",
       "1        9128072           ninds:335781\\\n",
       "2        9056435  fic:146822\\nida:75000\\\n",
       "3        9213716           nimh:1593922\\\n",
       "4        8986215            nimh:294755\\"
      ]
     },
     "execution_count": 43,
     "metadata": {},
     "output_type": "execute_result"
    }
   ],
   "source": [
    "institute_funds.head()"
   ]
  },
  {
   "cell_type": "markdown",
   "metadata": {},
   "source": [
    "Split 'funding_ics' column so that every row contains a single institute code associated with the application and the amount of money given by that institute."
   ]
  },
  {
   "cell_type": "code",
   "execution_count": 44,
   "metadata": {
    "collapsed": false
   },
   "outputs": [
    {
     "data": {
      "text/html": [
       "<div>\n",
       "<table border=\"1\" class=\"dataframe\">\n",
       "  <thead>\n",
       "    <tr style=\"text-align: right;\">\n",
       "      <th></th>\n",
       "      <th>application_id</th>\n",
       "      <th>funding_ics</th>\n",
       "    </tr>\n",
       "  </thead>\n",
       "  <tbody>\n",
       "    <tr>\n",
       "      <th>0</th>\n",
       "      <td>9115627</td>\n",
       "      <td>nigms:194460</td>\n",
       "    </tr>\n",
       "    <tr>\n",
       "      <th>1</th>\n",
       "      <td>9128072</td>\n",
       "      <td>ninds:335781</td>\n",
       "    </tr>\n",
       "    <tr>\n",
       "      <th>2</th>\n",
       "      <td>9056435</td>\n",
       "      <td>fic:146822</td>\n",
       "    </tr>\n",
       "    <tr>\n",
       "      <th>3</th>\n",
       "      <td>9056435</td>\n",
       "      <td>nida:75000</td>\n",
       "    </tr>\n",
       "    <tr>\n",
       "      <th>4</th>\n",
       "      <td>9213716</td>\n",
       "      <td>nimh:1593922</td>\n",
       "    </tr>\n",
       "  </tbody>\n",
       "</table>\n",
       "</div>"
      ],
      "text/plain": [
       "  application_id   funding_ics\n",
       "0        9115627  nigms:194460\n",
       "1        9128072  ninds:335781\n",
       "2        9056435    fic:146822\n",
       "3        9056435    nida:75000\n",
       "4        9213716  nimh:1593922"
      ]
     },
     "execution_count": 44,
     "metadata": {},
     "output_type": "execute_result"
    }
   ],
   "source": [
    "institute_funds['funding_ics'] = institute_funds['funding_ics'].str.strip('\\ ')\n",
    "institute_funds = cln.split_rows(institute_funds, col_name = 'funding_ics', by = '\\\\')\n",
    "institute_funds = institute_funds.reset_index()\n",
    "del institute_funds['index']\n",
    "institute_funds.head()"
   ]
  },
  {
   "cell_type": "markdown",
   "metadata": {},
   "source": [
    "Create a new column, 'funds_awarded', with the amount of money the institute awarded to the particular application."
   ]
  },
  {
   "cell_type": "code",
   "execution_count": 45,
   "metadata": {
    "collapsed": false
   },
   "outputs": [
    {
     "data": {
      "text/html": [
       "<div>\n",
       "<table border=\"1\" class=\"dataframe\">\n",
       "  <thead>\n",
       "    <tr style=\"text-align: right;\">\n",
       "      <th></th>\n",
       "      <th>application_id</th>\n",
       "      <th>institute</th>\n",
       "      <th>funds_awarded</th>\n",
       "    </tr>\n",
       "  </thead>\n",
       "  <tbody>\n",
       "    <tr>\n",
       "      <th>0</th>\n",
       "      <td>9115627</td>\n",
       "      <td>nigms</td>\n",
       "      <td>194460</td>\n",
       "    </tr>\n",
       "    <tr>\n",
       "      <th>1</th>\n",
       "      <td>9128072</td>\n",
       "      <td>ninds</td>\n",
       "      <td>335781</td>\n",
       "    </tr>\n",
       "    <tr>\n",
       "      <th>2</th>\n",
       "      <td>9056435</td>\n",
       "      <td>fic</td>\n",
       "      <td>146822</td>\n",
       "    </tr>\n",
       "    <tr>\n",
       "      <th>3</th>\n",
       "      <td>9056435</td>\n",
       "      <td>nida</td>\n",
       "      <td>75000</td>\n",
       "    </tr>\n",
       "    <tr>\n",
       "      <th>4</th>\n",
       "      <td>9213716</td>\n",
       "      <td>nimh</td>\n",
       "      <td>1593922</td>\n",
       "    </tr>\n",
       "  </tbody>\n",
       "</table>\n",
       "</div>"
      ],
      "text/plain": [
       "  application_id institute funds_awarded\n",
       "0        9115627     nigms        194460\n",
       "1        9128072     ninds        335781\n",
       "2        9056435       fic        146822\n",
       "3        9056435      nida         75000\n",
       "4        9213716      nimh       1593922"
      ]
     },
     "execution_count": 45,
     "metadata": {},
     "output_type": "execute_result"
    }
   ],
   "source": [
    "ics = list(institute_funds['funding_ics'])\n",
    "for i in range(len(ics)):\n",
    "    ics[i] = ics[i].split(':')\n",
    "\n",
    "to_concat = pd.DataFrame(ics, columns = ['institute', 'funds_awarded'])\n",
    "#institute_funds['institute'] = to_concat[0]\n",
    "#institute_funds['funds_awarded'] = to_concat[1]\n",
    "institute_funds = pd.concat([institute_funds, to_concat], axis = 1)\n",
    "del institute_funds['funding_ics']\n",
    "institute_funds.head()"
   ]
  },
  {
   "cell_type": "markdown",
   "metadata": {},
   "source": [
    "Save to .csv"
   ]
  },
  {
   "cell_type": "code",
   "execution_count": 46,
   "metadata": {
    "collapsed": true
   },
   "outputs": [],
   "source": [
    "institute_funds.to_csv('institute_funds.csv', index = False, compression = 'gzip')"
   ]
  }
 ],
 "metadata": {
  "kernelspec": {
   "display_name": "Python 3",
   "language": "python",
   "name": "python3"
  },
  "language_info": {
   "codemirror_mode": {
    "name": "ipython",
    "version": 3
   },
   "file_extension": ".py",
   "mimetype": "text/x-python",
   "name": "python",
   "nbconvert_exporter": "python",
   "pygments_lexer": "ipython3",
   "version": "3.6.0"
  }
 },
 "nbformat": 4,
 "nbformat_minor": 1
}
