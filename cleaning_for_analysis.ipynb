{
 "cells": [
  {
   "cell_type": "markdown",
   "metadata": {},
   "source": [
    "# NIH awards data\n",
    "https://exporter.nih.gov/ExPORTER_Catalog.aspx"
   ]
  },
  {
   "cell_type": "code",
   "execution_count": 68,
   "metadata": {
    "collapsed": false,
    "scrolled": false
   },
   "outputs": [],
   "source": [
    "import requests, zipfile, io\n",
    "import glob\n",
    "from bs4 import BeautifulSoup\n",
    "import os\n",
    "\n",
    "from datetime import datetime\n",
    "\n",
    "import pandas as pd\n",
    "import numpy as np\n",
    "\n",
    "import cleaning_strings as cln\n",
    "\n",
    "from IPython.core.interactiveshell import InteractiveShell\n",
    "InteractiveShell.ast_node_interactivity = \"all\""
   ]
  },
  {
   "cell_type": "markdown",
   "metadata": {},
   "source": [
    "Download grants data from years 1985-2016"
   ]
  },
  {
   "cell_type": "code",
   "execution_count": null,
   "metadata": {
    "collapsed": true
   },
   "outputs": [],
   "source": [
    "years = range(1985, 2017)\n",
    "for year in years:\n",
    "    url = 'https://exporter.nih.gov/CSVs/final/RePORTER_PRJ_C_FY{}'.format(year) + '.zip'\n",
    "    r = requests.get(url).content\n",
    "    z = zipfile.ZipFile(io.BytesIO(r))\n",
    "    z.extractall()"
   ]
  },
  {
   "cell_type": "markdown",
   "metadata": {},
   "source": [
    "Import only one year to get column names/dtypes"
   ]
  },
  {
   "cell_type": "code",
   "execution_count": 16,
   "metadata": {
    "collapsed": false
   },
   "outputs": [
    {
     "data": {
      "text/html": [
       "<div>\n",
       "<table border=\"1\" class=\"dataframe\">\n",
       "  <thead>\n",
       "    <tr style=\"text-align: right;\">\n",
       "      <th></th>\n",
       "      <th>APPLICATION_ID</th>\n",
       "      <th>ACTIVITY</th>\n",
       "      <th>ADMINISTERING_IC</th>\n",
       "      <th>APPLICATION_TYPE</th>\n",
       "      <th>ARRA_FUNDED</th>\n",
       "      <th>AWARD_NOTICE_DATE</th>\n",
       "      <th>BUDGET_START</th>\n",
       "      <th>BUDGET_END</th>\n",
       "      <th>CFDA_CODE</th>\n",
       "      <th>CORE_PROJECT_NUM</th>\n",
       "      <th>ED_INST_TYPE</th>\n",
       "      <th>FOA_NUMBER</th>\n",
       "      <th>FULL_PROJECT_NUM</th>\n",
       "      <th>FUNDING_ICs</th>\n",
       "      <th>FUNDING_MECHANISM</th>\n",
       "      <th>FY</th>\n",
       "      <th>IC_NAME</th>\n",
       "      <th>NIH_SPENDING_CATS</th>\n",
       "      <th>ORG_CITY</th>\n",
       "      <th>ORG_COUNTRY</th>\n",
       "      <th>ORG_DEPT</th>\n",
       "      <th>ORG_DISTRICT</th>\n",
       "      <th>ORG_DUNS</th>\n",
       "      <th>ORG_FIPS</th>\n",
       "      <th>ORG_NAME</th>\n",
       "      <th>ORG_STATE</th>\n",
       "      <th>ORG_ZIPCODE</th>\n",
       "      <th>PHR</th>\n",
       "      <th>PI_IDS</th>\n",
       "      <th>PI_NAMEs</th>\n",
       "      <th>PROGRAM_OFFICER_NAME</th>\n",
       "      <th>PROJECT_START</th>\n",
       "      <th>PROJECT_END</th>\n",
       "      <th>PROJECT_TERMS</th>\n",
       "      <th>PROJECT_TITLE</th>\n",
       "      <th>SERIAL_NUMBER</th>\n",
       "      <th>STUDY_SECTION</th>\n",
       "      <th>STUDY_SECTION_NAME</th>\n",
       "      <th>SUBPROJECT_ID</th>\n",
       "      <th>SUFFIX</th>\n",
       "      <th>SUPPORT_YEAR</th>\n",
       "      <th>DIRECT_COST_AMT</th>\n",
       "      <th>INDIRECT_COST_AMT</th>\n",
       "      <th>TOTAL_COST</th>\n",
       "      <th>TOTAL_COST_SUB_PROJECT</th>\n",
       "    </tr>\n",
       "  </thead>\n",
       "  <tbody>\n",
       "    <tr>\n",
       "      <th>0</th>\n",
       "      <td>9115627</td>\n",
       "      <td>K23</td>\n",
       "      <td>GM</td>\n",
       "      <td>4</td>\n",
       "      <td>N</td>\n",
       "      <td>7/27/2016</td>\n",
       "      <td>8/1/2016</td>\n",
       "      <td>7/31/2017</td>\n",
       "      <td>859</td>\n",
       "      <td>K23GM104401</td>\n",
       "      <td>SCHOOLS OF MEDICINE</td>\n",
       "      <td>PA-11-009</td>\n",
       "      <td>4K23GM104401-04</td>\n",
       "      <td>NIGMS:194460\\</td>\n",
       "      <td>OTHER RESEARCH-RELATED</td>\n",
       "      <td>2016</td>\n",
       "      <td>NATIONAL INSTITUTE OF GENERAL MEDICAL SCIENCES</td>\n",
       "      <td>NaN</td>\n",
       "      <td>NEW YORK</td>\n",
       "      <td>UNITED STATES</td>\n",
       "      <td>GENETICS</td>\n",
       "      <td>13</td>\n",
       "      <td>78861598</td>\n",
       "      <td>US</td>\n",
       "      <td>ICAHN SCHOOL OF MEDICINE AT MOUNT SINAI</td>\n",
       "      <td>NY</td>\n",
       "      <td>100296574</td>\n",
       "      <td>PUBLIC HEALTH RELEVANCE: Antiplatelet response...</td>\n",
       "      <td>10799126;</td>\n",
       "      <td>SCOTT, STUART ALEXANDER;</td>\n",
       "      <td>LONG, ROCHELLE M.</td>\n",
       "      <td>8/1/2013</td>\n",
       "      <td>7/31/2017</td>\n",
       "      <td>ABCB1 gene; Accounting; acute coronary syndrom...</td>\n",
       "      <td>The Pharmacogenomic Control of Clopidogrel Res...</td>\n",
       "      <td>104401</td>\n",
       "      <td>GHD</td>\n",
       "      <td>Genetics of Health and Disease Study Section</td>\n",
       "      <td>NaN</td>\n",
       "      <td>NaN</td>\n",
       "      <td>4</td>\n",
       "      <td>180500</td>\n",
       "      <td>13960</td>\n",
       "      <td>194460</td>\n",
       "      <td>NaN</td>\n",
       "    </tr>\n",
       "    <tr>\n",
       "      <th>1</th>\n",
       "      <td>9128072</td>\n",
       "      <td>R01</td>\n",
       "      <td>NS</td>\n",
       "      <td>4</td>\n",
       "      <td>N</td>\n",
       "      <td>8/15/2016</td>\n",
       "      <td>8/1/2016</td>\n",
       "      <td>7/31/2017</td>\n",
       "      <td>853</td>\n",
       "      <td>R01NS085165</td>\n",
       "      <td>SCHOOLS OF MEDICINE</td>\n",
       "      <td>PA-11-260</td>\n",
       "      <td>4R01NS085165-04</td>\n",
       "      <td>NINDS:335781\\</td>\n",
       "      <td>Non-SBIR/STTR RPGs</td>\n",
       "      <td>2016</td>\n",
       "      <td>NATIONAL INSTITUTE OF NEUROLOGICAL DISORDERS A...</td>\n",
       "      <td>NaN</td>\n",
       "      <td>BALTIMORE</td>\n",
       "      <td>UNITED STATES</td>\n",
       "      <td>ANESTHESIOLOGY</td>\n",
       "      <td>7</td>\n",
       "      <td>188435911</td>\n",
       "      <td>US</td>\n",
       "      <td>UNIVERSITY OF MARYLAND BALTIMORE</td>\n",
       "      <td>MD</td>\n",
       "      <td>212011508</td>\n",
       "      <td>PUBLIC HEALTH RELEVANCE: Activation of microgl...</td>\n",
       "      <td>7017365;</td>\n",
       "      <td>POLSTER, BRIAN M;</td>\n",
       "      <td>MORRIS, JILL A</td>\n",
       "      <td>9/30/2013</td>\n",
       "      <td>7/31/2018</td>\n",
       "      <td>Acute; analog; Antioxidants; attenuation; Bind...</td>\n",
       "      <td>Novel Mechanisms of Microglial Neurotoxicity a...</td>\n",
       "      <td>85165</td>\n",
       "      <td>NOMD</td>\n",
       "      <td>Neural Oxidative Metabolism and Death Study Se...</td>\n",
       "      <td>NaN</td>\n",
       "      <td>NaN</td>\n",
       "      <td>4</td>\n",
       "      <td>218750</td>\n",
       "      <td>117031</td>\n",
       "      <td>335781</td>\n",
       "      <td>NaN</td>\n",
       "    </tr>\n",
       "  </tbody>\n",
       "</table>\n",
       "</div>"
      ],
      "text/plain": [
       "   APPLICATION_ID ACTIVITY ADMINISTERING_IC  APPLICATION_TYPE ARRA_FUNDED  \\\n",
       "0         9115627      K23               GM                 4           N   \n",
       "1         9128072      R01               NS                 4           N   \n",
       "\n",
       "  AWARD_NOTICE_DATE BUDGET_START BUDGET_END  CFDA_CODE CORE_PROJECT_NUM  \\\n",
       "0         7/27/2016     8/1/2016  7/31/2017        859      K23GM104401   \n",
       "1         8/15/2016     8/1/2016  7/31/2017        853      R01NS085165   \n",
       "\n",
       "          ED_INST_TYPE FOA_NUMBER FULL_PROJECT_NUM    FUNDING_ICs  \\\n",
       "0  SCHOOLS OF MEDICINE  PA-11-009  4K23GM104401-04  NIGMS:194460\\   \n",
       "1  SCHOOLS OF MEDICINE  PA-11-260  4R01NS085165-04  NINDS:335781\\   \n",
       "\n",
       "        FUNDING_MECHANISM    FY  \\\n",
       "0  OTHER RESEARCH-RELATED  2016   \n",
       "1      Non-SBIR/STTR RPGs  2016   \n",
       "\n",
       "                                             IC_NAME  NIH_SPENDING_CATS  \\\n",
       "0     NATIONAL INSTITUTE OF GENERAL MEDICAL SCIENCES                NaN   \n",
       "1  NATIONAL INSTITUTE OF NEUROLOGICAL DISORDERS A...                NaN   \n",
       "\n",
       "    ORG_CITY    ORG_COUNTRY        ORG_DEPT  ORG_DISTRICT   ORG_DUNS ORG_FIPS  \\\n",
       "0   NEW YORK  UNITED STATES        GENETICS            13   78861598       US   \n",
       "1  BALTIMORE  UNITED STATES  ANESTHESIOLOGY             7  188435911       US   \n",
       "\n",
       "                                  ORG_NAME ORG_STATE  ORG_ZIPCODE  \\\n",
       "0  ICAHN SCHOOL OF MEDICINE AT MOUNT SINAI        NY    100296574   \n",
       "1         UNIVERSITY OF MARYLAND BALTIMORE        MD    212011508   \n",
       "\n",
       "                                                 PHR      PI_IDS  \\\n",
       "0  PUBLIC HEALTH RELEVANCE: Antiplatelet response...  10799126;    \n",
       "1  PUBLIC HEALTH RELEVANCE: Activation of microgl...   7017365;    \n",
       "\n",
       "                   PI_NAMEs PROGRAM_OFFICER_NAME PROJECT_START PROJECT_END  \\\n",
       "0  SCOTT, STUART ALEXANDER;    LONG, ROCHELLE M.      8/1/2013   7/31/2017   \n",
       "1         POLSTER, BRIAN M;       MORRIS, JILL A     9/30/2013   7/31/2018   \n",
       "\n",
       "                                       PROJECT_TERMS  \\\n",
       "0  ABCB1 gene; Accounting; acute coronary syndrom...   \n",
       "1  Acute; analog; Antioxidants; attenuation; Bind...   \n",
       "\n",
       "                                       PROJECT_TITLE  SERIAL_NUMBER  \\\n",
       "0  The Pharmacogenomic Control of Clopidogrel Res...         104401   \n",
       "1  Novel Mechanisms of Microglial Neurotoxicity a...          85165   \n",
       "\n",
       "  STUDY_SECTION                                 STUDY_SECTION_NAME  \\\n",
       "0           GHD      Genetics of Health and Disease Study Section    \n",
       "1          NOMD  Neural Oxidative Metabolism and Death Study Se...   \n",
       "\n",
       "   SUBPROJECT_ID  SUFFIX  SUPPORT_YEAR  DIRECT_COST_AMT  INDIRECT_COST_AMT  \\\n",
       "0            NaN     NaN             4           180500              13960   \n",
       "1            NaN     NaN             4           218750             117031   \n",
       "\n",
       "   TOTAL_COST  TOTAL_COST_SUB_PROJECT  \n",
       "0      194460                     NaN  \n",
       "1      335781                     NaN  "
      ]
     },
     "execution_count": 16,
     "metadata": {},
     "output_type": "execute_result"
    }
   ],
   "source": [
    "#import first two rows of grants data from a single year\n",
    "csv = 'RePORTER_PRJ_C_FY2016.csv'\n",
    "grants_2016_raw = pd.read_csv(csv, encoding = 'latin1', nrows = 2)\n",
    "pd.set_option('display.max_columns', 50)\n",
    "grants_2016_raw"
   ]
  },
  {
   "cell_type": "markdown",
   "metadata": {},
   "source": [
    "There are three different dtypes in the grant data: str (the most common), floats and datetime. Create dictionaries/lists to specify dtypes on import."
   ]
  },
  {
   "cell_type": "code",
   "execution_count": 72,
   "metadata": {
    "collapsed": false
   },
   "outputs": [],
   "source": [
    "#names of columns with dtypes of datetime or floats\n",
    "dates = 'AWARD_NOTICE_DATE BUDGET_START BUDGET_END PROJECT_START PROJECT_END'.split()\n",
    "nums = 'DIRECT_COST_AMT INDIRECT_COST_AMT TOTAL_COST TOTAL_COST_SUB_PROJECT'.split()\n",
    "\n",
    "#filter out numeric columns from full column set\n",
    "col_nums = grants_2016_raw[nums].columns\n",
    "col_str = grants_2016_raw.drop(col_nums, axis = 1).columns\n",
    "\n",
    "#create dictionaries with key:value pairs for str and float dtypes\n",
    "#datetime will be converted from str to datetime using the parse_dates argument\n",
    "dict1 = {key: str for key in col_str}\n",
    "dict2 = {key: float for key in col_nums}\n",
    "dtypes = {**dict1, **dict2}"
   ]
  },
  {
   "cell_type": "markdown",
   "metadata": {},
   "source": [
    "Import csvs from all years and concatenate into a single df"
   ]
  },
  {
   "cell_type": "code",
   "execution_count": 75,
   "metadata": {
    "collapsed": false
   },
   "outputs": [],
   "source": [
    "all_csvs = glob.glob('RePORTER_PRJ_C_FY*.csv')\n",
    "all_grants_raw = pd.DataFrame()\n",
    "list_ = []\n",
    "for csv in all_csvs:\n",
    "    df = pd.read_csv(csv, index_col = None, header = 0, encoding = 'latin1',\n",
    "                    dtype = dtypes, parse_dates = dates)\n",
    "    list_.append(df)\n",
    "all_grants_raw = pd.concat(list_)\n",
    "#os.remove(csv)"
   ]
  },
  {
   "cell_type": "markdown",
   "metadata": {},
   "source": [
    "Re-arrange columns to original column sequence"
   ]
  },
  {
   "cell_type": "code",
   "execution_count": 81,
   "metadata": {
    "collapsed": false
   },
   "outputs": [
    {
     "data": {
      "text/html": [
       "<div>\n",
       "<table border=\"1\" class=\"dataframe\">\n",
       "  <thead>\n",
       "    <tr style=\"text-align: right;\">\n",
       "      <th></th>\n",
       "      <th>APPLICATION_ID</th>\n",
       "      <th>ACTIVITY</th>\n",
       "      <th>ADMINISTERING_IC</th>\n",
       "      <th>APPLICATION_TYPE</th>\n",
       "      <th>ARRA_FUNDED</th>\n",
       "      <th>AWARD_NOTICE_DATE</th>\n",
       "      <th>BUDGET_START</th>\n",
       "      <th>BUDGET_END</th>\n",
       "      <th>CFDA_CODE</th>\n",
       "      <th>CORE_PROJECT_NUM</th>\n",
       "      <th>ED_INST_TYPE</th>\n",
       "      <th>FOA_NUMBER</th>\n",
       "      <th>FULL_PROJECT_NUM</th>\n",
       "      <th>FUNDING_ICs</th>\n",
       "      <th>FUNDING_MECHANISM</th>\n",
       "      <th>FY</th>\n",
       "      <th>IC_NAME</th>\n",
       "      <th>NIH_SPENDING_CATS</th>\n",
       "      <th>ORG_CITY</th>\n",
       "      <th>ORG_COUNTRY</th>\n",
       "      <th>ORG_DEPT</th>\n",
       "      <th>ORG_DISTRICT</th>\n",
       "      <th>ORG_DUNS</th>\n",
       "      <th>ORG_FIPS</th>\n",
       "      <th>ORG_NAME</th>\n",
       "      <th>ORG_STATE</th>\n",
       "      <th>ORG_ZIPCODE</th>\n",
       "      <th>PHR</th>\n",
       "      <th>PI_IDS</th>\n",
       "      <th>PI_NAMEs</th>\n",
       "      <th>PROGRAM_OFFICER_NAME</th>\n",
       "      <th>PROJECT_START</th>\n",
       "      <th>PROJECT_END</th>\n",
       "      <th>PROJECT_TERMS</th>\n",
       "      <th>PROJECT_TITLE</th>\n",
       "      <th>SERIAL_NUMBER</th>\n",
       "      <th>STUDY_SECTION</th>\n",
       "      <th>STUDY_SECTION_NAME</th>\n",
       "      <th>SUBPROJECT_ID</th>\n",
       "      <th>SUFFIX</th>\n",
       "      <th>SUPPORT_YEAR</th>\n",
       "      <th>DIRECT_COST_AMT</th>\n",
       "      <th>INDIRECT_COST_AMT</th>\n",
       "      <th>TOTAL_COST</th>\n",
       "      <th>TOTAL_COST_SUB_PROJECT</th>\n",
       "    </tr>\n",
       "  </thead>\n",
       "  <tbody>\n",
       "    <tr>\n",
       "      <th>0</th>\n",
       "      <td>3000011</td>\n",
       "      <td>A03</td>\n",
       "      <td>AH</td>\n",
       "      <td>1</td>\n",
       "      <td>NaN</td>\n",
       "      <td>NaT</td>\n",
       "      <td>1985-07-01</td>\n",
       "      <td>1986-06-30</td>\n",
       "      <td>NaN</td>\n",
       "      <td>A03AH000859</td>\n",
       "      <td>SCHOOLS OF PUBLIC HEALTH</td>\n",
       "      <td>NaN</td>\n",
       "      <td>1A03AH000859-01</td>\n",
       "      <td>NaN</td>\n",
       "      <td>NaN</td>\n",
       "      <td>1985</td>\n",
       "      <td>DIVISION OF ASSOCIATED, DENTAL HEALTH PROFESSIONS</td>\n",
       "      <td>NaN</td>\n",
       "      <td>BIRMINGHAM</td>\n",
       "      <td>UNITED STATES</td>\n",
       "      <td>NaN</td>\n",
       "      <td>7</td>\n",
       "      <td>4514360</td>\n",
       "      <td>US</td>\n",
       "      <td>UNIVERSITY OF ALABAMA AT BIRMINGHAM</td>\n",
       "      <td>AL</td>\n",
       "      <td>35294</td>\n",
       "      <td>NaN</td>\n",
       "      <td>3700006;</td>\n",
       "      <td>BRIDGERS, WILLIAM F;</td>\n",
       "      <td>NaN</td>\n",
       "      <td>1985-07-01</td>\n",
       "      <td>1986-06-30 00:00:00</td>\n",
       "      <td>NaN</td>\n",
       "      <td>PUBLIC HEALTH TRAINEESHIPS</td>\n",
       "      <td>859</td>\n",
       "      <td>STC</td>\n",
       "      <td>NaN</td>\n",
       "      <td>NaN</td>\n",
       "      <td>NaN</td>\n",
       "      <td>1</td>\n",
       "      <td>NaN</td>\n",
       "      <td>NaN</td>\n",
       "      <td>NaN</td>\n",
       "      <td>NaN</td>\n",
       "    </tr>\n",
       "    <tr>\n",
       "      <th>1</th>\n",
       "      <td>3000012</td>\n",
       "      <td>A03</td>\n",
       "      <td>AH</td>\n",
       "      <td>1</td>\n",
       "      <td>NaN</td>\n",
       "      <td>NaT</td>\n",
       "      <td>1985-07-01</td>\n",
       "      <td>1986-06-30</td>\n",
       "      <td>NaN</td>\n",
       "      <td>A03AH000860</td>\n",
       "      <td>SCHOOLS OF PUBLIC HEALTH</td>\n",
       "      <td>NaN</td>\n",
       "      <td>1A03AH000860-01</td>\n",
       "      <td>NaN</td>\n",
       "      <td>NaN</td>\n",
       "      <td>1985</td>\n",
       "      <td>DIVISION OF ASSOCIATED, DENTAL HEALTH PROFESSIONS</td>\n",
       "      <td>NaN</td>\n",
       "      <td>BERKELEY</td>\n",
       "      <td>UNITED STATES</td>\n",
       "      <td>NaN</td>\n",
       "      <td>9</td>\n",
       "      <td>94878337</td>\n",
       "      <td>US</td>\n",
       "      <td>UNIVERSITY OF CALIFORNIA BERKELEY</td>\n",
       "      <td>CA</td>\n",
       "      <td>947045940</td>\n",
       "      <td>NaN</td>\n",
       "      <td>2407264;</td>\n",
       "      <td>LASHOF, JOYCE C.;</td>\n",
       "      <td>NaN</td>\n",
       "      <td>1985-07-01</td>\n",
       "      <td>1986-06-30 00:00:00</td>\n",
       "      <td>NaN</td>\n",
       "      <td>PUBLIC HEALTH TRAINEESHIPS</td>\n",
       "      <td>860</td>\n",
       "      <td>STC</td>\n",
       "      <td>NaN</td>\n",
       "      <td>NaN</td>\n",
       "      <td>NaN</td>\n",
       "      <td>1</td>\n",
       "      <td>NaN</td>\n",
       "      <td>NaN</td>\n",
       "      <td>NaN</td>\n",
       "      <td>NaN</td>\n",
       "    </tr>\n",
       "  </tbody>\n",
       "</table>\n",
       "</div>"
      ],
      "text/plain": [
       "  APPLICATION_ID ACTIVITY ADMINISTERING_IC APPLICATION_TYPE ARRA_FUNDED  \\\n",
       "0        3000011      A03               AH                1         NaN   \n",
       "1        3000012      A03               AH                1         NaN   \n",
       "\n",
       "  AWARD_NOTICE_DATE BUDGET_START BUDGET_END CFDA_CODE CORE_PROJECT_NUM  \\\n",
       "0               NaT   1985-07-01 1986-06-30       NaN      A03AH000859   \n",
       "1               NaT   1985-07-01 1986-06-30       NaN      A03AH000860   \n",
       "\n",
       "               ED_INST_TYPE FOA_NUMBER FULL_PROJECT_NUM FUNDING_ICs  \\\n",
       "0  SCHOOLS OF PUBLIC HEALTH        NaN  1A03AH000859-01         NaN   \n",
       "1  SCHOOLS OF PUBLIC HEALTH        NaN  1A03AH000860-01         NaN   \n",
       "\n",
       "  FUNDING_MECHANISM    FY                                            IC_NAME  \\\n",
       "0               NaN  1985  DIVISION OF ASSOCIATED, DENTAL HEALTH PROFESSIONS   \n",
       "1               NaN  1985  DIVISION OF ASSOCIATED, DENTAL HEALTH PROFESSIONS   \n",
       "\n",
       "  NIH_SPENDING_CATS    ORG_CITY    ORG_COUNTRY ORG_DEPT ORG_DISTRICT  \\\n",
       "0               NaN  BIRMINGHAM  UNITED STATES      NaN            7   \n",
       "1               NaN    BERKELEY  UNITED STATES      NaN            9   \n",
       "\n",
       "   ORG_DUNS ORG_FIPS                             ORG_NAME ORG_STATE  \\\n",
       "0   4514360       US  UNIVERSITY OF ALABAMA AT BIRMINGHAM        AL   \n",
       "1  94878337       US    UNIVERSITY OF CALIFORNIA BERKELEY        CA   \n",
       "\n",
       "  ORG_ZIPCODE  PHR    PI_IDS              PI_NAMEs PROGRAM_OFFICER_NAME  \\\n",
       "0       35294  NaN  3700006;  BRIDGERS, WILLIAM F;                  NaN   \n",
       "1   947045940  NaN  2407264;     LASHOF, JOYCE C.;                  NaN   \n",
       "\n",
       "  PROJECT_START          PROJECT_END PROJECT_TERMS  \\\n",
       "0    1985-07-01  1986-06-30 00:00:00           NaN   \n",
       "1    1985-07-01  1986-06-30 00:00:00           NaN   \n",
       "\n",
       "                PROJECT_TITLE SERIAL_NUMBER STUDY_SECTION STUDY_SECTION_NAME  \\\n",
       "0  PUBLIC HEALTH TRAINEESHIPS           859           STC                NaN   \n",
       "1  PUBLIC HEALTH TRAINEESHIPS           860           STC                NaN   \n",
       "\n",
       "  SUBPROJECT_ID SUFFIX SUPPORT_YEAR  DIRECT_COST_AMT  INDIRECT_COST_AMT  \\\n",
       "0           NaN    NaN            1              NaN                NaN   \n",
       "1           NaN    NaN            1              NaN                NaN   \n",
       "\n",
       "   TOTAL_COST  TOTAL_COST_SUB_PROJECT  \n",
       "0         NaN                     NaN  \n",
       "1         NaN                     NaN  "
      ]
     },
     "execution_count": 81,
     "metadata": {},
     "output_type": "execute_result"
    }
   ],
   "source": [
    "all_grants_raw = all_grants_raw[grants_2016_raw.columns.tolist()]\n",
    "all_grants_raw.head(2)"
   ]
  },
  {
   "cell_type": "markdown",
   "metadata": {},
   "source": [
    "# Processing data\n",
    "\n",
    "## Basic text processing of column names"
   ]
  },
  {
   "cell_type": "code",
   "execution_count": null,
   "metadata": {
    "collapsed": false,
    "scrolled": false
   },
   "outputs": [],
   "source": [
    "grants_2016 = grants_2016_raw.copy()\n",
    "\n",
    "grants_2016.columns = grants_2016.columns.str.lower()\n",
    "grants_2016.head(1)"
   ]
  },
  {
   "cell_type": "code",
   "execution_count": null,
   "metadata": {
    "collapsed": false,
    "scrolled": false
   },
   "outputs": [],
   "source": [
    "#converts df to lowercase string\n",
    "grants_2016 = grants_2016.apply(lambda x: x.astype(str).str.lower())\n",
    "grants_2016.head(1)"
   ]
  },
  {
   "cell_type": "code",
   "execution_count": null,
   "metadata": {
    "collapsed": false,
    "scrolled": false
   },
   "outputs": [],
   "source": [
    "#converts 'nan' to NaN\n",
    "grants_2016.replace(['nan'], np.nan, inplace=True)\n",
    "grants_2016.head(1)"
   ]
  },
  {
   "cell_type": "code",
   "execution_count": 34,
   "metadata": {
    "collapsed": true
   },
   "outputs": [],
   "source": [
    "#Use this csv to clean PI information\n",
    "grants_2016.to_csv('grants_all.csv', index = False, compression = 'gzip')"
   ]
  },
  {
   "cell_type": "markdown",
   "metadata": {},
   "source": [
    "## Selecting columns for analysis\n",
    "There are a total of 45 columns, which may contain redundant or unnecessary information."
   ]
  },
  {
   "cell_type": "code",
   "execution_count": 35,
   "metadata": {
    "collapsed": false
   },
   "outputs": [
    {
     "data": {
      "text/html": [
       "<div>\n",
       "<table border=\"1\" class=\"dataframe\">\n",
       "  <thead>\n",
       "    <tr style=\"text-align: right;\">\n",
       "      <th></th>\n",
       "      <th>column_name</th>\n",
       "      <th>descriptions</th>\n",
       "    </tr>\n",
       "  </thead>\n",
       "  <tbody>\n",
       "    <tr>\n",
       "      <th>0</th>\n",
       "      <td>application_id</td>\n",
       "      <td>A unique identifier of the project record in the  ExPORTER database.</td>\n",
       "    </tr>\n",
       "    <tr>\n",
       "      <th>1</th>\n",
       "      <td>activity</td>\n",
       "      <td>A 3-character code identifying the grant, contract, or  intramural activity through which a project is supported. Within each  funding mechanism , NIH  uses 3-character activity codes (e.g., F32, K08, P01, R01, T32, etc.) to  differentiate the wide variety of research-related programs NIH supports. A  comprehensive  list of activity codes  for grants and cooperative agreements may be found  on the  Types of Grant  Programs  Web page. RePORTER also includes R&amp;D contracts (activity  codes beginning with the letter N) and intramural projects (beginning with the  letter Z).</td>\n",
       "    </tr>\n",
       "    <tr>\n",
       "      <th>2</th>\n",
       "      <td>administering_ic</td>\n",
       "      <td>Administering Institute or Center - A two-character  code to designate the agency,NIH Institute, or Center administering the  grant. See  Institute/Center code  definitions</td>\n",
       "    </tr>\n",
       "    <tr>\n",
       "      <th>3</th>\n",
       "      <td>application_type</td>\n",
       "      <td>A one-digit code to identify the type of  application funded: 1 = New application                              2 = Competing continuation (also, competing renewal)                              3 = Application for additional (supplemental) support.  There are two kinds of type   3competing revisions (which are peer-reviewed and administrative supplements)                              4 = Competing extension for an R37 award or first  non-competing year of a Fast Track SBIR/STTR award                              5 = Non-competing continuation                              7 = Change of grantee institution                              9 = Change of NIH awarding Institute or Division (on a  competing continuation)</td>\n",
       "    </tr>\n",
       "    <tr>\n",
       "      <th>4</th>\n",
       "      <td>arra_funded</td>\n",
       "      <td>“Y”  indicates a project supported by funds appropriated through the American  Recovery and Reinvestment Act of 2009.</td>\n",
       "    </tr>\n",
       "    <tr>\n",
       "      <th>5</th>\n",
       "      <td>award_notice_date</td>\n",
       "      <td>Award notice date or Notice of Grant Award (NGA) is a legally binding document stating the government has obligated funds and which defines the period of support and the terms and conditions of award.\\r\\n</td>\n",
       "    </tr>\n",
       "    <tr>\n",
       "      <th>6</th>\n",
       "      <td>budget_start</td>\n",
       "      <td>The date when a  project’s funding for a particular fiscal year begins.</td>\n",
       "    </tr>\n",
       "    <tr>\n",
       "      <th>7</th>\n",
       "      <td>budget_end</td>\n",
       "      <td>The date when a  project’s funding for a particular fiscal year ends.</td>\n",
       "    </tr>\n",
       "    <tr>\n",
       "      <th>8</th>\n",
       "      <td>cfda_code</td>\n",
       "      <td>Federal programs are assigned a number in the Catalog of Federal Domestic Assistance (CFDA), which is referred to as the \"CFDA code.\" The CFDA database helps the Federal government track all programs it has domestically funded. \\r\\n</td>\n",
       "    </tr>\n",
       "  </tbody>\n",
       "</table>\n",
       "</div>"
      ],
      "text/plain": [
       "                                            column_name  \\\n",
       "0                                        application_id   \n",
       "1                                              activity   \n",
       "2                                    administering_ic     \n",
       "3                                      application_type   \n",
       "4                                           arra_funded   \n",
       "5                                   award_notice_date     \n",
       "6                                        budget_start     \n",
       "7                                          budget_end     \n",
       "8                                           cfda_code     \n",
       "\n",
       "                                                                                                                                                                                                                                                                                                                                                                                                                                                                                                                                                                                                                                                                                                                                      descriptions  \n",
       "0                                                                                                                                                                                                                                                                                                                                                                                                                                                                                                                                                                                                                                                                            A unique identifier of the project record in the  ExPORTER database.   \n",
       "1                                                                                                                                                 A 3-character code identifying the grant, contract, or  intramural activity through which a project is supported. Within each  funding mechanism , NIH  uses 3-character activity codes (e.g., F32, K08, P01, R01, T32, etc.) to  differentiate the wide variety of research-related programs NIH supports. A  comprehensive  list of activity codes  for grants and cooperative agreements may be found  on the  Types of Grant  Programs  Web page. RePORTER also includes R&D contracts (activity  codes beginning with the letter N) and intramural projects (beginning with the  letter Z).  \n",
       "2                                                                                                                                                                                                                                                                                                                                                                                                                                                                                                                                                                     Administering Institute or Center - A two-character  code to designate the agency,NIH Institute, or Center administering the  grant. See  Institute/Center code  definitions  \n",
       "3  A one-digit code to identify the type of  application funded: 1 = New application                              2 = Competing continuation (also, competing renewal)                              3 = Application for additional (supplemental) support.  There are two kinds of type   3competing revisions (which are peer-reviewed and administrative supplements)                              4 = Competing extension for an R37 award or first  non-competing year of a Fast Track SBIR/STTR award                              5 = Non-competing continuation                              7 = Change of grantee institution                              9 = Change of NIH awarding Institute or Division (on a  competing continuation)  \n",
       "4                                                                                                                                                                                                                                                                                                                                                                                                                                                                                                                                                                                                                           “Y”  indicates a project supported by funds appropriated through the American  Recovery and Reinvestment Act of 2009.   \n",
       "5                                                                                                                                                                                                                                                                                                                                                                                                                                                                                                     Award notice date or Notice of Grant Award (NGA) is a legally binding document stating the government has obligated funds and which defines the period of support and the terms and conditions of award.\\r\\n                                  \n",
       "6                                                                                                                                                                                                                                                                                                                                                                                                                                                                                                                                                                                                                                                                         The date when a  project’s funding for a particular fiscal year begins.   \n",
       "7                                                                                                                                                                                                                                                                                                                                                                                                                                                                                                                                                                                                                                                                            The date when a  project’s funding for a particular fiscal year ends.  \n",
       "8                                                                                                                                                                                                                                                                                                                                                                                                                                                                                                       Federal programs are assigned a number in the Catalog of Federal Domestic Assistance (CFDA), which is referred to as the \"CFDA code.\" The CFDA database helps the Federal government track all programs it has domestically funded. \\r\\n    "
      ]
     },
     "execution_count": 35,
     "metadata": {},
     "output_type": "execute_result"
    }
   ],
   "source": [
    "grants_2016 = pd.read_csv('grants_all.csv', compression = 'gzip')\n",
    "pd.set_option('display.max_colwidth', 5000)\n",
    "col_info = pd.read_csv('grant_col_info_all.csv')\n",
    "col_info[:9]"
   ]
  },
  {
   "cell_type": "markdown",
   "metadata": {},
   "source": [
    "To remove (initial): 5-8, redundant information"
   ]
  },
  {
   "cell_type": "code",
   "execution_count": null,
   "metadata": {
    "collapsed": false
   },
   "outputs": [],
   "source": [
    "to_drop = ['award_notice_date', 'budget_start', 'budget_end', 'cfda_code']\n",
    "grants_2016 = grants_2016.drop(to_drop, axis = 1)"
   ]
  },
  {
   "cell_type": "code",
   "execution_count": null,
   "metadata": {
    "collapsed": false
   },
   "outputs": [],
   "source": [
    "col_info[9:18]"
   ]
  },
  {
   "cell_type": "markdown",
   "metadata": {},
   "source": [
    "To remove: 9 (may add in later if correlating with publications), 10-12, 16; also 2 (redundant with funding_ics)"
   ]
  },
  {
   "cell_type": "code",
   "execution_count": null,
   "metadata": {
    "collapsed": false
   },
   "outputs": [],
   "source": [
    "to_drop2 = ['administering_ic', 'core_project_num', 'ed_inst_type', 'foa_number', 'full_project_num', 'ic_name']\n",
    "grants_2016 = grants_2016.drop(to_drop2, axis = 1)"
   ]
  },
  {
   "cell_type": "code",
   "execution_count": null,
   "metadata": {
    "collapsed": false,
    "scrolled": false
   },
   "outputs": [],
   "source": [
    "col_info[18:27]"
   ]
  },
  {
   "cell_type": "markdown",
   "metadata": {},
   "source": [
    "All redundant: 18, 20-23, 25\n",
    "\n",
    "Also remove 19, 24, 26; these will be added again later."
   ]
  },
  {
   "cell_type": "code",
   "execution_count": null,
   "metadata": {
    "collapsed": true
   },
   "outputs": [],
   "source": [
    "to_drop3 = ['org_city', 'org_country', 'org_dept', 'org_district', 'org_duns', 'org_fips', 'org_name', 'org_state', 'org_zipcode']\n",
    "grants_2016 = grants_2016.drop(to_drop3, axis = 1)"
   ]
  },
  {
   "cell_type": "code",
   "execution_count": null,
   "metadata": {
    "collapsed": false
   },
   "outputs": [],
   "source": [
    "col_info[27:36]"
   ]
  },
  {
   "cell_type": "markdown",
   "metadata": {},
   "source": [
    "27 (phr): maybe later for text analysis, too complex for initial analysis; 29, 34, 35"
   ]
  },
  {
   "cell_type": "code",
   "execution_count": null,
   "metadata": {
    "collapsed": false
   },
   "outputs": [],
   "source": [
    "to_drop4 = ['phr', 'pi_names', 'program_officer_name', 'project_title', 'serial_number']\n",
    "grants_2016 = grants_2016.drop(to_drop4, axis = 1)"
   ]
  },
  {
   "cell_type": "code",
   "execution_count": null,
   "metadata": {
    "collapsed": false
   },
   "outputs": [],
   "source": [
    "col_info[36:]"
   ]
  },
  {
   "cell_type": "markdown",
   "metadata": {},
   "source": [
    "37 (redundant with 36, can always look up)"
   ]
  },
  {
   "cell_type": "code",
   "execution_count": null,
   "metadata": {
    "collapsed": false
   },
   "outputs": [],
   "source": [
    "#check number of subprojects\n",
    "#grants_2016.shape\n",
    "#subproject_cols = ['subproject_id', 'suffix', 'total_cost_sub_project']\n",
    "#grants_2016[subproject_cols].isnull().sum()"
   ]
  },
  {
   "cell_type": "code",
   "execution_count": null,
   "metadata": {
    "collapsed": false
   },
   "outputs": [],
   "source": [
    "grants_2016 = grants_2016.drop(['study_section_name', 'subproject_id', 'suffix'], axis = 1)"
   ]
  },
  {
   "cell_type": "code",
   "execution_count": null,
   "metadata": {
    "collapsed": false,
    "scrolled": false
   },
   "outputs": [],
   "source": [
    "pd.set_option('display.max_colwidth', 50)\n",
    "grants_2016.head()"
   ]
  },
  {
   "cell_type": "markdown",
   "metadata": {},
   "source": [
    "### More cleaning of columns"
   ]
  },
  {
   "cell_type": "markdown",
   "metadata": {},
   "source": [
    "Convert strings to numeric and dates"
   ]
  },
  {
   "cell_type": "code",
   "execution_count": null,
   "metadata": {
    "collapsed": false,
    "scrolled": false
   },
   "outputs": [],
   "source": [
    "def convert_column(df, list_of_names, function):\n",
    "    '''\n",
    "    Converts df column values from x to 'function'.\n",
    "    Function = numeric: pd.to_numeric()\n",
    "    Function = date: pd.to_datetime()\n",
    "    Takes a df and a list with the column names.\n",
    "    Returns df.\n",
    "    '''\n",
    "    for name in list_of_names:\n",
    "        if function == 'numeric':\n",
    "            df[name] = pd.to_numeric(df[name])\n",
    "        elif function == 'date':\n",
    "            df[name] = pd.to_datetime(df[name], errors = 'coerce')\n",
    "    return df\n",
    "\n",
    "numeric_cols = ['direct_cost_amt', 'indirect_cost_amt', 'total_cost', 'total_cost_sub_project']\n",
    "grants_2016 = convert_column(grants_2016, numeric_cols, function = 'numeric')\n",
    "\n",
    "date_cols = ['project_start', 'project_end']\n",
    "grants_2016 = convert_column(grants_2016, date_cols, function = 'date')\n",
    "\n",
    "\n",
    "grants_2016.head(1)"
   ]
  },
  {
   "cell_type": "markdown",
   "metadata": {},
   "source": [
    "## Extract funding institute information "
   ]
  },
  {
   "cell_type": "code",
   "execution_count": 42,
   "metadata": {
    "collapsed": true
   },
   "outputs": [],
   "source": [
    "grants_2016['funding_ics'] = grants_2016['funding_ics'].astype(str)\n",
    "institute_funds = pd.DataFrame([grants_2016['application_id'], grants_2016['funding_ics']]).T"
   ]
  },
  {
   "cell_type": "markdown",
   "metadata": {},
   "source": [
    "## Splitting individual PIs when more than one is listed on a grant\n",
    "Split grants with multiple PIs so that each row only has a single PI listed. This will allow analysis on funding per individual and per institution."
   ]
  },
  {
   "cell_type": "code",
   "execution_count": null,
   "metadata": {
    "collapsed": false,
    "scrolled": false
   },
   "outputs": [],
   "source": [
    "col_list = ['nih_spending_cats', 'pi_ids', 'project_terms']\n",
    "grants_2016 = cln.strip_series(grants_2016, col_list, strip = '; ')\n",
    "grants_2016 = cln.split_rows(grants_2016, col_name = 'pi_ids', by = ';')"
   ]
  },
  {
   "cell_type": "markdown",
   "metadata": {},
   "source": [
    "More cleaning"
   ]
  },
  {
   "cell_type": "code",
   "execution_count": null,
   "metadata": {
    "collapsed": false,
    "scrolled": false
   },
   "outputs": [],
   "source": [
    "grants_2016 = cln.strip_series(grants_2016, ['pi_ids'])\n",
    "grants_2016 = cln.strip_series(grants_2016, ['pi_ids'], strip = ' ')\n",
    "grants_2016.head()"
   ]
  },
  {
   "cell_type": "markdown",
   "metadata": {},
   "source": [
    "Split grant totals by number of associated PIs (assumption is that all PIs on a grant receive the same amount of money)."
   ]
  },
  {
   "cell_type": "code",
   "execution_count": null,
   "metadata": {
    "collapsed": false
   },
   "outputs": [],
   "source": [
    "#divide cost columns by # of times the application_id occurs\n",
    "pi_per_grant = pd.DataFrame(grants_2016['application_id'].value_counts())\n",
    "pi_per_grant = pi_per_grant.reset_index()\n",
    "pi_per_grant.columns = ['application_id', 'num_pis']\n",
    "\n",
    "#Match application IDs in grants_2016 and pi_per_grant\n",
    "#Divide the 3 cost columns by \n",
    "grants_2016 = pd.merge(grants_2016, pi_per_grant, on = 'application_id')"
   ]
  },
  {
   "cell_type": "code",
   "execution_count": null,
   "metadata": {
    "collapsed": false
   },
   "outputs": [],
   "source": [
    "grants_2016.head()"
   ]
  },
  {
   "cell_type": "code",
   "execution_count": null,
   "metadata": {
    "collapsed": false
   },
   "outputs": [],
   "source": [
    "def divide_by_column(df, col_list = ['direct_cost_amt', 'indirect_cost_amt', 'total_cost'], divide_by = 'num_pis'):\n",
    "    '''\n",
    "    \n",
    "    Divide df columns by value in another column\n",
    "    \n",
    "    '''\n",
    "    for col in col_list:\n",
    "        df[col] = round(df[col] / df[divide_by])\n",
    "    return df\n",
    "\n",
    "grants_2016 = divide_by_column(grants_2016)"
   ]
  },
  {
   "cell_type": "code",
   "execution_count": null,
   "metadata": {
    "collapsed": false,
    "scrolled": false
   },
   "outputs": [],
   "source": [
    "grants_2016.head()"
   ]
  },
  {
   "cell_type": "markdown",
   "metadata": {},
   "source": [
    "## Add organization information\n",
    "\n",
    "Import pi_info.csv, which contains the necessary information."
   ]
  },
  {
   "cell_type": "code",
   "execution_count": null,
   "metadata": {
    "collapsed": false
   },
   "outputs": [],
   "source": [
    "cols_import = ['pi_ids', 'org_name', 'org_country', 'org_zipcode']\n",
    "pi_info = pd.read_csv('pi_info.csv', compression = 'gzip', usecols = cols_import, dtype = {'pi_ids':str})\n",
    "pi_info.head()"
   ]
  },
  {
   "cell_type": "markdown",
   "metadata": {},
   "source": [
    "Merge the two dataframes so the information is listed together."
   ]
  },
  {
   "cell_type": "code",
   "execution_count": null,
   "metadata": {
    "collapsed": true
   },
   "outputs": [],
   "source": [
    "grants_2016 = pd.merge(grants_2016, pi_info, left_on = 'pi_ids', right_on = 'pi_ids', how = 'left')"
   ]
  },
  {
   "cell_type": "markdown",
   "metadata": {},
   "source": [
    "## Cost of grants (funds)\n",
    "There are 4 cost columns. Indirect and direct costs sum to total costs or to total subproject costs. Drop indirect and direct costs columns and combine the total costs into one column (costs are either listed as total cost or total subproject cost)."
   ]
  },
  {
   "cell_type": "code",
   "execution_count": null,
   "metadata": {
    "collapsed": true
   },
   "outputs": [],
   "source": [
    "grants_2016 = grants_2016.drop(['direct_cost_amt', 'indirect_cost_amt'], axis = 1)\n",
    "grants_2016['total_cost'].fillna(grants_2016['total_cost_sub_project'], inplace = True)\n",
    "del grants_2016['total_cost_sub_project']"
   ]
  },
  {
   "cell_type": "code",
   "execution_count": null,
   "metadata": {
    "collapsed": false
   },
   "outputs": [],
   "source": [
    "grants_2016.rename(columns = {'total_cost':'funds'}, inplace = True)\n",
    "grants_2016.head()"
   ]
  },
  {
   "cell_type": "markdown",
   "metadata": {},
   "source": [
    "Save dataframe to csv"
   ]
  },
  {
   "cell_type": "code",
   "execution_count": null,
   "metadata": {
    "collapsed": true
   },
   "outputs": [],
   "source": [
    "grants_2016.to_csv('for_analysis.csv', index = False, compression = 'gzip')"
   ]
  },
  {
   "cell_type": "markdown",
   "metadata": {},
   "source": [
    "## Institute funds per grant"
   ]
  },
  {
   "cell_type": "code",
   "execution_count": 43,
   "metadata": {
    "collapsed": false
   },
   "outputs": [
    {
     "data": {
      "text/html": [
       "<div>\n",
       "<table border=\"1\" class=\"dataframe\">\n",
       "  <thead>\n",
       "    <tr style=\"text-align: right;\">\n",
       "      <th></th>\n",
       "      <th>application_id</th>\n",
       "      <th>funding_ics</th>\n",
       "    </tr>\n",
       "  </thead>\n",
       "  <tbody>\n",
       "    <tr>\n",
       "      <th>0</th>\n",
       "      <td>9115627</td>\n",
       "      <td>nigms:194460\\</td>\n",
       "    </tr>\n",
       "    <tr>\n",
       "      <th>1</th>\n",
       "      <td>9128072</td>\n",
       "      <td>ninds:335781\\</td>\n",
       "    </tr>\n",
       "    <tr>\n",
       "      <th>2</th>\n",
       "      <td>9056435</td>\n",
       "      <td>fic:146822\\nida:75000\\</td>\n",
       "    </tr>\n",
       "    <tr>\n",
       "      <th>3</th>\n",
       "      <td>9213716</td>\n",
       "      <td>nimh:1593922\\</td>\n",
       "    </tr>\n",
       "    <tr>\n",
       "      <th>4</th>\n",
       "      <td>8986215</td>\n",
       "      <td>nimh:294755\\</td>\n",
       "    </tr>\n",
       "  </tbody>\n",
       "</table>\n",
       "</div>"
      ],
      "text/plain": [
       "  application_id             funding_ics\n",
       "0        9115627           nigms:194460\\\n",
       "1        9128072           ninds:335781\\\n",
       "2        9056435  fic:146822\\nida:75000\\\n",
       "3        9213716           nimh:1593922\\\n",
       "4        8986215            nimh:294755\\"
      ]
     },
     "execution_count": 43,
     "metadata": {},
     "output_type": "execute_result"
    }
   ],
   "source": [
    "institute_funds.head()"
   ]
  },
  {
   "cell_type": "markdown",
   "metadata": {},
   "source": [
    "Split 'funding_ics' column so that every row contains a single institute code associated with the application and the amount of money given by that institute."
   ]
  },
  {
   "cell_type": "code",
   "execution_count": 44,
   "metadata": {
    "collapsed": false
   },
   "outputs": [
    {
     "data": {
      "text/html": [
       "<div>\n",
       "<table border=\"1\" class=\"dataframe\">\n",
       "  <thead>\n",
       "    <tr style=\"text-align: right;\">\n",
       "      <th></th>\n",
       "      <th>application_id</th>\n",
       "      <th>funding_ics</th>\n",
       "    </tr>\n",
       "  </thead>\n",
       "  <tbody>\n",
       "    <tr>\n",
       "      <th>0</th>\n",
       "      <td>9115627</td>\n",
       "      <td>nigms:194460</td>\n",
       "    </tr>\n",
       "    <tr>\n",
       "      <th>1</th>\n",
       "      <td>9128072</td>\n",
       "      <td>ninds:335781</td>\n",
       "    </tr>\n",
       "    <tr>\n",
       "      <th>2</th>\n",
       "      <td>9056435</td>\n",
       "      <td>fic:146822</td>\n",
       "    </tr>\n",
       "    <tr>\n",
       "      <th>3</th>\n",
       "      <td>9056435</td>\n",
       "      <td>nida:75000</td>\n",
       "    </tr>\n",
       "    <tr>\n",
       "      <th>4</th>\n",
       "      <td>9213716</td>\n",
       "      <td>nimh:1593922</td>\n",
       "    </tr>\n",
       "  </tbody>\n",
       "</table>\n",
       "</div>"
      ],
      "text/plain": [
       "  application_id   funding_ics\n",
       "0        9115627  nigms:194460\n",
       "1        9128072  ninds:335781\n",
       "2        9056435    fic:146822\n",
       "3        9056435    nida:75000\n",
       "4        9213716  nimh:1593922"
      ]
     },
     "execution_count": 44,
     "metadata": {},
     "output_type": "execute_result"
    }
   ],
   "source": [
    "institute_funds['funding_ics'] = institute_funds['funding_ics'].str.strip('\\ ')\n",
    "institute_funds = cln.split_rows(institute_funds, col_name = 'funding_ics', by = '\\\\')\n",
    "institute_funds = institute_funds.reset_index()\n",
    "del institute_funds['index']\n",
    "institute_funds.head()"
   ]
  },
  {
   "cell_type": "markdown",
   "metadata": {},
   "source": [
    "Create a new column, 'funds_awarded', with the amount of money the institute awarded to the particular application."
   ]
  },
  {
   "cell_type": "code",
   "execution_count": 45,
   "metadata": {
    "collapsed": false
   },
   "outputs": [
    {
     "data": {
      "text/html": [
       "<div>\n",
       "<table border=\"1\" class=\"dataframe\">\n",
       "  <thead>\n",
       "    <tr style=\"text-align: right;\">\n",
       "      <th></th>\n",
       "      <th>application_id</th>\n",
       "      <th>institute</th>\n",
       "      <th>funds_awarded</th>\n",
       "    </tr>\n",
       "  </thead>\n",
       "  <tbody>\n",
       "    <tr>\n",
       "      <th>0</th>\n",
       "      <td>9115627</td>\n",
       "      <td>nigms</td>\n",
       "      <td>194460</td>\n",
       "    </tr>\n",
       "    <tr>\n",
       "      <th>1</th>\n",
       "      <td>9128072</td>\n",
       "      <td>ninds</td>\n",
       "      <td>335781</td>\n",
       "    </tr>\n",
       "    <tr>\n",
       "      <th>2</th>\n",
       "      <td>9056435</td>\n",
       "      <td>fic</td>\n",
       "      <td>146822</td>\n",
       "    </tr>\n",
       "    <tr>\n",
       "      <th>3</th>\n",
       "      <td>9056435</td>\n",
       "      <td>nida</td>\n",
       "      <td>75000</td>\n",
       "    </tr>\n",
       "    <tr>\n",
       "      <th>4</th>\n",
       "      <td>9213716</td>\n",
       "      <td>nimh</td>\n",
       "      <td>1593922</td>\n",
       "    </tr>\n",
       "  </tbody>\n",
       "</table>\n",
       "</div>"
      ],
      "text/plain": [
       "  application_id institute funds_awarded\n",
       "0        9115627     nigms        194460\n",
       "1        9128072     ninds        335781\n",
       "2        9056435       fic        146822\n",
       "3        9056435      nida         75000\n",
       "4        9213716      nimh       1593922"
      ]
     },
     "execution_count": 45,
     "metadata": {},
     "output_type": "execute_result"
    }
   ],
   "source": [
    "ics = list(institute_funds['funding_ics'])\n",
    "for i in range(len(ics)):\n",
    "    ics[i] = ics[i].split(':')\n",
    "\n",
    "to_concat = pd.DataFrame(ics, columns = ['institute', 'funds_awarded'])\n",
    "#institute_funds['institute'] = to_concat[0]\n",
    "#institute_funds['funds_awarded'] = to_concat[1]\n",
    "institute_funds = pd.concat([institute_funds, to_concat], axis = 1)\n",
    "del institute_funds['funding_ics']\n",
    "institute_funds.head()"
   ]
  },
  {
   "cell_type": "markdown",
   "metadata": {},
   "source": [
    "Save to .csv"
   ]
  },
  {
   "cell_type": "code",
   "execution_count": 46,
   "metadata": {
    "collapsed": true
   },
   "outputs": [],
   "source": [
    "institute_funds.to_csv('institute_funds.csv', index = False, compression = 'gzip')"
   ]
  }
 ],
 "metadata": {
  "kernelspec": {
   "display_name": "Python 3",
   "language": "python",
   "name": "python3"
  },
  "language_info": {
   "codemirror_mode": {
    "name": "ipython",
    "version": 3
   },
   "file_extension": ".py",
   "mimetype": "text/x-python",
   "name": "python",
   "nbconvert_exporter": "python",
   "pygments_lexer": "ipython3",
   "version": "3.6.0"
  }
 },
 "nbformat": 4,
 "nbformat_minor": 1
}
