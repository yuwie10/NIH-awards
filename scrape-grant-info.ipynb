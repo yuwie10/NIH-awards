{
 "cells": [
  {
   "cell_type": "markdown",
   "metadata": {},
   "source": [
    "# Scraping NIH grant information \n",
    "\n",
    "Information about the variables in the NIH Exporter database can be found [here](https://exporter.nih.gov/about.aspx)."
   ]
  },
  {
   "cell_type": "code",
   "execution_count": 1,
   "metadata": {
    "collapsed": true
   },
   "outputs": [],
   "source": [
    "import requests, zipfile, io\n",
    "from bs4 import BeautifulSoup\n",
    "\n",
    "import pandas as pd\n",
    "import numpy as np\n",
    "\n",
    "from IPython.core.interactiveshell import InteractiveShell\n",
    "InteractiveShell.ast_node_interactivity = \"all\""
   ]
  },
  {
   "cell_type": "code",
   "execution_count": 2,
   "metadata": {
    "collapsed": true
   },
   "outputs": [],
   "source": [
    "url = 'https://exporter.nih.gov/about.aspx'\n",
    "r = requests.get(url)\n",
    "\n",
    "#checks that the request was successful\n",
    "try:\n",
    "    r.raise_for_status()\n",
    "except Exception as exc:\n",
    "    print('There was a problem {}'.format(exc))\n",
    "\n",
    "html_doc = r.text\n",
    "soup = BeautifulSoup(html_doc, 'html.parser')"
   ]
  },
  {
   "cell_type": "markdown",
   "metadata": {},
   "source": [
    "### Local functions"
   ]
  },
  {
   "cell_type": "code",
   "execution_count": 5,
   "metadata": {},
   "outputs": [],
   "source": [
    "def join_list(list_of_strings, string_to_join = ' '):\n",
    "    '''\n",
    "    Joins a list of strings into a single string.\n",
    "    '''\n",
    "    text = string_to_join.join(list_of_strings)\n",
    "    text = text.strip().replace('\\xa0', '')\n",
    "    return text\n",
    "\n",
    "def get_full_desc(soup, index_num, gen_num):\n",
    "    '''\n",
    "    Scrape full column descriptions for those descriptions where\n",
    "    text and html are embedded.\n",
    "    '''\n",
    "    gen = soup.find_all('strong')[index_num].next_siblings\n",
    "    text_list = []\n",
    "    for index, item in enumerate(gen):\n",
    "        if index < gen_num:\n",
    "            text_list.append(item.string)\n",
    "    text = join_list(text_list)\n",
    "    return text\n",
    "\n",
    "def get_desc_uls(soup, subcomponent, string_to_join = ' -'):\n",
    "    uls = soup.find_all('ul')\n",
    "    elements = []\n",
    "    for ul in uls:\n",
    "        for element in ul.find_all(subcomponent):\n",
    "            elements.append(element.text.strip())\n",
    "    return join_list(elements, string_to_join)\n",
    "\n",
    "def concat_df_strings(df, index, to_concat, rn):\n",
    "    df.iloc[index, 1] = ((str(df.iloc[index, 1]) + to_concat).replace(rn, ' ').strip())\n",
    "    return df"
   ]
  },
  {
   "cell_type": "markdown",
   "metadata": {},
   "source": [
    "Create dataframe of column names and respective descriptions from < strong > tags. < strong > tags correspond to column names and the next_sibling to the associated description."
   ]
  },
  {
   "cell_type": "code",
   "execution_count": 3,
   "metadata": {},
   "outputs": [
    {
     "data": {
      "text/html": [
       "<div>\n",
       "<table border=\"1\" class=\"dataframe\">\n",
       "  <thead>\n",
       "    <tr style=\"text-align: right;\">\n",
       "      <th></th>\n",
       "      <th>column_name</th>\n",
       "      <th>descriptions</th>\n",
       "    </tr>\n",
       "  </thead>\n",
       "  <tbody>\n",
       "    <tr>\n",
       "      <th>0</th>\n",
       "      <td>Application_ID:</td>\n",
       "      <td>A unique identifier of the project record in the  ExPORTER database.</td>\n",
       "    </tr>\n",
       "    <tr>\n",
       "      <th>1</th>\n",
       "      <td>Activity:</td>\n",
       "      <td>A 3-character code identifying the grant, contract, or  intramural activity through which a project is supported.  Within each</td>\n",
       "    </tr>\n",
       "    <tr>\n",
       "      <th>2</th>\n",
       "      <td>\\n\\r\\n                                  Administering_IC:</td>\n",
       "      <td>Administering Institute or Center - A two-character  code to designate the agency, NIH Institute, or Center administering the  grant.  See</td>\n",
       "    </tr>\n",
       "    <tr>\n",
       "      <th>3</th>\n",
       "      <td>Application_Type:</td>\n",
       "      <td>A one-digit code to identify the type of  application funded:</td>\n",
       "    </tr>\n",
       "    <tr>\n",
       "      <th>4</th>\n",
       "      <td>ARRA_Funded:</td>\n",
       "      <td>“Y”  indicates a project supported by funds appropriated through the American  Recovery and Reinvestment Act of 2009.</td>\n",
       "    </tr>\n",
       "  </tbody>\n",
       "</table>\n",
       "</div>"
      ],
      "text/plain": [
       "                                                   column_name  \\\n",
       "0                                              Application_ID:   \n",
       "1                                                    Activity:   \n",
       "2  \\n\\r\\n                                  Administering_IC:     \n",
       "3                                            Application_Type:   \n",
       "4                                                 ARRA_Funded:   \n",
       "\n",
       "                                                                                                                                  descriptions  \n",
       "0                                                                        A unique identifier of the project record in the  ExPORTER database.   \n",
       "1              A 3-character code identifying the grant, contract, or  intramural activity through which a project is supported.  Within each   \n",
       "2  Administering Institute or Center - A two-character  code to designate the agency, NIH Institute, or Center administering the  grant.  See   \n",
       "3                                                                               A one-digit code to identify the type of  application funded:   \n",
       "4                       “Y”  indicates a project supported by funds appropriated through the American  Recovery and Reinvestment Act of 2009.   "
      ]
     },
     "execution_count": 3,
     "metadata": {},
     "output_type": "execute_result"
    }
   ],
   "source": [
    "cols = []\n",
    "desc = []\n",
    "for strong_tag in soup.find_all('strong'):\n",
    "    cols.append(strong_tag.text)\n",
    "    desc.append(strong_tag.next_sibling)\n",
    "\n",
    "pd.set_option('display.max_rows', 100)\n",
    "pd.set_option('display.max_colwidth', 5000)\n",
    "\n",
    "col_info = pd.DataFrame()\n",
    "col_info['column_name'] = cols\n",
    "col_info['descriptions'] = desc\n",
    "\n",
    "col_info.head()"
   ]
  },
  {
   "cell_type": "markdown",
   "metadata": {},
   "source": [
    "Perform basic text cleaning"
   ]
  },
  {
   "cell_type": "code",
   "execution_count": 4,
   "metadata": {
    "collapsed": true
   },
   "outputs": [],
   "source": [
    "col_info['column_name'] = col_info['column_name'].str.replace('\\n\\r\\n', '')\n",
    "col_info['column_name'] = col_info['column_name'].str.replace(':', '')\n",
    "col_info['column_name'] = col_info['column_name'].str.lower()\n",
    "col_info = col_info.drop(col_info.index[[8, 37]]) # <br/> text\n",
    "\n",
    "#save information about publications in case needed in the future\n",
    "publication_info = col_info.iloc[46:, :]\n",
    "publication_info.to_csv('publication_info.csv')\n",
    "col_info = col_info.drop(publication_info.index)"
   ]
  },
  {
   "cell_type": "markdown",
   "metadata": {},
   "source": [
    "Not all descriptions are full descriptions due to the fact that href links are embedded along with text and are therefore not captured by next_sibling. To get the full descriptions of these columns, including the titles of the links, see below."
   ]
  },
  {
   "cell_type": "code",
   "execution_count": 5,
   "metadata": {
    "collapsed": true
   },
   "outputs": [],
   "source": [
    "col_gen_pairs = [\n",
    "    (1, 7),\n",
    "    (2, 2),\n",
    "    (12, 4),\n",
    "    (14, 3),\n",
    "    (15, 3),\n",
    "    (18, 3),\n",
    "    (44, 3),\n",
    "    (45, 3),\n",
    "]\n",
    "\n",
    "full_descs = []\n",
    "for pair in col_gen_pairs:\n",
    "    description = get_full_desc(soup, pair[0], pair[1])\n",
    "    full_descs.append(description)"
   ]
  },
  {
   "cell_type": "markdown",
   "metadata": {},
   "source": [
    "Replace partial descriptions with full descriptions."
   ]
  },
  {
   "cell_type": "code",
   "execution_count": 6,
   "metadata": {
    "collapsed": true
   },
   "outputs": [],
   "source": [
    "indexer = [_[0] for _ in col_gen_pairs]\n",
    "for i in indexer:\n",
    "    col_info = col_info.replace(col_info.ix[i, 1], full_descs[indexer.index(i)])"
   ]
  },
  {
   "cell_type": "markdown",
   "metadata": {},
   "source": [
    "In one description, text was bolded (< strong >) in the body of the paragraph and therefore a new row was formed. Add text to appropriate description and remove extraneous row."
   ]
  },
  {
   "cell_type": "code",
   "execution_count": 7,
   "metadata": {
    "collapsed": true
   },
   "outputs": [],
   "source": [
    "col_info.ix[42, 1] = str(col_info.ix[42, 1]) + '04 is in its fourth year of support.'\n",
    "\n",
    "col_info = col_info.drop(col_info.index[[41]])"
   ]
  },
  {
   "cell_type": "markdown",
   "metadata": {},
   "source": [
    "Two descriptions had associated lists. Get the list information and add to the appropriate descriptions."
   ]
  },
  {
   "cell_type": "code",
   "execution_count": null,
   "metadata": {
    "collapsed": true
   },
   "outputs": [],
   "source": [
    "rn = '\\r\\n'\n",
    "\n",
    "application_type = get_desc_uls(soup, 'p')\n",
    "application_type = application_type.replace(rn, '')\n",
    "application_type = application_type.replace('\\t\\t\\t\\t\\t\\t\\t', '')\n",
    "\n",
    "total_cost = get_desc_uls(soup, 'li')\n",
    "total_cost = total_cost + soup.find_all('ul')[-1].next_sibling.string.replace(rn, '')\n",
    "\n",
    "col_info = concat_df_strings(col_info, -2, total_cost, rn)\n",
    "col_info = concat_df_strings(col_info, 3, application_type, rn)"
   ]
  },
  {
   "cell_type": "markdown",
   "metadata": {},
   "source": [
    "Final cleaning"
   ]
  },
  {
   "cell_type": "code",
   "execution_count": 11,
   "metadata": {
    "collapsed": true
   },
   "outputs": [],
   "source": [
    "col_info = col_info.replace(rn, '')"
   ]
  },
  {
   "cell_type": "markdown",
   "metadata": {},
   "source": [
    "Final table"
   ]
  },
  {
   "cell_type": "code",
   "execution_count": 12,
   "metadata": {},
   "outputs": [
    {
     "data": {
      "text/html": [
       "<div>\n",
       "<table border=\"1\" class=\"dataframe\">\n",
       "  <thead>\n",
       "    <tr style=\"text-align: right;\">\n",
       "      <th></th>\n",
       "      <th>column_name</th>\n",
       "      <th>descriptions</th>\n",
       "    </tr>\n",
       "  </thead>\n",
       "  <tbody>\n",
       "    <tr>\n",
       "      <th>0</th>\n",
       "      <td>application_id</td>\n",
       "      <td>A unique identifier of the project record in the  ExPORTER database.</td>\n",
       "    </tr>\n",
       "    <tr>\n",
       "      <th>1</th>\n",
       "      <td>activity</td>\n",
       "      <td>A 3-character code identifying the grant, contract, or  intramural activity through which a project is supported. Within each  funding mechanism , NIH  uses 3-character activity codes (e.g., F32, K08, P01, R01, T32, etc.) to  differentiate the wide variety of research-related programs NIH supports. A  comprehensive  list of activity codes  for grants and cooperative agreements may be found  on the  Types of Grant  Programs  Web page. RePORTER also includes R&amp;D contracts (activity  codes beginning with the letter N) and intramural projects (beginning with the  letter Z).</td>\n",
       "    </tr>\n",
       "    <tr>\n",
       "      <th>2</th>\n",
       "      <td>administering_ic</td>\n",
       "      <td>Administering Institute or Center - A two-character  code to designate the agency,NIH Institute, or Center administering the  grant. See  Institute/Center code  definitions</td>\n",
       "    </tr>\n",
       "    <tr>\n",
       "      <th>3</th>\n",
       "      <td>application_type</td>\n",
       "      <td>A one-digit code to identify the type of  application funded: 1 = New application                              2 = Competing continuation (also, competing renewal)                              3 = Application for additional (supplemental) support.  There are two kinds of type   3competing revisions (which are peer-reviewed and administrative supplements)                              4 = Competing extension for an R37 award or first  non-competing year of a Fast Track SBIR/STTR award                              5 = Non-competing continuation                              7 = Change of grantee institution                              9 = Change of NIH awarding Institute or Division (on a  competing continuation)</td>\n",
       "    </tr>\n",
       "    <tr>\n",
       "      <th>4</th>\n",
       "      <td>arra_funded</td>\n",
       "      <td>“Y”  indicates a project supported by funds appropriated through the American  Recovery and Reinvestment Act of 2009.</td>\n",
       "    </tr>\n",
       "    <tr>\n",
       "      <th>5</th>\n",
       "      <td>award_notice_date</td>\n",
       "      <td>Award notice date or Notice of Grant Award (NGA) is a legally binding document stating the government has obligated funds and which defines the period of support and the terms and conditions of award.</td>\n",
       "    </tr>\n",
       "    <tr>\n",
       "      <th>6</th>\n",
       "      <td>budget_start</td>\n",
       "      <td>The date when a  project’s funding for a particular fiscal year begins.</td>\n",
       "    </tr>\n",
       "    <tr>\n",
       "      <th>7</th>\n",
       "      <td>budget_end</td>\n",
       "      <td>The date when a  project’s funding for a particular fiscal year ends.</td>\n",
       "    </tr>\n",
       "    <tr>\n",
       "      <th>9</th>\n",
       "      <td>cfda_code</td>\n",
       "      <td>Federal programs are assigned a number in the Catalog of Federal Domestic Assistance (CFDA), which is referred to as the \"CFDA code.\" The CFDA database helps the Federal government track all programs it has domestically funded.</td>\n",
       "    </tr>\n",
       "    <tr>\n",
       "      <th>10</th>\n",
       "      <td>core_project_num</td>\n",
       "      <td>An identifier for each research project, used to associate the project with publication and patent records.  This identifier is not specific to any particular year of the project.  It consists of the project activity code, administering IC, and serial number (a concatenation of Activity, Administering_IC, and Serial_Number).</td>\n",
       "    </tr>\n",
       "  </tbody>\n",
       "</table>\n",
       "</div>"
      ],
      "text/plain": [
       "                                             column_name  \\\n",
       "0                                         application_id   \n",
       "1                                               activity   \n",
       "2                                     administering_ic     \n",
       "3                                       application_type   \n",
       "4                                            arra_funded   \n",
       "5                                    award_notice_date     \n",
       "6                                         budget_start     \n",
       "7                                           budget_end     \n",
       "9                                            cfda_code     \n",
       "10                                    core_project_num     \n",
       "\n",
       "                                                                                                                                                                                                                                                                                                                                                                                                                                                                                                                                                                                                                                                                                                                                       descriptions  \n",
       "0                                                                                                                                                                                                                                                                                                                                                                                                                                                                                                                                                                                                                                                                             A unique identifier of the project record in the  ExPORTER database.   \n",
       "1                                                                                                                                                  A 3-character code identifying the grant, contract, or  intramural activity through which a project is supported. Within each  funding mechanism , NIH  uses 3-character activity codes (e.g., F32, K08, P01, R01, T32, etc.) to  differentiate the wide variety of research-related programs NIH supports. A  comprehensive  list of activity codes  for grants and cooperative agreements may be found  on the  Types of Grant  Programs  Web page. RePORTER also includes R&D contracts (activity  codes beginning with the letter N) and intramural projects (beginning with the  letter Z).  \n",
       "2                                                                                                                                                                                                                                                                                                                                                                                                                                                                                                                                                                      Administering Institute or Center - A two-character  code to designate the agency,NIH Institute, or Center administering the  grant. See  Institute/Center code  definitions  \n",
       "3   A one-digit code to identify the type of  application funded: 1 = New application                              2 = Competing continuation (also, competing renewal)                              3 = Application for additional (supplemental) support.  There are two kinds of type   3competing revisions (which are peer-reviewed and administrative supplements)                              4 = Competing extension for an R37 award or first  non-competing year of a Fast Track SBIR/STTR award                              5 = Non-competing continuation                              7 = Change of grantee institution                              9 = Change of NIH awarding Institute or Division (on a  competing continuation)  \n",
       "4                                                                                                                                                                                                                                                                                                                                                                                                                                                                                                                                                                                                                            “Y”  indicates a project supported by funds appropriated through the American  Recovery and Reinvestment Act of 2009.   \n",
       "5                                                                                                                                                                                                                                                                                                                                                                                                                                                                                                        Award notice date or Notice of Grant Award (NGA) is a legally binding document stating the government has obligated funds and which defines the period of support and the terms and conditions of award.\n",
       "                                  \n",
       "6                                                                                                                                                                                                                                                                                                                                                                                                                                                                                                                                                                                                                                                                          The date when a  project’s funding for a particular fiscal year begins.   \n",
       "7                                                                                                                                                                                                                                                                                                                                                                                                                                                                                                                                                                                                                                                                             The date when a  project’s funding for a particular fiscal year ends.  \n",
       "9                                                                                                                                                                                                                                                                                                                                                                                                                                                                                                          Federal programs are assigned a number in the Catalog of Federal Domestic Assistance (CFDA), which is referred to as the \"CFDA code.\" The CFDA database helps the Federal government track all programs it has domestically funded. \n",
       "    \n",
       "10                                                                                                                                                                                                                                                                                                                                                                                                     An identifier for each research project, used to associate the project with publication and patent records.  This identifier is not specific to any particular year of the project.  It consists of the project activity code, administering IC, and serial number (a concatenation of Activity, Administering_IC, and Serial_Number).  \n",
       "    "
      ]
     },
     "execution_count": 12,
     "metadata": {},
     "output_type": "execute_result"
    }
   ],
   "source": [
    "col_info.head(10)"
   ]
  },
  {
   "cell_type": "markdown",
   "metadata": {},
   "source": [
    "Write to csv"
   ]
  },
  {
   "cell_type": "code",
   "execution_count": 13,
   "metadata": {
    "collapsed": true
   },
   "outputs": [],
   "source": [
    "col_info.to_csv('grant_col_info_all.csv', index = False)"
   ]
  },
  {
   "cell_type": "markdown",
   "metadata": {},
   "source": [
    "## Scrape application type information\n",
    "\n",
    "The information about the application type is incomplete or unclear. The NIH has a [page](https://grants.nih.gov/grants/how-to-apply-application-guide/prepare-to-apply-and-register/type-of-applications.htm) describing application types in more detail."
   ]
  },
  {
   "cell_type": "code",
   "execution_count": 21,
   "metadata": {
    "collapsed": true
   },
   "outputs": [],
   "source": [
    "url = 'https://grants.nih.gov/grants/how-to-apply-application-guide/prepare-to-apply-and-register/type-of-applications.htm'\n",
    "r = requests.get(url)\n",
    "\n",
    "#checks that the request was successful\n",
    "try:\n",
    "    r.raise_for_status()\n",
    "except Exception as exc:\n",
    "    print('There was a problem {}'.format(exc))\n",
    "\n",
    "html_doc = r.text\n",
    "soup = BeautifulSoup(html_doc, 'html.parser')"
   ]
  },
  {
   "cell_type": "code",
   "execution_count": 22,
   "metadata": {
    "scrolled": true
   },
   "outputs": [
    {
     "data": {
      "text/plain": [
       "<div class=\"field field--name-body field--type-text-with-summary field--label-hidden\"><div class=\"field__items\"><div class=\"field__item even\" property=\"content:encoded\"><div class=\"syndicate\"><p>\n",
       "\tChoose the type of application you plan to submit from the chart below. Learn about specific submission requirements, and be sure to follow them, as well as the instructions in the application forms and the funding opportunity announcement.<br/>\n",
       "<br/>\n",
       "\tThe type of application you submit can impact...\n",
       "</p>\n",
       "<ul>\n",
       "<li>\n",
       "\t\t...your due dates. Some announcements have specific due dates based on application type. For example, the standard R01 due dates for new applications are February/June/October 5, while the standard due dates for resubmission/revision/renewal applications are March/July/November 5.<br/>\n",
       "\t\t \n",
       "\t</li>\n",
       "<li>\n",
       "\t\t...your ability to submit to a specific announcement. Each FOA indicates the application types allowed for that opportunity.<br/>\n",
       "\t\t \n",
       "\t</li>\n",
       "<li>\n",
       "\t\t...the business rules enforced for your application. For example, a new application will receive an error if an \"Introduction\" attachment is included, while resubmission applications allow the \"Introduction\" attachment.\n",
       "\t</li>\n",
       "</ul>\n",
       "NIH uses type codes in the <a href=\"/grants/glossary.htm#ApplicationIdentificationNumbers\">application number</a> to identify various stages in the lifecycle of a grant.<br/>\n",
       " \n",
       "<table border=\"0\" cellpadding=\"0\" cellspacing=\"0\" class=\"datatable\">\n",
       "<tbody>\n",
       "<tr>\n",
       "<th>\n",
       "\t\t\t\tNumber Type\n",
       "\t\t\t</th>\n",
       "<th>\n",
       "\t\t\t\tStage\n",
       "\t\t\t</th>\n",
       "<th>\n",
       "\t\t\t\tDescription\n",
       "\t\t\t</th>\n",
       "</tr>\n",
       "<tr>\n",
       "<td nowrap=\"nowrap\" valign=\"top\">\n",
       "<p>\n",
       "\t\t\t\t\tType 1*\n",
       "\t\t\t\t</p>\n",
       "</td>\n",
       "<td valign=\"top\">\n",
       "<p>\n",
       "\t\t\t\t\tNew\n",
       "\t\t\t\t</p>\n",
       "</td>\n",
       "<td valign=\"top\">\n",
       "<p>\n",
       "\t\t\t\t\tInitial request for support of a project that has not yet been funded.\n",
       "\t\t\t\t</p>\n",
       "</td>\n",
       "</tr>\n",
       "<tr>\n",
       "<td nowrap=\"nowrap\" valign=\"top\">\n",
       "<p>\n",
       "\t\t\t\t\tType 2*\n",
       "\t\t\t\t</p>\n",
       "</td>\n",
       "<td valign=\"top\">\n",
       "<p>\n",
       "\t\t\t\t\tRenewal\n",
       "\t\t\t\t</p>\n",
       "</td>\n",
       "<td valign=\"top\">\n",
       "<p>\n",
       "\t\t\t\t\tInitial request for additional funding for a period subsequent to that provided by a current award. Renewal applications compete for funding with all other peer reviewed applications and must be developed as fully as though the applicant is applying for the first time.  (Previously referred to as “competing continuation.”)<br/>\n",
       "<br/>\n",
       "\t\t\t\t\tIf your renewal and subsequent resubmission of renewal application are not funded, you must use the \"new\" application type to compete for additional funding and continuity with your previous award will not be retained.\n",
       "\t\t\t\t</p>\n",
       "</td>\n",
       "</tr>\n",
       "<tr>\n",
       "<td nowrap=\"nowrap\" valign=\"top\">\n",
       "<p>\n",
       "\t\t\t\t\tType 3*\n",
       "\t\t\t\t</p>\n",
       "</td>\n",
       "<td valign=\"top\">\n",
       "<p>\n",
       "\t\t\t\t\tCompeting Revision\n",
       "\t\t\t\t</p>\n",
       "</td>\n",
       "<td valign=\"top\">\n",
       "<p>\n",
       "\t\t\t\t\tInitial request for (or the award of) additional funds during a current project period to support new or additional activities that are not identified in the current award. This request reflects an expansion of the scope of the grant-approved activities. Competitive revisions require peer review. (Competing revision replaces the previous NIH term, \"competing supplement.\")\n",
       "\t\t\t\t</p>\n",
       "<blockquote>\n",
       "<p>\n",
       "<a href=\"/grants/competing-revisions.htm\">Learn about submission requirements for competing revisions.</a>\n",
       "</p>\n",
       "</blockquote>\n",
       "<p>\n",
       "\t\t\t\t\tAn administrative supplement is a request for (or the award of) additional funds during a current project period to provide for an increase in costs due to unforeseen circumstances. All additional costs must be within the scope of the peer reviewed and approved project.\n",
       "\t\t\t\t</p>\n",
       "<blockquote>\n",
       "<p>\n",
       "<a href=\"/grants/administrative-supplements.htm\">Learn about submission requirements for administrative supplements.</a>\n",
       "</p>\n",
       "</blockquote>\n",
       "</td>\n",
       "</tr>\n",
       "<tr>\n",
       "<td nowrap=\"nowrap\" valign=\"top\">\n",
       "<p>\n",
       "\t\t\t\t\tType 4\n",
       "\t\t\t\t</p>\n",
       "</td>\n",
       "<td valign=\"top\">\n",
       "<p>\n",
       "\t\t\t\t\tExtension\n",
       "\t\t\t\t</p>\n",
       "</td>\n",
       "<td valign=\"top\">\n",
       "<p>\n",
       "\t\t\t\t\tRequest for additional years of support beyond the years previously awarded. (Used only for select programs.)\n",
       "\t\t\t\t</p>\n",
       "<p>\n",
       "\t\t\t\t\t \n",
       "\t\t\t\t</p>\n",
       "</td>\n",
       "</tr>\n",
       "<tr>\n",
       "<td nowrap=\"nowrap\" valign=\"top\">\n",
       "<p>\n",
       "\t\t\t\t\tType 5\n",
       "\t\t\t\t</p>\n",
       "</td>\n",
       "<td valign=\"top\">\n",
       "<p>\n",
       "\t\t\t\t\tNoncompeting Continuation\n",
       "\t\t\t\t</p>\n",
       "</td>\n",
       "<td valign=\"top\">\n",
       "<p>\n",
       "\t\t\t\t\tRequest or award for a subsequent budget period within a previously approved project for which a recipient does not have to compete with other applications.\n",
       "\t\t\t\t</p>\n",
       "<blockquote>\n",
       "<p>\n",
       "<a href=\"/grants/rppr/index.htm\">Learn more about Research Performance Progress Reports</a>.\n",
       "\t\t\t\t\t</p>\n",
       "</blockquote>\n",
       "</td>\n",
       "</tr>\n",
       "<tr>\n",
       "<td nowrap=\"nowrap\" valign=\"top\">\n",
       "<p>\n",
       "\t\t\t\t\tType 6\n",
       "\t\t\t\t</p>\n",
       "</td>\n",
       "<td valign=\"top\">\n",
       "<p>\n",
       "\t\t\t\t\tChange of Organization Status (Successor-in-Interest)\n",
       "\t\t\t\t</p>\n",
       "</td>\n",
       "<td valign=\"top\">\n",
       "<p>\n",
       "\t\t\t\t\tProcess whereby the rights to and obligations under an NIH grant(s) are acquired incidental to the transfer of all of the assets of the grantee or the transfer of that part of the assets involved in the performance of the grant(s). May result from legislative or other legal action, such as a merger or other corporate change.\n",
       "\t\t\t\t</p>\n",
       "<blockquote>\n",
       "<p>\n",
       "<a href=\"/grants/policy/nihgps/HTML5/introduction.htm\">Learn more about changes in recipient organizational status in Section 8.1.2.8 of the NIH Grants Policy Statement</a>.\n",
       "\t\t\t\t\t</p>\n",
       "</blockquote>\n",
       "</td>\n",
       "</tr>\n",
       "<tr>\n",
       "<td nowrap=\"nowrap\" valign=\"top\">\n",
       "<p>\n",
       "\t\t\t\t\tType 7\n",
       "\t\t\t\t</p>\n",
       "</td>\n",
       "<td valign=\"top\">\n",
       "<p>\n",
       "\t\t\t\t\tChange of Grantee or Training Institution\n",
       "\t\t\t\t</p>\n",
       "</td>\n",
       "<td valign=\"top\">\n",
       "<p>\n",
       "\t\t\t\t\tTransfer of the legal and administrative responsibility for a grant-supported project or activity from one legal entity to another before the completion date of the approved project period (competitive segment).\n",
       "\t\t\t\t</p>\n",
       "<blockquote>\n",
       "<p>\n",
       "<a href=\"/grants/policy/nihgps/HTML5/introduction.htm\">Learn more about changes of recipient organization in Section 8.1.2.7 of the NIH Grants Policy Statement.</a>\n",
       "</p>\n",
       "</blockquote>\n",
       "</td>\n",
       "</tr>\n",
       "<tr>\n",
       "<td nowrap=\"nowrap\" valign=\"top\">\n",
       "<p>\n",
       "\t\t\t\t\tType 8\n",
       "\t\t\t\t</p>\n",
       "</td>\n",
       "<td valign=\"top\">\n",
       "<p>\n",
       "\t\t\t\t\tChange of Institute or Center\n",
       "\t\t\t\t</p>\n",
       "</td>\n",
       "<td valign=\"top\">\n",
       "<p>\n",
       "\t\t\t\t\tChange of awarding NIH institute or center for the noncompeting continuation (Type 5).\n",
       "\t\t\t\t</p>\n",
       "</td>\n",
       "</tr>\n",
       "<tr>\n",
       "<td nowrap=\"nowrap\" valign=\"top\">\n",
       "<p>\n",
       "\t\t\t\t\tType 9\n",
       "\t\t\t\t</p>\n",
       "</td>\n",
       "<td valign=\"top\">\n",
       "<p>\n",
       "\t\t\t\t\tChange of Institute or Center\n",
       "\t\t\t\t</p>\n",
       "</td>\n",
       "<td valign=\"top\">\n",
       "<p>\n",
       "\t\t\t\t\tChange of awarding NIH institute or center for the renewal (Type 2).\n",
       "\t\t\t\t</p>\n",
       "</td>\n",
       "</tr>\n",
       "<tr>\n",
       "<td colspan=\"2\" nowrap=\"nowrap\" valign=\"top\">\n",
       "<p>\n",
       "\t\t\t\t\t* Resubmission            \n",
       "\t\t\t\t</p>\n",
       "</td>\n",
       "<td valign=\"top\">\n",
       "<p>\n",
       "\t\t\t\t\tAn unfunded application that has been modified following initial review and resubmitted for new consideration.\n",
       "\t\t\t\t</p>\n",
       "<p class=\"rteindent1\">\n",
       "<a href=\"/grants/policy/amendedapps.htm\">Learn more about resubmission policies and application requirements.</a>\n",
       "</p>\n",
       "</td>\n",
       "</tr>\n",
       "</tbody>\n",
       "</table>\n",
       "</div></div></div></div>"
      ]
     },
     "execution_count": 22,
     "metadata": {},
     "output_type": "execute_result"
    }
   ],
   "source": [
    "result = soup.find('div', {'class':'field field--name-body field--type-text-with-summary field--label-hidden'})\n",
    "result"
   ]
  },
  {
   "cell_type": "code",
   "execution_count": 82,
   "metadata": {},
   "outputs": [],
   "source": [
    "tags = []\n",
    "for tag in result.find_all('p'):\n",
    "    tags.append(tag.get_text())\n",
    "\n",
    "#get tags associated with application type information\n",
    "tags = tags[1:35]\n",
    "\n",
    "#strip auxiliary characters\n",
    "for idx, i in enumerate(tags):\n",
    "    tags[idx] = i.strip('\\n').strip('\\t').strip('\\xa0').rstrip('*\\n')"
   ]
  },
  {
   "cell_type": "code",
   "execution_count": 83,
   "metadata": {},
   "outputs": [],
   "source": [
    "#strings beginning with 'Learn' are actually hyperlinks; remove these\n",
    "for tag in tags:\n",
    "    if 'Learn' in tag:\n",
    "        tags.remove(tag)\n",
    "\n",
    "#also remove empty strings\n",
    "tags.remove('')\n",
    "\n",
    "#join elements 8 and 9 into a single string, as this description was split in two\n",
    "tags[8:10] = [' '.join(tags[8:10])]\n",
    "\n",
    "#element 5 has extraneous characters that need to be removed\n",
    "tags[5] = tags[5].replace('\\t', '').replace('\\xa0', '').replace('\\n', ' ')"
   ]
  },
  {
   "cell_type": "markdown",
   "metadata": {},
   "source": [
    "Create dataframe with application type descriptions."
   ]
  },
  {
   "cell_type": "code",
   "execution_count": 105,
   "metadata": {},
   "outputs": [],
   "source": [
    "app_types = pd.DataFrame()\n",
    "app_types['type'] = range(1, 10)\n",
    "app_types['stage'] = tags[1::3]\n",
    "app_types['description'] = tags[2::3]"
   ]
  },
  {
   "cell_type": "code",
   "execution_count": 106,
   "metadata": {},
   "outputs": [
    {
     "data": {
      "text/html": [
       "<div>\n",
       "<table border=\"1\" class=\"dataframe\">\n",
       "  <thead>\n",
       "    <tr style=\"text-align: right;\">\n",
       "      <th></th>\n",
       "      <th>type</th>\n",
       "      <th>stage</th>\n",
       "      <th>description</th>\n",
       "    </tr>\n",
       "  </thead>\n",
       "  <tbody>\n",
       "    <tr>\n",
       "      <th>0</th>\n",
       "      <td>1</td>\n",
       "      <td>New</td>\n",
       "      <td>Initial request for support of a project that has not yet been funded.</td>\n",
       "    </tr>\n",
       "    <tr>\n",
       "      <th>1</th>\n",
       "      <td>2</td>\n",
       "      <td>Renewal</td>\n",
       "      <td>Initial request for additional funding for a period subsequent to that provided by a current award. Renewal applications compete for funding with all other peer reviewed applications and must be developed as fully as though the applicant is applying for the first time. (Previously referred to as “competing continuation.”)  If your renewal and subsequent resubmission of renewal application are not funded, you must use the \"new\" application type to compete for additional funding and continuity with your previous award will not be retained.</td>\n",
       "    </tr>\n",
       "    <tr>\n",
       "      <th>2</th>\n",
       "      <td>3</td>\n",
       "      <td>Competing Revision</td>\n",
       "      <td>Initial request for (or the award of) additional funds during a current project period to support new or additional activities that are not identified in the current award. This request reflects an expansion of the scope of the grant-approved activities. Competitive revisions require peer review. (Competing revision replaces the previous NIH term, \"competing supplement.\") An administrative supplement is a request for (or the award of) additional funds during a current project period to provide for an increase in costs due to unforeseen circumstances. All additional costs must be within the scope of the peer reviewed and approved project.</td>\n",
       "    </tr>\n",
       "    <tr>\n",
       "      <th>3</th>\n",
       "      <td>4</td>\n",
       "      <td>Extension</td>\n",
       "      <td>Request for additional years of support beyond the years previously awarded. (Used only for select programs.)</td>\n",
       "    </tr>\n",
       "    <tr>\n",
       "      <th>4</th>\n",
       "      <td>5</td>\n",
       "      <td>Noncompeting Continuation</td>\n",
       "      <td>Request or award for a subsequent budget period within a previously approved project for which a recipient does not have to compete with other applications.</td>\n",
       "    </tr>\n",
       "    <tr>\n",
       "      <th>5</th>\n",
       "      <td>6</td>\n",
       "      <td>Change of Organization Status (Successor-in-Interest)</td>\n",
       "      <td>Process whereby the rights to and obligations under an NIH grant(s) are acquired incidental to the transfer of all of the assets of the grantee or the transfer of that part of the assets involved in the performance of the grant(s). May result from legislative or other legal action, such as a merger or other corporate change.</td>\n",
       "    </tr>\n",
       "    <tr>\n",
       "      <th>6</th>\n",
       "      <td>7</td>\n",
       "      <td>Change of Grantee or Training Institution</td>\n",
       "      <td>Transfer of the legal and administrative responsibility for a grant-supported project or activity from one legal entity to another before the completion date of the approved project period (competitive segment).</td>\n",
       "    </tr>\n",
       "    <tr>\n",
       "      <th>7</th>\n",
       "      <td>8</td>\n",
       "      <td>Change of Institute or Center</td>\n",
       "      <td>Change of awarding NIH institute or center for the noncompeting continuation (Type 5).</td>\n",
       "    </tr>\n",
       "    <tr>\n",
       "      <th>8</th>\n",
       "      <td>9</td>\n",
       "      <td>Change of Institute or Center</td>\n",
       "      <td>Change of awarding NIH institute or center for the renewal (Type 2).</td>\n",
       "    </tr>\n",
       "  </tbody>\n",
       "</table>\n",
       "</div>"
      ],
      "text/plain": [
       "   type                                                  stage  \\\n",
       "0     1                                                    New   \n",
       "1     2                                                Renewal   \n",
       "2     3                                     Competing Revision   \n",
       "3     4                                              Extension   \n",
       "4     5                              Noncompeting Continuation   \n",
       "5     6  Change of Organization Status (Successor-in-Interest)   \n",
       "6     7              Change of Grantee or Training Institution   \n",
       "7     8                          Change of Institute or Center   \n",
       "8     9                          Change of Institute or Center   \n",
       "\n",
       "                                                                                                                                                                                                                                                                                                                                                                                                                                                                                                                                                                                                                                                             description  \n",
       "0                                                                                                                                                                                                                                                                                                                                                                                                                                                                                                                                                                                                 Initial request for support of a project that has not yet been funded.  \n",
       "1                                                                                                        Initial request for additional funding for a period subsequent to that provided by a current award. Renewal applications compete for funding with all other peer reviewed applications and must be developed as fully as though the applicant is applying for the first time. (Previously referred to as “competing continuation.”)  If your renewal and subsequent resubmission of renewal application are not funded, you must use the \"new\" application type to compete for additional funding and continuity with your previous award will not be retained.  \n",
       "2  Initial request for (or the award of) additional funds during a current project period to support new or additional activities that are not identified in the current award. This request reflects an expansion of the scope of the grant-approved activities. Competitive revisions require peer review. (Competing revision replaces the previous NIH term, \"competing supplement.\") An administrative supplement is a request for (or the award of) additional funds during a current project period to provide for an increase in costs due to unforeseen circumstances. All additional costs must be within the scope of the peer reviewed and approved project.  \n",
       "3                                                                                                                                                                                                                                                                                                                                                                                                                                                                                                                                                          Request for additional years of support beyond the years previously awarded. (Used only for select programs.)  \n",
       "4                                                                                                                                                                                                                                                                                                                                                                                                                                                                                                           Request or award for a subsequent budget period within a previously approved project for which a recipient does not have to compete with other applications.  \n",
       "5                                                                                                                                                                                                                                                                                                                                 Process whereby the rights to and obligations under an NIH grant(s) are acquired incidental to the transfer of all of the assets of the grantee or the transfer of that part of the assets involved in the performance of the grant(s). May result from legislative or other legal action, such as a merger or other corporate change.  \n",
       "6                                                                                                                                                                                                                                                                                                                                                                                                                                                    Transfer of the legal and administrative responsibility for a grant-supported project or activity from one legal entity to another before the completion date of the approved project period (competitive segment).  \n",
       "7                                                                                                                                                                                                                                                                                                                                                                                                                                                                                                                                                                                 Change of awarding NIH institute or center for the noncompeting continuation (Type 5).  \n",
       "8                                                                                                                                                                                                                                                                                                                                                                                                                                                                                                                                                                                                   Change of awarding NIH institute or center for the renewal (Type 2).  "
      ]
     },
     "execution_count": 106,
     "metadata": {},
     "output_type": "execute_result"
    }
   ],
   "source": [
    "app_types"
   ]
  },
  {
   "cell_type": "code",
   "execution_count": 108,
   "metadata": {
    "collapsed": true
   },
   "outputs": [],
   "source": [
    "app_types.to_csv('app_types.csv', index = False)"
   ]
  }
 ],
 "metadata": {
  "kernelspec": {
   "display_name": "Python 3",
   "language": "python",
   "name": "python3"
  },
  "language_info": {
   "codemirror_mode": {
    "name": "ipython",
    "version": 3
   },
   "file_extension": ".py",
   "mimetype": "text/x-python",
   "name": "python",
   "nbconvert_exporter": "python",
   "pygments_lexer": "ipython3",
   "version": "3.6.0"
  }
 },
 "nbformat": 4,
 "nbformat_minor": 1
}
