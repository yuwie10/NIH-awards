{
 "cells": [
  {
   "cell_type": "markdown",
   "metadata": {},
   "source": [
    "# Analyzing NIH grant abstracts to predict total funds awarded\n",
    "\n",
    "Our goal is to predict how much funding a grant is awarded based on the grant abstract and the number of years a grant is funded. The code to obtain these data and perform initial cleaning can be found [here](download-clean-data.ipynb).\n",
    "\n",
    "In this notebook we will perform initial exploration of the grants with abstract entries."
   ]
  },
  {
   "cell_type": "code",
   "execution_count": 3,
   "metadata": {},
   "outputs": [],
   "source": [
    "import pandas as pd\n",
    "import numpy as np\n",
    "\n",
    "import matplotlib.pyplot as plt\n",
    "import seaborn as sns\n",
    "%matplotlib inline\n",
    "\n",
    "from IPython.core.interactiveshell import InteractiveShell\n",
    "InteractiveShell.ast_node_interactivity = \"all\""
   ]
  },
  {
   "cell_type": "markdown",
   "metadata": {},
   "source": [
    "[Self-defined functions](https://github.com/yuwie10/nih-awards/blob/master/scripts/nih_functions.py) for this project."
   ]
  },
  {
   "cell_type": "code",
   "execution_count": 4,
   "metadata": {},
   "outputs": [],
   "source": [
    "import nih_functions as nih\n",
    "import importlib as imp\n",
    "imp.reload(nih);"
   ]
  },
  {
   "cell_type": "markdown",
   "metadata": {},
   "source": [
    "To specify the dtypes on import, let's first import a single row and examine the columns."
   ]
  },
  {
   "cell_type": "code",
   "execution_count": 5,
   "metadata": {},
   "outputs": [
    {
     "data": {
      "text/html": [
       "<div>\n",
       "<style>\n",
       "    .dataframe thead tr:only-child th {\n",
       "        text-align: right;\n",
       "    }\n",
       "\n",
       "    .dataframe thead th {\n",
       "        text-align: left;\n",
       "    }\n",
       "\n",
       "    .dataframe tbody tr th {\n",
       "        vertical-align: top;\n",
       "    }\n",
       "</style>\n",
       "<table border=\"1\" class=\"dataframe\">\n",
       "  <thead>\n",
       "    <tr style=\"text-align: right;\">\n",
       "      <th></th>\n",
       "      <th>application_id</th>\n",
       "      <th>activity</th>\n",
       "      <th>application_type</th>\n",
       "      <th>arra_funded</th>\n",
       "      <th>funding_mechanism</th>\n",
       "      <th>fy</th>\n",
       "      <th>nih_spending_cats</th>\n",
       "      <th>phr</th>\n",
       "      <th>project_start</th>\n",
       "      <th>project_end</th>\n",
       "      <th>project_terms</th>\n",
       "      <th>study_section</th>\n",
       "      <th>study_section_name</th>\n",
       "      <th>support_year</th>\n",
       "      <th>funds</th>\n",
       "      <th>pi_ids</th>\n",
       "      <th>num_pis</th>\n",
       "    </tr>\n",
       "  </thead>\n",
       "  <tbody>\n",
       "    <tr>\n",
       "      <th>0</th>\n",
       "      <td>6258248</td>\n",
       "      <td>c06</td>\n",
       "      <td>1</td>\n",
       "      <td>NaN</td>\n",
       "      <td>NaN</td>\n",
       "      <td>2000</td>\n",
       "      <td>NaN</td>\n",
       "      <td>NaN</td>\n",
       "      <td>2000-09-22</td>\n",
       "      <td>NaN</td>\n",
       "      <td>NaN</td>\n",
       "      <td>strb</td>\n",
       "      <td>scientific and technical review board on biome...</td>\n",
       "      <td>1</td>\n",
       "      <td>1488000.0</td>\n",
       "      <td>1860776</td>\n",
       "      <td>1.0</td>\n",
       "    </tr>\n",
       "  </tbody>\n",
       "</table>\n",
       "</div>"
      ],
      "text/plain": [
       "   application_id activity  application_type  arra_funded  funding_mechanism  \\\n",
       "0         6258248      c06                 1          NaN                NaN   \n",
       "\n",
       "     fy  nih_spending_cats  phr project_start  project_end  project_terms  \\\n",
       "0  2000                NaN  NaN    2000-09-22          NaN            NaN   \n",
       "\n",
       "  study_section                                 study_section_name  \\\n",
       "0          strb  scientific and technical review board on biome...   \n",
       "\n",
       "   support_year      funds   pi_ids  num_pis  \n",
       "0             1  1488000.0  1860776      1.0  "
      ]
     },
     "execution_count": 5,
     "metadata": {},
     "output_type": "execute_result"
    }
   ],
   "source": [
    "cols = pd.read_csv('for_analysis.csv', compression = 'gzip', nrows = 1)\n",
    "cols"
   ]
  },
  {
   "cell_type": "code",
   "execution_count": 6,
   "metadata": {
    "collapsed": true
   },
   "outputs": [],
   "source": [
    "dates = ['project_start', 'project_end']\n",
    "numeric = ['funds', 'support_year', 'num_pis']\n",
    "\n",
    "#get dtypes\n",
    "dtypes = nih.get_dtypes(cols, numeric)\n",
    "\n",
    "grants = pd.read_csv('for_analysis.csv', compression = 'gzip',\n",
    "                    dtype = dtypes, parse_dates = dates)"
   ]
  },
  {
   "cell_type": "markdown",
   "metadata": {},
   "source": [
    "There are many different types of grants, including institutional training grants and contracts. For this analysis, we are only interested in individual research grants (see [here](https://grants.nih.gov/grants/funding/funding_program.htm) for more details). Let's begin with R01 grants, which are the main research grants that fund academic labs. We can then extend this analysis to other types of grants such as R21s (smaller, exploratory grants), K99/R00s (grants for individuals to transition from postdoc to principal investigator) and pre- and post-doctoral grants."
   ]
  },
  {
   "cell_type": "code",
   "execution_count": 7,
   "metadata": {},
   "outputs": [
    {
     "name": "stderr",
     "output_type": "stream",
     "text": [
      "/Users/yuwenwu/anaconda/lib/python3.6/site-packages/ipykernel_launcher.py:1: DeprecationWarning: \n",
      ".ix is deprecated. Please use\n",
      ".loc for label based indexing or\n",
      ".iloc for positional indexing\n",
      "\n",
      "See the documentation here:\n",
      "http://pandas.pydata.org/pandas-docs/stable/indexing.html#deprecate_ix\n",
      "  \"\"\"Entry point for launching an IPython kernel.\n"
     ]
    },
    {
     "name": "stdout",
     "output_type": "stream",
     "text": [
      "<class 'pandas.core.frame.DataFrame'>\n",
      "Int64Index: 517427 entries, 40104 to 1446253\n",
      "Data columns (total 17 columns):\n",
      "application_id        517427 non-null object\n",
      "activity              517427 non-null object\n",
      "application_type      517427 non-null object\n",
      "arra_funded           250790 non-null object\n",
      "funding_mechanism     250790 non-null object\n",
      "fy                    517427 non-null object\n",
      "nih_spending_cats     234269 non-null object\n",
      "phr                   191126 non-null object\n",
      "project_start         517420 non-null datetime64[ns]\n",
      "project_end           100571 non-null datetime64[ns]\n",
      "project_terms         498529 non-null object\n",
      "study_section         516041 non-null object\n",
      "study_section_name    515749 non-null object\n",
      "support_year          517427 non-null float64\n",
      "funds                 513853 non-null float64\n",
      "pi_ids                517427 non-null object\n",
      "num_pis               517427 non-null float64\n",
      "dtypes: datetime64[ns](2), float64(3), object(12)\n",
      "memory usage: 71.1+ MB\n"
     ]
    }
   ],
   "source": [
    "r01s = grants.ix[grants['activity'] == 'r01']\n",
    "r01s.info()"
   ]
  },
  {
   "cell_type": "markdown",
   "metadata": {},
   "source": [
    "Most R01s do not have an abstract (public health relevance (phr) statement, also formerly known as the project narrative) associated with the submission. In fact, only grants from 2008 and later have a non-missing entry for phr. Prior to 2008 the NIH either did not ask for this field or the entries were not entered into the database. As we would like to analyze NIH grants based on text data, we will filter out grants without abstract entries. There is also a key words entry (project_terms) that, although not as rich as the text data in phr, may also be useful, especially if these key words can be compared with key words from grants with a listed abstract. We will save those observations with project_terms in a separate dataframe as well."
   ]
  },
  {
   "cell_type": "code",
   "execution_count": 8,
   "metadata": {},
   "outputs": [
    {
     "name": "stderr",
     "output_type": "stream",
     "text": [
      "/Users/yuwenwu/anaconda/lib/python3.6/site-packages/ipykernel_launcher.py:1: DeprecationWarning: \n",
      ".ix is deprecated. Please use\n",
      ".loc for label based indexing or\n",
      ".iloc for positional indexing\n",
      "\n",
      "See the documentation here:\n",
      "http://pandas.pydata.org/pandas-docs/stable/indexing.html#deprecate_ix\n",
      "  \"\"\"Entry point for launching an IPython kernel.\n"
     ]
    }
   ],
   "source": [
    "key_words = r01s.ix[r01s['project_terms'].notnull()]\n",
    "phr = r01s.ix[r01s['phr'].notnull()]"
   ]
  },
  {
   "cell_type": "markdown",
   "metadata": {},
   "source": [
    "Let's look at the type of applications in our dataset, descriptions of which we list below (information scraped in [this](scrape-grant-info.ipynb) notebook)."
   ]
  },
  {
   "cell_type": "code",
   "execution_count": 11,
   "metadata": {},
   "outputs": [
    {
     "data": {
      "text/html": [
       "<div>\n",
       "<style>\n",
       "    .dataframe thead tr:only-child th {\n",
       "        text-align: right;\n",
       "    }\n",
       "\n",
       "    .dataframe thead th {\n",
       "        text-align: left;\n",
       "    }\n",
       "\n",
       "    .dataframe tbody tr th {\n",
       "        vertical-align: top;\n",
       "    }\n",
       "</style>\n",
       "<table border=\"1\" class=\"dataframe\">\n",
       "  <thead>\n",
       "    <tr style=\"text-align: right;\">\n",
       "      <th></th>\n",
       "      <th>type</th>\n",
       "      <th>stage</th>\n",
       "      <th>description</th>\n",
       "    </tr>\n",
       "  </thead>\n",
       "  <tbody>\n",
       "    <tr>\n",
       "      <th>0</th>\n",
       "      <td>1</td>\n",
       "      <td>New</td>\n",
       "      <td>Initial request for support of a project that has not yet been funded.</td>\n",
       "    </tr>\n",
       "    <tr>\n",
       "      <th>1</th>\n",
       "      <td>2</td>\n",
       "      <td>Renewal</td>\n",
       "      <td>Initial request for additional funding for a period subsequent to that provided by a current award. Renewal applications compete for funding with all other peer reviewed applications and must be developed as fully as though the applicant is applying for the first time. (Previously referred to as “competing continuation.”)  If your renewal and subsequent resubmission of renewal application are not funded, you must use the \"new\" application type to compete for additional funding and continuity with your previous award will not be retained.</td>\n",
       "    </tr>\n",
       "    <tr>\n",
       "      <th>2</th>\n",
       "      <td>3</td>\n",
       "      <td>Competing Revision</td>\n",
       "      <td>Initial request for (or the award of) additional funds during a current project period to support new or additional activities that are not identified in the current award. This request reflects an expansion of the scope of the grant-approved activities. Competitive revisions require peer review. (Competing revision replaces the previous NIH term, \"competing supplement.\") An administrative supplement is a request for (or the award of) additional funds during a current project period to provide for an increase in costs due to unforeseen circumstances. All additional costs must be within the scope of the peer reviewed and approved project.</td>\n",
       "    </tr>\n",
       "    <tr>\n",
       "      <th>3</th>\n",
       "      <td>4</td>\n",
       "      <td>Extension</td>\n",
       "      <td>Request for additional years of support beyond the years previously awarded. (Used only for select programs.)</td>\n",
       "    </tr>\n",
       "    <tr>\n",
       "      <th>4</th>\n",
       "      <td>5</td>\n",
       "      <td>Noncompeting Continuation</td>\n",
       "      <td>Request or award for a subsequent budget period within a previously approved project for which a recipient does not have to compete with other applications.</td>\n",
       "    </tr>\n",
       "    <tr>\n",
       "      <th>5</th>\n",
       "      <td>6</td>\n",
       "      <td>Change of Organization Status (Successor-in-Interest)</td>\n",
       "      <td>Process whereby the rights to and obligations under an NIH grant(s) are acquired incidental to the transfer of all of the assets of the grantee or the transfer of that part of the assets involved in the performance of the grant(s). May result from legislative or other legal action, such as a merger or other corporate change.</td>\n",
       "    </tr>\n",
       "    <tr>\n",
       "      <th>6</th>\n",
       "      <td>7</td>\n",
       "      <td>Change of Grantee or Training Institution</td>\n",
       "      <td>Transfer of the legal and administrative responsibility for a grant-supported project or activity from one legal entity to another before the completion date of the approved project period (competitive segment).</td>\n",
       "    </tr>\n",
       "    <tr>\n",
       "      <th>7</th>\n",
       "      <td>8</td>\n",
       "      <td>Change of Institute or Center</td>\n",
       "      <td>Change of awarding NIH institute or center for the noncompeting continuation (Type 5).</td>\n",
       "    </tr>\n",
       "    <tr>\n",
       "      <th>8</th>\n",
       "      <td>9</td>\n",
       "      <td>Change of Institute or Center</td>\n",
       "      <td>Change of awarding NIH institute or center for the renewal (Type 2).</td>\n",
       "    </tr>\n",
       "  </tbody>\n",
       "</table>\n",
       "</div>"
      ],
      "text/plain": [
       "   type                                                  stage  \\\n",
       "0     1                                                    New   \n",
       "1     2                                                Renewal   \n",
       "2     3                                     Competing Revision   \n",
       "3     4                                              Extension   \n",
       "4     5                              Noncompeting Continuation   \n",
       "5     6  Change of Organization Status (Successor-in-Interest)   \n",
       "6     7              Change of Grantee or Training Institution   \n",
       "7     8                          Change of Institute or Center   \n",
       "8     9                          Change of Institute or Center   \n",
       "\n",
       "                                                                                                                                                                                                                                                                                                                                                                                                                                                                                                                                                                                                                                                             description  \n",
       "0                                                                                                                                                                                                                                                                                                                                                                                                                                                                                                                                                                                                 Initial request for support of a project that has not yet been funded.  \n",
       "1                                                                                                        Initial request for additional funding for a period subsequent to that provided by a current award. Renewal applications compete for funding with all other peer reviewed applications and must be developed as fully as though the applicant is applying for the first time. (Previously referred to as “competing continuation.”)  If your renewal and subsequent resubmission of renewal application are not funded, you must use the \"new\" application type to compete for additional funding and continuity with your previous award will not be retained.  \n",
       "2  Initial request for (or the award of) additional funds during a current project period to support new or additional activities that are not identified in the current award. This request reflects an expansion of the scope of the grant-approved activities. Competitive revisions require peer review. (Competing revision replaces the previous NIH term, \"competing supplement.\") An administrative supplement is a request for (or the award of) additional funds during a current project period to provide for an increase in costs due to unforeseen circumstances. All additional costs must be within the scope of the peer reviewed and approved project.  \n",
       "3                                                                                                                                                                                                                                                                                                                                                                                                                                                                                                                                                          Request for additional years of support beyond the years previously awarded. (Used only for select programs.)  \n",
       "4                                                                                                                                                                                                                                                                                                                                                                                                                                                                                                           Request or award for a subsequent budget period within a previously approved project for which a recipient does not have to compete with other applications.  \n",
       "5                                                                                                                                                                                                                                                                                                                                 Process whereby the rights to and obligations under an NIH grant(s) are acquired incidental to the transfer of all of the assets of the grantee or the transfer of that part of the assets involved in the performance of the grant(s). May result from legislative or other legal action, such as a merger or other corporate change.  \n",
       "6                                                                                                                                                                                                                                                                                                                                                                                                                                                    Transfer of the legal and administrative responsibility for a grant-supported project or activity from one legal entity to another before the completion date of the approved project period (competitive segment).  \n",
       "7                                                                                                                                                                                                                                                                                                                                                                                                                                                                                                                                                                                 Change of awarding NIH institute or center for the noncompeting continuation (Type 5).  \n",
       "8                                                                                                                                                                                                                                                                                                                                                                                                                                                                                                                                                                                                   Change of awarding NIH institute or center for the renewal (Type 2).  "
      ]
     },
     "execution_count": 11,
     "metadata": {},
     "output_type": "execute_result"
    }
   ],
   "source": [
    "nih.view_col_info('app_types.csv', col_name = 'type')"
   ]
  },
  {
   "cell_type": "code",
   "execution_count": 12,
   "metadata": {},
   "outputs": [
    {
     "data": {
      "text/plain": [
       "5    115357\n",
       "1     38084\n",
       "2     14578\n",
       "3      9687\n",
       "4      8261\n",
       "7      4223\n",
       "6       634\n",
       "9       262\n",
       "8        40\n",
       "Name: application_type, dtype: int64"
      ]
     },
     "execution_count": 12,
     "metadata": {},
     "output_type": "execute_result"
    }
   ],
   "source": [
    "phr['application_type'].value_counts()"
   ]
  },
  {
   "cell_type": "markdown",
   "metadata": {},
   "source": [
    "Interestingly most grants fall into the non-competing continuation category; the second largest category are new grants, as expected.\n",
    "\n",
    "Let's look at basic summary statistics of our quantitative variables."
   ]
  },
  {
   "cell_type": "code",
   "execution_count": 13,
   "metadata": {
    "scrolled": true
   },
   "outputs": [
    {
     "data": {
      "text/html": [
       "<div>\n",
       "<style>\n",
       "    .dataframe thead tr:only-child th {\n",
       "        text-align: right;\n",
       "    }\n",
       "\n",
       "    .dataframe thead th {\n",
       "        text-align: left;\n",
       "    }\n",
       "\n",
       "    .dataframe tbody tr th {\n",
       "        vertical-align: top;\n",
       "    }\n",
       "</style>\n",
       "<table border=\"1\" class=\"dataframe\">\n",
       "  <thead>\n",
       "    <tr style=\"text-align: right;\">\n",
       "      <th></th>\n",
       "      <th>support_year</th>\n",
       "      <th>funds</th>\n",
       "      <th>num_pis</th>\n",
       "    </tr>\n",
       "  </thead>\n",
       "  <tbody>\n",
       "    <tr>\n",
       "      <th>count</th>\n",
       "      <td>191126.000000</td>\n",
       "      <td>1.901460e+05</td>\n",
       "      <td>191126.000000</td>\n",
       "    </tr>\n",
       "    <tr>\n",
       "      <th>mean</th>\n",
       "      <td>5.556905</td>\n",
       "      <td>3.448723e+05</td>\n",
       "      <td>1.344077</td>\n",
       "    </tr>\n",
       "    <tr>\n",
       "      <th>std</th>\n",
       "      <td>6.381470</td>\n",
       "      <td>1.924590e+05</td>\n",
       "      <td>0.702543</td>\n",
       "    </tr>\n",
       "    <tr>\n",
       "      <th>min</th>\n",
       "      <td>1.000000</td>\n",
       "      <td>0.000000e+00</td>\n",
       "      <td>1.000000</td>\n",
       "    </tr>\n",
       "    <tr>\n",
       "      <th>25%</th>\n",
       "      <td>2.000000</td>\n",
       "      <td>2.513270e+05</td>\n",
       "      <td>1.000000</td>\n",
       "    </tr>\n",
       "    <tr>\n",
       "      <th>50%</th>\n",
       "      <td>3.000000</td>\n",
       "      <td>3.328415e+05</td>\n",
       "      <td>1.000000</td>\n",
       "    </tr>\n",
       "    <tr>\n",
       "      <th>75%</th>\n",
       "      <td>6.000000</td>\n",
       "      <td>3.993470e+05</td>\n",
       "      <td>2.000000</td>\n",
       "    </tr>\n",
       "    <tr>\n",
       "      <th>max</th>\n",
       "      <td>60.000000</td>\n",
       "      <td>8.046691e+06</td>\n",
       "      <td>9.000000</td>\n",
       "    </tr>\n",
       "  </tbody>\n",
       "</table>\n",
       "</div>"
      ],
      "text/plain": [
       "        support_year         funds        num_pis\n",
       "count  191126.000000  1.901460e+05  191126.000000\n",
       "mean        5.556905  3.448723e+05       1.344077\n",
       "std         6.381470  1.924590e+05       0.702543\n",
       "min         1.000000  0.000000e+00       1.000000\n",
       "25%         2.000000  2.513270e+05       1.000000\n",
       "50%         3.000000  3.328415e+05       1.000000\n",
       "75%         6.000000  3.993470e+05       2.000000\n",
       "max        60.000000  8.046691e+06       9.000000"
      ]
     },
     "execution_count": 13,
     "metadata": {},
     "output_type": "execute_result"
    }
   ],
   "source": [
    "phr.describe()"
   ]
  },
  {
   "cell_type": "markdown",
   "metadata": {},
   "source": [
    "As expected, most R01s on average are funded for about 5 years, although the median number of years is only 3, and one grant has been funded for 60 years. Also as expected most grants are only associated with a single principal investigator (PI), or researcher. In the funding category we see that the minimum funding is 0, which suggests some grant information was incorrectly entered.\n",
    "\n",
    "We plot the distributions of funds below."
   ]
  },
  {
   "cell_type": "code",
   "execution_count": 19,
   "metadata": {
    "scrolled": false
   },
   "outputs": [
    {
     "data": {
      "image/png": "[encoded data removed]",
      "text/plain": [
       "<matplotlib.figure.Figure at 0x11ae33d30>"
      ]
     },
     "metadata": {},
     "output_type": "display_data"
    }
   ],
   "source": [
    "to_plot = phr.loc[phr['funds'] != 0]\n",
    "to_plot = to_plot['funds'].dropna()\n",
    "\n",
    "fig, _ = plt.subplots()\n",
    "fig.set_size_inches(10, 10)\n",
    "plot1 = sns.distplot(to_plot, kde = False)\n",
    "plot1 = plt.title('Distribution of grant f')\n",
    "plot1.figure.savefig('distri-funds.png')"
   ]
  },
  {
   "cell_type": "markdown",
   "metadata": {},
   "source": [
    "Most grants were awarded less than $1,000,000 but there are a number awarded very large amounts. Let's plot these two groups separately so we can see the individual distributions more easily."
   ]
  },
  {
   "cell_type": "code",
   "execution_count": 21,
   "metadata": {},
   "outputs": [
    {
     "data": {
      "image/png": "[encoded data removed]",
      "text/plain": [
       "<matplotlib.figure.Figure at 0x1168a44a8>"
      ]
     },
     "metadata": {},
     "output_type": "display_data"
    },
    {
     "data": {
      "image/png": "[encoded data removed]",
      "text/plain": [
       "<matplotlib.figure.Figure at 0x117ed0898>"
      ]
     },
     "metadata": {},
     "output_type": "display_data"
    }
   ],
   "source": [
    "plot1 = []\n",
    "plot2 = []\n",
    "for funds in phr['funds'].dropna():\n",
    "    if funds <= 1000000:\n",
    "        plot1.append(funds)\n",
    "    else:\n",
    "        plot2.append(funds)\n",
    "\n",
    "fig, _ = plt.subplots()\n",
    "fig.set_size_inches(10, 10)\n",
    "_ = sns.distplot(plot1, kde = False)\n",
    "\n",
    "fig, _ = plt.subplots()\n",
    "fig.set_size_inches(10, 10)\n",
    "_ = sns.distplot(plot2, kde = False)"
   ]
  },
  {
   "cell_type": "code",
   "execution_count": 16,
   "metadata": {},
   "outputs": [
    {
     "name": "stdout",
     "output_type": "stream",
     "text": [
      "There are 188881 grants that received less than $1,000,000 and only 1265 that received more than that.\n"
     ]
    }
   ],
   "source": [
    "print('There are {} grants that received less than $1,000,000 and only {} that received more than that.'\\\n",
    "     .format(len(plot1), len(plot2)))"
   ]
  },
  {
   "cell_type": "code",
   "execution_count": 17,
   "metadata": {
    "collapsed": true
   },
   "outputs": [],
   "source": [
    "#phr.to_csv('phr.csv', index = False, compression = 'gzip')"
   ]
  },
  {
   "cell_type": "markdown",
   "metadata": {},
   "source": [
    "We will perform text analysis and predict grant funding in [this](abstracts-clustering-prediction.ipynb) notebook."
   ]
  }
 ],
 "metadata": {
  "kernelspec": {
   "display_name": "Python 3",
   "language": "python",
   "name": "python3"
  },
  "language_info": {
   "codemirror_mode": {
    "name": "ipython",
    "version": 3
   },
   "file_extension": ".py",
   "mimetype": "text/x-python",
   "name": "python",
   "nbconvert_exporter": "python",
   "pygments_lexer": "ipython3",
   "version": "3.6.1"
  }
 },
 "nbformat": 4,
 "nbformat_minor": 2
}
