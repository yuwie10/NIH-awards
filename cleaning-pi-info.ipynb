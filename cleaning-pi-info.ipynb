{
 "cells": [
  {
   "cell_type": "markdown",
   "metadata": {},
   "source": [
    "# Cleaning principal investigator (PI) information\n",
    "\n",
    "Our ultimate goal is to train a model to predict how much money a grant was awarded by the NIH. We scraped the grant data on 2017/05/09 and performed initial cleaning in [this](download-clean-data.ipynb) notebook. In order to prevent duplicate information used to train a model, we will store PI information separately from our dataframe of features. In this notebook we will perform further cleaning of PI information."
   ]
  },
  {
   "cell_type": "code",
   "execution_count": 1,
   "metadata": {
    "collapsed": true
   },
   "outputs": [],
   "source": [
    "import pandas as pd\n",
    "import numpy as np\n",
    "from random import randint\n",
    "from IPython.core.interactiveshell import InteractiveShell\n",
    "InteractiveShell.ast_node_interactivity = \"all\"\n",
    "\n",
    "import cleaning_strings as cln\n",
    "import importlib as imp\n",
    "imp.reload(cln);"
   ]
  },
  {
   "cell_type": "code",
   "execution_count": 14,
   "metadata": {
    "collapsed": true
   },
   "outputs": [],
   "source": [
    "import sqlite3\n",
    "conn = sqlite3.connect('nih-grants.db')"
   ]
  },
  {
   "cell_type": "markdown",
   "metadata": {},
   "source": [
    "## Local functions "
   ]
  },
  {
   "cell_type": "code",
   "execution_count": 2,
   "metadata": {
    "collapsed": true
   },
   "outputs": [],
   "source": [
    "def add_zero_zip(df, length, col1 = 'org_zipcode', col2 = 'org_country', country = 'united states'):\n",
    "    \n",
    "    '''Add leading zero to New England zipcodes.\n",
    "    Arguments are the df and length of incorrect zipcode.\n",
    "    Returns two lists, one with the original zipcodes and one with the added leading zero.'''\n",
    "    \n",
    "    original = []\n",
    "    actual = []\n",
    "    for num in df.ix[(df[col1].str.len() == length) & (df[col2].str.contains(country))][col1]:\n",
    "        original.append(num)\n",
    "        num = '0' + num\n",
    "        actual.append(num)\n",
    "    return original, actual\n",
    "\n",
    "def add_zero_duns(df, col1 = 'org_duns'):\n",
    "    \n",
    "    '''Add leading zeros to DUNS numbers until DUNS number is 9 digits.\n",
    "    Returns the df with leading zeros added to short DUNS numbers.'''\n",
    "    \n",
    "    actual = []\n",
    "    series = df[col1].tolist()\n",
    "    for num in series:\n",
    "        \n",
    "        #skip null entries\n",
    "        if type(num) == float:\n",
    "            pass\n",
    "        \n",
    "        #add zeros until length is 9\n",
    "        else:\n",
    "            while len(num) < 9.0:\n",
    "                num = '0' + num\n",
    "        actual.append(num)\n",
    "    \n",
    "    #add new column to df with 9 digit DUNS numbers\n",
    "    df[col1 + '_'] = actual\n",
    "    \n",
    "    #delete original column and rename new column\n",
    "    del df[col1]\n",
    "    df = df.rename(columns = {col1 + '_':col1})\n",
    "    return df\n",
    "\n",
    "def get_unique_values(df, name, col_filter = 'org_duns'):\n",
    "    \n",
    "    '''Get unique values in each column to be filled for a particular entry.\n",
    "    Takes a df, the name of the column to be filtered, and the name of the entry.\n",
    "    Returns the dictionary where the keys are the columns to be filled and the\n",
    "    values are the unique values for the entry.\n",
    "    Also returns a list of the non-unique organization names that match an individual DUNS number.'''\n",
    "    \n",
    "    #create list of columns to fill\n",
    "    cols_to_fill = 'org_duns org_name org_city org_state org_zipcode org_country'.split()\n",
    "    \n",
    "    #create dictionary where keys are the column names\n",
    "    cols_dict = {key: None for key in cols_to_fill}\n",
    "    \n",
    "    #filter rows by element (name) in column to be filtered (col_filter)\n",
    "    values = df.ix[df[col_filter] == name]\n",
    "    \n",
    "    #want to match each column name (key) with the correct entry (value)\n",
    "    for col in cols_to_fill:\n",
    "        \n",
    "        #get the unique values of each column to fill\n",
    "        unique_value = values[col].dropna().unique()\n",
    "        \n",
    "        #check there is only 1 unique value and match with key\n",
    "        if unique_value.shape == (1,):\n",
    "            cols_dict[col] = unique_value[0]\n",
    "        \n",
    "        #check if array is empty\n",
    "        elif unique_value.shape == (0,):\n",
    "            cols_dict[col] = np.nan\n",
    "        \n",
    "        else:\n",
    "            #fill value with most frequently occurring value\n",
    "            #assumption is most frequently occurring value is the correct value\n",
    "            cols_dict[col] = values[col].value_counts().idxmax()\n",
    "            \n",
    "            #print out org_names to check whether individual DUNS match multiple org_names\n",
    "            #for diagnostic purposes\n",
    "            #if col == 'org_name':\n",
    "                #print(unique_value)\n",
    "    return cols_dict\n",
    "\n",
    "def fill_missing(df, col_filter = 'org_duns'):\n",
    "    \n",
    "    '''Fill missing values in each grant based on the unique DUNS number.\n",
    "    Returns a df.'''\n",
    "    \n",
    "    #get list of unique entries (default is unique DUNS numbers)\n",
    "    list_unique = df[col_filter].dropna().unique().tolist()\n",
    "    df_new = pd.DataFrame(columns = df.columns)\n",
    "    \n",
    "    #for every DUNS number:\n",
    "    for i in list_unique:\n",
    "        #fill null values in each column with corresponding unique values\n",
    "        to_fill = get_unique_values(df, i, col_filter)\n",
    "        df_append = df.ix[df[col_filter] == i].fillna(to_fill)\n",
    "        df_new = df_new.append(df_append)\n",
    "    df_new = df_new.sort_index()\n",
    "    return df_new\n",
    "\n",
    "def merge_fill_nans(df1, df2, col):\n",
    "    \n",
    "    '''Merge two dfs and fill NaNs in the first df with values from the duplicated column\n",
    "    in the second df. Drop the duplicate column.\n",
    "    Returns a df.'''\n",
    "    \n",
    "    #merge the original df and the new df and fill NaNs\n",
    "    df_merged = pd.merge(df1, df2, how = 'left', left_index = True, right_index = True, suffixes = ('', '_copy'))\n",
    "    df_merged[col].fillna(df_merged[col + '_copy'], inplace = True)\n",
    "    \n",
    "    #remove duplicate columns\n",
    "    to_keep = [col for col in df1.columns if '_copy' not in col]\n",
    "    df_merged = df_merged[to_keep]\n",
    "    return df_merged\n",
    "\n",
    "def add_dummy_duns(df, col_filter1 = 'org_duns', col_filter2 = 'org_name'):\n",
    "    \n",
    "    '''Fill missing DUNS numbers with dummy 9 digit number.\n",
    "    Returns a df with all DUNS filled in.'''\n",
    "    \n",
    "    #extract entries where DUNS is not listed\n",
    "    nulls = df.ix[df[col_filter1].isnull()]\n",
    "    null_names = nulls[col_filter2].unique().tolist()\n",
    "    df_replace = []\n",
    "    \n",
    "    #for each institute where the DUNS is not listed\n",
    "    for i in null_names:\n",
    "        #generate a random DUNS number; no original DUNS is listed with 4 leading zeros.\n",
    "        dummy = '0000' + str(randint(10000, 99999))\n",
    "        #create a series where the DUNS number per institute is filled in\n",
    "        df_fill = pd.DataFrame(df.ix[df[col_filter2] == i][col_filter1].fillna(dummy))\n",
    "        df_replace.append(df_fill)\n",
    "    \n",
    "    #concatenate the list of series into a dataframe\n",
    "    df_replace = pd.concat(df_replace)\n",
    "    df_merged = merge_fill_nans(df, df_replace, col_filter1)\n",
    "    return df_merged\n",
    "\n",
    "def replace_info(df, col_filter = 'org_duns', all_cols = ['org_name', 'org_city',\n",
    "                                                          'org_state', 'org_zipcode']):\n",
    "    \n",
    "    '''Replace incorrect information.'''\n",
    "    \n",
    "    duns_list = df[col_filter].unique().tolist()\n",
    "    df_new = []\n",
    "    for duns in duns_list:\n",
    "        subset = df.ix[df[col_filter] == duns]\n",
    "        for col in all_cols:\n",
    "            values = subset[col].value_counts(dropna = False)\n",
    "            to_replace = values.index.tolist()\n",
    "            replacement = values.idxmax()\n",
    "            subset[col] = subset[col].replace(to_replace, replacement)\n",
    "        df_new.append(subset)\n",
    "    df_new = pd.concat(df_new)\n",
    "    df_new.sort_index(inplace = True)\n",
    "    return df_new\n",
    "\n",
    "def replace_nih_info(df, dict_, org_name = 'org_name'):\n",
    "    \n",
    "    '''Some NIH centers have updated names.\n",
    "    Replace the appropriate grants with this information.\n",
    "    Returns a df.'''\n",
    "    \n",
    "    for k, v in dict_.items():\n",
    "        df.replace({k:v}, inplace = True)\n",
    "        df.ix[df[org_name] == v] = df.ix[df[org_name] == v].fillna(method = 'bfill').fillna(method = 'ffill')\n",
    "    return df\n",
    "\n",
    "def add_nih_info(df, col, replace_with, org_name = 'org_name', org_country = 'org_country'):\n",
    "    \n",
    "    '''Add missing NIH information. These are NIH centers where no information is listed other\n",
    "    than the organization name.\n",
    "    Returns a df.'''\n",
    "    \n",
    "    #NIH institutes are those where the org_name is listed but the country is not\n",
    "    df_replace = pd.DataFrame(df.ix[~df[org_name].isnull() & df[org_country].isnull()]\\\n",
    "                              [col].fillna(replace_with))\n",
    "    df_merged = merge_fill_nans(df, df_replace, col)\n",
    "    return df_merged"
   ]
  },
  {
   "cell_type": "markdown",
   "metadata": {},
   "source": [
    "## Cleaning PI information\n",
    "We want a dataframe where each row is a single PI (no duplicates) and associated organization information as a cross-reference to the grants data."
   ]
  },
  {
   "cell_type": "markdown",
   "metadata": {},
   "source": [
    "Import relevant columns from csv with raw grant information."
   ]
  },
  {
   "cell_type": "code",
   "execution_count": 3,
   "metadata": {
    "collapsed": true
   },
   "outputs": [],
   "source": [
    "columns = 'fy pi_ids pi_names org_name org_city org_state org_country org_zipcode org_duns'.split()\n",
    "dtypes = {key: str for key in columns}"
   ]
  },
  {
   "cell_type": "code",
   "execution_count": 4,
   "metadata": {},
   "outputs": [
    {
     "data": {
      "text/html": [
       "<div>\n",
       "<table border=\"1\" class=\"dataframe\">\n",
       "  <thead>\n",
       "    <tr style=\"text-align: right;\">\n",
       "      <th></th>\n",
       "      <th>fy</th>\n",
       "      <th>org_city</th>\n",
       "      <th>org_country</th>\n",
       "      <th>org_duns</th>\n",
       "      <th>org_name</th>\n",
       "      <th>org_state</th>\n",
       "      <th>org_zipcode</th>\n",
       "      <th>pi_ids</th>\n",
       "      <th>pi_names</th>\n",
       "    </tr>\n",
       "  </thead>\n",
       "  <tbody>\n",
       "    <tr>\n",
       "      <th>2223287</th>\n",
       "      <td>2016</td>\n",
       "      <td>lawrence</td>\n",
       "      <td>united states</td>\n",
       "      <td>76248616</td>\n",
       "      <td>university of kansas lawrence</td>\n",
       "      <td>ks</td>\n",
       "      <td>660457568</td>\n",
       "      <td>9524770</td>\n",
       "      <td>mcgill, jodi l.;</td>\n",
       "    </tr>\n",
       "    <tr>\n",
       "      <th>2223288</th>\n",
       "      <td>2016</td>\n",
       "      <td>davis</td>\n",
       "      <td>united states</td>\n",
       "      <td>47120084</td>\n",
       "      <td>university of california at davis</td>\n",
       "      <td>ca</td>\n",
       "      <td>956186153</td>\n",
       "      <td>6490459</td>\n",
       "      <td>clancy, colleen e;</td>\n",
       "    </tr>\n",
       "    <tr>\n",
       "      <th>2223289</th>\n",
       "      <td>2016</td>\n",
       "      <td>la jolla</td>\n",
       "      <td>united states</td>\n",
       "      <td>804355790</td>\n",
       "      <td>university of california san diego</td>\n",
       "      <td>ca</td>\n",
       "      <td>920930934</td>\n",
       "      <td>1901669</td>\n",
       "      <td>feng, gen-sheng ;</td>\n",
       "    </tr>\n",
       "    <tr>\n",
       "      <th>2223290</th>\n",
       "      <td>2016</td>\n",
       "      <td>coral gables</td>\n",
       "      <td>united states</td>\n",
       "      <td>52780918</td>\n",
       "      <td>university of miami school of medicine</td>\n",
       "      <td>fl</td>\n",
       "      <td>331462926</td>\n",
       "      <td>10944221</td>\n",
       "      <td>sharifai, nima ;</td>\n",
       "    </tr>\n",
       "    <tr>\n",
       "      <th>2223291</th>\n",
       "      <td>2016</td>\n",
       "      <td>toledo</td>\n",
       "      <td>united states</td>\n",
       "      <td>51623734</td>\n",
       "      <td>university of toledo</td>\n",
       "      <td>oh</td>\n",
       "      <td>436063390</td>\n",
       "      <td>9288457</td>\n",
       "      <td>liu, song-tao ;</td>\n",
       "    </tr>\n",
       "  </tbody>\n",
       "</table>\n",
       "</div>"
      ],
      "text/plain": [
       "           fy      org_city    org_country   org_duns  \\\n",
       "2223287  2016      lawrence  united states   76248616   \n",
       "2223288  2016         davis  united states   47120084   \n",
       "2223289  2016      la jolla  united states  804355790   \n",
       "2223290  2016  coral gables  united states   52780918   \n",
       "2223291  2016        toledo  united states   51623734   \n",
       "\n",
       "                                       org_name org_state org_zipcode  \\\n",
       "2223287           university of kansas lawrence        ks   660457568   \n",
       "2223288       university of california at davis        ca   956186153   \n",
       "2223289      university of california san diego        ca   920930934   \n",
       "2223290  university of miami school of medicine        fl   331462926   \n",
       "2223291                    university of toledo        oh   436063390   \n",
       "\n",
       "           pi_ids            pi_names  \n",
       "2223287   9524770    mcgill, jodi l.;  \n",
       "2223288   6490459  clancy, colleen e;  \n",
       "2223289   1901669   feng, gen-sheng ;  \n",
       "2223290  10944221    sharifai, nima ;  \n",
       "2223291   9288457     liu, song-tao ;  "
      ]
     },
     "execution_count": 4,
     "metadata": {},
     "output_type": "execute_result"
    }
   ],
   "source": [
    "pi_info_raw = pd.read_csv('all_grants.csv', compression = 'gzip', usecols = columns, dtype = dtypes)\n",
    "\n",
    "#Only analyzing grants from 2000 onwards, as prior to that no funding information is available\n",
    "#as of 2017/05/09\n",
    "pi_info_raw = pi_info_raw.ix[pi_info_raw['fy'] >= '2000']\n",
    "pi_info_raw.tail()"
   ]
  },
  {
   "cell_type": "code",
   "execution_count": 5,
   "metadata": {},
   "outputs": [
    {
     "data": {
      "text/html": [
       "<div>\n",
       "<table border=\"1\" class=\"dataframe\">\n",
       "  <thead>\n",
       "    <tr style=\"text-align: right;\">\n",
       "      <th></th>\n",
       "      <th>fy</th>\n",
       "      <th>org_city</th>\n",
       "      <th>org_country</th>\n",
       "      <th>org_duns</th>\n",
       "      <th>org_name</th>\n",
       "      <th>org_state</th>\n",
       "      <th>org_zipcode</th>\n",
       "      <th>pi_ids</th>\n",
       "      <th>pi_names</th>\n",
       "    </tr>\n",
       "  </thead>\n",
       "  <tbody>\n",
       "    <tr>\n",
       "      <th>2223287</th>\n",
       "      <td>2016</td>\n",
       "      <td>lawrence</td>\n",
       "      <td>united states</td>\n",
       "      <td>76248616</td>\n",
       "      <td>university of kansas lawrence</td>\n",
       "      <td>ks</td>\n",
       "      <td>660457568</td>\n",
       "      <td>9524770</td>\n",
       "      <td>mcgill, jodi l</td>\n",
       "    </tr>\n",
       "    <tr>\n",
       "      <th>2223288</th>\n",
       "      <td>2016</td>\n",
       "      <td>davis</td>\n",
       "      <td>united states</td>\n",
       "      <td>47120084</td>\n",
       "      <td>university of california at davis</td>\n",
       "      <td>ca</td>\n",
       "      <td>956186153</td>\n",
       "      <td>6490459</td>\n",
       "      <td>clancy, colleen e</td>\n",
       "    </tr>\n",
       "    <tr>\n",
       "      <th>2223289</th>\n",
       "      <td>2016</td>\n",
       "      <td>la jolla</td>\n",
       "      <td>united states</td>\n",
       "      <td>804355790</td>\n",
       "      <td>university of california san diego</td>\n",
       "      <td>ca</td>\n",
       "      <td>920930934</td>\n",
       "      <td>1901669</td>\n",
       "      <td>feng, gen-sheng</td>\n",
       "    </tr>\n",
       "    <tr>\n",
       "      <th>2223290</th>\n",
       "      <td>2016</td>\n",
       "      <td>coral gables</td>\n",
       "      <td>united states</td>\n",
       "      <td>52780918</td>\n",
       "      <td>university of miami school of medicine</td>\n",
       "      <td>fl</td>\n",
       "      <td>331462926</td>\n",
       "      <td>10944221</td>\n",
       "      <td>sharifai, nima</td>\n",
       "    </tr>\n",
       "    <tr>\n",
       "      <th>2223291</th>\n",
       "      <td>2016</td>\n",
       "      <td>toledo</td>\n",
       "      <td>united states</td>\n",
       "      <td>51623734</td>\n",
       "      <td>university of toledo</td>\n",
       "      <td>oh</td>\n",
       "      <td>436063390</td>\n",
       "      <td>9288457</td>\n",
       "      <td>liu, song-tao</td>\n",
       "    </tr>\n",
       "  </tbody>\n",
       "</table>\n",
       "</div>"
      ],
      "text/plain": [
       "           fy      org_city    org_country   org_duns  \\\n",
       "2223287  2016      lawrence  united states   76248616   \n",
       "2223288  2016         davis  united states   47120084   \n",
       "2223289  2016      la jolla  united states  804355790   \n",
       "2223290  2016  coral gables  united states   52780918   \n",
       "2223291  2016        toledo  united states   51623734   \n",
       "\n",
       "                                       org_name org_state org_zipcode  \\\n",
       "2223287           university of kansas lawrence        ks   660457568   \n",
       "2223288       university of california at davis        ca   956186153   \n",
       "2223289      university of california san diego        ca   920930934   \n",
       "2223290  university of miami school of medicine        fl   331462926   \n",
       "2223291                    university of toledo        oh   436063390   \n",
       "\n",
       "           pi_ids           pi_names  \n",
       "2223287   9524770     mcgill, jodi l  \n",
       "2223288   6490459  clancy, colleen e  \n",
       "2223289   1901669    feng, gen-sheng  \n",
       "2223290  10944221     sharifai, nima  \n",
       "2223291   9288457      liu, song-tao  "
      ]
     },
     "execution_count": 5,
     "metadata": {},
     "output_type": "execute_result"
    }
   ],
   "source": [
    "pi_info_cleaned = cln.strip_df(pi_info_raw, ' ', ';', ' ', '.')\n",
    "pi_info_cleaned.tail()"
   ]
  },
  {
   "cell_type": "code",
   "execution_count": 6,
   "metadata": {},
   "outputs": [
    {
     "name": "stdout",
     "output_type": "stream",
     "text": [
      "<class 'pandas.core.frame.DataFrame'>\n",
      "Int64Index: 653801 entries, 1569491 to 2223291\n",
      "Data columns (total 9 columns):\n",
      "fy             653801 non-null object\n",
      "org_city       625577 non-null object\n",
      "org_country    625632 non-null object\n",
      "org_duns       611923 non-null object\n",
      "org_name       653128 non-null object\n",
      "org_state      617661 non-null object\n",
      "org_zipcode    622758 non-null object\n",
      "pi_ids         653801 non-null object\n",
      "pi_names       653801 non-null object\n",
      "dtypes: object(9)\n",
      "memory usage: 49.9+ MB\n"
     ]
    }
   ],
   "source": [
    "pi_info_cleaned.info()"
   ]
  },
  {
   "cell_type": "markdown",
   "metadata": {},
   "source": [
    "## Splitting PI Info\n",
    "Some grants have multiple PIs listed on the grant, and the information for the group of PIs is listed only as the contact PI's information. In order to get unique PI information, these PI groups must be separated into individual PIs."
   ]
  },
  {
   "cell_type": "markdown",
   "metadata": {},
   "source": [
    "Split pi_info_cleaned into two dataframes, one containing grouped (multiple) PIs and one containing single PIs."
   ]
  },
  {
   "cell_type": "code",
   "execution_count": 7,
   "metadata": {},
   "outputs": [
    {
     "data": {
      "text/plain": [
       "(606233, 9)"
      ]
     },
     "execution_count": 7,
     "metadata": {},
     "output_type": "execute_result"
    }
   ],
   "source": [
    "multi_pi_unsplit = pi_info_cleaned.ix[pi_info_cleaned['pi_ids'].str.contains('contact', na = False)]\n",
    "pi_info = pi_info_cleaned.drop(multi_pi_unsplit.index)\n",
    "pi_info.shape"
   ]
  },
  {
   "cell_type": "markdown",
   "metadata": {},
   "source": [
    "Drop duplicates to obtain unique PIs that were awarded solo grants. Check both PI IDs and organization name to check for PIs that moved to a different institution."
   ]
  },
  {
   "cell_type": "code",
   "execution_count": 8,
   "metadata": {},
   "outputs": [
    {
     "data": {
      "text/plain": [
       "(161323, 9)"
      ]
     },
     "execution_count": 8,
     "metadata": {},
     "output_type": "execute_result"
    },
    {
     "data": {
      "text/html": [
       "<div>\n",
       "<table border=\"1\" class=\"dataframe\">\n",
       "  <thead>\n",
       "    <tr style=\"text-align: right;\">\n",
       "      <th></th>\n",
       "      <th>fy</th>\n",
       "      <th>org_city</th>\n",
       "      <th>org_country</th>\n",
       "      <th>org_duns</th>\n",
       "      <th>org_name</th>\n",
       "      <th>org_state</th>\n",
       "      <th>org_zipcode</th>\n",
       "      <th>pi_ids</th>\n",
       "      <th>pi_names</th>\n",
       "    </tr>\n",
       "  </thead>\n",
       "  <tbody>\n",
       "    <tr>\n",
       "      <th>2223248</th>\n",
       "      <td>2016</td>\n",
       "      <td>champaign</td>\n",
       "      <td>united states</td>\n",
       "      <td>41544081</td>\n",
       "      <td>university of illinois at urbana-champaign</td>\n",
       "      <td>il</td>\n",
       "      <td>618207473</td>\n",
       "      <td>2084901</td>\n",
       "      <td>bolton, eric c</td>\n",
       "    </tr>\n",
       "    <tr>\n",
       "      <th>2223251</th>\n",
       "      <td>2016</td>\n",
       "      <td>davis</td>\n",
       "      <td>united states</td>\n",
       "      <td>47120084</td>\n",
       "      <td>university of california at davis</td>\n",
       "      <td>ca</td>\n",
       "      <td>956186153</td>\n",
       "      <td>9856365</td>\n",
       "      <td>juliano, celina</td>\n",
       "    </tr>\n",
       "    <tr>\n",
       "      <th>2223255</th>\n",
       "      <td>2016</td>\n",
       "      <td>seattle</td>\n",
       "      <td>united states</td>\n",
       "      <td>605799469</td>\n",
       "      <td>university of washington</td>\n",
       "      <td>wa</td>\n",
       "      <td>981959472</td>\n",
       "      <td>11678618</td>\n",
       "      <td>gerner, michael</td>\n",
       "    </tr>\n",
       "    <tr>\n",
       "      <th>2223258</th>\n",
       "      <td>2016</td>\n",
       "      <td>omaha</td>\n",
       "      <td>united states</td>\n",
       "      <td>168559177</td>\n",
       "      <td>university of nebraska medical center</td>\n",
       "      <td>ne</td>\n",
       "      <td>681987835</td>\n",
       "      <td>1873357</td>\n",
       "      <td>sanderson, sam d</td>\n",
       "    </tr>\n",
       "    <tr>\n",
       "      <th>2223273</th>\n",
       "      <td>2016</td>\n",
       "      <td>hartford</td>\n",
       "      <td>united states</td>\n",
       "      <td>807853791</td>\n",
       "      <td>connecticut state dept of public health</td>\n",
       "      <td>ct</td>\n",
       "      <td>61061367</td>\n",
       "      <td>14753985</td>\n",
       "      <td>gonsalves, lou</td>\n",
       "    </tr>\n",
       "  </tbody>\n",
       "</table>\n",
       "</div>"
      ],
      "text/plain": [
       "           fy   org_city    org_country   org_duns  \\\n",
       "2223248  2016  champaign  united states   41544081   \n",
       "2223251  2016      davis  united states   47120084   \n",
       "2223255  2016    seattle  united states  605799469   \n",
       "2223258  2016      omaha  united states  168559177   \n",
       "2223273  2016   hartford  united states  807853791   \n",
       "\n",
       "                                           org_name org_state org_zipcode  \\\n",
       "2223248  university of illinois at urbana-champaign        il   618207473   \n",
       "2223251           university of california at davis        ca   956186153   \n",
       "2223255                    university of washington        wa   981959472   \n",
       "2223258       university of nebraska medical center        ne   681987835   \n",
       "2223273     connecticut state dept of public health        ct    61061367   \n",
       "\n",
       "           pi_ids          pi_names  \n",
       "2223248   2084901    bolton, eric c  \n",
       "2223251   9856365   juliano, celina  \n",
       "2223255  11678618   gerner, michael  \n",
       "2223258   1873357  sanderson, sam d  \n",
       "2223273  14753985    gonsalves, lou  "
      ]
     },
     "execution_count": 8,
     "metadata": {},
     "output_type": "execute_result"
    }
   ],
   "source": [
    "pi_unique = pi_info.drop_duplicates(['pi_ids', 'org_duns'])\n",
    "pi_unique.shape\n",
    "pi_unique.tail()"
   ]
  },
  {
   "cell_type": "markdown",
   "metadata": {},
   "source": [
    "Split multiple PIs on PI ID."
   ]
  },
  {
   "cell_type": "code",
   "execution_count": 9,
   "metadata": {},
   "outputs": [
    {
     "data": {
      "text/plain": [
       "(47568, 9)"
      ]
     },
     "execution_count": 9,
     "metadata": {},
     "output_type": "execute_result"
    },
    {
     "data": {
      "text/html": [
       "<div>\n",
       "<table border=\"1\" class=\"dataframe\">\n",
       "  <thead>\n",
       "    <tr style=\"text-align: right;\">\n",
       "      <th></th>\n",
       "      <th>fy</th>\n",
       "      <th>org_city</th>\n",
       "      <th>org_country</th>\n",
       "      <th>org_duns</th>\n",
       "      <th>org_name</th>\n",
       "      <th>org_state</th>\n",
       "      <th>org_zipcode</th>\n",
       "      <th>pi_ids</th>\n",
       "      <th>pi_names</th>\n",
       "    </tr>\n",
       "  </thead>\n",
       "  <tbody>\n",
       "    <tr>\n",
       "      <th>2222959</th>\n",
       "      <td>2016</td>\n",
       "      <td>baltimore</td>\n",
       "      <td>united states</td>\n",
       "      <td>1910777</td>\n",
       "      <td>johns hopkins university</td>\n",
       "      <td>md</td>\n",
       "      <td>212051832</td>\n",
       "      <td>1891094; 12301129 (contact)</td>\n",
       "      <td>lehmann, harold p.; seymour, anne  (contact)</td>\n",
       "    </tr>\n",
       "    <tr>\n",
       "      <th>2222999</th>\n",
       "      <td>2016</td>\n",
       "      <td>richmond</td>\n",
       "      <td>united states</td>\n",
       "      <td>105300446</td>\n",
       "      <td>virginia commonwealth university</td>\n",
       "      <td>va</td>\n",
       "      <td>232980568</td>\n",
       "      <td>7356500 (contact); 2447996</td>\n",
       "      <td>corey, seth joel (contact); kimmel, marek</td>\n",
       "    </tr>\n",
       "    <tr>\n",
       "      <th>2223041</th>\n",
       "      <td>2016</td>\n",
       "      <td>atlanta</td>\n",
       "      <td>united states</td>\n",
       "      <td>66469933</td>\n",
       "      <td>emory university</td>\n",
       "      <td>ga</td>\n",
       "      <td>303224250</td>\n",
       "      <td>9140766; 8800131 (contact)</td>\n",
       "      <td>jovanovic, tanja ; smith, alicia k. (contact)</td>\n",
       "    </tr>\n",
       "    <tr>\n",
       "      <th>2223047</th>\n",
       "      <td>2016</td>\n",
       "      <td>new york</td>\n",
       "      <td>united states</td>\n",
       "      <td>41968306</td>\n",
       "      <td>new york university</td>\n",
       "      <td>ny</td>\n",
       "      <td>100122300</td>\n",
       "      <td>1885894; 2414701 (contact)</td>\n",
       "      <td>pyle, anna marie; schlick, tamar  (contact)</td>\n",
       "    </tr>\n",
       "    <tr>\n",
       "      <th>2223241</th>\n",
       "      <td>2016</td>\n",
       "      <td>baltimore</td>\n",
       "      <td>united states</td>\n",
       "      <td>188435911</td>\n",
       "      <td>university of maryland baltimore</td>\n",
       "      <td>md</td>\n",
       "      <td>212011508</td>\n",
       "      <td>8080184; 9340781 (contact)</td>\n",
       "      <td>kao, joseph pao yung; mayer, dirk  (contact)</td>\n",
       "    </tr>\n",
       "  </tbody>\n",
       "</table>\n",
       "</div>"
      ],
      "text/plain": [
       "           fy   org_city    org_country   org_duns  \\\n",
       "2222959  2016  baltimore  united states    1910777   \n",
       "2222999  2016   richmond  united states  105300446   \n",
       "2223041  2016    atlanta  united states   66469933   \n",
       "2223047  2016   new york  united states   41968306   \n",
       "2223241  2016  baltimore  united states  188435911   \n",
       "\n",
       "                                 org_name org_state org_zipcode  \\\n",
       "2222959          johns hopkins university        md   212051832   \n",
       "2222999  virginia commonwealth university        va   232980568   \n",
       "2223041                  emory university        ga   303224250   \n",
       "2223047               new york university        ny   100122300   \n",
       "2223241  university of maryland baltimore        md   212011508   \n",
       "\n",
       "                              pi_ids  \\\n",
       "2222959  1891094; 12301129 (contact)   \n",
       "2222999   7356500 (contact); 2447996   \n",
       "2223041   9140766; 8800131 (contact)   \n",
       "2223047   1885894; 2414701 (contact)   \n",
       "2223241   8080184; 9340781 (contact)   \n",
       "\n",
       "                                              pi_names  \n",
       "2222959   lehmann, harold p.; seymour, anne  (contact)  \n",
       "2222999      corey, seth joel (contact); kimmel, marek  \n",
       "2223041  jovanovic, tanja ; smith, alicia k. (contact)  \n",
       "2223047    pyle, anna marie; schlick, tamar  (contact)  \n",
       "2223241   kao, joseph pao yung; mayer, dirk  (contact)  "
      ]
     },
     "execution_count": 9,
     "metadata": {},
     "output_type": "execute_result"
    }
   ],
   "source": [
    "multi_pi_unsplit.shape\n",
    "multi_pi_unsplit.tail()"
   ]
  },
  {
   "cell_type": "code",
   "execution_count": 10,
   "metadata": {
    "scrolled": true
   },
   "outputs": [
    {
     "data": {
      "text/plain": [
       "(109893, 9)"
      ]
     },
     "execution_count": 10,
     "metadata": {},
     "output_type": "execute_result"
    },
    {
     "data": {
      "text/html": [
       "<div>\n",
       "<table border=\"1\" class=\"dataframe\">\n",
       "  <thead>\n",
       "    <tr style=\"text-align: right;\">\n",
       "      <th></th>\n",
       "      <th>fy</th>\n",
       "      <th>org_city</th>\n",
       "      <th>org_country</th>\n",
       "      <th>org_duns</th>\n",
       "      <th>org_name</th>\n",
       "      <th>org_state</th>\n",
       "      <th>org_zipcode</th>\n",
       "      <th>pi_names</th>\n",
       "      <th>pi_ids</th>\n",
       "    </tr>\n",
       "  </thead>\n",
       "  <tbody>\n",
       "    <tr>\n",
       "      <th>2223041</th>\n",
       "      <td>2016</td>\n",
       "      <td>atlanta</td>\n",
       "      <td>united states</td>\n",
       "      <td>66469933</td>\n",
       "      <td>emory university</td>\n",
       "      <td>ga</td>\n",
       "      <td>303224250</td>\n",
       "      <td>jovanovic, tanja ; smith, alicia k. (contact)</td>\n",
       "      <td>8800131 (contact)</td>\n",
       "    </tr>\n",
       "    <tr>\n",
       "      <th>2223047</th>\n",
       "      <td>2016</td>\n",
       "      <td>new york</td>\n",
       "      <td>united states</td>\n",
       "      <td>41968306</td>\n",
       "      <td>new york university</td>\n",
       "      <td>ny</td>\n",
       "      <td>100122300</td>\n",
       "      <td>pyle, anna marie; schlick, tamar  (contact)</td>\n",
       "      <td>1885894</td>\n",
       "    </tr>\n",
       "    <tr>\n",
       "      <th>2223047</th>\n",
       "      <td>2016</td>\n",
       "      <td>new york</td>\n",
       "      <td>united states</td>\n",
       "      <td>41968306</td>\n",
       "      <td>new york university</td>\n",
       "      <td>ny</td>\n",
       "      <td>100122300</td>\n",
       "      <td>pyle, anna marie; schlick, tamar  (contact)</td>\n",
       "      <td>2414701 (contact)</td>\n",
       "    </tr>\n",
       "    <tr>\n",
       "      <th>2223241</th>\n",
       "      <td>2016</td>\n",
       "      <td>baltimore</td>\n",
       "      <td>united states</td>\n",
       "      <td>188435911</td>\n",
       "      <td>university of maryland baltimore</td>\n",
       "      <td>md</td>\n",
       "      <td>212011508</td>\n",
       "      <td>kao, joseph pao yung; mayer, dirk  (contact)</td>\n",
       "      <td>8080184</td>\n",
       "    </tr>\n",
       "    <tr>\n",
       "      <th>2223241</th>\n",
       "      <td>2016</td>\n",
       "      <td>baltimore</td>\n",
       "      <td>united states</td>\n",
       "      <td>188435911</td>\n",
       "      <td>university of maryland baltimore</td>\n",
       "      <td>md</td>\n",
       "      <td>212011508</td>\n",
       "      <td>kao, joseph pao yung; mayer, dirk  (contact)</td>\n",
       "      <td>9340781 (contact)</td>\n",
       "    </tr>\n",
       "  </tbody>\n",
       "</table>\n",
       "</div>"
      ],
      "text/plain": [
       "           fy   org_city    org_country   org_duns  \\\n",
       "2223041  2016    atlanta  united states   66469933   \n",
       "2223047  2016   new york  united states   41968306   \n",
       "2223047  2016   new york  united states   41968306   \n",
       "2223241  2016  baltimore  united states  188435911   \n",
       "2223241  2016  baltimore  united states  188435911   \n",
       "\n",
       "                                 org_name org_state org_zipcode  \\\n",
       "2223041                  emory university        ga   303224250   \n",
       "2223047               new york university        ny   100122300   \n",
       "2223047               new york university        ny   100122300   \n",
       "2223241  university of maryland baltimore        md   212011508   \n",
       "2223241  university of maryland baltimore        md   212011508   \n",
       "\n",
       "                                              pi_names              pi_ids  \n",
       "2223041  jovanovic, tanja ; smith, alicia k. (contact)   8800131 (contact)  \n",
       "2223047    pyle, anna marie; schlick, tamar  (contact)             1885894  \n",
       "2223047    pyle, anna marie; schlick, tamar  (contact)   2414701 (contact)  \n",
       "2223241   kao, joseph pao yung; mayer, dirk  (contact)             8080184  \n",
       "2223241   kao, joseph pao yung; mayer, dirk  (contact)   9340781 (contact)  "
      ]
     },
     "execution_count": 10,
     "metadata": {},
     "output_type": "execute_result"
    }
   ],
   "source": [
    "multi_pi = cln.split_rows(multi_pi_unsplit, 'pi_ids', by = ';')\n",
    "multi_pi.shape\n",
    "multi_pi.tail()"
   ]
  },
  {
   "cell_type": "markdown",
   "metadata": {},
   "source": [
    "Create a df where the '(contact)' string has been stripped from pi_ids; this will allow identification of unique PI IDs (otherwise an ID with '(contact)' appended at the end is viewed as a unique string)."
   ]
  },
  {
   "cell_type": "code",
   "execution_count": 11,
   "metadata": {
    "scrolled": true
   },
   "outputs": [
    {
     "data": {
      "text/html": [
       "<div>\n",
       "<table border=\"1\" class=\"dataframe\">\n",
       "  <thead>\n",
       "    <tr style=\"text-align: right;\">\n",
       "      <th></th>\n",
       "      <th>fy</th>\n",
       "      <th>org_city</th>\n",
       "      <th>org_country</th>\n",
       "      <th>org_duns</th>\n",
       "      <th>org_name</th>\n",
       "      <th>org_state</th>\n",
       "      <th>org_zipcode</th>\n",
       "      <th>pi_names</th>\n",
       "      <th>pi_ids</th>\n",
       "    </tr>\n",
       "  </thead>\n",
       "  <tbody>\n",
       "    <tr>\n",
       "      <th>2223041</th>\n",
       "      <td>2016</td>\n",
       "      <td>atlanta</td>\n",
       "      <td>united states</td>\n",
       "      <td>66469933</td>\n",
       "      <td>emory university</td>\n",
       "      <td>ga</td>\n",
       "      <td>303224250</td>\n",
       "      <td>jovanovic, tanja ; smith, alicia k. (contact)</td>\n",
       "      <td>8800131</td>\n",
       "    </tr>\n",
       "    <tr>\n",
       "      <th>2223047</th>\n",
       "      <td>2016</td>\n",
       "      <td>new york</td>\n",
       "      <td>united states</td>\n",
       "      <td>41968306</td>\n",
       "      <td>new york university</td>\n",
       "      <td>ny</td>\n",
       "      <td>100122300</td>\n",
       "      <td>pyle, anna marie; schlick, tamar  (contact)</td>\n",
       "      <td>1885894</td>\n",
       "    </tr>\n",
       "    <tr>\n",
       "      <th>2223047</th>\n",
       "      <td>2016</td>\n",
       "      <td>new york</td>\n",
       "      <td>united states</td>\n",
       "      <td>41968306</td>\n",
       "      <td>new york university</td>\n",
       "      <td>ny</td>\n",
       "      <td>100122300</td>\n",
       "      <td>pyle, anna marie; schlick, tamar  (contact)</td>\n",
       "      <td>2414701</td>\n",
       "    </tr>\n",
       "    <tr>\n",
       "      <th>2223241</th>\n",
       "      <td>2016</td>\n",
       "      <td>baltimore</td>\n",
       "      <td>united states</td>\n",
       "      <td>188435911</td>\n",
       "      <td>university of maryland baltimore</td>\n",
       "      <td>md</td>\n",
       "      <td>212011508</td>\n",
       "      <td>kao, joseph pao yung; mayer, dirk  (contact)</td>\n",
       "      <td>8080184</td>\n",
       "    </tr>\n",
       "    <tr>\n",
       "      <th>2223241</th>\n",
       "      <td>2016</td>\n",
       "      <td>baltimore</td>\n",
       "      <td>united states</td>\n",
       "      <td>188435911</td>\n",
       "      <td>university of maryland baltimore</td>\n",
       "      <td>md</td>\n",
       "      <td>212011508</td>\n",
       "      <td>kao, joseph pao yung; mayer, dirk  (contact)</td>\n",
       "      <td>9340781</td>\n",
       "    </tr>\n",
       "  </tbody>\n",
       "</table>\n",
       "</div>"
      ],
      "text/plain": [
       "           fy   org_city    org_country   org_duns  \\\n",
       "2223041  2016    atlanta  united states   66469933   \n",
       "2223047  2016   new york  united states   41968306   \n",
       "2223047  2016   new york  united states   41968306   \n",
       "2223241  2016  baltimore  united states  188435911   \n",
       "2223241  2016  baltimore  united states  188435911   \n",
       "\n",
       "                                 org_name org_state org_zipcode  \\\n",
       "2223041                  emory university        ga   303224250   \n",
       "2223047               new york university        ny   100122300   \n",
       "2223047               new york university        ny   100122300   \n",
       "2223241  university of maryland baltimore        md   212011508   \n",
       "2223241  university of maryland baltimore        md   212011508   \n",
       "\n",
       "                                              pi_names   pi_ids  \n",
       "2223041  jovanovic, tanja ; smith, alicia k. (contact)  8800131  \n",
       "2223047    pyle, anna marie; schlick, tamar  (contact)  1885894  \n",
       "2223047    pyle, anna marie; schlick, tamar  (contact)  2414701  \n",
       "2223241   kao, joseph pao yung; mayer, dirk  (contact)  8080184  \n",
       "2223241   kao, joseph pao yung; mayer, dirk  (contact)  9340781  "
      ]
     },
     "execution_count": 11,
     "metadata": {},
     "output_type": "execute_result"
    }
   ],
   "source": [
    "multi_stripped = multi_pi.copy()\n",
    "multi_stripped['pi_ids'] = multi_stripped['pi_ids'].str.strip(' (contact)')\n",
    "multi_stripped.tail()"
   ]
  },
  {
   "cell_type": "markdown",
   "metadata": {},
   "source": [
    "Create columns in split multi_pi df denoting whether the PI is the contact and whether the PI ID is already present in the df pi_unique (which contains all PIs that are solo authors of a grant). If the PI is already in pi_unique, we do not need to separate their information again."
   ]
  },
  {
   "cell_type": "code",
   "execution_count": 12,
   "metadata": {
    "scrolled": false
   },
   "outputs": [
    {
     "data": {
      "text/html": [
       "<div>\n",
       "<table border=\"1\" class=\"dataframe\">\n",
       "  <thead>\n",
       "    <tr style=\"text-align: right;\">\n",
       "      <th></th>\n",
       "      <th>fy</th>\n",
       "      <th>org_city</th>\n",
       "      <th>org_country</th>\n",
       "      <th>org_duns</th>\n",
       "      <th>org_name</th>\n",
       "      <th>org_state</th>\n",
       "      <th>org_zipcode</th>\n",
       "      <th>pi_names</th>\n",
       "      <th>pi_ids</th>\n",
       "      <th>contact</th>\n",
       "      <th>unique_pi</th>\n",
       "    </tr>\n",
       "  </thead>\n",
       "  <tbody>\n",
       "    <tr>\n",
       "      <th>2223041</th>\n",
       "      <td>2016</td>\n",
       "      <td>atlanta</td>\n",
       "      <td>united states</td>\n",
       "      <td>66469933</td>\n",
       "      <td>emory university</td>\n",
       "      <td>ga</td>\n",
       "      <td>303224250</td>\n",
       "      <td>jovanovic, tanja ; smith, alicia k. (contact)</td>\n",
       "      <td>8800131 (contact)</td>\n",
       "      <td>True</td>\n",
       "      <td>True</td>\n",
       "    </tr>\n",
       "    <tr>\n",
       "      <th>2223047</th>\n",
       "      <td>2016</td>\n",
       "      <td>new york</td>\n",
       "      <td>united states</td>\n",
       "      <td>41968306</td>\n",
       "      <td>new york university</td>\n",
       "      <td>ny</td>\n",
       "      <td>100122300</td>\n",
       "      <td>pyle, anna marie; schlick, tamar  (contact)</td>\n",
       "      <td>1885894</td>\n",
       "      <td>False</td>\n",
       "      <td>True</td>\n",
       "    </tr>\n",
       "    <tr>\n",
       "      <th>2223047</th>\n",
       "      <td>2016</td>\n",
       "      <td>new york</td>\n",
       "      <td>united states</td>\n",
       "      <td>41968306</td>\n",
       "      <td>new york university</td>\n",
       "      <td>ny</td>\n",
       "      <td>100122300</td>\n",
       "      <td>pyle, anna marie; schlick, tamar  (contact)</td>\n",
       "      <td>2414701 (contact)</td>\n",
       "      <td>True</td>\n",
       "      <td>True</td>\n",
       "    </tr>\n",
       "    <tr>\n",
       "      <th>2223241</th>\n",
       "      <td>2016</td>\n",
       "      <td>baltimore</td>\n",
       "      <td>united states</td>\n",
       "      <td>188435911</td>\n",
       "      <td>university of maryland baltimore</td>\n",
       "      <td>md</td>\n",
       "      <td>212011508</td>\n",
       "      <td>kao, joseph pao yung; mayer, dirk  (contact)</td>\n",
       "      <td>8080184</td>\n",
       "      <td>False</td>\n",
       "      <td>True</td>\n",
       "    </tr>\n",
       "    <tr>\n",
       "      <th>2223241</th>\n",
       "      <td>2016</td>\n",
       "      <td>baltimore</td>\n",
       "      <td>united states</td>\n",
       "      <td>188435911</td>\n",
       "      <td>university of maryland baltimore</td>\n",
       "      <td>md</td>\n",
       "      <td>212011508</td>\n",
       "      <td>kao, joseph pao yung; mayer, dirk  (contact)</td>\n",
       "      <td>9340781 (contact)</td>\n",
       "      <td>True</td>\n",
       "      <td>True</td>\n",
       "    </tr>\n",
       "  </tbody>\n",
       "</table>\n",
       "</div>"
      ],
      "text/plain": [
       "           fy   org_city    org_country   org_duns  \\\n",
       "2223041  2016    atlanta  united states   66469933   \n",
       "2223047  2016   new york  united states   41968306   \n",
       "2223047  2016   new york  united states   41968306   \n",
       "2223241  2016  baltimore  united states  188435911   \n",
       "2223241  2016  baltimore  united states  188435911   \n",
       "\n",
       "                                 org_name org_state org_zipcode  \\\n",
       "2223041                  emory university        ga   303224250   \n",
       "2223047               new york university        ny   100122300   \n",
       "2223047               new york university        ny   100122300   \n",
       "2223241  university of maryland baltimore        md   212011508   \n",
       "2223241  university of maryland baltimore        md   212011508   \n",
       "\n",
       "                                              pi_names              pi_ids  \\\n",
       "2223041  jovanovic, tanja ; smith, alicia k. (contact)   8800131 (contact)   \n",
       "2223047    pyle, anna marie; schlick, tamar  (contact)             1885894   \n",
       "2223047    pyle, anna marie; schlick, tamar  (contact)   2414701 (contact)   \n",
       "2223241   kao, joseph pao yung; mayer, dirk  (contact)             8080184   \n",
       "2223241   kao, joseph pao yung; mayer, dirk  (contact)   9340781 (contact)   \n",
       "\n",
       "        contact unique_pi  \n",
       "2223041    True      True  \n",
       "2223047   False      True  \n",
       "2223047    True      True  \n",
       "2223241   False      True  \n",
       "2223241    True      True  "
      ]
     },
     "execution_count": 12,
     "metadata": {},
     "output_type": "execute_result"
    }
   ],
   "source": [
    "multi_pi['contact'] = multi_pi['pi_ids'].str.contains('contact', na = False)\n",
    "in_pi_unique = multi_stripped['pi_ids'].isin(pi_unique['pi_ids'])\n",
    "multi_pi['unique_pi'] = in_pi_unique\n",
    "multi_pi.tail()"
   ]
  },
  {
   "cell_type": "markdown",
   "metadata": {},
   "source": [
    "One PI is always designated as a contact if there are multiple PIs listed on a grant. If the PI's ID was not in the df pi_unique, but is listed as a contact (that is, unique_pi == False but contact == True), then we can isolate their information and add this information to pi_unique."
   ]
  },
  {
   "cell_type": "code",
   "execution_count": 13,
   "metadata": {},
   "outputs": [
    {
     "data": {
      "text/plain": [
       "(9225, 11)"
      ]
     },
     "execution_count": 13,
     "metadata": {},
     "output_type": "execute_result"
    },
    {
     "data": {
      "text/plain": [
       "(4245, 11)"
      ]
     },
     "execution_count": 13,
     "metadata": {},
     "output_type": "execute_result"
    },
    {
     "data": {
      "text/html": [
       "<div>\n",
       "<table border=\"1\" class=\"dataframe\">\n",
       "  <thead>\n",
       "    <tr style=\"text-align: right;\">\n",
       "      <th></th>\n",
       "      <th>fy</th>\n",
       "      <th>org_city</th>\n",
       "      <th>org_country</th>\n",
       "      <th>org_duns</th>\n",
       "      <th>org_name</th>\n",
       "      <th>org_state</th>\n",
       "      <th>org_zipcode</th>\n",
       "      <th>pi_ids</th>\n",
       "      <th>contact</th>\n",
       "      <th>unique_pi</th>\n",
       "      <th>pi_names</th>\n",
       "    </tr>\n",
       "  </thead>\n",
       "  <tbody>\n",
       "    <tr>\n",
       "      <th>2221202</th>\n",
       "      <td>2016</td>\n",
       "      <td>tucson</td>\n",
       "      <td>united states</td>\n",
       "      <td>79416826</td>\n",
       "      <td>synactix pharmaceuticals, inc</td>\n",
       "      <td>az</td>\n",
       "      <td>857182014</td>\n",
       "      <td>10738456</td>\n",
       "      <td>True</td>\n",
       "      <td>False</td>\n",
       "      <td>li, hong-yu</td>\n",
       "    </tr>\n",
       "    <tr>\n",
       "      <th>2221550</th>\n",
       "      <td>2016</td>\n",
       "      <td>minneapolis</td>\n",
       "      <td>united states</td>\n",
       "      <td>555917996</td>\n",
       "      <td>university of minnesota</td>\n",
       "      <td>mn</td>\n",
       "      <td>554552070</td>\n",
       "      <td>6169950</td>\n",
       "      <td>True</td>\n",
       "      <td>False</td>\n",
       "      <td>peterson, kevin arthur</td>\n",
       "    </tr>\n",
       "    <tr>\n",
       "      <th>2221747</th>\n",
       "      <td>2016</td>\n",
       "      <td>rochester</td>\n",
       "      <td>united states</td>\n",
       "      <td>6471700</td>\n",
       "      <td>mayo clinic rochester</td>\n",
       "      <td>mn</td>\n",
       "      <td>559050001</td>\n",
       "      <td>9965561</td>\n",
       "      <td>True</td>\n",
       "      <td>False</td>\n",
       "      <td>pereira, naveen luke</td>\n",
       "    </tr>\n",
       "    <tr>\n",
       "      <th>2221778</th>\n",
       "      <td>2016</td>\n",
       "      <td>baltimore</td>\n",
       "      <td>united states</td>\n",
       "      <td>78748558</td>\n",
       "      <td>elixirgen, llc</td>\n",
       "      <td>md</td>\n",
       "      <td>212051511</td>\n",
       "      <td>11903165</td>\n",
       "      <td>True</td>\n",
       "      <td>False</td>\n",
       "      <td>mano, tomokazu</td>\n",
       "    </tr>\n",
       "    <tr>\n",
       "      <th>2222666</th>\n",
       "      <td>2016</td>\n",
       "      <td>boston</td>\n",
       "      <td>united states</td>\n",
       "      <td>73130411</td>\n",
       "      <td>massachusetts general hospital</td>\n",
       "      <td>ma</td>\n",
       "      <td>21142696</td>\n",
       "      <td>1902302</td>\n",
       "      <td>True</td>\n",
       "      <td>False</td>\n",
       "      <td>cahill, daniel p</td>\n",
       "    </tr>\n",
       "  </tbody>\n",
       "</table>\n",
       "</div>"
      ],
      "text/plain": [
       "           fy     org_city    org_country   org_duns  \\\n",
       "2221202  2016       tucson  united states   79416826   \n",
       "2221550  2016  minneapolis  united states  555917996   \n",
       "2221747  2016    rochester  united states    6471700   \n",
       "2221778  2016    baltimore  united states   78748558   \n",
       "2222666  2016       boston  united states   73130411   \n",
       "\n",
       "                               org_name org_state org_zipcode      pi_ids  \\\n",
       "2221202   synactix pharmaceuticals, inc        az   857182014   10738456    \n",
       "2221550         university of minnesota        mn   554552070    6169950    \n",
       "2221747           mayo clinic rochester        mn   559050001    9965561    \n",
       "2221778                  elixirgen, llc        md   212051511   11903165    \n",
       "2222666  massachusetts general hospital        ma    21142696    1902302    \n",
       "\n",
       "        contact unique_pi                  pi_names  \n",
       "2221202    True     False             li, hong-yu    \n",
       "2221550    True     False   peterson, kevin arthur   \n",
       "2221747    True     False     pereira, naveen luke   \n",
       "2221778    True     False          mano, tomokazu    \n",
       "2222666    True     False         cahill, daniel p   "
      ]
     },
     "execution_count": 13,
     "metadata": {},
     "output_type": "execute_result"
    }
   ],
   "source": [
    "unique_contact = multi_pi[(multi_pi['unique_pi'] == False) & (multi_pi['contact'] == True)]\n",
    "unique_contact = cln.split_rows(unique_contact, 'pi_names', ';')\n",
    "unique_contact = unique_contact[unique_contact['pi_names'].str.contains('contact')]\n",
    "unique_contact = cln.strip_series(unique_contact, ['pi_ids', 'pi_names'])\n",
    "\n",
    "#shape before dropping duplicates\n",
    "unique_contact.shape\n",
    "unique_contact = unique_contact.drop_duplicates('pi_ids org_duns'.split())\n",
    "\n",
    "#shape after dropping duplicates\n",
    "unique_contact.shape\n",
    "unique_contact.tail()"
   ]
  },
  {
   "cell_type": "markdown",
   "metadata": {},
   "source": [
    "If the PI ID is neither listed in unique_pi nor are they ever listed as a contact, then we cannot identify whether their organization information is actually different from the contact PI's information. These names will therefore not be split (the IDs are already split).\n",
    "\n",
    "**Note:** When doing analysis from multiple years, PI IDs should be cross-referenced across years in case a PI did have a solo grant in one year but not in others."
   ]
  },
  {
   "cell_type": "code",
   "execution_count": 14,
   "metadata": {},
   "outputs": [
    {
     "data": {
      "text/plain": [
       "(7937, 11)"
      ]
     },
     "execution_count": 14,
     "metadata": {},
     "output_type": "execute_result"
    },
    {
     "data": {
      "text/html": [
       "<div>\n",
       "<table border=\"1\" class=\"dataframe\">\n",
       "  <thead>\n",
       "    <tr style=\"text-align: right;\">\n",
       "      <th></th>\n",
       "      <th>fy</th>\n",
       "      <th>org_city</th>\n",
       "      <th>org_country</th>\n",
       "      <th>org_duns</th>\n",
       "      <th>org_name</th>\n",
       "      <th>org_state</th>\n",
       "      <th>org_zipcode</th>\n",
       "      <th>pi_names</th>\n",
       "      <th>pi_ids</th>\n",
       "      <th>contact</th>\n",
       "      <th>unique_pi</th>\n",
       "    </tr>\n",
       "  </thead>\n",
       "  <tbody>\n",
       "    <tr>\n",
       "      <th>2222255</th>\n",
       "      <td>2016</td>\n",
       "      <td>aurora</td>\n",
       "      <td>united states</td>\n",
       "      <td>41096314</td>\n",
       "      <td>university of colorado denver</td>\n",
       "      <td>co</td>\n",
       "      <td>800452571</td>\n",
       "      <td>d'sa, viren ; deoni, sean cl (contact); hobbin...</td>\n",
       "      <td>12291424</td>\n",
       "      <td>False</td>\n",
       "      <td>False</td>\n",
       "    </tr>\n",
       "    <tr>\n",
       "      <th>2222255</th>\n",
       "      <td>2016</td>\n",
       "      <td>aurora</td>\n",
       "      <td>united states</td>\n",
       "      <td>41096314</td>\n",
       "      <td>university of colorado denver</td>\n",
       "      <td>co</td>\n",
       "      <td>800452571</td>\n",
       "      <td>d'sa, viren ; deoni, sean cl (contact); hobbin...</td>\n",
       "      <td>6667032</td>\n",
       "      <td>False</td>\n",
       "      <td>False</td>\n",
       "    </tr>\n",
       "    <tr>\n",
       "      <th>2222255</th>\n",
       "      <td>2016</td>\n",
       "      <td>aurora</td>\n",
       "      <td>united states</td>\n",
       "      <td>41096314</td>\n",
       "      <td>university of colorado denver</td>\n",
       "      <td>co</td>\n",
       "      <td>800452571</td>\n",
       "      <td>d'sa, viren ; deoni, sean cl (contact); hobbin...</td>\n",
       "      <td>6870571</td>\n",
       "      <td>False</td>\n",
       "      <td>False</td>\n",
       "    </tr>\n",
       "    <tr>\n",
       "      <th>2222458</th>\n",
       "      <td>2016</td>\n",
       "      <td>providence</td>\n",
       "      <td>united states</td>\n",
       "      <td>1785542</td>\n",
       "      <td>brown university</td>\n",
       "      <td>ri</td>\n",
       "      <td>29129002</td>\n",
       "      <td>chan, philip andrew; mena, leandro antonio; nu...</td>\n",
       "      <td>8556604</td>\n",
       "      <td>False</td>\n",
       "      <td>False</td>\n",
       "    </tr>\n",
       "    <tr>\n",
       "      <th>2222666</th>\n",
       "      <td>2016</td>\n",
       "      <td>boston</td>\n",
       "      <td>united states</td>\n",
       "      <td>73130411</td>\n",
       "      <td>massachusetts general hospital</td>\n",
       "      <td>ma</td>\n",
       "      <td>21142696</td>\n",
       "      <td>brastianos, priscilla kaliopi; cahill, daniel ...</td>\n",
       "      <td>11213017</td>\n",
       "      <td>False</td>\n",
       "      <td>False</td>\n",
       "    </tr>\n",
       "  </tbody>\n",
       "</table>\n",
       "</div>"
      ],
      "text/plain": [
       "           fy    org_city    org_country  org_duns  \\\n",
       "2222255  2016      aurora  united states  41096314   \n",
       "2222255  2016      aurora  united states  41096314   \n",
       "2222255  2016      aurora  united states  41096314   \n",
       "2222458  2016  providence  united states   1785542   \n",
       "2222666  2016      boston  united states  73130411   \n",
       "\n",
       "                               org_name org_state org_zipcode  \\\n",
       "2222255   university of colorado denver        co   800452571   \n",
       "2222255   university of colorado denver        co   800452571   \n",
       "2222255   university of colorado denver        co   800452571   \n",
       "2222458                brown university        ri    29129002   \n",
       "2222666  massachusetts general hospital        ma    21142696   \n",
       "\n",
       "                                                  pi_names    pi_ids contact  \\\n",
       "2222255  d'sa, viren ; deoni, sean cl (contact); hobbin...  12291424   False   \n",
       "2222255  d'sa, viren ; deoni, sean cl (contact); hobbin...   6667032   False   \n",
       "2222255  d'sa, viren ; deoni, sean cl (contact); hobbin...   6870571   False   \n",
       "2222458  chan, philip andrew; mena, leandro antonio; nu...   8556604   False   \n",
       "2222666  brastianos, priscilla kaliopi; cahill, daniel ...  11213017   False   \n",
       "\n",
       "        unique_pi  \n",
       "2222255     False  \n",
       "2222255     False  \n",
       "2222255     False  \n",
       "2222458     False  \n",
       "2222666     False  "
      ]
     },
     "execution_count": 14,
     "metadata": {},
     "output_type": "execute_result"
    }
   ],
   "source": [
    "not_contact = multi_pi[(multi_pi['unique_pi'] == False) & (multi_pi['contact'] == False)]\n",
    "not_contact = not_contact.drop_duplicates('pi_ids org_duns'.split())\n",
    "not_contact.shape\n",
    "not_contact.tail()"
   ]
  },
  {
   "cell_type": "markdown",
   "metadata": {},
   "source": [
    "Join all dfs containing unique PI ids."
   ]
  },
  {
   "cell_type": "code",
   "execution_count": 15,
   "metadata": {},
   "outputs": [
    {
     "data": {
      "text/plain": [
       "(10882, 8)"
      ]
     },
     "execution_count": 15,
     "metadata": {},
     "output_type": "execute_result"
    },
    {
     "data": {
      "text/plain": [
       "(161323, 9)"
      ]
     },
     "execution_count": 15,
     "metadata": {},
     "output_type": "execute_result"
    },
    {
     "data": {
      "text/plain": [
       "(136072, 9)"
      ]
     },
     "execution_count": 15,
     "metadata": {},
     "output_type": "execute_result"
    }
   ],
   "source": [
    "#Reorder columns so joins can be performed correctly\n",
    "\n",
    "#unique PIs with a solo grant\n",
    "cols1 = unique_contact.columns.tolist()\n",
    "cols1 = cols1[-4:-3] + cols1[-1:] + cols1[0:5]\n",
    "unique_1 = unique_contact[cols1]\n",
    "\n",
    "#unique PIs that neither have a solor grant nor are listed as a contact\n",
    "cols2 = not_contact.columns.tolist()\n",
    "cols2 = cols2[-3:-2] + cols2[0:6]\n",
    "unique_2 = not_contact[cols2]\n",
    "\n",
    "#unique PIs that do not have solo grants but are listed as a contact\n",
    "unique_multi = unique_1.append(unique_2)\n",
    "unique_multi = unique_multi.drop_duplicates('pi_ids org_name'.split())\n",
    "unique_multi.shape\n",
    "\n",
    "pi_unique.shape\n",
    "pi_unique = pi_unique.append(unique_multi)\n",
    "\n",
    "pi_unique = cln.strip_series(pi_unique, ['pi_ids'], strip = ' ')\n",
    "pi_unique = pi_unique.drop_duplicates('pi_ids org_name'.split())\n",
    "pi_unique.shape"
   ]
  },
  {
   "cell_type": "markdown",
   "metadata": {},
   "source": [
    "## Fixing zipcodes\n",
    "The leading zero of New England zipcodes was dropped in the raw data. Add leading zero to zipcodes from the US that are length 8 or 4."
   ]
  },
  {
   "cell_type": "code",
   "execution_count": 16,
   "metadata": {},
   "outputs": [
    {
     "data": {
      "text/plain": [
       "9.0     85205\n",
       "5.0     27313\n",
       "8.0      7706\n",
       "7.0       671\n",
       "4.0       533\n",
       "6.0       185\n",
       "3.0       108\n",
       "1.0        53\n",
       "10.0       28\n",
       "2.0        10\n",
       "Name: org_zipcode, dtype: int64"
      ]
     },
     "execution_count": 16,
     "metadata": {},
     "output_type": "execute_result"
    }
   ],
   "source": [
    "pi_unique['org_zipcode'].str.len().value_counts()"
   ]
  },
  {
   "cell_type": "code",
   "execution_count": 17,
   "metadata": {
    "collapsed": true
   },
   "outputs": [],
   "source": [
    "zip_8, zip_9 = add_zero_zip(pi_unique, 8.0)\n",
    "zip_4, zip_5 = add_zero_zip(pi_unique, 4.0)"
   ]
  },
  {
   "cell_type": "code",
   "execution_count": 18,
   "metadata": {
    "collapsed": true
   },
   "outputs": [],
   "source": [
    "pi_unique['org_zipcode'] = pi_unique['org_zipcode'].replace(zip_8, zip_9)\n",
    "pi_unique['org_zipcode'] = pi_unique['org_zipcode'].replace(zip_4, zip_5)"
   ]
  },
  {
   "cell_type": "code",
   "execution_count": 19,
   "metadata": {
    "scrolled": true
   },
   "outputs": [
    {
     "data": {
      "text/plain": [
       "9.0     92839\n",
       "5.0     27445\n",
       "7.0       671\n",
       "4.0       401\n",
       "6.0       185\n",
       "3.0       108\n",
       "8.0        72\n",
       "1.0        53\n",
       "10.0       28\n",
       "2.0        10\n",
       "Name: org_zipcode, dtype: int64"
      ]
     },
     "execution_count": 19,
     "metadata": {},
     "output_type": "execute_result"
    }
   ],
   "source": [
    "pi_unique['org_zipcode'].str.len().value_counts()"
   ]
  },
  {
   "cell_type": "markdown",
   "metadata": {},
   "source": [
    "## Fixing DUNS numbers\n",
    "The DUNS number should be a 9-digit number that uniquely identifies an organization; however organization names and DUNS numbers listed in NIH's data changed between 2008 and 2009. Furthermore, DUNS numbers are not unique between the two epochs. It will be difficult to cross reference each institution across years. Therefore we will only analyze grants from 2009 and later.\n",
    "\n",
    "**Update:** As of 2017/06, it looks like the NIH may have corrected the incorrectly listed DUNS numbers."
   ]
  },
  {
   "cell_type": "code",
   "execution_count": 22,
   "metadata": {
    "collapsed": true
   },
   "outputs": [],
   "source": [
    "pi_unique = pi_unique.ix[pi_unique['fy'] > '2008']"
   ]
  },
  {
   "cell_type": "markdown",
   "metadata": {},
   "source": [
    "### DUNS numbers of different lengths\n",
    "DUNS numbers should be 9 digits."
   ]
  },
  {
   "cell_type": "code",
   "execution_count": 23,
   "metadata": {
    "scrolled": true
   },
   "outputs": [
    {
     "data": {
      "text/plain": [
       "9.0     89811\n",
       "8.0     28098\n",
       "7.0      7650\n",
       "20.0      384\n",
       "19.0       64\n",
       "Name: org_duns, dtype: int64"
      ]
     },
     "execution_count": 23,
     "metadata": {},
     "output_type": "execute_result"
    }
   ],
   "source": [
    "pi_unique['org_duns'].str.len().value_counts()"
   ]
  },
  {
   "cell_type": "code",
   "execution_count": 24,
   "metadata": {},
   "outputs": [
    {
     "data": {
      "text/html": [
       "<div>\n",
       "<table border=\"1\" class=\"dataframe\">\n",
       "  <thead>\n",
       "    <tr style=\"text-align: right;\">\n",
       "      <th></th>\n",
       "      <th>fy</th>\n",
       "      <th>org_city</th>\n",
       "      <th>org_country</th>\n",
       "      <th>org_duns</th>\n",
       "      <th>org_name</th>\n",
       "      <th>org_state</th>\n",
       "      <th>org_zipcode</th>\n",
       "      <th>pi_ids</th>\n",
       "      <th>pi_names</th>\n",
       "    </tr>\n",
       "  </thead>\n",
       "  <tbody>\n",
       "    <tr>\n",
       "      <th>1571089</th>\n",
       "      <td>2009</td>\n",
       "      <td>atlanta</td>\n",
       "      <td>united states</td>\n",
       "      <td>13597081</td>\n",
       "      <td>georgia state dept of human resources</td>\n",
       "      <td>ga</td>\n",
       "      <td>303033181</td>\n",
       "      <td>9593571</td>\n",
       "      <td>gibson, jevon</td>\n",
       "    </tr>\n",
       "    <tr>\n",
       "      <th>1571494</th>\n",
       "      <td>2009</td>\n",
       "      <td>warwick</td>\n",
       "      <td>united states</td>\n",
       "      <td>79037218</td>\n",
       "      <td>chariho tri-town task force</td>\n",
       "      <td>ri</td>\n",
       "      <td>02889</td>\n",
       "      <td>11519539</td>\n",
       "      <td>augustinho, paula</td>\n",
       "    </tr>\n",
       "    <tr>\n",
       "      <th>1571511</th>\n",
       "      <td>2009</td>\n",
       "      <td>wenatchee</td>\n",
       "      <td>united states</td>\n",
       "      <td>03480039</td>\n",
       "      <td>chelan-douglas counties together for dfy</td>\n",
       "      <td>wa</td>\n",
       "      <td>98801</td>\n",
       "      <td>10159604</td>\n",
       "      <td>hunter, renee</td>\n",
       "    </tr>\n",
       "    <tr>\n",
       "      <th>1590698</th>\n",
       "      <td>2009</td>\n",
       "      <td>mountain view</td>\n",
       "      <td>united states</td>\n",
       "      <td>60274473</td>\n",
       "      <td>ccs associates, inc</td>\n",
       "      <td>ca</td>\n",
       "      <td>940430816</td>\n",
       "      <td>10200029</td>\n",
       "      <td>sigman, caroline</td>\n",
       "    </tr>\n",
       "    <tr>\n",
       "      <th>1591160</th>\n",
       "      <td>2009</td>\n",
       "      <td>atlanta</td>\n",
       "      <td>united states</td>\n",
       "      <td>13597081</td>\n",
       "      <td>georgia state dept of human resources</td>\n",
       "      <td>ga</td>\n",
       "      <td>303033181</td>\n",
       "      <td>10374552</td>\n",
       "      <td>brown, stewart</td>\n",
       "    </tr>\n",
       "  </tbody>\n",
       "</table>\n",
       "</div>"
      ],
      "text/plain": [
       "           fy       org_city    org_country  org_duns  \\\n",
       "1571089  2009        atlanta  united states  13597081   \n",
       "1571494  2009        warwick  united states  79037218   \n",
       "1571511  2009      wenatchee  united states  03480039   \n",
       "1590698  2009  mountain view  united states  60274473   \n",
       "1591160  2009        atlanta  united states  13597081   \n",
       "\n",
       "                                         org_name org_state org_zipcode  \\\n",
       "1571089     georgia state dept of human resources        ga   303033181   \n",
       "1571494               chariho tri-town task force        ri       02889   \n",
       "1571511  chelan-douglas counties together for dfy        wa       98801   \n",
       "1590698                       ccs associates, inc        ca   940430816   \n",
       "1591160     georgia state dept of human resources        ga   303033181   \n",
       "\n",
       "           pi_ids           pi_names  \n",
       "1571089   9593571      gibson, jevon  \n",
       "1571494  11519539  augustinho, paula  \n",
       "1571511  10159604      hunter, renee  \n",
       "1590698  10200029   sigman, caroline  \n",
       "1591160  10374552     brown, stewart  "
      ]
     },
     "execution_count": 24,
     "metadata": {},
     "output_type": "execute_result"
    }
   ],
   "source": [
    "pi_unique.ix[pi_unique['org_duns'].str.len() == 8.0].head()"
   ]
  },
  {
   "cell_type": "code",
   "execution_count": 25,
   "metadata": {},
   "outputs": [
    {
     "data": {
      "text/html": [
       "<div>\n",
       "<table border=\"1\" class=\"dataframe\">\n",
       "  <thead>\n",
       "    <tr style=\"text-align: right;\">\n",
       "      <th></th>\n",
       "      <th>fy</th>\n",
       "      <th>org_city</th>\n",
       "      <th>org_country</th>\n",
       "      <th>org_duns</th>\n",
       "      <th>org_name</th>\n",
       "      <th>org_state</th>\n",
       "      <th>org_zipcode</th>\n",
       "      <th>pi_ids</th>\n",
       "      <th>pi_names</th>\n",
       "    </tr>\n",
       "  </thead>\n",
       "  <tbody>\n",
       "    <tr>\n",
       "      <th>1668444</th>\n",
       "      <td>2010</td>\n",
       "      <td>salt lake city</td>\n",
       "      <td>united states</td>\n",
       "      <td>9095365</td>\n",
       "      <td>university of utah</td>\n",
       "      <td>ut</td>\n",
       "      <td>841128930</td>\n",
       "      <td>8601681</td>\n",
       "      <td>parks, thomas</td>\n",
       "    </tr>\n",
       "    <tr>\n",
       "      <th>1668446</th>\n",
       "      <td>2010</td>\n",
       "      <td>hampton</td>\n",
       "      <td>united states</td>\n",
       "      <td>3135068</td>\n",
       "      <td>hampton university</td>\n",
       "      <td>va</td>\n",
       "      <td>236680108</td>\n",
       "      <td>8206462</td>\n",
       "      <td>harvey, william r</td>\n",
       "    </tr>\n",
       "    <tr>\n",
       "      <th>1668452</th>\n",
       "      <td>2010</td>\n",
       "      <td>chicago</td>\n",
       "      <td>united states</td>\n",
       "      <td>5421136</td>\n",
       "      <td>university of chicago</td>\n",
       "      <td>il</td>\n",
       "      <td>606375418</td>\n",
       "      <td>8596104</td>\n",
       "      <td>hopkins, michael d</td>\n",
       "    </tr>\n",
       "    <tr>\n",
       "      <th>1668463</th>\n",
       "      <td>2010</td>\n",
       "      <td>pittsburgh</td>\n",
       "      <td>united states</td>\n",
       "      <td>4514360</td>\n",
       "      <td>university of pittsburgh at pittsburgh</td>\n",
       "      <td>pa</td>\n",
       "      <td>152132303</td>\n",
       "      <td>2434971</td>\n",
       "      <td>levine, arthur s</td>\n",
       "    </tr>\n",
       "    <tr>\n",
       "      <th>1668472</th>\n",
       "      <td>2010</td>\n",
       "      <td>university park</td>\n",
       "      <td>united states</td>\n",
       "      <td>3403953</td>\n",
       "      <td>pennsylvania state university-univ park</td>\n",
       "      <td>pa</td>\n",
       "      <td>168027000</td>\n",
       "      <td>10378392</td>\n",
       "      <td>foley, henry c</td>\n",
       "    </tr>\n",
       "  </tbody>\n",
       "</table>\n",
       "</div>"
      ],
      "text/plain": [
       "           fy         org_city    org_country org_duns  \\\n",
       "1668444  2010   salt lake city  united states  9095365   \n",
       "1668446  2010          hampton  united states  3135068   \n",
       "1668452  2010          chicago  united states  5421136   \n",
       "1668463  2010       pittsburgh  united states  4514360   \n",
       "1668472  2010  university park  united states  3403953   \n",
       "\n",
       "                                        org_name org_state org_zipcode  \\\n",
       "1668444                       university of utah        ut   841128930   \n",
       "1668446                       hampton university        va   236680108   \n",
       "1668452                    university of chicago        il   606375418   \n",
       "1668463   university of pittsburgh at pittsburgh        pa   152132303   \n",
       "1668472  pennsylvania state university-univ park        pa   168027000   \n",
       "\n",
       "           pi_ids            pi_names  \n",
       "1668444   8601681       parks, thomas  \n",
       "1668446   8206462   harvey, william r  \n",
       "1668452   8596104  hopkins, michael d  \n",
       "1668463   2434971    levine, arthur s  \n",
       "1668472  10378392      foley, henry c  "
      ]
     },
     "execution_count": 25,
     "metadata": {},
     "output_type": "execute_result"
    }
   ],
   "source": [
    "pi_unique.ix[pi_unique['org_duns'].str.len() == 7.0].head()"
   ]
  },
  {
   "cell_type": "markdown",
   "metadata": {},
   "source": [
    "It seems like most of the 8 and 7 digit DUNS numbers are missing leading zeros. Assume this is the case and add leading zeros to DUNS numbers."
   ]
  },
  {
   "cell_type": "code",
   "execution_count": 26,
   "metadata": {
    "collapsed": true
   },
   "outputs": [],
   "source": [
    "pi_unique = add_zero_duns(pi_unique)"
   ]
  },
  {
   "cell_type": "markdown",
   "metadata": {},
   "source": [
    "Re-organize columns."
   ]
  },
  {
   "cell_type": "code",
   "execution_count": 27,
   "metadata": {},
   "outputs": [
    {
     "data": {
      "text/html": [
       "<div>\n",
       "<table border=\"1\" class=\"dataframe\">\n",
       "  <thead>\n",
       "    <tr style=\"text-align: right;\">\n",
       "      <th></th>\n",
       "      <th>fy</th>\n",
       "      <th>pi_ids</th>\n",
       "      <th>pi_names</th>\n",
       "      <th>org_duns</th>\n",
       "      <th>org_name</th>\n",
       "      <th>org_city</th>\n",
       "      <th>org_state</th>\n",
       "      <th>org_zipcode</th>\n",
       "      <th>org_country</th>\n",
       "    </tr>\n",
       "  </thead>\n",
       "  <tbody>\n",
       "    <tr>\n",
       "      <th>1569491</th>\n",
       "      <td>2009</td>\n",
       "      <td>1569491</td>\n",
       "      <td>,</td>\n",
       "      <td>NaN</td>\n",
       "      <td>iq solutions, inc</td>\n",
       "      <td>rockville</td>\n",
       "      <td>md</td>\n",
       "      <td>208523003</td>\n",
       "      <td>united states</td>\n",
       "    </tr>\n",
       "    <tr>\n",
       "      <th>1569492</th>\n",
       "      <td>2009</td>\n",
       "      <td>1859426</td>\n",
       "      <td>park, no-hee</td>\n",
       "      <td>092530369</td>\n",
       "      <td>university of california los angeles</td>\n",
       "      <td>los angeles</td>\n",
       "      <td>ca</td>\n",
       "      <td>900952000</td>\n",
       "      <td>united states</td>\n",
       "    </tr>\n",
       "    <tr>\n",
       "      <th>1569493</th>\n",
       "      <td>2009</td>\n",
       "      <td>1864471</td>\n",
       "      <td>forrest, john n</td>\n",
       "      <td>077470003</td>\n",
       "      <td>mount desert island biological lab</td>\n",
       "      <td>salsbury cove</td>\n",
       "      <td>me</td>\n",
       "      <td>04672</td>\n",
       "      <td>united states</td>\n",
       "    </tr>\n",
       "    <tr>\n",
       "      <th>1569494</th>\n",
       "      <td>2009</td>\n",
       "      <td>1889505</td>\n",
       "      <td>macrina, francis l</td>\n",
       "      <td>105300446</td>\n",
       "      <td>virginia commonwealth university</td>\n",
       "      <td>richmond</td>\n",
       "      <td>va</td>\n",
       "      <td>232980568</td>\n",
       "      <td>united states</td>\n",
       "    </tr>\n",
       "    <tr>\n",
       "      <th>1569495</th>\n",
       "      <td>2009</td>\n",
       "      <td>1961084</td>\n",
       "      <td>moore, holly marie</td>\n",
       "      <td>167204994</td>\n",
       "      <td>new york state psychiatric institute</td>\n",
       "      <td>new york</td>\n",
       "      <td>ny</td>\n",
       "      <td>10032</td>\n",
       "      <td>united states</td>\n",
       "    </tr>\n",
       "  </tbody>\n",
       "</table>\n",
       "</div>"
      ],
      "text/plain": [
       "           fy   pi_ids            pi_names   org_duns  \\\n",
       "1569491  2009  1569491                   ,        NaN   \n",
       "1569492  2009  1859426        park, no-hee  092530369   \n",
       "1569493  2009  1864471     forrest, john n  077470003   \n",
       "1569494  2009  1889505  macrina, francis l  105300446   \n",
       "1569495  2009  1961084  moore, holly marie  167204994   \n",
       "\n",
       "                                     org_name       org_city org_state  \\\n",
       "1569491                     iq solutions, inc      rockville        md   \n",
       "1569492  university of california los angeles    los angeles        ca   \n",
       "1569493    mount desert island biological lab  salsbury cove        me   \n",
       "1569494      virginia commonwealth university       richmond        va   \n",
       "1569495  new york state psychiatric institute       new york        ny   \n",
       "\n",
       "        org_zipcode    org_country  \n",
       "1569491   208523003  united states  \n",
       "1569492   900952000  united states  \n",
       "1569493       04672  united states  \n",
       "1569494   232980568  united states  \n",
       "1569495       10032  united states  "
      ]
     },
     "execution_count": 27,
     "metadata": {},
     "output_type": "execute_result"
    }
   ],
   "source": [
    "old_cols = pi_unique.columns.tolist()\n",
    "new_cols = old_cols[0:1] + old_cols[-3:-1] + old_cols[-1:] + old_cols[3:4] + old_cols[1:2] + old_cols[4:5] + old_cols[5:6] + old_cols[2:3]\n",
    "pi_unique = pi_unique[new_cols]\n",
    "pi_unique.head()"
   ]
  },
  {
   "cell_type": "markdown",
   "metadata": {},
   "source": [
    "According to NIH's description, multiple DUNS are separated by a semi-colon. There are only two groups where multiple DUNS are listed, those with 19 characters and those with 20 characters."
   ]
  },
  {
   "cell_type": "code",
   "execution_count": 28,
   "metadata": {},
   "outputs": [
    {
     "data": {
      "text/html": [
       "<div>\n",
       "<table border=\"1\" class=\"dataframe\">\n",
       "  <thead>\n",
       "    <tr style=\"text-align: right;\">\n",
       "      <th></th>\n",
       "      <th>fy</th>\n",
       "      <th>pi_ids</th>\n",
       "      <th>pi_names</th>\n",
       "      <th>org_duns</th>\n",
       "      <th>org_name</th>\n",
       "      <th>org_city</th>\n",
       "      <th>org_state</th>\n",
       "      <th>org_zipcode</th>\n",
       "      <th>org_country</th>\n",
       "    </tr>\n",
       "  </thead>\n",
       "  <tbody>\n",
       "    <tr>\n",
       "      <th>1846017</th>\n",
       "      <td>2012</td>\n",
       "      <td>9470515</td>\n",
       "      <td>pacholczyk, rafal wojciech</td>\n",
       "      <td>809593387; 966668691</td>\n",
       "      <td>georgia regents university</td>\n",
       "      <td>augusta</td>\n",
       "      <td>ga</td>\n",
       "      <td>309120004</td>\n",
       "      <td>united states</td>\n",
       "    </tr>\n",
       "    <tr>\n",
       "      <th>1846028</th>\n",
       "      <td>2012</td>\n",
       "      <td>6491945</td>\n",
       "      <td>dong, zheng</td>\n",
       "      <td>809593387; 966668691</td>\n",
       "      <td>georgia regents university</td>\n",
       "      <td>augusta</td>\n",
       "      <td>ga</td>\n",
       "      <td>309120004</td>\n",
       "      <td>united states</td>\n",
       "    </tr>\n",
       "    <tr>\n",
       "      <th>1846522</th>\n",
       "      <td>2012</td>\n",
       "      <td>10353675</td>\n",
       "      <td>loria, analia</td>\n",
       "      <td>809593387; 966668691</td>\n",
       "      <td>georgia regents university</td>\n",
       "      <td>augusta</td>\n",
       "      <td>ga</td>\n",
       "      <td>309120004</td>\n",
       "      <td>united states</td>\n",
       "    </tr>\n",
       "    <tr>\n",
       "      <th>1846817</th>\n",
       "      <td>2012</td>\n",
       "      <td>2091767</td>\n",
       "      <td>mellor, andrew lee</td>\n",
       "      <td>809593387; 966668691</td>\n",
       "      <td>georgia regents university</td>\n",
       "      <td>augusta</td>\n",
       "      <td>ga</td>\n",
       "      <td>309120004</td>\n",
       "      <td>united states</td>\n",
       "    </tr>\n",
       "    <tr>\n",
       "      <th>1847006</th>\n",
       "      <td>2012</td>\n",
       "      <td>10645764</td>\n",
       "      <td>price, roderick</td>\n",
       "      <td>609980727; 962545658</td>\n",
       "      <td>texas tech university health scis center</td>\n",
       "      <td>lubbock</td>\n",
       "      <td>tx</td>\n",
       "      <td>794306271</td>\n",
       "      <td>united states</td>\n",
       "    </tr>\n",
       "  </tbody>\n",
       "</table>\n",
       "</div>"
      ],
      "text/plain": [
       "           fy    pi_ids                    pi_names              org_duns  \\\n",
       "1846017  2012   9470515  pacholczyk, rafal wojciech  809593387; 966668691   \n",
       "1846028  2012   6491945                 dong, zheng  809593387; 966668691   \n",
       "1846522  2012  10353675               loria, analia  809593387; 966668691   \n",
       "1846817  2012   2091767          mellor, andrew lee  809593387; 966668691   \n",
       "1847006  2012  10645764             price, roderick  609980727; 962545658   \n",
       "\n",
       "                                         org_name org_city org_state  \\\n",
       "1846017                georgia regents university  augusta        ga   \n",
       "1846028                georgia regents university  augusta        ga   \n",
       "1846522                georgia regents university  augusta        ga   \n",
       "1846817                georgia regents university  augusta        ga   \n",
       "1847006  texas tech university health scis center  lubbock        tx   \n",
       "\n",
       "        org_zipcode    org_country  \n",
       "1846017   309120004  united states  \n",
       "1846028   309120004  united states  \n",
       "1846522   309120004  united states  \n",
       "1846817   309120004  united states  \n",
       "1847006   794306271  united states  "
      ]
     },
     "execution_count": 28,
     "metadata": {},
     "output_type": "execute_result"
    }
   ],
   "source": [
    "pi_unique.ix[pi_unique['org_duns'].str.len() == 20.0].head()"
   ]
  },
  {
   "cell_type": "code",
   "execution_count": 29,
   "metadata": {},
   "outputs": [
    {
     "data": {
      "text/html": [
       "<div>\n",
       "<table border=\"1\" class=\"dataframe\">\n",
       "  <thead>\n",
       "    <tr style=\"text-align: right;\">\n",
       "      <th></th>\n",
       "      <th>fy</th>\n",
       "      <th>pi_ids</th>\n",
       "      <th>pi_names</th>\n",
       "      <th>org_duns</th>\n",
       "      <th>org_name</th>\n",
       "      <th>org_city</th>\n",
       "      <th>org_state</th>\n",
       "      <th>org_zipcode</th>\n",
       "      <th>org_country</th>\n",
       "    </tr>\n",
       "  </thead>\n",
       "  <tbody>\n",
       "    <tr>\n",
       "      <th>1669155</th>\n",
       "      <td>2010</td>\n",
       "      <td>9437629</td>\n",
       "      <td>risher, william christopher</td>\n",
       "      <td>809593387;966668691</td>\n",
       "      <td>georgia  regents university</td>\n",
       "      <td>augusta</td>\n",
       "      <td>ga</td>\n",
       "      <td>309124810</td>\n",
       "      <td>united states</td>\n",
       "    </tr>\n",
       "    <tr>\n",
       "      <th>1669167</th>\n",
       "      <td>2010</td>\n",
       "      <td>9699188</td>\n",
       "      <td>kelly-cobbs, aisha imani</td>\n",
       "      <td>809593387;966668691</td>\n",
       "      <td>georgia  regents university</td>\n",
       "      <td>augusta</td>\n",
       "      <td>ga</td>\n",
       "      <td>309124810</td>\n",
       "      <td>united states</td>\n",
       "    </tr>\n",
       "    <tr>\n",
       "      <th>1669753</th>\n",
       "      <td>2010</td>\n",
       "      <td>10123038</td>\n",
       "      <td>rafikova, olga</td>\n",
       "      <td>809593387;966668691</td>\n",
       "      <td>georgia  regents university</td>\n",
       "      <td>augusta</td>\n",
       "      <td>ga</td>\n",
       "      <td>309124810</td>\n",
       "      <td>united states</td>\n",
       "    </tr>\n",
       "    <tr>\n",
       "      <th>1671078</th>\n",
       "      <td>2010</td>\n",
       "      <td>8815155</td>\n",
       "      <td>wu, wei-hua e</td>\n",
       "      <td>809593387;966668691</td>\n",
       "      <td>georgia  regents university</td>\n",
       "      <td>augusta</td>\n",
       "      <td>ga</td>\n",
       "      <td>309124810</td>\n",
       "      <td>united states</td>\n",
       "    </tr>\n",
       "    <tr>\n",
       "      <th>1671793</th>\n",
       "      <td>2010</td>\n",
       "      <td>6225753</td>\n",
       "      <td>kohan, donald e</td>\n",
       "      <td>809593387;966668691</td>\n",
       "      <td>georgia  regents university</td>\n",
       "      <td>augusta</td>\n",
       "      <td>ga</td>\n",
       "      <td>309124810</td>\n",
       "      <td>united states</td>\n",
       "    </tr>\n",
       "  </tbody>\n",
       "</table>\n",
       "</div>"
      ],
      "text/plain": [
       "           fy    pi_ids                     pi_names             org_duns  \\\n",
       "1669155  2010   9437629  risher, william christopher  809593387;966668691   \n",
       "1669167  2010   9699188     kelly-cobbs, aisha imani  809593387;966668691   \n",
       "1669753  2010  10123038               rafikova, olga  809593387;966668691   \n",
       "1671078  2010   8815155                wu, wei-hua e  809593387;966668691   \n",
       "1671793  2010   6225753              kohan, donald e  809593387;966668691   \n",
       "\n",
       "                            org_name org_city org_state org_zipcode  \\\n",
       "1669155  georgia  regents university  augusta        ga   309124810   \n",
       "1669167  georgia  regents university  augusta        ga   309124810   \n",
       "1669753  georgia  regents university  augusta        ga   309124810   \n",
       "1671078  georgia  regents university  augusta        ga   309124810   \n",
       "1671793  georgia  regents university  augusta        ga   309124810   \n",
       "\n",
       "           org_country  \n",
       "1669155  united states  \n",
       "1669167  united states  \n",
       "1669753  united states  \n",
       "1671078  united states  \n",
       "1671793  united states  "
      ]
     },
     "execution_count": 29,
     "metadata": {},
     "output_type": "execute_result"
    }
   ],
   "source": [
    "pi_unique.ix[pi_unique['org_duns'].str.len() == 19.0].head()"
   ]
  },
  {
   "cell_type": "markdown",
   "metadata": {},
   "source": [
    "For organizations where two DUNS are listed, it seems that both DUNS are used to identify the organization. The only difference between a DUNS with 20 characters and 19 characters is a space after the ';'. Add a space to the 19-length DUNS and replace these values in the df."
   ]
  },
  {
   "cell_type": "code",
   "execution_count": 30,
   "metadata": {
    "collapsed": true
   },
   "outputs": [],
   "source": [
    "#Get the DUNS numbers from pi_unique where the length of the DUNS is 19\n",
    "len19 = pi_unique.ix[pi_unique['org_duns'].str.len() == 19.0]['org_duns'].values.tolist()\n",
    "\n",
    "#add a space after the semi-colon\n",
    "len19_new = []\n",
    "for i in range(len(len19)):\n",
    "    len19_new.append(len19[i][:10] + ' ' + len19[i][10:])\n",
    "\n",
    "#replace the original DUNS of 19 characters\n",
    "pi_unique['org_duns'] = pi_unique['org_duns'].replace(len19, len19_new)"
   ]
  },
  {
   "cell_type": "markdown",
   "metadata": {},
   "source": [
    "Remove duplicates by pi_id and org_duns, as a PI can move between institutions."
   ]
  },
  {
   "cell_type": "code",
   "execution_count": 31,
   "metadata": {},
   "outputs": [
    {
     "data": {
      "text/plain": [
       "(136072, 9)"
      ]
     },
     "execution_count": 31,
     "metadata": {},
     "output_type": "execute_result"
    },
    {
     "data": {
      "text/plain": [
       "(135727, 9)"
      ]
     },
     "execution_count": 31,
     "metadata": {},
     "output_type": "execute_result"
    }
   ],
   "source": [
    "pi_unique.shape\n",
    "pi_unique = pi_unique.drop_duplicates('pi_ids org_duns'.split())\n",
    "pi_unique.shape"
   ]
  },
  {
   "cell_type": "markdown",
   "metadata": {},
   "source": [
    "# Missing information\n",
    "First check the entries where no country is listed."
   ]
  },
  {
   "cell_type": "code",
   "execution_count": 32,
   "metadata": {},
   "outputs": [
    {
     "data": {
      "text/plain": [
       "basic sciences                                                                   454\n",
       "NaN                                                                              435\n",
       "national cancer institute                                                        333\n",
       "national institute of allergy and infectious diseases                            323\n",
       "niaid extramural activities                                                      213\n",
       "diabetes, digestive, kidney diseases                                             148\n",
       "child health and human development                                               141\n",
       "environmental health sciences                                                    128\n",
       "national institute of mental health                                              122\n",
       "national institute on drug abuse                                                 119\n",
       "heart, lung, and blood institute                                                 118\n",
       "national institute of environmental health sciences                              118\n",
       "national institute of diabetes and digestive and kidney diseases                  98\n",
       "aging                                                                             97\n",
       "national institute of general medical sciences                                    96\n",
       "national heart, lung, and blood institute                                         91\n",
       "neurological disorders and stroke                                                 78\n",
       "clinical center                                                                   77\n",
       "national eye institute                                                            69\n",
       "cancer epidemiology and genetics                                                  63\n",
       "human genome research                                                             61\n",
       "national institute of neurological disorders and stroke                           55\n",
       "national institute on aging                                                       52\n",
       "national institute on deafness and other communication disorders                  46\n",
       "dental &craniofacial  research                                                    44\n",
       "arthritis, musculoskeletal, skin dis                                              38\n",
       "alcohol abuse and alcoholism                                                      38\n",
       "eunice kennedy shriver national institute of child health & human development     36\n",
       "eunice kennedy shriver national institute of child health &human development      36\n",
       "national library of medicine                                                      35\n",
       "                                                                                ... \n",
       "clinical sciences                                                                 19\n",
       "national institute of nursing research                                            18\n",
       "national center for research resources                                            16\n",
       "computer research and technology                                                  15\n",
       "deafness & other communication disorders                                          15\n",
       "dental & craniofacial  research                                                   12\n",
       "national institute of dental &craniofacial research                               11\n",
       "fogarty international center                                                      11\n",
       "national institute of arthritis and musculoskeletal and skin diseases             11\n",
       "complementary & integrative health                                                 9\n",
       "national institute of dental & craniofacial research                               9\n",
       "general medical sciences                                                           8\n",
       "national institute of biomedical imaging and bioengineering                        7\n",
       "complementary &integrative health                                                  6\n",
       "natl inst on  min  hlth &  hlth  disp                                              5\n",
       "complementary &alternative medicine                                                5\n",
       "national center for complementary & alternative medicine                           4\n",
       "biomedical imaging & bioengineering                                                3\n",
       "omnitec solutions, inc                                                             3\n",
       "joseph associates, llc                                                             2\n",
       "national human genome research institute                                           2\n",
       "california univ san franc                                                          1\n",
       "booz allen &hamilton inc                                                           1\n",
       "loyola university of chicago                                                       1\n",
       "iit resch institute                                                                1\n",
       "danmarks tekniske univers                                                          1\n",
       "children s hospital medic                                                          1\n",
       "nci-national cancer insti                                                          1\n",
       "institute for defense ana                                                          1\n",
       "california univ los angel                                                          1\n",
       "Name: org_name, dtype: int64"
      ]
     },
     "execution_count": 32,
     "metadata": {},
     "output_type": "execute_result"
    }
   ],
   "source": [
    "pi_unique.ix[pi_unique['org_country'].isnull()]['org_name'].value_counts(dropna = False)"
   ]
  },
  {
   "cell_type": "markdown",
   "metadata": {},
   "source": [
    "* 'clinical sciences' and 'clinical center' likely refer to the same center, as clinical sciences is listed in years < 2012 and afterwards clinical center is listed.\n",
    "* Replace 'environmental health sciences' with 'national institute of environmental health sciences'\n",
    "* Correct single entries\n",
    "* Drop the 'children s hospital medic' entry."
   ]
  },
  {
   "cell_type": "code",
   "execution_count": 33,
   "metadata": {
    "collapsed": true
   },
   "outputs": [],
   "source": [
    "a = ['clinical sciences', 'environmental health sciences', 'iit resch institute',\n",
    "    'institute for defense ana', 'california univ los angel']\n",
    "b = ['clinical center', 'national institute of environmental health sciences', 'iit research institute',\n",
    "    'institute for defense analyses, inc', 'university of california los angeles']\n",
    "pi_unique.replace(a, b, inplace = True)"
   ]
  },
  {
   "cell_type": "code",
   "execution_count": 34,
   "metadata": {},
   "outputs": [
    {
     "name": "stderr",
     "output_type": "stream",
     "text": [
      "/usr/local/lib/python3.6/site-packages/pandas/core/generic.py:3295: SettingWithCopyWarning: \n",
      "A value is trying to be set on a copy of a slice from a DataFrame\n",
      "\n",
      "See the caveats in the documentation: http://pandas.pydata.org/pandas-docs/stable/indexing.html#indexing-view-versus-copy\n",
      "  self._update_inplace(new_data)\n"
     ]
    }
   ],
   "source": [
    "pi_unique.ix[pi_unique['org_name'].str.contains('danmarks tekniske univers', na = False)] = \\\n",
    "pi_unique.ix[pi_unique['org_name'].str.contains('danmarks tekniske univers', na = False)]\\\n",
    ".fillna({'org_city':'Kongens Lyngby', 'org_country':'Denmark'}, inplace = True)"
   ]
  },
  {
   "cell_type": "markdown",
   "metadata": {},
   "source": [
    "No information available for the entry 'children s hospital medic'"
   ]
  },
  {
   "cell_type": "code",
   "execution_count": 35,
   "metadata": {
    "collapsed": true
   },
   "outputs": [],
   "source": [
    "to_drop = pi_unique.ix[pi_unique['org_name'] == 'children s hospital medic'].index\n",
    "pi_unique.drop(to_drop, inplace = True)"
   ]
  },
  {
   "cell_type": "markdown",
   "metadata": {},
   "source": [
    "## Filling missing organization information\n",
    "Based on unique DUNS numbers, fill in:\n",
    "* Organization name\n",
    "* City, state, zipcode\n",
    "* Country"
   ]
  },
  {
   "cell_type": "markdown",
   "metadata": {},
   "source": [
    "To fill NaNs, we are filtering by DUNS numbers. Therefore first pull out organizations where the DUNS is not listed."
   ]
  },
  {
   "cell_type": "code",
   "execution_count": 36,
   "metadata": {
    "collapsed": true
   },
   "outputs": [],
   "source": [
    "null_duns = pi_unique.ix[pi_unique['org_duns'].isnull()]"
   ]
  },
  {
   "cell_type": "code",
   "execution_count": 37,
   "metadata": {},
   "outputs": [
    {
     "data": {
      "text/plain": [
       "fy                 0\n",
       "pi_ids             0\n",
       "pi_names        5808\n",
       "org_duns       10064\n",
       "org_name         624\n",
       "org_city        4148\n",
       "org_state       9738\n",
       "org_zipcode    14218\n",
       "org_country     4133\n",
       "dtype: int64"
      ]
     },
     "execution_count": 37,
     "metadata": {},
     "output_type": "execute_result"
    }
   ],
   "source": [
    "pi_unique.isnull().sum()"
   ]
  },
  {
   "cell_type": "code",
   "execution_count": 38,
   "metadata": {
    "collapsed": true
   },
   "outputs": [],
   "source": [
    "pi_unique = fill_missing(pi_unique)"
   ]
  },
  {
   "cell_type": "code",
   "execution_count": 39,
   "metadata": {},
   "outputs": [
    {
     "data": {
      "text/plain": [
       "fy                0\n",
       "pi_ids            0\n",
       "pi_names       5808\n",
       "org_duns          0\n",
       "org_name        255\n",
       "org_city         87\n",
       "org_state      2313\n",
       "org_zipcode    1317\n",
       "org_country      82\n",
       "dtype: int64"
      ]
     },
     "execution_count": 39,
     "metadata": {},
     "output_type": "execute_result"
    }
   ],
   "source": [
    "pi_unique.isnull().sum()"
   ]
  },
  {
   "cell_type": "markdown",
   "metadata": {},
   "source": [
    "## Replace information\n",
    "A lot of entries have incorrect information entered (wrong zip codes in particular). We assume that the mistakes are less common than the correct entry. Therefore find the most common entry and fill the other entries accordingly."
   ]
  },
  {
   "cell_type": "code",
   "execution_count": 40,
   "metadata": {
    "collapsed": true
   },
   "outputs": [],
   "source": [
    "#pi_unique.to_csv('intermediate.csv', index = False, compression = 'gzip')\n",
    "#pi_unique = pd.read_csv('intermediate.csv', compression = 'gzip')"
   ]
  },
  {
   "cell_type": "code",
   "execution_count": 41,
   "metadata": {},
   "outputs": [
    {
     "name": "stderr",
     "output_type": "stream",
     "text": [
      "/usr/local/lib/python3.6/site-packages/ipykernel/__main__.py:153: SettingWithCopyWarning: \n",
      "A value is trying to be set on a copy of a slice from a DataFrame.\n",
      "Try using .loc[row_indexer,col_indexer] = value instead\n",
      "\n",
      "See the caveats in the documentation: http://pandas.pydata.org/pandas-docs/stable/indexing.html#indexing-view-versus-copy\n"
     ]
    }
   ],
   "source": [
    "pi_unique = replace_info(pi_unique)"
   ]
  },
  {
   "cell_type": "markdown",
   "metadata": {},
   "source": [
    "### Adding dummy DUNS numbers based on organization name\n",
    "\n",
    "Some entries have have an organization name but no DUNS number listed, therefore we will add dummy DUNS numbers. This will ensure that each PI is associated with a unique DUNS, otherwise these PIs will be grouped together. First we will add back grants where the DUNS number was not listed."
   ]
  },
  {
   "cell_type": "code",
   "execution_count": 42,
   "metadata": {},
   "outputs": [
    {
     "data": {
      "text/plain": [
       "(125662, 9)"
      ]
     },
     "execution_count": 42,
     "metadata": {},
     "output_type": "execute_result"
    }
   ],
   "source": [
    "pi_unique.shape"
   ]
  },
  {
   "cell_type": "code",
   "execution_count": 43,
   "metadata": {},
   "outputs": [
    {
     "data": {
      "text/plain": [
       "(135726, 9)"
      ]
     },
     "execution_count": 43,
     "metadata": {},
     "output_type": "execute_result"
    }
   ],
   "source": [
    "pi_unique = pi_unique.append(null_duns)\n",
    "pi_unique.sort_index(inplace = True)\n",
    "pi_unique.shape"
   ]
  },
  {
   "cell_type": "code",
   "execution_count": 44,
   "metadata": {},
   "outputs": [
    {
     "data": {
      "text/plain": [
       "fy                 0\n",
       "pi_ids             0\n",
       "pi_names           0\n",
       "org_duns       10064\n",
       "org_name         369\n",
       "org_city        4056\n",
       "org_state       4362\n",
       "org_zipcode     4339\n",
       "org_country     4050\n",
       "dtype: int64"
      ]
     },
     "execution_count": 44,
     "metadata": {},
     "output_type": "execute_result"
    },
    {
     "data": {
      "text/plain": [
       "fy                 0\n",
       "pi_ids             0\n",
       "pi_names        5808\n",
       "org_duns       10064\n",
       "org_name         624\n",
       "org_city        4143\n",
       "org_state       6675\n",
       "org_zipcode     5656\n",
       "org_country     4132\n",
       "dtype: int64"
      ]
     },
     "execution_count": 44,
     "metadata": {},
     "output_type": "execute_result"
    }
   ],
   "source": [
    "null_duns.isnull().sum()\n",
    "pi_unique.isnull().sum()"
   ]
  },
  {
   "cell_type": "markdown",
   "metadata": {},
   "source": [
    "Clean organization names by adding a space after the '&' symbol."
   ]
  },
  {
   "cell_type": "code",
   "execution_count": 45,
   "metadata": {
    "collapsed": true
   },
   "outputs": [],
   "source": [
    "and_names = pd.DataFrame()\n",
    "and_names['original'] = pi_unique.loc[pi_unique['org_name'].str.contains(' &[^ ]', na = False)]['org_name']\n",
    "and_names['with_space'] = pi_unique.loc[pi_unique['org_name'].str.contains(' &[^ ]', na = False)]['org_name']\\\n",
    ".str.replace('&', '& ')\n",
    "\n",
    "and_names = and_names.drop_duplicates()\n",
    "\n",
    "no_space = and_names['original'].tolist()\n",
    "with_space = and_names['with_space'].tolist()\n",
    "pi_unique.replace(no_space, with_space, inplace = True)"
   ]
  },
  {
   "cell_type": "markdown",
   "metadata": {},
   "source": [
    "Fill in missing DUNS numbers for those entries where the DUNS number is listed in other rows."
   ]
  },
  {
   "cell_type": "code",
   "execution_count": 46,
   "metadata": {
    "collapsed": true
   },
   "outputs": [],
   "source": [
    "pi_unique = fill_missing(pi_unique, col_filter = 'org_name')"
   ]
  },
  {
   "cell_type": "code",
   "execution_count": 47,
   "metadata": {},
   "outputs": [
    {
     "data": {
      "text/plain": [
       "fy                0\n",
       "pi_ids            0\n",
       "pi_names       5808\n",
       "org_duns       9426\n",
       "org_name          0\n",
       "org_city       3697\n",
       "org_state      6217\n",
       "org_zipcode    5189\n",
       "org_country    3689\n",
       "dtype: int64"
      ]
     },
     "execution_count": 47,
     "metadata": {},
     "output_type": "execute_result"
    }
   ],
   "source": [
    "pi_unique.isnull().sum()"
   ]
  },
  {
   "cell_type": "markdown",
   "metadata": {},
   "source": [
    "Add dummy DUNS numbers to those organizations where the DUNS are not listed. **Caveat:** If the organization name is misspelled or incorrectly entered, then a unique DUNS will be generated for that entry even though the organization is already listed in the organization. Matching by string similarity will be difficult. Matching by zip codes are also unreliable because zip codes seem particularly prone to incorrect entry (see below)."
   ]
  },
  {
   "cell_type": "code",
   "execution_count": 48,
   "metadata": {
    "collapsed": true
   },
   "outputs": [],
   "source": [
    "pi_unique = add_dummy_duns(pi_unique)"
   ]
  },
  {
   "cell_type": "code",
   "execution_count": 49,
   "metadata": {},
   "outputs": [
    {
     "data": {
      "text/plain": [
       "fy                0\n",
       "pi_ids            0\n",
       "pi_names       5808\n",
       "org_duns          0\n",
       "org_name          0\n",
       "org_city       3697\n",
       "org_state      6217\n",
       "org_zipcode    5189\n",
       "org_country    3689\n",
       "dtype: int64"
      ]
     },
     "execution_count": 49,
     "metadata": {},
     "output_type": "execute_result"
    }
   ],
   "source": [
    "pi_unique.isnull().sum()"
   ]
  },
  {
   "cell_type": "markdown",
   "metadata": {},
   "source": [
    "## Missing NIH information\n",
    "\n",
    "Most grants without a listed country seem to be associated with different NIH centers. Most information of these organizations, that is, DUNS number, city, state and zipcode in addition to country, are missing. There are some NIH centers where all this information is available; however, the name of the center is listed differently."
   ]
  },
  {
   "cell_type": "code",
   "execution_count": 50,
   "metadata": {
    "scrolled": false
   },
   "outputs": [
    {
     "data": {
      "text/plain": [
       "basic sciences                                                                   454\n",
       "national cancer institute                                                        333\n",
       "national institute of allergy and infectious diseases                            323\n",
       "national institute of environmental health sciences                              246\n",
       "niaid extramural activities                                                      213\n",
       "diabetes, digestive, kidney diseases                                             148\n",
       "child health and human development                                               141\n",
       "national institute of mental health                                              122\n",
       "national institute on drug abuse                                                 119\n",
       "heart, lung, and blood institute                                                 118\n",
       "national institute of diabetes and digestive and kidney diseases                  98\n",
       "aging                                                                             97\n",
       "clinical center                                                                   96\n",
       "national institute of general medical sciences                                    96\n",
       "national heart, lung, and blood institute                                         91\n",
       "neurological disorders and stroke                                                 78\n",
       "eunice kennedy shriver national institute of child health & human development     72\n",
       "national eye institute                                                            69\n",
       "cancer epidemiology and genetics                                                  63\n",
       "human genome research                                                             61\n",
       "dental & craniofacial  research                                                   56\n",
       "national institute of neurological disorders and stroke                           55\n",
       "national institute on aging                                                       52\n",
       "national institute on deafness and other communication disorders                  46\n",
       "deafness & other communication disorders                                          39\n",
       "arthritis, musculoskeletal, skin dis                                              38\n",
       "alcohol abuse and alcoholism                                                      38\n",
       "national library of medicine                                                      35\n",
       "translational science                                                             29\n",
       "office of the director, national institutes of health                             28\n",
       "national center on minority health and health disparities                         26\n",
       "biomedical imaging & bioengineering                                               26\n",
       "national center for complementary & alternative medicine                          24\n",
       "national institute on alcohol abuse and alcoholism                                23\n",
       "national institute of dental & craniofacial research                              20\n",
       "national institute of nursing research                                            18\n",
       "national center for research resources                                            16\n",
       "complementary & integrative health                                                15\n",
       "computer research and technology                                                  15\n",
       "fogarty international center                                                      11\n",
       "national institute of arthritis and musculoskeletal and skin diseases             11\n",
       "general medical sciences                                                           8\n",
       "national institute of biomedical imaging and bioengineering                        7\n",
       "complementary & alternative medicine                                               5\n",
       "natl inst on  min  hlth &  hlth  disp                                              5\n",
       "joseph associates, llc                                                             2\n",
       "national human genome research institute                                           2\n",
       "nci-national cancer insti                                                          1\n",
       "Name: org_name, dtype: int64"
      ]
     },
     "execution_count": 50,
     "metadata": {},
     "output_type": "execute_result"
    }
   ],
   "source": [
    "pi_unique.ix[pi_unique['org_country'].isnull()]['org_name'].value_counts(dropna = False)"
   ]
  },
  {
   "cell_type": "code",
   "execution_count": 51,
   "metadata": {},
   "outputs": [
    {
     "data": {
      "text/plain": [
       "u.s. national inst allergy & infect dis     4\n",
       "u.s. national inst/child hlth/human dev     4\n",
       "u.s. national institute of mental health    3\n",
       "u.s. national inst diabetes/digst/kidney    3\n",
       "center for information technology           3\n",
       "u.s. national heart lung and blood inst     1\n",
       "u.s. national inst alcohol ab/alcoholism    1\n",
       "u.s. national inst/neuro/ds/stroke          1\n",
       "Name: org_name, dtype: int64"
      ]
     },
     "execution_count": 51,
     "metadata": {},
     "output_type": "execute_result"
    }
   ],
   "source": [
    "pi_unique.ix[pi_unique['org_zipcode'].str.contains('20892', na = False)]['org_name'].value_counts()"
   ]
  },
  {
   "cell_type": "markdown",
   "metadata": {},
   "source": [
    "Replace/fill the corresponding NIH centers in the pi_unique dataframe with the information above."
   ]
  },
  {
   "cell_type": "code",
   "execution_count": 52,
   "metadata": {
    "collapsed": true
   },
   "outputs": [],
   "source": [
    "dict_nih_names = {\n",
    "    'national institute of allergy and infectious diseases':'u.s. national inst allergy & infect dis',\n",
    "    'child health and human development':'u.s. national inst/child hlth/human dev',\n",
    "    'diabetes, digestive, kidney diseases':'u.s. national inst diabetes/digst/kidney',\n",
    "    'national institute of mental health':'u.s. national institute of mental health',\n",
    "    'neurological disorders and stroke':'u.s. national inst/neuro/ds/stroke',\n",
    "    'alcohol abuse and alcoholism':'u.s. national inst alcohol ab/alcoholism',\n",
    "    'heart, lung, and blood institute':'u.s. national heart lung and blood inst'\n",
    "}\n",
    "\n",
    "pi_unique = replace_nih_info(pi_unique, dict_nih_names)"
   ]
  },
  {
   "cell_type": "markdown",
   "metadata": {},
   "source": [
    "### Adding missing NIH information"
   ]
  },
  {
   "cell_type": "code",
   "execution_count": 53,
   "metadata": {},
   "outputs": [
    {
     "data": {
      "text/plain": [
       "basic sciences                                                                   454\n",
       "national cancer institute                                                        333\n",
       "national institute of environmental health sciences                              246\n",
       "niaid extramural activities                                                      213\n",
       "national institute on drug abuse                                                 119\n",
       "national institute of diabetes and digestive and kidney diseases                  98\n",
       "aging                                                                             97\n",
       "national institute of general medical sciences                                    96\n",
       "clinical center                                                                   96\n",
       "national heart, lung, and blood institute                                         91\n",
       "eunice kennedy shriver national institute of child health & human development     72\n",
       "national eye institute                                                            69\n",
       "cancer epidemiology and genetics                                                  63\n",
       "human genome research                                                             61\n",
       "dental & craniofacial  research                                                   56\n",
       "national institute of neurological disorders and stroke                           55\n",
       "national institute on aging                                                       52\n",
       "national institute on deafness and other communication disorders                  46\n",
       "deafness & other communication disorders                                          39\n",
       "arthritis, musculoskeletal, skin dis                                              38\n",
       "national library of medicine                                                      35\n",
       "translational science                                                             29\n",
       "office of the director, national institutes of health                             28\n",
       "national center on minority health and health disparities                         26\n",
       "biomedical imaging & bioengineering                                               26\n",
       "national center for complementary & alternative medicine                          24\n",
       "national institute on alcohol abuse and alcoholism                                23\n",
       "national institute of dental & craniofacial research                              20\n",
       "national institute of nursing research                                            18\n",
       "national center for research resources                                            16\n",
       "computer research and technology                                                  15\n",
       "complementary & integrative health                                                15\n",
       "national institute of arthritis and musculoskeletal and skin diseases             11\n",
       "fogarty international center                                                      11\n",
       "general medical sciences                                                           8\n",
       "national institute of biomedical imaging and bioengineering                        7\n",
       "complementary & alternative medicine                                               5\n",
       "natl inst on  min  hlth &  hlth  disp                                              5\n",
       "joseph associates, llc                                                             2\n",
       "national human genome research institute                                           2\n",
       "nci-national cancer insti                                                          1\n",
       "Name: org_name, dtype: int64"
      ]
     },
     "execution_count": 53,
     "metadata": {},
     "output_type": "execute_result"
    }
   ],
   "source": [
    "pi_unique.ix[pi_unique['org_country'].isnull()]['org_name'].value_counts(dropna = False)"
   ]
  },
  {
   "cell_type": "markdown",
   "metadata": {},
   "source": [
    "No information about NIH city, state, country and zipcode is listed for the remaining NIH centers. Add this information as bethesda, md, united states and 20892, respectively. **Note:** This address may not be exact, as some NIH institutes/centers may be located elsewhere, but this information will represent general NIH information."
   ]
  },
  {
   "cell_type": "code",
   "execution_count": 54,
   "metadata": {
    "collapsed": true
   },
   "outputs": [],
   "source": [
    "pi_unique = add_nih_info(pi_unique, col = 'org_city', replace_with = 'bethesda')\n",
    "pi_unique = add_nih_info(pi_unique, col = 'org_state', replace_with = 'md')\n",
    "pi_unique = add_nih_info(pi_unique, col = 'org_zipcode', replace_with = '20892')\n",
    "pi_unique = add_nih_info(pi_unique, col = 'org_country', replace_with = 'united states')"
   ]
  },
  {
   "cell_type": "code",
   "execution_count": 55,
   "metadata": {},
   "outputs": [
    {
     "data": {
      "text/plain": [
       "fy                0\n",
       "pi_ids            0\n",
       "pi_names       5808\n",
       "org_duns          0\n",
       "org_name          0\n",
       "org_city          8\n",
       "org_state      2528\n",
       "org_zipcode    1500\n",
       "org_country       0\n",
       "dtype: int64"
      ]
     },
     "execution_count": 55,
     "metadata": {},
     "output_type": "execute_result"
    }
   ],
   "source": [
    "pi_unique.isnull().sum()"
   ]
  },
  {
   "cell_type": "markdown",
   "metadata": {},
   "source": [
    "### Missing zip codes for USA entries"
   ]
  },
  {
   "cell_type": "code",
   "execution_count": 56,
   "metadata": {
    "collapsed": true
   },
   "outputs": [],
   "source": [
    "null_zip = pi_unique.ix[(pi_unique['org_country'] == 'united states') & pi_unique['org_zipcode'].isnull()]"
   ]
  },
  {
   "cell_type": "code",
   "execution_count": 57,
   "metadata": {},
   "outputs": [
    {
     "data": {
      "text/plain": [
       "fy             788\n",
       "pi_ids         788\n",
       "pi_names       449\n",
       "org_duns       788\n",
       "org_name       788\n",
       "org_city       788\n",
       "org_state      598\n",
       "org_zipcode      0\n",
       "org_country    788\n",
       "dtype: int64"
      ]
     },
     "execution_count": 57,
     "metadata": {},
     "output_type": "execute_result"
    }
   ],
   "source": [
    "null_zip.count()"
   ]
  },
  {
   "cell_type": "code",
   "execution_count": 58,
   "metadata": {},
   "outputs": [
    {
     "data": {
      "text/plain": [
       "433"
      ]
     },
     "execution_count": 58,
     "metadata": {},
     "output_type": "execute_result"
    }
   ],
   "source": [
    "null_zip['org_duns'].value_counts().count()"
   ]
  },
  {
   "cell_type": "markdown",
   "metadata": {},
   "source": [
    "It may be possible to fill the missing zip codes via an [automated Google search](http://stackoverflow.com/questions/37083058/programmatically-searching-google-in-python-using-custom-search). This will likely be unnecessary because only about 400 unique organizations are missing zip codes. When we analyze and/or plot geospatial data we can decide whether to fill in these values."
   ]
  },
  {
   "cell_type": "markdown",
   "metadata": {},
   "source": [
    "## Final information "
   ]
  },
  {
   "cell_type": "code",
   "execution_count": 60,
   "metadata": {
    "scrolled": true
   },
   "outputs": [
    {
     "data": {
      "text/html": [
       "<div>\n",
       "<table border=\"1\" class=\"dataframe\">\n",
       "  <thead>\n",
       "    <tr style=\"text-align: right;\">\n",
       "      <th></th>\n",
       "      <th>fy</th>\n",
       "      <th>pi_ids</th>\n",
       "      <th>pi_names</th>\n",
       "      <th>org_duns</th>\n",
       "      <th>org_name</th>\n",
       "      <th>org_city</th>\n",
       "      <th>org_state</th>\n",
       "      <th>org_zipcode</th>\n",
       "      <th>org_country</th>\n",
       "    </tr>\n",
       "  </thead>\n",
       "  <tbody>\n",
       "    <tr>\n",
       "      <th>1569491</th>\n",
       "      <td>2009</td>\n",
       "      <td>1569491</td>\n",
       "      <td>,</td>\n",
       "      <td>000066002</td>\n",
       "      <td>iq solutions, inc</td>\n",
       "      <td>rockville</td>\n",
       "      <td>md</td>\n",
       "      <td>208523003</td>\n",
       "      <td>united states</td>\n",
       "    </tr>\n",
       "    <tr>\n",
       "      <th>1569492</th>\n",
       "      <td>2009</td>\n",
       "      <td>1859426</td>\n",
       "      <td>park, no-hee</td>\n",
       "      <td>092530369</td>\n",
       "      <td>university of california los angeles</td>\n",
       "      <td>los angeles</td>\n",
       "      <td>ca</td>\n",
       "      <td>900952000</td>\n",
       "      <td>united states</td>\n",
       "    </tr>\n",
       "    <tr>\n",
       "      <th>1569493</th>\n",
       "      <td>2009</td>\n",
       "      <td>1864471</td>\n",
       "      <td>forrest, john n</td>\n",
       "      <td>077470003</td>\n",
       "      <td>mount desert island biological lab</td>\n",
       "      <td>salsbury cove</td>\n",
       "      <td>me</td>\n",
       "      <td>046720035</td>\n",
       "      <td>united states</td>\n",
       "    </tr>\n",
       "    <tr>\n",
       "      <th>1569494</th>\n",
       "      <td>2009</td>\n",
       "      <td>1889505</td>\n",
       "      <td>macrina, francis l</td>\n",
       "      <td>105300446</td>\n",
       "      <td>virginia commonwealth university</td>\n",
       "      <td>richmond</td>\n",
       "      <td>va</td>\n",
       "      <td>232980568</td>\n",
       "      <td>united states</td>\n",
       "    </tr>\n",
       "    <tr>\n",
       "      <th>1569495</th>\n",
       "      <td>2009</td>\n",
       "      <td>1961084</td>\n",
       "      <td>moore, holly marie</td>\n",
       "      <td>167204994</td>\n",
       "      <td>new york state psychiatric institute</td>\n",
       "      <td>new york</td>\n",
       "      <td>ny</td>\n",
       "      <td>100321007</td>\n",
       "      <td>united states</td>\n",
       "    </tr>\n",
       "    <tr>\n",
       "      <th>1569496</th>\n",
       "      <td>2009</td>\n",
       "      <td>9977355</td>\n",
       "      <td>kurose, james f</td>\n",
       "      <td>153926712</td>\n",
       "      <td>university of massachusetts amherst</td>\n",
       "      <td>amherst</td>\n",
       "      <td>ma</td>\n",
       "      <td>010039242</td>\n",
       "      <td>united states</td>\n",
       "    </tr>\n",
       "    <tr>\n",
       "      <th>1569497</th>\n",
       "      <td>2009</td>\n",
       "      <td>1928042</td>\n",
       "      <td>braun, robert e</td>\n",
       "      <td>042140483</td>\n",
       "      <td>jackson laboratory</td>\n",
       "      <td>bar harbor</td>\n",
       "      <td>me</td>\n",
       "      <td>046091500</td>\n",
       "      <td>united states</td>\n",
       "    </tr>\n",
       "    <tr>\n",
       "      <th>1569498</th>\n",
       "      <td>2009</td>\n",
       "      <td>1882056</td>\n",
       "      <td>chernoff, jonathan d</td>\n",
       "      <td>073724262</td>\n",
       "      <td>fox chase cancer center</td>\n",
       "      <td>philadelphia</td>\n",
       "      <td>pa</td>\n",
       "      <td>191112434</td>\n",
       "      <td>united states</td>\n",
       "    </tr>\n",
       "    <tr>\n",
       "      <th>1569499</th>\n",
       "      <td>2009</td>\n",
       "      <td>10070938</td>\n",
       "      <td>lange, peter</td>\n",
       "      <td>044387793</td>\n",
       "      <td>duke university</td>\n",
       "      <td>durham</td>\n",
       "      <td>nc</td>\n",
       "      <td>277054673</td>\n",
       "      <td>united states</td>\n",
       "    </tr>\n",
       "    <tr>\n",
       "      <th>1569500</th>\n",
       "      <td>2009</td>\n",
       "      <td>9626486</td>\n",
       "      <td>NaN</td>\n",
       "      <td>073133571</td>\n",
       "      <td>university of michigan</td>\n",
       "      <td>ann arbor</td>\n",
       "      <td>mi</td>\n",
       "      <td>481091274</td>\n",
       "      <td>united states</td>\n",
       "    </tr>\n",
       "  </tbody>\n",
       "</table>\n",
       "</div>"
      ],
      "text/plain": [
       "           fy    pi_ids              pi_names   org_duns  \\\n",
       "1569491  2009   1569491                     ,  000066002   \n",
       "1569492  2009   1859426          park, no-hee  092530369   \n",
       "1569493  2009   1864471       forrest, john n  077470003   \n",
       "1569494  2009   1889505    macrina, francis l  105300446   \n",
       "1569495  2009   1961084    moore, holly marie  167204994   \n",
       "1569496  2009   9977355       kurose, james f  153926712   \n",
       "1569497  2009   1928042       braun, robert e  042140483   \n",
       "1569498  2009   1882056  chernoff, jonathan d  073724262   \n",
       "1569499  2009  10070938          lange, peter  044387793   \n",
       "1569500  2009   9626486                   NaN  073133571   \n",
       "\n",
       "                                     org_name       org_city org_state  \\\n",
       "1569491                     iq solutions, inc      rockville        md   \n",
       "1569492  university of california los angeles    los angeles        ca   \n",
       "1569493    mount desert island biological lab  salsbury cove        me   \n",
       "1569494      virginia commonwealth university       richmond        va   \n",
       "1569495  new york state psychiatric institute       new york        ny   \n",
       "1569496   university of massachusetts amherst        amherst        ma   \n",
       "1569497                    jackson laboratory     bar harbor        me   \n",
       "1569498               fox chase cancer center   philadelphia        pa   \n",
       "1569499                       duke university         durham        nc   \n",
       "1569500                university of michigan      ann arbor        mi   \n",
       "\n",
       "        org_zipcode    org_country  \n",
       "1569491   208523003  united states  \n",
       "1569492   900952000  united states  \n",
       "1569493   046720035  united states  \n",
       "1569494   232980568  united states  \n",
       "1569495   100321007  united states  \n",
       "1569496   010039242  united states  \n",
       "1569497   046091500  united states  \n",
       "1569498   191112434  united states  \n",
       "1569499   277054673  united states  \n",
       "1569500   481091274  united states  "
      ]
     },
     "execution_count": 60,
     "metadata": {},
     "output_type": "execute_result"
    }
   ],
   "source": [
    "pi_unique.head(10)"
   ]
  },
  {
   "cell_type": "code",
   "execution_count": 61,
   "metadata": {
    "scrolled": true
   },
   "outputs": [
    {
     "data": {
      "text/html": [
       "<div>\n",
       "<table border=\"1\" class=\"dataframe\">\n",
       "  <thead>\n",
       "    <tr style=\"text-align: right;\">\n",
       "      <th></th>\n",
       "      <th>fy</th>\n",
       "      <th>pi_ids</th>\n",
       "      <th>pi_names</th>\n",
       "      <th>org_duns</th>\n",
       "      <th>org_name</th>\n",
       "      <th>org_city</th>\n",
       "      <th>org_state</th>\n",
       "      <th>org_zipcode</th>\n",
       "      <th>org_country</th>\n",
       "    </tr>\n",
       "  </thead>\n",
       "  <tbody>\n",
       "    <tr>\n",
       "      <th>2223248</th>\n",
       "      <td>2016</td>\n",
       "      <td>2084901</td>\n",
       "      <td>bolton, eric c</td>\n",
       "      <td>041544081</td>\n",
       "      <td>university of illinois urbana-champaign</td>\n",
       "      <td>champaign</td>\n",
       "      <td>il</td>\n",
       "      <td>618207406</td>\n",
       "      <td>united states</td>\n",
       "    </tr>\n",
       "    <tr>\n",
       "      <th>2223251</th>\n",
       "      <td>2016</td>\n",
       "      <td>9856365</td>\n",
       "      <td>juliano, celina</td>\n",
       "      <td>047120084</td>\n",
       "      <td>university of california at davis</td>\n",
       "      <td>davis</td>\n",
       "      <td>ca</td>\n",
       "      <td>95618</td>\n",
       "      <td>united states</td>\n",
       "    </tr>\n",
       "    <tr>\n",
       "      <th>2223255</th>\n",
       "      <td>2016</td>\n",
       "      <td>11678618</td>\n",
       "      <td>gerner, michael</td>\n",
       "      <td>605799469</td>\n",
       "      <td>university of washington</td>\n",
       "      <td>seattle</td>\n",
       "      <td>wa</td>\n",
       "      <td>981959472</td>\n",
       "      <td>united states</td>\n",
       "    </tr>\n",
       "    <tr>\n",
       "      <th>2223258</th>\n",
       "      <td>2016</td>\n",
       "      <td>1873357</td>\n",
       "      <td>sanderson, sam d</td>\n",
       "      <td>168559177</td>\n",
       "      <td>university of nebraska medical center</td>\n",
       "      <td>omaha</td>\n",
       "      <td>ne</td>\n",
       "      <td>681987835</td>\n",
       "      <td>united states</td>\n",
       "    </tr>\n",
       "    <tr>\n",
       "      <th>2223273</th>\n",
       "      <td>2016</td>\n",
       "      <td>14753985</td>\n",
       "      <td>gonsalves, lou</td>\n",
       "      <td>807853791</td>\n",
       "      <td>connecticut state dept of public health</td>\n",
       "      <td>hartford</td>\n",
       "      <td>ct</td>\n",
       "      <td>061061367</td>\n",
       "      <td>united states</td>\n",
       "    </tr>\n",
       "  </tbody>\n",
       "</table>\n",
       "</div>"
      ],
      "text/plain": [
       "           fy    pi_ids          pi_names   org_duns  \\\n",
       "2223248  2016   2084901    bolton, eric c  041544081   \n",
       "2223251  2016   9856365   juliano, celina  047120084   \n",
       "2223255  2016  11678618   gerner, michael  605799469   \n",
       "2223258  2016   1873357  sanderson, sam d  168559177   \n",
       "2223273  2016  14753985    gonsalves, lou  807853791   \n",
       "\n",
       "                                        org_name   org_city org_state  \\\n",
       "2223248  university of illinois urbana-champaign  champaign        il   \n",
       "2223251        university of california at davis      davis        ca   \n",
       "2223255                 university of washington    seattle        wa   \n",
       "2223258    university of nebraska medical center      omaha        ne   \n",
       "2223273  connecticut state dept of public health   hartford        ct   \n",
       "\n",
       "        org_zipcode    org_country  \n",
       "2223248   618207406  united states  \n",
       "2223251       95618  united states  \n",
       "2223255   981959472  united states  \n",
       "2223258   681987835  united states  \n",
       "2223273   061061367  united states  "
      ]
     },
     "execution_count": 61,
     "metadata": {},
     "output_type": "execute_result"
    }
   ],
   "source": [
    "pi_unique.tail()"
   ]
  },
  {
   "cell_type": "code",
   "execution_count": 62,
   "metadata": {
    "collapsed": true
   },
   "outputs": [],
   "source": [
    "#pi_unique.to_csv('data/pi_info.csv', index = False, compression = 'gzip')\n",
    "#pi_unique.to_sql('pi-ids.db', conn)"
   ]
  }
 ],
 "metadata": {
  "kernelspec": {
   "display_name": "Python 3",
   "language": "python",
   "name": "python3"
  },
  "language_info": {
   "codemirror_mode": {
    "name": "ipython",
    "version": 3
   },
   "file_extension": ".py",
   "mimetype": "text/x-python",
   "name": "python",
   "nbconvert_exporter": "python",
   "pygments_lexer": "ipython3",
   "version": "3.6.1"
  }
 },
 "nbformat": 4,
 "nbformat_minor": 2
}
