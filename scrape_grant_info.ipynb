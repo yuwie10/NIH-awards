{
 "cells": [
  {
   "cell_type": "markdown",
   "metadata": {},
   "source": [
    "# Scraping NIH grant information \n",
    "https://exporter.nih.gov/about.aspx"
   ]
  },
  {
   "cell_type": "code",
   "execution_count": 1,
   "metadata": {
    "collapsed": true
   },
   "outputs": [],
   "source": [
    "import requests, zipfile, io\n",
    "from bs4 import BeautifulSoup\n",
    "\n",
    "import pandas as pd\n",
    "import numpy as np\n",
    "\n",
    "from IPython.core.interactiveshell import InteractiveShell\n",
    "InteractiveShell.ast_node_interactivity = \"all\""
   ]
  },
  {
   "cell_type": "code",
   "execution_count": 2,
   "metadata": {
    "collapsed": true
   },
   "outputs": [],
   "source": [
    "url = 'https://exporter.nih.gov/about.aspx'\n",
    "r = requests.get(url)\n",
    "\n",
    "#checks that the request was successful\n",
    "try:\n",
    "    r.raise_for_status()\n",
    "except Exception as exc:\n",
    "    print('There was a problem {}'.format(exc))\n",
    "\n",
    "html_doc = r.text\n",
    "soup = BeautifulSoup(html_doc, 'html.parser')"
   ]
  },
  {
   "cell_type": "markdown",
   "metadata": {},
   "source": [
    "Create dataframe of column names and respective descriptions from < strong > tags. < strong > tags correspond to column names and the next_sibling to the associated description."
   ]
  },
  {
   "cell_type": "code",
   "execution_count": 3,
   "metadata": {
    "collapsed": false
   },
   "outputs": [
    {
     "data": {
      "text/html": [
       "<div>\n",
       "<table border=\"1\" class=\"dataframe\">\n",
       "  <thead>\n",
       "    <tr style=\"text-align: right;\">\n",
       "      <th></th>\n",
       "      <th>column_name</th>\n",
       "      <th>descriptions</th>\n",
       "    </tr>\n",
       "  </thead>\n",
       "  <tbody>\n",
       "    <tr>\n",
       "      <th>0</th>\n",
       "      <td>Application_ID:</td>\n",
       "      <td>A unique identifier of the project record in the  ExPORTER database.</td>\n",
       "    </tr>\n",
       "    <tr>\n",
       "      <th>1</th>\n",
       "      <td>Activity:</td>\n",
       "      <td>A 3-character code identifying the grant, contract, or  intramural activity through which a project is supported.  Within each</td>\n",
       "    </tr>\n",
       "    <tr>\n",
       "      <th>2</th>\n",
       "      <td>\\n\\r\\n                                  Administering_IC:</td>\n",
       "      <td>Administering Institute or Center - A two-character  code to designate the agency, NIH Institute, or Center administering the  grant.  See</td>\n",
       "    </tr>\n",
       "    <tr>\n",
       "      <th>3</th>\n",
       "      <td>Application_Type:</td>\n",
       "      <td>A one-digit code to identify the type of  application funded:</td>\n",
       "    </tr>\n",
       "    <tr>\n",
       "      <th>4</th>\n",
       "      <td>ARRA_Funded:</td>\n",
       "      <td>“Y”  indicates a project supported by funds appropriated through the American  Recovery and Reinvestment Act of 2009.</td>\n",
       "    </tr>\n",
       "  </tbody>\n",
       "</table>\n",
       "</div>"
      ],
      "text/plain": [
       "                                                   column_name  \\\n",
       "0                                              Application_ID:   \n",
       "1                                                    Activity:   \n",
       "2  \\n\\r\\n                                  Administering_IC:     \n",
       "3                                            Application_Type:   \n",
       "4                                                 ARRA_Funded:   \n",
       "\n",
       "                                                                                                                                  descriptions  \n",
       "0                                                                        A unique identifier of the project record in the  ExPORTER database.   \n",
       "1              A 3-character code identifying the grant, contract, or  intramural activity through which a project is supported.  Within each   \n",
       "2  Administering Institute or Center - A two-character  code to designate the agency, NIH Institute, or Center administering the  grant.  See   \n",
       "3                                                                               A one-digit code to identify the type of  application funded:   \n",
       "4                       “Y”  indicates a project supported by funds appropriated through the American  Recovery and Reinvestment Act of 2009.   "
      ]
     },
     "execution_count": 3,
     "metadata": {},
     "output_type": "execute_result"
    }
   ],
   "source": [
    "cols = []\n",
    "desc = []\n",
    "for strong_tag in soup.find_all('strong'):\n",
    "    cols.append(strong_tag.text)\n",
    "    desc.append(strong_tag.next_sibling)\n",
    "\n",
    "pd.set_option('display.max_rows', 100)\n",
    "pd.set_option('display.max_colwidth', 5000)\n",
    "\n",
    "col_info = pd.DataFrame()\n",
    "col_info['column_name'] = cols\n",
    "col_info['descriptions'] = desc\n",
    "\n",
    "col_info.head()"
   ]
  },
  {
   "cell_type": "markdown",
   "metadata": {},
   "source": [
    "Perform basic text cleaning"
   ]
  },
  {
   "cell_type": "code",
   "execution_count": 4,
   "metadata": {
    "collapsed": true
   },
   "outputs": [],
   "source": [
    "col_info['column_name'] = col_info['column_name'].str.replace('\\n\\r\\n', '')\n",
    "col_info['column_name'] = col_info['column_name'].str.replace(':', '')\n",
    "col_info['column_name'] = col_info['column_name'].str.lower()\n",
    "col_info = col_info.drop(col_info.index[[8, 37]]) # <br/> text\n",
    "\n",
    "#save information about publications in case needed in the future\n",
    "publication_info = col_info.iloc[46:, :]\n",
    "publication_info.to_csv('publication_info.csv')\n",
    "col_info = col_info.drop(publication_info.index)"
   ]
  },
  {
   "cell_type": "markdown",
   "metadata": {},
   "source": [
    "Not all descriptions are full descriptions due to the fact that href links are embedded along with text and are therefore not captured by next_sibling. To get the full descriptions of these columns, including the titles of the links, see below."
   ]
  },
  {
   "cell_type": "code",
   "execution_count": 5,
   "metadata": {
    "collapsed": true
   },
   "outputs": [],
   "source": [
    "def join_list(list_of_strings, string_to_join = ' '):\n",
    "    '''\n",
    "    Joins a list of strings into a single string.\n",
    "    '''\n",
    "    text = string_to_join.join(list_of_strings)\n",
    "    text = text.strip().replace('\\xa0', '')\n",
    "    return text\n",
    "\n",
    "def get_full_desc(soup, index_num, gen_num):\n",
    "    '''\n",
    "    Scrape full column descriptions for those descriptions where\n",
    "    text and html are embedded.\n",
    "    '''\n",
    "    gen = soup.find_all('strong')[index_num].next_siblings\n",
    "    text_list = []\n",
    "    for index, item in enumerate(gen):\n",
    "        if index < gen_num:\n",
    "            text_list.append(item.string)\n",
    "    text = join_list(text_list)\n",
    "    return text\n",
    "\n",
    "col_gen_pairs = [\n",
    "    (1, 7),\n",
    "    (2, 2),\n",
    "    (12, 4),\n",
    "    (14, 3),\n",
    "    (15, 3),\n",
    "    (18, 3),\n",
    "    (44, 3),\n",
    "    (45, 3),\n",
    "]\n",
    "\n",
    "full_descs = []\n",
    "for pair in col_gen_pairs:\n",
    "    description = get_full_desc(soup, pair[0], pair[1])\n",
    "    full_descs.append(description)"
   ]
  },
  {
   "cell_type": "markdown",
   "metadata": {},
   "source": [
    "Replace partial descriptions with full descriptions."
   ]
  },
  {
   "cell_type": "code",
   "execution_count": 6,
   "metadata": {
    "collapsed": true
   },
   "outputs": [],
   "source": [
    "indexer = [_[0] for _ in col_gen_pairs]\n",
    "for i in indexer:\n",
    "    col_info = col_info.replace(col_info.ix[i, 1], full_descs[indexer.index(i)])"
   ]
  },
  {
   "cell_type": "markdown",
   "metadata": {},
   "source": [
    "In one description, text was bolded (< strong >) in the body of the paragraph and therefore a new row was formed. Add text to appropriate description and remove extraneous row."
   ]
  },
  {
   "cell_type": "code",
   "execution_count": 7,
   "metadata": {
    "collapsed": true
   },
   "outputs": [],
   "source": [
    "col_info.ix[42, 1] = str(col_info.ix[42, 1]) + '04 is in its fourth year of support.'\n",
    "\n",
    "col_info = col_info.drop(col_info.index[[41]])"
   ]
  },
  {
   "cell_type": "markdown",
   "metadata": {},
   "source": [
    "Two descriptions had associated lists. Get the list information and add to the appropriate descriptions."
   ]
  },
  {
   "cell_type": "code",
   "execution_count": 8,
   "metadata": {
    "collapsed": true
   },
   "outputs": [],
   "source": [
    "def get_desc_uls(soup, subcomponent, string_to_join = ' -'):\n",
    "    uls = soup.find_all('ul')\n",
    "    elements = []\n",
    "    for ul in uls:\n",
    "        for element in ul.find_all(subcomponent):\n",
    "            elements.append(element.text.strip())\n",
    "    return join_list(elements, string_to_join)\n",
    "\n",
    "rn = '\\r\\n'\n",
    "\n",
    "application_type = get_desc_uls(soup, 'p')\n",
    "application_type = application_type.replace(rn, '')\n",
    "application_type = application_type.replace('\\t\\t\\t\\t\\t\\t\\t', '')\n",
    "\n",
    "total_cost = get_desc_uls(soup, 'li')\n",
    "total_cost = total_cost + soup.find_all('ul')[-1].next_sibling.string.replace(rn, '')"
   ]
  },
  {
   "cell_type": "code",
   "execution_count": 9,
   "metadata": {
    "collapsed": true
   },
   "outputs": [],
   "source": [
    "def concat_df_strings(df, index, to_concat, rn):\n",
    "    df.iloc[index, 1] = ((str(df.iloc[index, 1]) + to_concat).replace(rn, ' ').strip())\n",
    "    return df\n",
    "\n",
    "col_info = concat_df_strings(col_info, -2, total_cost, rn)\n",
    "col_info = concat_df_strings(col_info, 3, application_type, rn)"
   ]
  },
  {
   "cell_type": "markdown",
   "metadata": {},
   "source": [
    "Final table"
   ]
  },
  {
   "cell_type": "code",
   "execution_count": 10,
   "metadata": {
    "collapsed": false
   },
   "outputs": [
    {
     "data": {
      "text/html": [
       "<div>\n",
       "<table border=\"1\" class=\"dataframe\">\n",
       "  <thead>\n",
       "    <tr style=\"text-align: right;\">\n",
       "      <th></th>\n",
       "      <th>column_name</th>\n",
       "      <th>descriptions</th>\n",
       "    </tr>\n",
       "  </thead>\n",
       "  <tbody>\n",
       "    <tr>\n",
       "      <th>36</th>\n",
       "      <td>serial_number</td>\n",
       "      <td>A six-digit number assigned in serial number order within  each administering organization.</td>\n",
       "    </tr>\n",
       "    <tr>\n",
       "      <th>38</th>\n",
       "      <td>study_section</td>\n",
       "      <td>A designator of the legislatively-mandated panel of  subject matter experts that reviewed the research grant application for  scientific and technical merit.</td>\n",
       "    </tr>\n",
       "    <tr>\n",
       "      <th>39</th>\n",
       "      <td>study_section_name</td>\n",
       "      <td>The full name of a regular standing Study  Section that reviewed the research grant application for scientific and  technical merit.  Applications reviewed by panels other than regular  standing study sections are designated by “Special Emphasis Panel.”</td>\n",
       "    </tr>\n",
       "    <tr>\n",
       "      <th>40</th>\n",
       "      <td>subproject_id</td>\n",
       "      <td>A unique numeric designation assigned to  subprojects of a “parent” multi-project research grant.</td>\n",
       "    </tr>\n",
       "    <tr>\n",
       "      <th>41</th>\n",
       "      <td>suffix</td>\n",
       "      <td>A suffix to the grant application number that includes the  letter \"A\" and a serial number to identify an amended version of an  original application and/or the letter \"S\" and serial number  indicating a supplement to the project. .</td>\n",
       "    </tr>\n",
       "    <tr>\n",
       "      <th>42</th>\n",
       "      <td>support_year</td>\n",
       "      <td>The year of support  for a project, as shown in the full project number.  For example, a project with number  5R01GM0123456-04 is in its fourth year of support.</td>\n",
       "    </tr>\n",
       "    <tr>\n",
       "      <th>44</th>\n",
       "      <td>direct_cost_amt</td>\n",
       "      <td>Total  indirect cost  funding for a project from all NIH Institute and Centers for a given fiscal year.  Costs are available only for NIH awards funded in FY 2012 and onward. Indirect cost amounts are not available for SBIR/STTR awards.</td>\n",
       "    </tr>\n",
       "    <tr>\n",
       "      <th>45</th>\n",
       "      <td>indirect_cost_amt</td>\n",
       "      <td>Total  indirect cost  funding for a project from all NIH Institute and Centers for a given fiscal year.  Costs are available only for NIH awards funded in FY 2012 and onward. Indirect cost amounts are not available for SBIR/STTR awards.</td>\n",
       "    </tr>\n",
       "    <tr>\n",
       "      <th>46</th>\n",
       "      <td>total_cost</td>\n",
       "      <td>Total project funding from all NIH Institute and Centers for a given fiscal year. Costs are available only for: NIH, CDC, and FDA grant awards (only the parent record of multi-project grants). -NIH intramural projects (activity codes beginning with “Z”) in FY 2007 and later fiscal years. -NIH contracts (activity codes beginning with “N”) .   For multi-project grants, Total_Cost includes funding for all of the constituent subprojects.  This field will be blank on subproject records; the total cost of each subproject is found in Total_Cost_Sub_Project .</td>\n",
       "    </tr>\n",
       "    <tr>\n",
       "      <th>47</th>\n",
       "      <td>total_cost_sub_project</td>\n",
       "      <td>Applies to subproject  records only.  Total funding for a subproject from all NIH  Institute and Centers for a given fiscal year.  Costs are available only for NIH awards.</td>\n",
       "    </tr>\n",
       "  </tbody>\n",
       "</table>\n",
       "</div>"
      ],
      "text/plain": [
       "                 column_name  \\\n",
       "36            serial_number    \n",
       "38           study_section     \n",
       "39       study_section_name    \n",
       "40           subproject_id     \n",
       "41                  suffix     \n",
       "42            support_year     \n",
       "44         direct_cost_amt     \n",
       "45       indirect_cost_amt     \n",
       "46              total_cost     \n",
       "47  total_cost_sub_project     \n",
       "\n",
       "                                                                                                                                                                                                                                                                                                                                                                                                                                                                                                                                                                     descriptions  \n",
       "36                                                                                                                                                                                                                                                                                                                                                                                                                                                                                   A six-digit number assigned in serial number order within  each administering organization.   \n",
       "38                                                                                                                                                                                                                                                                                                                                                                                                                 A designator of the legislatively-mandated panel of  subject matter experts that reviewed the research grant application for  scientific and technical merit.   \n",
       "39                                                                                                                                                                                                                                                                                                                  The full name of a regular standing Study  Section that reviewed the research grant application for scientific and  technical merit.  Applications reviewed by panels other than regular  standing study sections are designated by “Special Emphasis Panel.”  \n",
       "40                                                                                                                                                                                                                                                                                                                                                                                                                                                                             A unique numeric designation assigned to  subprojects of a “parent” multi-project research grant.   \n",
       "41                                                                                                                                                                                                                                                                                                                                      A suffix to the grant application number that includes the  letter \"A\" and a serial number to identify an amended version of an  original application and/or the letter \"S\" and serial number  indicating a supplement to the project. .   \n",
       "42                                                                                                                                                                                                                                                                                                                                                                                                               The year of support  for a project, as shown in the full project number.  For example, a project with number  5R01GM0123456-04 is in its fourth year of support.  \n",
       "44                                                                                                                                                                                                                                                                                                                                   Total  indirect cost  funding for a project from all NIH Institute and Centers for a given fiscal year.  Costs are available only for NIH awards funded in FY 2012 and onward. Indirect cost amounts are not available for SBIR/STTR awards.  \n",
       "45                                                                                                                                                                                                                                                                                                                                   Total  indirect cost  funding for a project from all NIH Institute and Centers for a given fiscal year.  Costs are available only for NIH awards funded in FY 2012 and onward. Indirect cost amounts are not available for SBIR/STTR awards.  \n",
       "46  Total project funding from all NIH Institute and Centers for a given fiscal year. Costs are available only for: NIH, CDC, and FDA grant awards (only the parent record of multi-project grants). -NIH intramural projects (activity codes beginning with “Z”) in FY 2007 and later fiscal years. -NIH contracts (activity codes beginning with “N”) .   For multi-project grants, Total_Cost includes funding for all of the constituent subprojects.  This field will be blank on subproject records; the total cost of each subproject is found in Total_Cost_Sub_Project .  \n",
       "47                                                                                                                                                                                                                                                                                                                                                                                                  Applies to subproject  records only.  Total funding for a subproject from all NIH  Institute and Centers for a given fiscal year.  Costs are available only for NIH awards.    "
      ]
     },
     "execution_count": 10,
     "metadata": {},
     "output_type": "execute_result"
    }
   ],
   "source": [
    "col_info.tail(10)"
   ]
  },
  {
   "cell_type": "markdown",
   "metadata": {},
   "source": [
    "Write to csv"
   ]
  },
  {
   "cell_type": "code",
   "execution_count": 11,
   "metadata": {
    "collapsed": true
   },
   "outputs": [],
   "source": [
    "col_info.to_csv('grant_col_info_all.csv', index = False)"
   ]
  }
 ],
 "metadata": {
  "kernelspec": {
   "display_name": "Python 3",
   "language": "python",
   "name": "python3"
  },
  "language_info": {
   "codemirror_mode": {
    "name": "ipython",
    "version": 3
   },
   "file_extension": ".py",
   "mimetype": "text/x-python",
   "name": "python",
   "nbconvert_exporter": "python",
   "pygments_lexer": "ipython3",
   "version": "3.5.2"
  }
 },
 "nbformat": 4,
 "nbformat_minor": 1
}
