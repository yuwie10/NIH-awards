{
 "cells": [
  {
   "cell_type": "code",
   "execution_count": 1,
   "metadata": {
    "collapsed": true
   },
   "outputs": [],
   "source": [
    "import pandas as pd\n",
    "from IPython.core.interactiveshell import InteractiveShell\n",
    "InteractiveShell.ast_node_interactivity = \"all\""
   ]
  },
  {
   "cell_type": "code",
   "execution_count": 244,
   "metadata": {
    "collapsed": false
   },
   "outputs": [],
   "source": [
    "all_info = pd.read_csv('grants_all.csv')\n",
    "pi_info_raw = all_info['pi_ids pi_names org_name org_city org_state org_country org_zipcode'.split()]"
   ]
  },
  {
   "cell_type": "code",
   "execution_count": 245,
   "metadata": {
    "collapsed": false
   },
   "outputs": [
    {
     "data": {
      "text/html": [
       "<div>\n",
       "<table border=\"1\" class=\"dataframe\">\n",
       "  <thead>\n",
       "    <tr style=\"text-align: right;\">\n",
       "      <th></th>\n",
       "      <th>pi_ids</th>\n",
       "      <th>pi_names</th>\n",
       "      <th>org_name</th>\n",
       "      <th>org_city</th>\n",
       "      <th>org_state</th>\n",
       "      <th>org_country</th>\n",
       "      <th>org_zipcode</th>\n",
       "    </tr>\n",
       "  </thead>\n",
       "  <tbody>\n",
       "    <tr>\n",
       "      <th>0</th>\n",
       "      <td>10799126;</td>\n",
       "      <td>scott, stuart alexander;</td>\n",
       "      <td>icahn school of medicine at mount sinai</td>\n",
       "      <td>new york</td>\n",
       "      <td>ny</td>\n",
       "      <td>united states</td>\n",
       "      <td>100296574</td>\n",
       "    </tr>\n",
       "    <tr>\n",
       "      <th>1</th>\n",
       "      <td>7017365;</td>\n",
       "      <td>polster, brian m;</td>\n",
       "      <td>university of maryland baltimore</td>\n",
       "      <td>baltimore</td>\n",
       "      <td>md</td>\n",
       "      <td>united states</td>\n",
       "      <td>212011508</td>\n",
       "    </tr>\n",
       "    <tr>\n",
       "      <th>2</th>\n",
       "      <td>7354078; 1862210 (contact);</td>\n",
       "      <td>walton, maureen a; zucker, robert alpert (cont...</td>\n",
       "      <td>university of michigan</td>\n",
       "      <td>ann arbor</td>\n",
       "      <td>mi</td>\n",
       "      <td>united states</td>\n",
       "      <td>481091276</td>\n",
       "    </tr>\n",
       "    <tr>\n",
       "      <th>3</th>\n",
       "      <td>2275890 (contact); 8742217; 6139020;</td>\n",
       "      <td>dulac, catherine g (contact); regev, aviv ; zh...</td>\n",
       "      <td>harvard university</td>\n",
       "      <td>cambridge</td>\n",
       "      <td>ma</td>\n",
       "      <td>united states</td>\n",
       "      <td>21385369</td>\n",
       "    </tr>\n",
       "    <tr>\n",
       "      <th>4</th>\n",
       "      <td>9868481; 2063694 (contact);</td>\n",
       "      <td>chen, xuesong ; geiger, jonathan david (contact);</td>\n",
       "      <td>university of north dakota</td>\n",
       "      <td>grand forks</td>\n",
       "      <td>nd</td>\n",
       "      <td>united states</td>\n",
       "      <td>582026059</td>\n",
       "    </tr>\n",
       "  </tbody>\n",
       "</table>\n",
       "</div>"
      ],
      "text/plain": [
       "                                  pi_ids  \\\n",
       "0                             10799126;    \n",
       "1                              7017365;    \n",
       "2           7354078; 1862210 (contact);    \n",
       "3  2275890 (contact); 8742217; 6139020;    \n",
       "4           9868481; 2063694 (contact);    \n",
       "\n",
       "                                            pi_names  \\\n",
       "0                           scott, stuart alexander;   \n",
       "1                                  polster, brian m;   \n",
       "2  walton, maureen a; zucker, robert alpert (cont...   \n",
       "3  dulac, catherine g (contact); regev, aviv ; zh...   \n",
       "4  chen, xuesong ; geiger, jonathan david (contact);   \n",
       "\n",
       "                                  org_name     org_city org_state  \\\n",
       "0  icahn school of medicine at mount sinai     new york        ny   \n",
       "1         university of maryland baltimore    baltimore        md   \n",
       "2                   university of michigan    ann arbor        mi   \n",
       "3                       harvard university    cambridge        ma   \n",
       "4               university of north dakota  grand forks        nd   \n",
       "\n",
       "     org_country org_zipcode  \n",
       "0  united states   100296574  \n",
       "1  united states   212011508  \n",
       "2  united states   481091276  \n",
       "3  united states    21385369  \n",
       "4  united states   582026059  "
      ]
     },
     "execution_count": 245,
     "metadata": {},
     "output_type": "execute_result"
    }
   ],
   "source": [
    "pi_info_raw.head()"
   ]
  },
  {
   "cell_type": "code",
   "execution_count": 246,
   "metadata": {
    "collapsed": false
   },
   "outputs": [],
   "source": [
    "def strip_string(df, *args):\n",
    "    '''\n",
    "    \n",
    "    Strips final character from each column in a df.\n",
    "    \n",
    "    '''\n",
    "    for arg in args:\n",
    "        df = df.apply(lambda s: s.str.strip(arg))\n",
    "    return df\n",
    "\n",
    "pi_info_cleaned = strip_string(pi_info_raw, ' ', ';', '.')"
   ]
  },
  {
   "cell_type": "code",
   "execution_count": 247,
   "metadata": {
    "collapsed": false
   },
   "outputs": [
    {
     "name": "stdout",
     "output_type": "stream",
     "text": [
      "<class 'pandas.core.frame.DataFrame'>\n",
      "RangeIndex: 71872 entries, 0 to 71871\n",
      "Data columns (total 7 columns):\n",
      "pi_ids         71872 non-null object\n",
      "pi_names       71872 non-null object\n",
      "org_name       71766 non-null object\n",
      "org_city       68527 non-null object\n",
      "org_state      67740 non-null object\n",
      "org_country    68528 non-null object\n",
      "org_zipcode    68363 non-null object\n",
      "dtypes: object(7)\n",
      "memory usage: 3.8+ MB\n"
     ]
    }
   ],
   "source": [
    "pi_info_cleaned.info()"
   ]
  },
  {
   "cell_type": "code",
   "execution_count": 248,
   "metadata": {
    "collapsed": false,
    "scrolled": true
   },
   "outputs": [
    {
     "data": {
      "text/html": [
       "<div>\n",
       "<table border=\"1\" class=\"dataframe\">\n",
       "  <thead>\n",
       "    <tr style=\"text-align: right;\">\n",
       "      <th></th>\n",
       "      <th>pi_ids</th>\n",
       "      <th>pi_names</th>\n",
       "      <th>org_name</th>\n",
       "      <th>org_city</th>\n",
       "      <th>org_state</th>\n",
       "      <th>org_country</th>\n",
       "      <th>org_zipcode</th>\n",
       "    </tr>\n",
       "  </thead>\n",
       "  <tbody>\n",
       "    <tr>\n",
       "      <th>0</th>\n",
       "      <td>10799126</td>\n",
       "      <td>scott, stuart alexander</td>\n",
       "      <td>icahn school of medicine at mount sinai</td>\n",
       "      <td>new york</td>\n",
       "      <td>ny</td>\n",
       "      <td>united states</td>\n",
       "      <td>100296574</td>\n",
       "    </tr>\n",
       "    <tr>\n",
       "      <th>1</th>\n",
       "      <td>7017365</td>\n",
       "      <td>polster, brian m</td>\n",
       "      <td>university of maryland baltimore</td>\n",
       "      <td>baltimore</td>\n",
       "      <td>md</td>\n",
       "      <td>united states</td>\n",
       "      <td>212011508</td>\n",
       "    </tr>\n",
       "    <tr>\n",
       "      <th>2</th>\n",
       "      <td>7354078; 1862210 (contact)</td>\n",
       "      <td>walton, maureen a; zucker, robert alpert (cont...</td>\n",
       "      <td>university of michigan</td>\n",
       "      <td>ann arbor</td>\n",
       "      <td>mi</td>\n",
       "      <td>united states</td>\n",
       "      <td>481091276</td>\n",
       "    </tr>\n",
       "    <tr>\n",
       "      <th>3</th>\n",
       "      <td>2275890 (contact); 8742217; 6139020</td>\n",
       "      <td>dulac, catherine g (contact); regev, aviv ; zh...</td>\n",
       "      <td>harvard university</td>\n",
       "      <td>cambridge</td>\n",
       "      <td>ma</td>\n",
       "      <td>united states</td>\n",
       "      <td>21385369</td>\n",
       "    </tr>\n",
       "    <tr>\n",
       "      <th>4</th>\n",
       "      <td>9868481; 2063694 (contact)</td>\n",
       "      <td>chen, xuesong ; geiger, jonathan david (contact)</td>\n",
       "      <td>university of north dakota</td>\n",
       "      <td>grand forks</td>\n",
       "      <td>nd</td>\n",
       "      <td>united states</td>\n",
       "      <td>582026059</td>\n",
       "    </tr>\n",
       "  </tbody>\n",
       "</table>\n",
       "</div>"
      ],
      "text/plain": [
       "                                pi_ids  \\\n",
       "0                             10799126   \n",
       "1                              7017365   \n",
       "2           7354078; 1862210 (contact)   \n",
       "3  2275890 (contact); 8742217; 6139020   \n",
       "4           9868481; 2063694 (contact)   \n",
       "\n",
       "                                            pi_names  \\\n",
       "0                            scott, stuart alexander   \n",
       "1                                   polster, brian m   \n",
       "2  walton, maureen a; zucker, robert alpert (cont...   \n",
       "3  dulac, catherine g (contact); regev, aviv ; zh...   \n",
       "4   chen, xuesong ; geiger, jonathan david (contact)   \n",
       "\n",
       "                                  org_name     org_city org_state  \\\n",
       "0  icahn school of medicine at mount sinai     new york        ny   \n",
       "1         university of maryland baltimore    baltimore        md   \n",
       "2                   university of michigan    ann arbor        mi   \n",
       "3                       harvard university    cambridge        ma   \n",
       "4               university of north dakota  grand forks        nd   \n",
       "\n",
       "     org_country org_zipcode  \n",
       "0  united states   100296574  \n",
       "1  united states   212011508  \n",
       "2  united states   481091276  \n",
       "3  united states    21385369  \n",
       "4  united states   582026059  "
      ]
     },
     "execution_count": 248,
     "metadata": {},
     "output_type": "execute_result"
    }
   ],
   "source": [
    "pi_info_cleaned.head()"
   ]
  },
  {
   "cell_type": "markdown",
   "metadata": {},
   "source": [
    "## Splitting PI Info"
   ]
  },
  {
   "cell_type": "code",
   "execution_count": 265,
   "metadata": {
    "collapsed": false
   },
   "outputs": [],
   "source": [
    "multi_pi_unsplit = pi_info_cleaned.ix[pi_info_cleaned['pi_ids'].str.contains('contact')]"
   ]
  },
  {
   "cell_type": "code",
   "execution_count": 271,
   "metadata": {
    "collapsed": false
   },
   "outputs": [],
   "source": [
    "pi_info = strip_string(pi_info, ' ')"
   ]
  },
  {
   "cell_type": "code",
   "execution_count": 273,
   "metadata": {
    "collapsed": false
   },
   "outputs": [
    {
     "data": {
      "text/html": [
       "<div>\n",
       "<table border=\"1\" class=\"dataframe\">\n",
       "  <thead>\n",
       "    <tr style=\"text-align: right;\">\n",
       "      <th></th>\n",
       "      <th>pi_ids</th>\n",
       "      <th>pi_names</th>\n",
       "      <th>org_name</th>\n",
       "      <th>org_city</th>\n",
       "      <th>org_state</th>\n",
       "      <th>org_country</th>\n",
       "      <th>org_zipcode</th>\n",
       "    </tr>\n",
       "  </thead>\n",
       "  <tbody>\n",
       "    <tr>\n",
       "      <th>0</th>\n",
       "      <td>10799126</td>\n",
       "      <td>scott, stuart alexander</td>\n",
       "      <td>icahn school of medicine at mount sinai</td>\n",
       "      <td>new york</td>\n",
       "      <td>ny</td>\n",
       "      <td>united states</td>\n",
       "      <td>100296574</td>\n",
       "    </tr>\n",
       "    <tr>\n",
       "      <th>1</th>\n",
       "      <td>7017365</td>\n",
       "      <td>polster, brian m</td>\n",
       "      <td>university of maryland baltimore</td>\n",
       "      <td>baltimore</td>\n",
       "      <td>md</td>\n",
       "      <td>united states</td>\n",
       "      <td>212011508</td>\n",
       "    </tr>\n",
       "    <tr>\n",
       "      <th>5</th>\n",
       "      <td>1866930</td>\n",
       "      <td>so, peter t</td>\n",
       "      <td>massachusetts institute of technology</td>\n",
       "      <td>cambridge</td>\n",
       "      <td>ma</td>\n",
       "      <td>united states</td>\n",
       "      <td>21421029</td>\n",
       "    </tr>\n",
       "    <tr>\n",
       "      <th>7</th>\n",
       "      <td>11044822</td>\n",
       "      <td>gade, terence p</td>\n",
       "      <td>university of pennsylvania</td>\n",
       "      <td>philadelphia</td>\n",
       "      <td>pa</td>\n",
       "      <td>united states</td>\n",
       "      <td>191046205</td>\n",
       "    </tr>\n",
       "    <tr>\n",
       "      <th>8</th>\n",
       "      <td>9335858</td>\n",
       "      <td>qi, ling</td>\n",
       "      <td>cornell university</td>\n",
       "      <td>ithaca</td>\n",
       "      <td>ny</td>\n",
       "      <td>united states</td>\n",
       "      <td>148502820</td>\n",
       "    </tr>\n",
       "  </tbody>\n",
       "</table>\n",
       "</div>"
      ],
      "text/plain": [
       "     pi_ids                 pi_names                                 org_name  \\\n",
       "0  10799126  scott, stuart alexander  icahn school of medicine at mount sinai   \n",
       "1   7017365         polster, brian m         university of maryland baltimore   \n",
       "5   1866930              so, peter t    massachusetts institute of technology   \n",
       "7  11044822          gade, terence p               university of pennsylvania   \n",
       "8   9335858                 qi, ling                       cornell university   \n",
       "\n",
       "       org_city org_state    org_country org_zipcode  \n",
       "0      new york        ny  united states   100296574  \n",
       "1     baltimore        md  united states   212011508  \n",
       "5     cambridge        ma  united states    21421029  \n",
       "7  philadelphia        pa  united states   191046205  \n",
       "8        ithaca        ny  united states   148502820  "
      ]
     },
     "execution_count": 273,
     "metadata": {},
     "output_type": "execute_result"
    }
   ],
   "source": [
    "pi_info.head()"
   ]
  },
  {
   "cell_type": "code",
   "execution_count": 252,
   "metadata": {
    "collapsed": false
   },
   "outputs": [
    {
     "data": {
      "text/html": [
       "<div>\n",
       "<table border=\"1\" class=\"dataframe\">\n",
       "  <thead>\n",
       "    <tr style=\"text-align: right;\">\n",
       "      <th></th>\n",
       "      <th>pi_ids</th>\n",
       "      <th>pi_names</th>\n",
       "      <th>org_name</th>\n",
       "      <th>org_city</th>\n",
       "      <th>org_state</th>\n",
       "      <th>org_country</th>\n",
       "      <th>org_zipcode</th>\n",
       "    </tr>\n",
       "  </thead>\n",
       "  <tbody>\n",
       "    <tr>\n",
       "      <th>2</th>\n",
       "      <td>7354078; 1862210 (contact)</td>\n",
       "      <td>walton, maureen a; zucker, robert alpert (cont...</td>\n",
       "      <td>university of michigan</td>\n",
       "      <td>ann arbor</td>\n",
       "      <td>mi</td>\n",
       "      <td>united states</td>\n",
       "      <td>481091276</td>\n",
       "    </tr>\n",
       "    <tr>\n",
       "      <th>3</th>\n",
       "      <td>2275890 (contact); 8742217; 6139020</td>\n",
       "      <td>dulac, catherine g (contact); regev, aviv ; zh...</td>\n",
       "      <td>harvard university</td>\n",
       "      <td>cambridge</td>\n",
       "      <td>ma</td>\n",
       "      <td>united states</td>\n",
       "      <td>21385369</td>\n",
       "    </tr>\n",
       "    <tr>\n",
       "      <th>4</th>\n",
       "      <td>9868481; 2063694 (contact)</td>\n",
       "      <td>chen, xuesong ; geiger, jonathan david (contact)</td>\n",
       "      <td>university of north dakota</td>\n",
       "      <td>grand forks</td>\n",
       "      <td>nd</td>\n",
       "      <td>united states</td>\n",
       "      <td>582026059</td>\n",
       "    </tr>\n",
       "    <tr>\n",
       "      <th>6</th>\n",
       "      <td>9851446; 2291297; 12280974; 9292719 (contact);...</td>\n",
       "      <td>eden, uri tzvi; frank, loren m; ganguli, surya...</td>\n",
       "      <td>cold spring harbor laboratory</td>\n",
       "      <td>cold spring harbor</td>\n",
       "      <td>ny</td>\n",
       "      <td>united states</td>\n",
       "      <td>117242209</td>\n",
       "    </tr>\n",
       "    <tr>\n",
       "      <th>12</th>\n",
       "      <td>10940848; 1897156 (contact)</td>\n",
       "      <td>lozano, andres m.; lyketsos, constantine g (co...</td>\n",
       "      <td>johns hopkins university</td>\n",
       "      <td>baltimore</td>\n",
       "      <td>md</td>\n",
       "      <td>united states</td>\n",
       "      <td>212051832</td>\n",
       "    </tr>\n",
       "  </tbody>\n",
       "</table>\n",
       "</div>"
      ],
      "text/plain": [
       "                                               pi_ids  \\\n",
       "2                          7354078; 1862210 (contact)   \n",
       "3                 2275890 (contact); 8742217; 6139020   \n",
       "4                          9868481; 2063694 (contact)   \n",
       "6   9851446; 2291297; 12280974; 9292719 (contact);...   \n",
       "12                        10940848; 1897156 (contact)   \n",
       "\n",
       "                                             pi_names  \\\n",
       "2   walton, maureen a; zucker, robert alpert (cont...   \n",
       "3   dulac, catherine g (contact); regev, aviv ; zh...   \n",
       "4    chen, xuesong ; geiger, jonathan david (contact)   \n",
       "6   eden, uri tzvi; frank, loren m; ganguli, surya...   \n",
       "12  lozano, andres m.; lyketsos, constantine g (co...   \n",
       "\n",
       "                         org_name            org_city org_state  \\\n",
       "2          university of michigan           ann arbor        mi   \n",
       "3              harvard university           cambridge        ma   \n",
       "4      university of north dakota         grand forks        nd   \n",
       "6   cold spring harbor laboratory  cold spring harbor        ny   \n",
       "12       johns hopkins university           baltimore        md   \n",
       "\n",
       "      org_country org_zipcode  \n",
       "2   united states   481091276  \n",
       "3   united states    21385369  \n",
       "4   united states   582026059  \n",
       "6   united states   117242209  \n",
       "12  united states   212051832  "
      ]
     },
     "execution_count": 252,
     "metadata": {},
     "output_type": "execute_result"
    }
   ],
   "source": [
    "multi_pi_unsplit.head()"
   ]
  },
  {
   "cell_type": "code",
   "execution_count": 270,
   "metadata": {
    "collapsed": false
   },
   "outputs": [
    {
     "data": {
      "text/html": [
       "<div>\n",
       "<table border=\"1\" class=\"dataframe\">\n",
       "  <thead>\n",
       "    <tr style=\"text-align: right;\">\n",
       "      <th></th>\n",
       "      <th>pi_names</th>\n",
       "      <th>org_name</th>\n",
       "      <th>org_city</th>\n",
       "      <th>org_state</th>\n",
       "      <th>org_country</th>\n",
       "      <th>org_zipcode</th>\n",
       "      <th>pi_ids</th>\n",
       "    </tr>\n",
       "  </thead>\n",
       "  <tbody>\n",
       "    <tr>\n",
       "      <th>2</th>\n",
       "      <td>walton, maureen a; zucker, robert alpert (cont...</td>\n",
       "      <td>university of michigan</td>\n",
       "      <td>ann arbor</td>\n",
       "      <td>mi</td>\n",
       "      <td>united states</td>\n",
       "      <td>481091276</td>\n",
       "      <td>7354078</td>\n",
       "    </tr>\n",
       "    <tr>\n",
       "      <th>2</th>\n",
       "      <td>walton, maureen a; zucker, robert alpert (cont...</td>\n",
       "      <td>university of michigan</td>\n",
       "      <td>ann arbor</td>\n",
       "      <td>mi</td>\n",
       "      <td>united states</td>\n",
       "      <td>481091276</td>\n",
       "      <td>1862210 (contact)</td>\n",
       "    </tr>\n",
       "    <tr>\n",
       "      <th>3</th>\n",
       "      <td>dulac, catherine g (contact); regev, aviv ; zh...</td>\n",
       "      <td>harvard university</td>\n",
       "      <td>cambridge</td>\n",
       "      <td>ma</td>\n",
       "      <td>united states</td>\n",
       "      <td>21385369</td>\n",
       "      <td>2275890 (contact)</td>\n",
       "    </tr>\n",
       "    <tr>\n",
       "      <th>3</th>\n",
       "      <td>dulac, catherine g (contact); regev, aviv ; zh...</td>\n",
       "      <td>harvard university</td>\n",
       "      <td>cambridge</td>\n",
       "      <td>ma</td>\n",
       "      <td>united states</td>\n",
       "      <td>21385369</td>\n",
       "      <td>8742217</td>\n",
       "    </tr>\n",
       "    <tr>\n",
       "      <th>3</th>\n",
       "      <td>dulac, catherine g (contact); regev, aviv ; zh...</td>\n",
       "      <td>harvard university</td>\n",
       "      <td>cambridge</td>\n",
       "      <td>ma</td>\n",
       "      <td>united states</td>\n",
       "      <td>21385369</td>\n",
       "      <td>6139020</td>\n",
       "    </tr>\n",
       "  </tbody>\n",
       "</table>\n",
       "</div>"
      ],
      "text/plain": [
       "                                            pi_names                org_name  \\\n",
       "2  walton, maureen a; zucker, robert alpert (cont...  university of michigan   \n",
       "2  walton, maureen a; zucker, robert alpert (cont...  university of michigan   \n",
       "3  dulac, catherine g (contact); regev, aviv ; zh...      harvard university   \n",
       "3  dulac, catherine g (contact); regev, aviv ; zh...      harvard university   \n",
       "3  dulac, catherine g (contact); regev, aviv ; zh...      harvard university   \n",
       "\n",
       "    org_city org_state    org_country org_zipcode              pi_ids  \n",
       "2  ann arbor        mi  united states   481091276             7354078  \n",
       "2  ann arbor        mi  united states   481091276   1862210 (contact)  \n",
       "3  cambridge        ma  united states    21385369   2275890 (contact)  \n",
       "3  cambridge        ma  united states    21385369             8742217  \n",
       "3  cambridge        ma  united states    21385369             6139020  "
      ]
     },
     "execution_count": 270,
     "metadata": {},
     "output_type": "execute_result"
    }
   ],
   "source": [
    "def split_rows_pis(df, col_name):\n",
    "    '''\n",
    "    \n",
    "    Different PIs are delimited by a ';'.\n",
    "    Split on ';'\n",
    "    \n",
    "    '''\n",
    "    df_copy = df.copy()\n",
    "    s = df_copy[col_name].str.split(';').apply(pd.Series, 1).stack()\n",
    "    s.index = s.index.droplevel(-1)\n",
    "    s.name = col_name\n",
    "    del df_copy[col_name]\n",
    "    return df_copy.join(s)\n",
    "\n",
    "multi_pi = split_rows_pis(multi_pi_unsplit, 'pi_ids')\n",
    "multi_pi.head()"
   ]
  },
  {
   "cell_type": "code",
   "execution_count": 278,
   "metadata": {
    "collapsed": false
   },
   "outputs": [
    {
     "data": {
      "text/html": [
       "<div>\n",
       "<table border=\"1\" class=\"dataframe\">\n",
       "  <thead>\n",
       "    <tr style=\"text-align: right;\">\n",
       "      <th></th>\n",
       "      <th>pi_names</th>\n",
       "      <th>org_name</th>\n",
       "      <th>org_city</th>\n",
       "      <th>org_state</th>\n",
       "      <th>org_country</th>\n",
       "      <th>org_zipcode</th>\n",
       "      <th>pi_ids</th>\n",
       "    </tr>\n",
       "  </thead>\n",
       "  <tbody>\n",
       "    <tr>\n",
       "      <th>2</th>\n",
       "      <td>walton, maureen a; zucker, robert alpert (cont...</td>\n",
       "      <td>university of michigan</td>\n",
       "      <td>ann arbor</td>\n",
       "      <td>mi</td>\n",
       "      <td>united states</td>\n",
       "      <td>481091276</td>\n",
       "      <td>7354078</td>\n",
       "    </tr>\n",
       "    <tr>\n",
       "      <th>2</th>\n",
       "      <td>walton, maureen a; zucker, robert alpert (cont...</td>\n",
       "      <td>university of michigan</td>\n",
       "      <td>ann arbor</td>\n",
       "      <td>mi</td>\n",
       "      <td>united states</td>\n",
       "      <td>481091276</td>\n",
       "      <td>1862210</td>\n",
       "    </tr>\n",
       "    <tr>\n",
       "      <th>3</th>\n",
       "      <td>dulac, catherine g (contact); regev, aviv ; zh...</td>\n",
       "      <td>harvard university</td>\n",
       "      <td>cambridge</td>\n",
       "      <td>ma</td>\n",
       "      <td>united states</td>\n",
       "      <td>21385369</td>\n",
       "      <td>2275890</td>\n",
       "    </tr>\n",
       "    <tr>\n",
       "      <th>3</th>\n",
       "      <td>dulac, catherine g (contact); regev, aviv ; zh...</td>\n",
       "      <td>harvard university</td>\n",
       "      <td>cambridge</td>\n",
       "      <td>ma</td>\n",
       "      <td>united states</td>\n",
       "      <td>21385369</td>\n",
       "      <td>8742217</td>\n",
       "    </tr>\n",
       "    <tr>\n",
       "      <th>3</th>\n",
       "      <td>dulac, catherine g (contact); regev, aviv ; zh...</td>\n",
       "      <td>harvard university</td>\n",
       "      <td>cambridge</td>\n",
       "      <td>ma</td>\n",
       "      <td>united states</td>\n",
       "      <td>21385369</td>\n",
       "      <td>6139020</td>\n",
       "    </tr>\n",
       "  </tbody>\n",
       "</table>\n",
       "</div>"
      ],
      "text/plain": [
       "                                            pi_names                org_name  \\\n",
       "2  walton, maureen a; zucker, robert alpert (cont...  university of michigan   \n",
       "2  walton, maureen a; zucker, robert alpert (cont...  university of michigan   \n",
       "3  dulac, catherine g (contact); regev, aviv ; zh...      harvard university   \n",
       "3  dulac, catherine g (contact); regev, aviv ; zh...      harvard university   \n",
       "3  dulac, catherine g (contact); regev, aviv ; zh...      harvard university   \n",
       "\n",
       "    org_city org_state    org_country org_zipcode   pi_ids  \n",
       "2  ann arbor        mi  united states   481091276  7354078  \n",
       "2  ann arbor        mi  united states   481091276  1862210  \n",
       "3  cambridge        ma  united states    21385369  2275890  \n",
       "3  cambridge        ma  united states    21385369  8742217  \n",
       "3  cambridge        ma  united states    21385369  6139020  "
      ]
     },
     "execution_count": 278,
     "metadata": {},
     "output_type": "execute_result"
    }
   ],
   "source": [
    "multi_pi['pi_ids'] = multi_pi['pi_ids'].str.strip(' (contact)')\n",
    "multi_pi.head()"
   ]
  },
  {
   "cell_type": "code",
   "execution_count": 280,
   "metadata": {
    "collapsed": false
   },
   "outputs": [
    {
     "data": {
      "text/plain": [
       "(62262, 7)"
      ]
     },
     "execution_count": 280,
     "metadata": {},
     "output_type": "execute_result"
    },
    {
     "data": {
      "text/plain": [
       "(40104, 7)"
      ]
     },
     "execution_count": 280,
     "metadata": {},
     "output_type": "execute_result"
    }
   ],
   "source": [
    "pi_info.shape\n",
    "pi_unique = pi_info.drop_duplicates('pi_ids')\n",
    "pi_unique.shape"
   ]
  },
  {
   "cell_type": "code",
   "execution_count": 284,
   "metadata": {
    "collapsed": false
   },
   "outputs": [
    {
     "data": {
      "text/plain": [
       "2         True\n",
       "2        False\n",
       "3         True\n",
       "3         True\n",
       "3         True\n",
       "4         True\n",
       "4         True\n",
       "6        False\n",
       "6        False\n",
       "6        False\n",
       "6         True\n",
       "6        False\n",
       "6        False\n",
       "6        False\n",
       "12       False\n",
       "12        True\n",
       "18       False\n",
       "18       False\n",
       "18       False\n",
       "19       False\n",
       "19       False\n",
       "33        True\n",
       "33        True\n",
       "33        True\n",
       "33        True\n",
       "33       False\n",
       "35       False\n",
       "35        True\n",
       "36        True\n",
       "36       False\n",
       "         ...  \n",
       "71149    False\n",
       "71149     True\n",
       "71177    False\n",
       "71177     True\n",
       "71245    False\n",
       "71245    False\n",
       "71246    False\n",
       "71246    False\n",
       "71272    False\n",
       "71272    False\n",
       "71374    False\n",
       "71374    False\n",
       "71384     True\n",
       "71384     True\n",
       "71425     True\n",
       "71425    False\n",
       "71465     True\n",
       "71465    False\n",
       "71512    False\n",
       "71512     True\n",
       "71539    False\n",
       "71539    False\n",
       "71579    False\n",
       "71579    False\n",
       "71621     True\n",
       "71621    False\n",
       "71627     True\n",
       "71627    False\n",
       "71821    False\n",
       "71821     True\n",
       "Name: pi_ids, dtype: bool"
      ]
     },
     "execution_count": 284,
     "metadata": {},
     "output_type": "execute_result"
    }
   ],
   "source": [
    "multi_pi['pi_ids'].isin(pi_unique['pi_ids'])"
   ]
  }
 ],
 "metadata": {
  "kernelspec": {
   "display_name": "Python 3",
   "language": "python",
   "name": "python3"
  },
  "language_info": {
   "codemirror_mode": {
    "name": "ipython",
    "version": 3
   },
   "file_extension": ".py",
   "mimetype": "text/x-python",
   "name": "python",
   "nbconvert_exporter": "python",
   "pygments_lexer": "ipython3",
   "version": "3.6.0"
  }
 },
 "nbformat": 4,
 "nbformat_minor": 2
}
