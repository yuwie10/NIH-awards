{
 "cells": [
  {
   "cell_type": "markdown",
   "metadata": {},
   "source": [
    "# Cleaning PI Info\n",
    "In order to prevent duplicate information used to train a model, store PI information separately from list of features.\n",
    "\n",
    "**Eventually store as SQL database**"
   ]
  },
  {
   "cell_type": "code",
   "execution_count": 534,
   "metadata": {
    "collapsed": false
   },
   "outputs": [],
   "source": [
    "import pandas as pd\n",
    "from IPython.core.interactiveshell import InteractiveShell\n",
    "InteractiveShell.ast_node_interactivity = \"all\"\n",
    "\n",
    "import cleaning_strings as cln\n",
    "import importlib as imp\n",
    "imp.reload(cln);"
   ]
  },
  {
   "cell_type": "markdown",
   "metadata": {},
   "source": [
    "## Local functions "
   ]
  },
  {
   "cell_type": "code",
   "execution_count": 535,
   "metadata": {
    "collapsed": true
   },
   "outputs": [],
   "source": [
    "def add_zero_zip(df, length, col1 = 'org_zipcode', col2 = 'org_country', country = 'united states'):\n",
    "    zip_original = []\n",
    "    zip_actual = []\n",
    "    for zipcode in df.ix[(df[col1].str.len() == length) & (df[col2].str.contains(country))][col1]:\n",
    "        zip_original.append(zipcode)\n",
    "        zipcode = '0' + zipcode\n",
    "        zip_actual.append(zipcode)\n",
    "    return zip_original, zip_actual"
   ]
  },
  {
   "cell_type": "markdown",
   "metadata": {},
   "source": [
    "## Basic text cleaning "
   ]
  },
  {
   "cell_type": "code",
   "execution_count": 536,
   "metadata": {
    "collapsed": false
   },
   "outputs": [],
   "source": [
    "all_info = pd.read_csv('grants_all.csv')\n",
    "pi_info_raw = all_info['pi_ids pi_names org_name org_city org_state org_country org_zipcode'.split()]"
   ]
  },
  {
   "cell_type": "code",
   "execution_count": 537,
   "metadata": {
    "collapsed": false
   },
   "outputs": [
    {
     "data": {
      "text/html": [
       "<div>\n",
       "<table border=\"1\" class=\"dataframe\">\n",
       "  <thead>\n",
       "    <tr style=\"text-align: right;\">\n",
       "      <th></th>\n",
       "      <th>pi_ids</th>\n",
       "      <th>pi_names</th>\n",
       "      <th>org_name</th>\n",
       "      <th>org_city</th>\n",
       "      <th>org_state</th>\n",
       "      <th>org_country</th>\n",
       "      <th>org_zipcode</th>\n",
       "    </tr>\n",
       "  </thead>\n",
       "  <tbody>\n",
       "    <tr>\n",
       "      <th>0</th>\n",
       "      <td>10799126;</td>\n",
       "      <td>scott, stuart alexander;</td>\n",
       "      <td>icahn school of medicine at mount sinai</td>\n",
       "      <td>new york</td>\n",
       "      <td>ny</td>\n",
       "      <td>united states</td>\n",
       "      <td>100296574</td>\n",
       "    </tr>\n",
       "    <tr>\n",
       "      <th>1</th>\n",
       "      <td>7017365;</td>\n",
       "      <td>polster, brian m;</td>\n",
       "      <td>university of maryland baltimore</td>\n",
       "      <td>baltimore</td>\n",
       "      <td>md</td>\n",
       "      <td>united states</td>\n",
       "      <td>212011508</td>\n",
       "    </tr>\n",
       "    <tr>\n",
       "      <th>2</th>\n",
       "      <td>7354078; 1862210 (contact);</td>\n",
       "      <td>walton, maureen a; zucker, robert alpert (cont...</td>\n",
       "      <td>university of michigan</td>\n",
       "      <td>ann arbor</td>\n",
       "      <td>mi</td>\n",
       "      <td>united states</td>\n",
       "      <td>481091276</td>\n",
       "    </tr>\n",
       "    <tr>\n",
       "      <th>3</th>\n",
       "      <td>2275890 (contact); 8742217; 6139020;</td>\n",
       "      <td>dulac, catherine g (contact); regev, aviv ; zh...</td>\n",
       "      <td>harvard university</td>\n",
       "      <td>cambridge</td>\n",
       "      <td>ma</td>\n",
       "      <td>united states</td>\n",
       "      <td>21385369</td>\n",
       "    </tr>\n",
       "    <tr>\n",
       "      <th>4</th>\n",
       "      <td>9868481; 2063694 (contact);</td>\n",
       "      <td>chen, xuesong ; geiger, jonathan david (contact);</td>\n",
       "      <td>university of north dakota</td>\n",
       "      <td>grand forks</td>\n",
       "      <td>nd</td>\n",
       "      <td>united states</td>\n",
       "      <td>582026059</td>\n",
       "    </tr>\n",
       "  </tbody>\n",
       "</table>\n",
       "</div>"
      ],
      "text/plain": [
       "                                  pi_ids  \\\n",
       "0                             10799126;    \n",
       "1                              7017365;    \n",
       "2           7354078; 1862210 (contact);    \n",
       "3  2275890 (contact); 8742217; 6139020;    \n",
       "4           9868481; 2063694 (contact);    \n",
       "\n",
       "                                            pi_names  \\\n",
       "0                           scott, stuart alexander;   \n",
       "1                                  polster, brian m;   \n",
       "2  walton, maureen a; zucker, robert alpert (cont...   \n",
       "3  dulac, catherine g (contact); regev, aviv ; zh...   \n",
       "4  chen, xuesong ; geiger, jonathan david (contact);   \n",
       "\n",
       "                                  org_name     org_city org_state  \\\n",
       "0  icahn school of medicine at mount sinai     new york        ny   \n",
       "1         university of maryland baltimore    baltimore        md   \n",
       "2                   university of michigan    ann arbor        mi   \n",
       "3                       harvard university    cambridge        ma   \n",
       "4               university of north dakota  grand forks        nd   \n",
       "\n",
       "     org_country org_zipcode  \n",
       "0  united states   100296574  \n",
       "1  united states   212011508  \n",
       "2  united states   481091276  \n",
       "3  united states    21385369  \n",
       "4  united states   582026059  "
      ]
     },
     "execution_count": 537,
     "metadata": {},
     "output_type": "execute_result"
    }
   ],
   "source": [
    "pi_info_raw.head()"
   ]
  },
  {
   "cell_type": "code",
   "execution_count": 538,
   "metadata": {
    "collapsed": false
   },
   "outputs": [],
   "source": [
    "pi_info_cleaned = cln.strip_df(pi_info_raw, ' ', ';', '.')"
   ]
  },
  {
   "cell_type": "code",
   "execution_count": 539,
   "metadata": {
    "collapsed": false
   },
   "outputs": [
    {
     "name": "stdout",
     "output_type": "stream",
     "text": [
      "<class 'pandas.core.frame.DataFrame'>\n",
      "RangeIndex: 71872 entries, 0 to 71871\n",
      "Data columns (total 7 columns):\n",
      "pi_ids         71872 non-null object\n",
      "pi_names       71872 non-null object\n",
      "org_name       71766 non-null object\n",
      "org_city       68527 non-null object\n",
      "org_state      67740 non-null object\n",
      "org_country    68528 non-null object\n",
      "org_zipcode    68363 non-null object\n",
      "dtypes: object(7)\n",
      "memory usage: 3.8+ MB\n"
     ]
    }
   ],
   "source": [
    "pi_info_cleaned.info()"
   ]
  },
  {
   "cell_type": "code",
   "execution_count": 540,
   "metadata": {
    "collapsed": false,
    "scrolled": true
   },
   "outputs": [
    {
     "data": {
      "text/html": [
       "<div>\n",
       "<table border=\"1\" class=\"dataframe\">\n",
       "  <thead>\n",
       "    <tr style=\"text-align: right;\">\n",
       "      <th></th>\n",
       "      <th>pi_ids</th>\n",
       "      <th>pi_names</th>\n",
       "      <th>org_name</th>\n",
       "      <th>org_city</th>\n",
       "      <th>org_state</th>\n",
       "      <th>org_country</th>\n",
       "      <th>org_zipcode</th>\n",
       "    </tr>\n",
       "  </thead>\n",
       "  <tbody>\n",
       "    <tr>\n",
       "      <th>0</th>\n",
       "      <td>10799126</td>\n",
       "      <td>scott, stuart alexander</td>\n",
       "      <td>icahn school of medicine at mount sinai</td>\n",
       "      <td>new york</td>\n",
       "      <td>ny</td>\n",
       "      <td>united states</td>\n",
       "      <td>100296574</td>\n",
       "    </tr>\n",
       "    <tr>\n",
       "      <th>1</th>\n",
       "      <td>7017365</td>\n",
       "      <td>polster, brian m</td>\n",
       "      <td>university of maryland baltimore</td>\n",
       "      <td>baltimore</td>\n",
       "      <td>md</td>\n",
       "      <td>united states</td>\n",
       "      <td>212011508</td>\n",
       "    </tr>\n",
       "    <tr>\n",
       "      <th>2</th>\n",
       "      <td>7354078; 1862210 (contact)</td>\n",
       "      <td>walton, maureen a; zucker, robert alpert (cont...</td>\n",
       "      <td>university of michigan</td>\n",
       "      <td>ann arbor</td>\n",
       "      <td>mi</td>\n",
       "      <td>united states</td>\n",
       "      <td>481091276</td>\n",
       "    </tr>\n",
       "    <tr>\n",
       "      <th>3</th>\n",
       "      <td>2275890 (contact); 8742217; 6139020</td>\n",
       "      <td>dulac, catherine g (contact); regev, aviv ; zh...</td>\n",
       "      <td>harvard university</td>\n",
       "      <td>cambridge</td>\n",
       "      <td>ma</td>\n",
       "      <td>united states</td>\n",
       "      <td>21385369</td>\n",
       "    </tr>\n",
       "    <tr>\n",
       "      <th>4</th>\n",
       "      <td>9868481; 2063694 (contact)</td>\n",
       "      <td>chen, xuesong ; geiger, jonathan david (contact)</td>\n",
       "      <td>university of north dakota</td>\n",
       "      <td>grand forks</td>\n",
       "      <td>nd</td>\n",
       "      <td>united states</td>\n",
       "      <td>582026059</td>\n",
       "    </tr>\n",
       "  </tbody>\n",
       "</table>\n",
       "</div>"
      ],
      "text/plain": [
       "                                pi_ids  \\\n",
       "0                             10799126   \n",
       "1                              7017365   \n",
       "2           7354078; 1862210 (contact)   \n",
       "3  2275890 (contact); 8742217; 6139020   \n",
       "4           9868481; 2063694 (contact)   \n",
       "\n",
       "                                            pi_names  \\\n",
       "0                            scott, stuart alexander   \n",
       "1                                   polster, brian m   \n",
       "2  walton, maureen a; zucker, robert alpert (cont...   \n",
       "3  dulac, catherine g (contact); regev, aviv ; zh...   \n",
       "4   chen, xuesong ; geiger, jonathan david (contact)   \n",
       "\n",
       "                                  org_name     org_city org_state  \\\n",
       "0  icahn school of medicine at mount sinai     new york        ny   \n",
       "1         university of maryland baltimore    baltimore        md   \n",
       "2                   university of michigan    ann arbor        mi   \n",
       "3                       harvard university    cambridge        ma   \n",
       "4               university of north dakota  grand forks        nd   \n",
       "\n",
       "     org_country org_zipcode  \n",
       "0  united states   100296574  \n",
       "1  united states   212011508  \n",
       "2  united states   481091276  \n",
       "3  united states    21385369  \n",
       "4  united states   582026059  "
      ]
     },
     "execution_count": 540,
     "metadata": {},
     "output_type": "execute_result"
    }
   ],
   "source": [
    "pi_info_cleaned.head()"
   ]
  },
  {
   "cell_type": "markdown",
   "metadata": {},
   "source": [
    "## Splitting PI Info\n",
    "Some grants have multiple PIs listed on the grant, and the information for the group of PIs is listed only as the contact PI's information. In order to get unique PI information, these PI groups must be separated into individual PIs."
   ]
  },
  {
   "cell_type": "markdown",
   "metadata": {},
   "source": [
    "Split pi_info_cleaned into two dataframes, one containing grouped (multiple) PIs and one containing single PIs."
   ]
  },
  {
   "cell_type": "code",
   "execution_count": 541,
   "metadata": {
    "collapsed": false
   },
   "outputs": [],
   "source": [
    "multi_pi_unsplit = pi_info_cleaned.ix[pi_info_cleaned['pi_ids'].str.contains('contact')]\n",
    "pi_info = pi_info_cleaned.drop(multi_pi_split.index)"
   ]
  },
  {
   "cell_type": "markdown",
   "metadata": {},
   "source": [
    "Drop duplicates from unique PIs"
   ]
  },
  {
   "cell_type": "code",
   "execution_count": 542,
   "metadata": {
    "collapsed": false
   },
   "outputs": [
    {
     "data": {
      "text/plain": [
       "(62262, 7)"
      ]
     },
     "execution_count": 542,
     "metadata": {},
     "output_type": "execute_result"
    },
    {
     "data": {
      "text/plain": [
       "(40104, 7)"
      ]
     },
     "execution_count": 542,
     "metadata": {},
     "output_type": "execute_result"
    },
    {
     "data": {
      "text/html": [
       "<div>\n",
       "<table border=\"1\" class=\"dataframe\">\n",
       "  <thead>\n",
       "    <tr style=\"text-align: right;\">\n",
       "      <th></th>\n",
       "      <th>pi_ids</th>\n",
       "      <th>pi_names</th>\n",
       "      <th>org_name</th>\n",
       "      <th>org_city</th>\n",
       "      <th>org_state</th>\n",
       "      <th>org_country</th>\n",
       "      <th>org_zipcode</th>\n",
       "    </tr>\n",
       "  </thead>\n",
       "  <tbody>\n",
       "    <tr>\n",
       "      <th>0</th>\n",
       "      <td>10799126</td>\n",
       "      <td>scott, stuart alexander</td>\n",
       "      <td>icahn school of medicine at mount sinai</td>\n",
       "      <td>new york</td>\n",
       "      <td>ny</td>\n",
       "      <td>united states</td>\n",
       "      <td>100296574</td>\n",
       "    </tr>\n",
       "    <tr>\n",
       "      <th>1</th>\n",
       "      <td>7017365</td>\n",
       "      <td>polster, brian m</td>\n",
       "      <td>university of maryland baltimore</td>\n",
       "      <td>baltimore</td>\n",
       "      <td>md</td>\n",
       "      <td>united states</td>\n",
       "      <td>212011508</td>\n",
       "    </tr>\n",
       "    <tr>\n",
       "      <th>5</th>\n",
       "      <td>1866930</td>\n",
       "      <td>so, peter t</td>\n",
       "      <td>massachusetts institute of technology</td>\n",
       "      <td>cambridge</td>\n",
       "      <td>ma</td>\n",
       "      <td>united states</td>\n",
       "      <td>21421029</td>\n",
       "    </tr>\n",
       "    <tr>\n",
       "      <th>7</th>\n",
       "      <td>11044822</td>\n",
       "      <td>gade, terence p</td>\n",
       "      <td>university of pennsylvania</td>\n",
       "      <td>philadelphia</td>\n",
       "      <td>pa</td>\n",
       "      <td>united states</td>\n",
       "      <td>191046205</td>\n",
       "    </tr>\n",
       "    <tr>\n",
       "      <th>8</th>\n",
       "      <td>9335858</td>\n",
       "      <td>qi, ling</td>\n",
       "      <td>cornell university</td>\n",
       "      <td>ithaca</td>\n",
       "      <td>ny</td>\n",
       "      <td>united states</td>\n",
       "      <td>148502820</td>\n",
       "    </tr>\n",
       "  </tbody>\n",
       "</table>\n",
       "</div>"
      ],
      "text/plain": [
       "     pi_ids                 pi_names                                 org_name  \\\n",
       "0  10799126  scott, stuart alexander  icahn school of medicine at mount sinai   \n",
       "1   7017365         polster, brian m         university of maryland baltimore   \n",
       "5   1866930              so, peter t    massachusetts institute of technology   \n",
       "7  11044822          gade, terence p               university of pennsylvania   \n",
       "8   9335858                qi, ling                        cornell university   \n",
       "\n",
       "       org_city org_state    org_country org_zipcode  \n",
       "0      new york        ny  united states   100296574  \n",
       "1     baltimore        md  united states   212011508  \n",
       "5     cambridge        ma  united states    21421029  \n",
       "7  philadelphia        pa  united states   191046205  \n",
       "8        ithaca        ny  united states   148502820  "
      ]
     },
     "execution_count": 542,
     "metadata": {},
     "output_type": "execute_result"
    }
   ],
   "source": [
    "pi_info.shape\n",
    "pi_unique = pi_info.drop_duplicates('pi_ids')\n",
    "pi_unique.shape\n",
    "pi_unique.head()"
   ]
  },
  {
   "cell_type": "markdown",
   "metadata": {},
   "source": [
    "Split multiple PIs on PI ID."
   ]
  },
  {
   "cell_type": "code",
   "execution_count": 543,
   "metadata": {
    "collapsed": false,
    "scrolled": true
   },
   "outputs": [
    {
     "data": {
      "text/html": [
       "<div>\n",
       "<table border=\"1\" class=\"dataframe\">\n",
       "  <thead>\n",
       "    <tr style=\"text-align: right;\">\n",
       "      <th></th>\n",
       "      <th>pi_names</th>\n",
       "      <th>org_name</th>\n",
       "      <th>org_city</th>\n",
       "      <th>org_state</th>\n",
       "      <th>org_country</th>\n",
       "      <th>org_zipcode</th>\n",
       "      <th>pi_ids</th>\n",
       "    </tr>\n",
       "  </thead>\n",
       "  <tbody>\n",
       "    <tr>\n",
       "      <th>2</th>\n",
       "      <td>walton, maureen a; zucker, robert alpert (cont...</td>\n",
       "      <td>university of michigan</td>\n",
       "      <td>ann arbor</td>\n",
       "      <td>mi</td>\n",
       "      <td>united states</td>\n",
       "      <td>481091276</td>\n",
       "      <td>7354078</td>\n",
       "    </tr>\n",
       "    <tr>\n",
       "      <th>2</th>\n",
       "      <td>walton, maureen a; zucker, robert alpert (cont...</td>\n",
       "      <td>university of michigan</td>\n",
       "      <td>ann arbor</td>\n",
       "      <td>mi</td>\n",
       "      <td>united states</td>\n",
       "      <td>481091276</td>\n",
       "      <td>1862210 (contact)</td>\n",
       "    </tr>\n",
       "    <tr>\n",
       "      <th>3</th>\n",
       "      <td>dulac, catherine g (contact); regev, aviv ; zh...</td>\n",
       "      <td>harvard university</td>\n",
       "      <td>cambridge</td>\n",
       "      <td>ma</td>\n",
       "      <td>united states</td>\n",
       "      <td>21385369</td>\n",
       "      <td>2275890 (contact)</td>\n",
       "    </tr>\n",
       "    <tr>\n",
       "      <th>3</th>\n",
       "      <td>dulac, catherine g (contact); regev, aviv ; zh...</td>\n",
       "      <td>harvard university</td>\n",
       "      <td>cambridge</td>\n",
       "      <td>ma</td>\n",
       "      <td>united states</td>\n",
       "      <td>21385369</td>\n",
       "      <td>8742217</td>\n",
       "    </tr>\n",
       "    <tr>\n",
       "      <th>3</th>\n",
       "      <td>dulac, catherine g (contact); regev, aviv ; zh...</td>\n",
       "      <td>harvard university</td>\n",
       "      <td>cambridge</td>\n",
       "      <td>ma</td>\n",
       "      <td>united states</td>\n",
       "      <td>21385369</td>\n",
       "      <td>6139020</td>\n",
       "    </tr>\n",
       "  </tbody>\n",
       "</table>\n",
       "</div>"
      ],
      "text/plain": [
       "                                            pi_names                org_name  \\\n",
       "2  walton, maureen a; zucker, robert alpert (cont...  university of michigan   \n",
       "2  walton, maureen a; zucker, robert alpert (cont...  university of michigan   \n",
       "3  dulac, catherine g (contact); regev, aviv ; zh...      harvard university   \n",
       "3  dulac, catherine g (contact); regev, aviv ; zh...      harvard university   \n",
       "3  dulac, catherine g (contact); regev, aviv ; zh...      harvard university   \n",
       "\n",
       "    org_city org_state    org_country org_zipcode              pi_ids  \n",
       "2  ann arbor        mi  united states   481091276             7354078  \n",
       "2  ann arbor        mi  united states   481091276   1862210 (contact)  \n",
       "3  cambridge        ma  united states    21385369   2275890 (contact)  \n",
       "3  cambridge        ma  united states    21385369             8742217  \n",
       "3  cambridge        ma  united states    21385369             6139020  "
      ]
     },
     "execution_count": 543,
     "metadata": {},
     "output_type": "execute_result"
    }
   ],
   "source": [
    "multi_pi = cln.split_rows_pis(multi_pi_unsplit, 'pi_ids')\n",
    "multi_pi.head()"
   ]
  },
  {
   "cell_type": "markdown",
   "metadata": {},
   "source": [
    "Create a df where the '(contact)' string has been stripped from pi_ids; this will allow identification of unique PI IDs (otherwise an ID with '(contact)' appended at the end is viewed as a unique string)."
   ]
  },
  {
   "cell_type": "code",
   "execution_count": 544,
   "metadata": {
    "collapsed": false,
    "scrolled": true
   },
   "outputs": [
    {
     "data": {
      "text/html": [
       "<div>\n",
       "<table border=\"1\" class=\"dataframe\">\n",
       "  <thead>\n",
       "    <tr style=\"text-align: right;\">\n",
       "      <th></th>\n",
       "      <th>pi_names</th>\n",
       "      <th>org_name</th>\n",
       "      <th>org_city</th>\n",
       "      <th>org_state</th>\n",
       "      <th>org_country</th>\n",
       "      <th>org_zipcode</th>\n",
       "      <th>pi_ids</th>\n",
       "    </tr>\n",
       "  </thead>\n",
       "  <tbody>\n",
       "    <tr>\n",
       "      <th>2</th>\n",
       "      <td>walton, maureen a; zucker, robert alpert (cont...</td>\n",
       "      <td>university of michigan</td>\n",
       "      <td>ann arbor</td>\n",
       "      <td>mi</td>\n",
       "      <td>united states</td>\n",
       "      <td>481091276</td>\n",
       "      <td>7354078</td>\n",
       "    </tr>\n",
       "    <tr>\n",
       "      <th>2</th>\n",
       "      <td>walton, maureen a; zucker, robert alpert (cont...</td>\n",
       "      <td>university of michigan</td>\n",
       "      <td>ann arbor</td>\n",
       "      <td>mi</td>\n",
       "      <td>united states</td>\n",
       "      <td>481091276</td>\n",
       "      <td>1862210</td>\n",
       "    </tr>\n",
       "    <tr>\n",
       "      <th>3</th>\n",
       "      <td>dulac, catherine g (contact); regev, aviv ; zh...</td>\n",
       "      <td>harvard university</td>\n",
       "      <td>cambridge</td>\n",
       "      <td>ma</td>\n",
       "      <td>united states</td>\n",
       "      <td>21385369</td>\n",
       "      <td>2275890</td>\n",
       "    </tr>\n",
       "    <tr>\n",
       "      <th>3</th>\n",
       "      <td>dulac, catherine g (contact); regev, aviv ; zh...</td>\n",
       "      <td>harvard university</td>\n",
       "      <td>cambridge</td>\n",
       "      <td>ma</td>\n",
       "      <td>united states</td>\n",
       "      <td>21385369</td>\n",
       "      <td>8742217</td>\n",
       "    </tr>\n",
       "    <tr>\n",
       "      <th>3</th>\n",
       "      <td>dulac, catherine g (contact); regev, aviv ; zh...</td>\n",
       "      <td>harvard university</td>\n",
       "      <td>cambridge</td>\n",
       "      <td>ma</td>\n",
       "      <td>united states</td>\n",
       "      <td>21385369</td>\n",
       "      <td>6139020</td>\n",
       "    </tr>\n",
       "  </tbody>\n",
       "</table>\n",
       "</div>"
      ],
      "text/plain": [
       "                                            pi_names                org_name  \\\n",
       "2  walton, maureen a; zucker, robert alpert (cont...  university of michigan   \n",
       "2  walton, maureen a; zucker, robert alpert (cont...  university of michigan   \n",
       "3  dulac, catherine g (contact); regev, aviv ; zh...      harvard university   \n",
       "3  dulac, catherine g (contact); regev, aviv ; zh...      harvard university   \n",
       "3  dulac, catherine g (contact); regev, aviv ; zh...      harvard university   \n",
       "\n",
       "    org_city org_state    org_country org_zipcode   pi_ids  \n",
       "2  ann arbor        mi  united states   481091276  7354078  \n",
       "2  ann arbor        mi  united states   481091276  1862210  \n",
       "3  cambridge        ma  united states    21385369  2275890  \n",
       "3  cambridge        ma  united states    21385369  8742217  \n",
       "3  cambridge        ma  united states    21385369  6139020  "
      ]
     },
     "execution_count": 544,
     "metadata": {},
     "output_type": "execute_result"
    }
   ],
   "source": [
    "multi_stripped = multi_pi.copy()\n",
    "multi_stripped['pi_ids'] = multi_stripped['pi_ids'].str.strip(' (contact)')\n",
    "multi_stripped.head()"
   ]
  },
  {
   "cell_type": "markdown",
   "metadata": {},
   "source": [
    "Create columns in split multi_pi df denoting whether the PI is the contact and whether the PI ID is already present in the df pi_unique (which contains all PIs that are solo authors of a grant). If the PI is already in pi_unique, we do not need to separate their information again."
   ]
  },
  {
   "cell_type": "code",
   "execution_count": 545,
   "metadata": {
    "collapsed": false,
    "scrolled": false
   },
   "outputs": [
    {
     "data": {
      "text/html": [
       "<div>\n",
       "<table border=\"1\" class=\"dataframe\">\n",
       "  <thead>\n",
       "    <tr style=\"text-align: right;\">\n",
       "      <th></th>\n",
       "      <th>pi_names</th>\n",
       "      <th>org_name</th>\n",
       "      <th>org_city</th>\n",
       "      <th>org_state</th>\n",
       "      <th>org_country</th>\n",
       "      <th>org_zipcode</th>\n",
       "      <th>pi_ids</th>\n",
       "      <th>contact</th>\n",
       "      <th>unique_pi</th>\n",
       "    </tr>\n",
       "  </thead>\n",
       "  <tbody>\n",
       "    <tr>\n",
       "      <th>2</th>\n",
       "      <td>walton, maureen a; zucker, robert alpert (cont...</td>\n",
       "      <td>university of michigan</td>\n",
       "      <td>ann arbor</td>\n",
       "      <td>mi</td>\n",
       "      <td>united states</td>\n",
       "      <td>481091276</td>\n",
       "      <td>7354078</td>\n",
       "      <td>False</td>\n",
       "      <td>True</td>\n",
       "    </tr>\n",
       "    <tr>\n",
       "      <th>2</th>\n",
       "      <td>walton, maureen a; zucker, robert alpert (cont...</td>\n",
       "      <td>university of michigan</td>\n",
       "      <td>ann arbor</td>\n",
       "      <td>mi</td>\n",
       "      <td>united states</td>\n",
       "      <td>481091276</td>\n",
       "      <td>1862210 (contact)</td>\n",
       "      <td>True</td>\n",
       "      <td>False</td>\n",
       "    </tr>\n",
       "    <tr>\n",
       "      <th>3</th>\n",
       "      <td>dulac, catherine g (contact); regev, aviv ; zh...</td>\n",
       "      <td>harvard university</td>\n",
       "      <td>cambridge</td>\n",
       "      <td>ma</td>\n",
       "      <td>united states</td>\n",
       "      <td>21385369</td>\n",
       "      <td>2275890 (contact)</td>\n",
       "      <td>True</td>\n",
       "      <td>True</td>\n",
       "    </tr>\n",
       "    <tr>\n",
       "      <th>3</th>\n",
       "      <td>dulac, catherine g (contact); regev, aviv ; zh...</td>\n",
       "      <td>harvard university</td>\n",
       "      <td>cambridge</td>\n",
       "      <td>ma</td>\n",
       "      <td>united states</td>\n",
       "      <td>21385369</td>\n",
       "      <td>8742217</td>\n",
       "      <td>False</td>\n",
       "      <td>True</td>\n",
       "    </tr>\n",
       "    <tr>\n",
       "      <th>3</th>\n",
       "      <td>dulac, catherine g (contact); regev, aviv ; zh...</td>\n",
       "      <td>harvard university</td>\n",
       "      <td>cambridge</td>\n",
       "      <td>ma</td>\n",
       "      <td>united states</td>\n",
       "      <td>21385369</td>\n",
       "      <td>6139020</td>\n",
       "      <td>False</td>\n",
       "      <td>True</td>\n",
       "    </tr>\n",
       "  </tbody>\n",
       "</table>\n",
       "</div>"
      ],
      "text/plain": [
       "                                            pi_names                org_name  \\\n",
       "2  walton, maureen a; zucker, robert alpert (cont...  university of michigan   \n",
       "2  walton, maureen a; zucker, robert alpert (cont...  university of michigan   \n",
       "3  dulac, catherine g (contact); regev, aviv ; zh...      harvard university   \n",
       "3  dulac, catherine g (contact); regev, aviv ; zh...      harvard university   \n",
       "3  dulac, catherine g (contact); regev, aviv ; zh...      harvard university   \n",
       "\n",
       "    org_city org_state    org_country org_zipcode              pi_ids contact  \\\n",
       "2  ann arbor        mi  united states   481091276             7354078   False   \n",
       "2  ann arbor        mi  united states   481091276   1862210 (contact)    True   \n",
       "3  cambridge        ma  united states    21385369   2275890 (contact)    True   \n",
       "3  cambridge        ma  united states    21385369             8742217   False   \n",
       "3  cambridge        ma  united states    21385369             6139020   False   \n",
       "\n",
       "  unique_pi  \n",
       "2      True  \n",
       "2     False  \n",
       "3      True  \n",
       "3      True  \n",
       "3      True  "
      ]
     },
     "execution_count": 545,
     "metadata": {},
     "output_type": "execute_result"
    }
   ],
   "source": [
    "multi_pi['contact'] = multi_pi['pi_ids'].str.contains('contact')\n",
    "in_pi_unique = multi_stripped['pi_ids'].isin(pi_unique['pi_ids'])\n",
    "multi_pi['unique_pi'] = in_pi_unique\n",
    "multi_pi.head()"
   ]
  },
  {
   "cell_type": "markdown",
   "metadata": {},
   "source": [
    "One PI is always designated as a contact if there are multiple PIs listed on a grant. If the PI's ID was not in the df pi_unique, but is listed as a contact (that is, unique_pi == False but contact == True), then we can isolate their information and add this information to pi_unique."
   ]
  },
  {
   "cell_type": "code",
   "execution_count": 546,
   "metadata": {
    "collapsed": false
   },
   "outputs": [
    {
     "data": {
      "text/plain": [
       "(4078, 9)"
      ]
     },
     "execution_count": 546,
     "metadata": {},
     "output_type": "execute_result"
    },
    {
     "data": {
      "text/html": [
       "<div>\n",
       "<table border=\"1\" class=\"dataframe\">\n",
       "  <thead>\n",
       "    <tr style=\"text-align: right;\">\n",
       "      <th></th>\n",
       "      <th>org_name</th>\n",
       "      <th>org_city</th>\n",
       "      <th>org_state</th>\n",
       "      <th>org_country</th>\n",
       "      <th>org_zipcode</th>\n",
       "      <th>pi_ids</th>\n",
       "      <th>contact</th>\n",
       "      <th>unique_pi</th>\n",
       "      <th>pi_names</th>\n",
       "    </tr>\n",
       "  </thead>\n",
       "  <tbody>\n",
       "    <tr>\n",
       "      <th>2</th>\n",
       "      <td>university of michigan</td>\n",
       "      <td>ann arbor</td>\n",
       "      <td>mi</td>\n",
       "      <td>united states</td>\n",
       "      <td>481091276</td>\n",
       "      <td>1862210</td>\n",
       "      <td>True</td>\n",
       "      <td>False</td>\n",
       "      <td>zucker, robert alpert</td>\n",
       "    </tr>\n",
       "    <tr>\n",
       "      <th>18</th>\n",
       "      <td>clarkson university</td>\n",
       "      <td>potsdam</td>\n",
       "      <td>ny</td>\n",
       "      <td>united states</td>\n",
       "      <td>136995630</td>\n",
       "      <td>10420866</td>\n",
       "      <td>True</td>\n",
       "      <td>False</td>\n",
       "      <td>philpott, sean m.</td>\n",
       "    </tr>\n",
       "    <tr>\n",
       "      <th>19</th>\n",
       "      <td>university of hawaii at manoa</td>\n",
       "      <td>honolulu</td>\n",
       "      <td>hi</td>\n",
       "      <td>united states</td>\n",
       "      <td>968222234</td>\n",
       "      <td>12546171</td>\n",
       "      <td>True</td>\n",
       "      <td>False</td>\n",
       "      <td>pirkle, catherine mclean</td>\n",
       "    </tr>\n",
       "    <tr>\n",
       "      <th>39</th>\n",
       "      <td>university of virginia</td>\n",
       "      <td>charlottesville</td>\n",
       "      <td>va</td>\n",
       "      <td>united states</td>\n",
       "      <td>229044195</td>\n",
       "      <td>1866186</td>\n",
       "      <td>True</td>\n",
       "      <td>False</td>\n",
       "      <td>brautigan, david l.</td>\n",
       "    </tr>\n",
       "    <tr>\n",
       "      <th>45</th>\n",
       "      <td>university of washington</td>\n",
       "      <td>seattle</td>\n",
       "      <td>wa</td>\n",
       "      <td>united states</td>\n",
       "      <td>981959472</td>\n",
       "      <td>1896877</td>\n",
       "      <td>True</td>\n",
       "      <td>False</td>\n",
       "      <td>glenny, robb w</td>\n",
       "    </tr>\n",
       "  </tbody>\n",
       "</table>\n",
       "</div>"
      ],
      "text/plain": [
       "                         org_name         org_city org_state    org_country  \\\n",
       "2          university of michigan        ann arbor        mi  united states   \n",
       "18            clarkson university          potsdam        ny  united states   \n",
       "19  university of hawaii at manoa         honolulu        hi  united states   \n",
       "39         university of virginia  charlottesville        va  united states   \n",
       "45       university of washington          seattle        wa  united states   \n",
       "\n",
       "   org_zipcode      pi_ids contact unique_pi                    pi_names  \n",
       "2    481091276    1862210     True     False      zucker, robert alpert   \n",
       "18   136995630   10420866     True     False          philpott, sean m.   \n",
       "19   968222234   12546171     True     False   pirkle, catherine mclean   \n",
       "39   229044195    1866186     True     False        brautigan, david l.   \n",
       "45   981959472    1896877     True     False             glenny, robb w   "
      ]
     },
     "execution_count": 546,
     "metadata": {},
     "output_type": "execute_result"
    }
   ],
   "source": [
    "unique_contact = multi_pi[(multi_pi['unique_pi'] == False) & (multi_pi['contact'] == True)]\n",
    "unique_contact = cln.split_rows_pis(unique_contact, 'pi_names')\n",
    "unique_contact = unique_contact[unique_contact['pi_names'].str.contains('contact')]\n",
    "unique_contact = cln.strip_series(unique_contact, ['pi_ids', 'pi_names'])\n",
    "#unique_contact.shape\n",
    "unique_contact = unique_contact.drop_duplicates('pi_ids')\n",
    "unique_contact.shape\n",
    "unique_contact.head()"
   ]
  },
  {
   "cell_type": "markdown",
   "metadata": {},
   "source": [
    "If the PI ID is neither listed in unique_pi nor are they ever listed as a contact, then we cannot identify whether their organization information is actually different from the contact PI's information. These names will therefore not be split (the IDs are already split).\n",
    "\n",
    "**Note:** When doing analysis from multiple years, PI IDs should be cross-referenced across years in case a PI did have a solo grant in one year but not in others."
   ]
  },
  {
   "cell_type": "code",
   "execution_count": 547,
   "metadata": {
    "collapsed": false
   },
   "outputs": [
    {
     "data": {
      "text/html": [
       "<div>\n",
       "<table border=\"1\" class=\"dataframe\">\n",
       "  <thead>\n",
       "    <tr style=\"text-align: right;\">\n",
       "      <th></th>\n",
       "      <th>pi_names</th>\n",
       "      <th>org_name</th>\n",
       "      <th>org_city</th>\n",
       "      <th>org_state</th>\n",
       "      <th>org_country</th>\n",
       "      <th>org_zipcode</th>\n",
       "      <th>pi_ids</th>\n",
       "      <th>contact</th>\n",
       "      <th>unique_pi</th>\n",
       "    </tr>\n",
       "  </thead>\n",
       "  <tbody>\n",
       "    <tr>\n",
       "      <th>6</th>\n",
       "      <td>eden, uri tzvi; frank, loren m; ganguli, surya...</td>\n",
       "      <td>cold spring harbor laboratory</td>\n",
       "      <td>cold spring harbor</td>\n",
       "      <td>ny</td>\n",
       "      <td>united states</td>\n",
       "      <td>117242209</td>\n",
       "      <td>9851446</td>\n",
       "      <td>False</td>\n",
       "      <td>False</td>\n",
       "    </tr>\n",
       "    <tr>\n",
       "      <th>6</th>\n",
       "      <td>eden, uri tzvi; frank, loren m; ganguli, surya...</td>\n",
       "      <td>cold spring harbor laboratory</td>\n",
       "      <td>cold spring harbor</td>\n",
       "      <td>ny</td>\n",
       "      <td>united states</td>\n",
       "      <td>117242209</td>\n",
       "      <td>2291297</td>\n",
       "      <td>False</td>\n",
       "      <td>False</td>\n",
       "    </tr>\n",
       "    <tr>\n",
       "      <th>6</th>\n",
       "      <td>eden, uri tzvi; frank, loren m; ganguli, surya...</td>\n",
       "      <td>cold spring harbor laboratory</td>\n",
       "      <td>cold spring harbor</td>\n",
       "      <td>ny</td>\n",
       "      <td>united states</td>\n",
       "      <td>117242209</td>\n",
       "      <td>12280974</td>\n",
       "      <td>False</td>\n",
       "      <td>False</td>\n",
       "    </tr>\n",
       "    <tr>\n",
       "      <th>6</th>\n",
       "      <td>eden, uri tzvi; frank, loren m; ganguli, surya...</td>\n",
       "      <td>cold spring harbor laboratory</td>\n",
       "      <td>cold spring harbor</td>\n",
       "      <td>ny</td>\n",
       "      <td>united states</td>\n",
       "      <td>117242209</td>\n",
       "      <td>10329759</td>\n",
       "      <td>False</td>\n",
       "      <td>False</td>\n",
       "    </tr>\n",
       "    <tr>\n",
       "      <th>6</th>\n",
       "      <td>eden, uri tzvi; frank, loren m; ganguli, surya...</td>\n",
       "      <td>cold spring harbor laboratory</td>\n",
       "      <td>cold spring harbor</td>\n",
       "      <td>ny</td>\n",
       "      <td>united states</td>\n",
       "      <td>117242209</td>\n",
       "      <td>12572655</td>\n",
       "      <td>False</td>\n",
       "      <td>False</td>\n",
       "    </tr>\n",
       "  </tbody>\n",
       "</table>\n",
       "</div>"
      ],
      "text/plain": [
       "                                            pi_names  \\\n",
       "6  eden, uri tzvi; frank, loren m; ganguli, surya...   \n",
       "6  eden, uri tzvi; frank, loren m; ganguli, surya...   \n",
       "6  eden, uri tzvi; frank, loren m; ganguli, surya...   \n",
       "6  eden, uri tzvi; frank, loren m; ganguli, surya...   \n",
       "6  eden, uri tzvi; frank, loren m; ganguli, surya...   \n",
       "\n",
       "                        org_name            org_city org_state    org_country  \\\n",
       "6  cold spring harbor laboratory  cold spring harbor        ny  united states   \n",
       "6  cold spring harbor laboratory  cold spring harbor        ny  united states   \n",
       "6  cold spring harbor laboratory  cold spring harbor        ny  united states   \n",
       "6  cold spring harbor laboratory  cold spring harbor        ny  united states   \n",
       "6  cold spring harbor laboratory  cold spring harbor        ny  united states   \n",
       "\n",
       "  org_zipcode     pi_ids contact unique_pi  \n",
       "6   117242209    9851446   False     False  \n",
       "6   117242209    2291297   False     False  \n",
       "6   117242209   12280974   False     False  \n",
       "6   117242209   10329759   False     False  \n",
       "6   117242209   12572655   False     False  "
      ]
     },
     "execution_count": 547,
     "metadata": {},
     "output_type": "execute_result"
    }
   ],
   "source": [
    "not_contact = multi_pi[(multi_pi['unique_pi'] == False) & (multi_pi['contact'] == False)]\n",
    "not_contact = not_contact.drop_duplicates('pi_ids')\n",
    "not_contact.head()"
   ]
  },
  {
   "cell_type": "markdown",
   "metadata": {},
   "source": [
    "Join all dfs containing unique PI ids."
   ]
  },
  {
   "cell_type": "code",
   "execution_count": 548,
   "metadata": {
    "collapsed": false
   },
   "outputs": [
    {
     "data": {
      "text/plain": [
       "(9686, 7)"
      ]
     },
     "execution_count": 548,
     "metadata": {},
     "output_type": "execute_result"
    },
    {
     "data": {
      "text/plain": [
       "(40104, 7)"
      ]
     },
     "execution_count": 548,
     "metadata": {},
     "output_type": "execute_result"
    },
    {
     "data": {
      "text/plain": [
       "(49790, 7)"
      ]
     },
     "execution_count": 548,
     "metadata": {},
     "output_type": "execute_result"
    }
   ],
   "source": [
    "#Reorder columns so joins can be performed correctly\n",
    "cols1 = unique_contact.columns.tolist()\n",
    "cols1 = cols1[-4:-3] + cols1[-1:] + cols1[0:5]\n",
    "unique_1 = unique_contact[cols1]\n",
    "\n",
    "cols2 = not_contact.columns.tolist()\n",
    "cols2 = cols2[-3:-2] + cols2[0:6]\n",
    "unique_2 = not_contact[cols2]\n",
    "\n",
    "unique_multi = unique_1.append(unique_2)\n",
    "#unique_multi.ix[unique_multi['pi_ids'].str.contains('contact')]\n",
    "unique_multi = unique_multi.drop_duplicates('pi_ids')\n",
    "unique_multi.shape\n",
    "\n",
    "pi_unique.shape\n",
    "pi_unique = pi_unique.append(unique_multi)\n",
    "pi_unique.shape"
   ]
  },
  {
   "cell_type": "markdown",
   "metadata": {},
   "source": [
    "## Fixing zipcodes\n",
    "The leading zero of New England zipcodes were dropped in raw data. Add leading zero to zipcodes from the US that are length 8 or 4."
   ]
  },
  {
   "cell_type": "code",
   "execution_count": 549,
   "metadata": {
    "collapsed": false
   },
   "outputs": [
    {
     "data": {
      "text/plain": [
       "9.0     40466\n",
       "8.0      6558\n",
       "5.0       489\n",
       "7.0       301\n",
       "4.0       239\n",
       "6.0        67\n",
       "3.0        54\n",
       "1.0        38\n",
       "10.0        3\n",
       "2.0         3\n",
       "Name: org_zipcode, dtype: int64"
      ]
     },
     "execution_count": 549,
     "metadata": {},
     "output_type": "execute_result"
    }
   ],
   "source": [
    "pi_unique['org_zipcode'].str.len().value_counts()"
   ]
  },
  {
   "cell_type": "code",
   "execution_count": 550,
   "metadata": {
    "collapsed": false
   },
   "outputs": [],
   "source": [
    "zip_8, zip_9 = add_zero_zip(pi_unique, 8.0)\n",
    "zip_4, zip_5 = add_zero_zip(pi_unique, 4.0)"
   ]
  },
  {
   "cell_type": "code",
   "execution_count": 551,
   "metadata": {
    "collapsed": false
   },
   "outputs": [],
   "source": [
    "pi_unique['org_zipcode'] = pi_unique['org_zipcode'].replace(zip_8, zip_9)\n",
    "pi_unique['org_zipcode'] = pi_unique['org_zipcode'].replace(zip_4, zip_5)"
   ]
  },
  {
   "cell_type": "code",
   "execution_count": 552,
   "metadata": {
    "collapsed": false
   },
   "outputs": [
    {
     "data": {
      "text/plain": [
       "9.0     46968\n",
       "5.0       524\n",
       "7.0       301\n",
       "4.0       204\n",
       "6.0        67\n",
       "8.0        56\n",
       "3.0        54\n",
       "1.0        38\n",
       "10.0        3\n",
       "2.0         3\n",
       "Name: org_zipcode, dtype: int64"
      ]
     },
     "execution_count": 552,
     "metadata": {},
     "output_type": "execute_result"
    }
   ],
   "source": [
    "pi_unique['org_zipcode'].str.len().value_counts()"
   ]
  },
  {
   "cell_type": "markdown",
   "metadata": {},
   "source": [
    "## Final information "
   ]
  },
  {
   "cell_type": "code",
   "execution_count": 553,
   "metadata": {
    "collapsed": false
   },
   "outputs": [
    {
     "data": {
      "text/html": [
       "<div>\n",
       "<table border=\"1\" class=\"dataframe\">\n",
       "  <thead>\n",
       "    <tr style=\"text-align: right;\">\n",
       "      <th></th>\n",
       "      <th>pi_ids</th>\n",
       "      <th>pi_names</th>\n",
       "      <th>org_name</th>\n",
       "      <th>org_city</th>\n",
       "      <th>org_state</th>\n",
       "      <th>org_country</th>\n",
       "      <th>org_zipcode</th>\n",
       "    </tr>\n",
       "  </thead>\n",
       "  <tbody>\n",
       "    <tr>\n",
       "      <th>0</th>\n",
       "      <td>10799126</td>\n",
       "      <td>scott, stuart alexander</td>\n",
       "      <td>icahn school of medicine at mount sinai</td>\n",
       "      <td>new york</td>\n",
       "      <td>ny</td>\n",
       "      <td>united states</td>\n",
       "      <td>100296574</td>\n",
       "    </tr>\n",
       "    <tr>\n",
       "      <th>1</th>\n",
       "      <td>7017365</td>\n",
       "      <td>polster, brian m</td>\n",
       "      <td>university of maryland baltimore</td>\n",
       "      <td>baltimore</td>\n",
       "      <td>md</td>\n",
       "      <td>united states</td>\n",
       "      <td>212011508</td>\n",
       "    </tr>\n",
       "    <tr>\n",
       "      <th>5</th>\n",
       "      <td>1866930</td>\n",
       "      <td>so, peter t</td>\n",
       "      <td>massachusetts institute of technology</td>\n",
       "      <td>cambridge</td>\n",
       "      <td>ma</td>\n",
       "      <td>united states</td>\n",
       "      <td>021421029</td>\n",
       "    </tr>\n",
       "    <tr>\n",
       "      <th>7</th>\n",
       "      <td>11044822</td>\n",
       "      <td>gade, terence p</td>\n",
       "      <td>university of pennsylvania</td>\n",
       "      <td>philadelphia</td>\n",
       "      <td>pa</td>\n",
       "      <td>united states</td>\n",
       "      <td>191046205</td>\n",
       "    </tr>\n",
       "    <tr>\n",
       "      <th>8</th>\n",
       "      <td>9335858</td>\n",
       "      <td>qi, ling</td>\n",
       "      <td>cornell university</td>\n",
       "      <td>ithaca</td>\n",
       "      <td>ny</td>\n",
       "      <td>united states</td>\n",
       "      <td>148502820</td>\n",
       "    </tr>\n",
       "  </tbody>\n",
       "</table>\n",
       "</div>"
      ],
      "text/plain": [
       "     pi_ids                 pi_names                                 org_name  \\\n",
       "0  10799126  scott, stuart alexander  icahn school of medicine at mount sinai   \n",
       "1   7017365         polster, brian m         university of maryland baltimore   \n",
       "5   1866930              so, peter t    massachusetts institute of technology   \n",
       "7  11044822          gade, terence p               university of pennsylvania   \n",
       "8   9335858                qi, ling                        cornell university   \n",
       "\n",
       "       org_city org_state    org_country org_zipcode  \n",
       "0      new york        ny  united states   100296574  \n",
       "1     baltimore        md  united states   212011508  \n",
       "5     cambridge        ma  united states   021421029  \n",
       "7  philadelphia        pa  united states   191046205  \n",
       "8        ithaca        ny  united states   148502820  "
      ]
     },
     "execution_count": 553,
     "metadata": {},
     "output_type": "execute_result"
    }
   ],
   "source": [
    "pi_unique.head()"
   ]
  },
  {
   "cell_type": "code",
   "execution_count": 554,
   "metadata": {
    "collapsed": true
   },
   "outputs": [],
   "source": [
    "pi_unique.to_csv('pi_info.csv')"
   ]
  }
 ],
 "metadata": {
  "kernelspec": {
   "display_name": "Python 3",
   "language": "python",
   "name": "python3"
  },
  "language_info": {
   "codemirror_mode": {
    "name": "ipython",
    "version": 3
   },
   "file_extension": ".py",
   "mimetype": "text/x-python",
   "name": "python",
   "nbconvert_exporter": "python",
   "pygments_lexer": "ipython3",
   "version": "3.6.0"
  }
 },
 "nbformat": 4,
 "nbformat_minor": 2
}
