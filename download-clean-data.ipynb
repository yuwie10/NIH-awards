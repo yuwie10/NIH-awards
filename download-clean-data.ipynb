{
 "cells": [
  {
   "cell_type": "markdown",
   "metadata": {},
   "source": [
    "# Grants data from the National Institutes of Health\n",
    "\n",
    "The National Institutes of Health ([NIH](https://www.nih.gov/)) is a branch of the USA government that provides funding for medical and health research. Information about grants funded by the NIH is publicly available [here](https://exporter.nih.gov/ExPORTER_Catalog.aspx). In this notebook we will scrape and clean data from the NIH for further analysis."
   ]
  },
  {
   "cell_type": "code",
   "execution_count": 2,
   "metadata": {
    "collapsed": true,
    "scrolled": false
   },
   "outputs": [],
   "source": [
    "import requests, zipfile, io\n",
    "import glob\n",
    "import os\n",
    "\n",
    "import pandas as pd\n",
    "import numpy as np\n",
    "\n",
    "from IPython.core.interactiveshell import InteractiveShell\n",
    "InteractiveShell.ast_node_interactivity = \"all\""
   ]
  },
  {
   "cell_type": "markdown",
   "metadata": {},
   "source": [
    "[Local functions](https://github.com/yuwie10/nih-awards/blob/master/cleaning_strings.py) to clean text data."
   ]
  },
  {
   "cell_type": "code",
   "execution_count": 1,
   "metadata": {
    "collapsed": true
   },
   "outputs": [],
   "source": [
    "import cleaning_strings as cln\n",
    "import nih_functions as nih"
   ]
  },
  {
   "cell_type": "markdown",
   "metadata": {},
   "source": [
    "Download grants data from years 1985-2016"
   ]
  },
  {
   "cell_type": "code",
   "execution_count": 3,
   "metadata": {
    "collapsed": true
   },
   "outputs": [],
   "source": [
    "years = range(1985, 2017) #2.29 GB\n",
    "for year in years:\n",
    "    url = 'https://exporter.nih.gov/CSVs/final/RePORTER_PRJ_C_FY{}'.format(year) + '.zip'\n",
    "    r = requests.get(url).content\n",
    "    z = zipfile.ZipFile(io.BytesIO(r))\n",
    "    z.extractall()"
   ]
  },
  {
   "cell_type": "markdown",
   "metadata": {},
   "source": [
    "Import only one year to get column names/dtypes"
   ]
  },
  {
   "cell_type": "code",
   "execution_count": 4,
   "metadata": {},
   "outputs": [
    {
     "data": {
      "text/html": [
       "<div>\n",
       "<table border=\"1\" class=\"dataframe\">\n",
       "  <thead>\n",
       "    <tr style=\"text-align: right;\">\n",
       "      <th></th>\n",
       "      <th>APPLICATION_ID</th>\n",
       "      <th>ACTIVITY</th>\n",
       "      <th>ADMINISTERING_IC</th>\n",
       "      <th>APPLICATION_TYPE</th>\n",
       "      <th>ARRA_FUNDED</th>\n",
       "      <th>AWARD_NOTICE_DATE</th>\n",
       "      <th>BUDGET_START</th>\n",
       "      <th>BUDGET_END</th>\n",
       "      <th>CFDA_CODE</th>\n",
       "      <th>CORE_PROJECT_NUM</th>\n",
       "      <th>ED_INST_TYPE</th>\n",
       "      <th>FOA_NUMBER</th>\n",
       "      <th>FULL_PROJECT_NUM</th>\n",
       "      <th>FUNDING_ICs</th>\n",
       "      <th>FUNDING_MECHANISM</th>\n",
       "      <th>FY</th>\n",
       "      <th>IC_NAME</th>\n",
       "      <th>NIH_SPENDING_CATS</th>\n",
       "      <th>ORG_CITY</th>\n",
       "      <th>ORG_COUNTRY</th>\n",
       "      <th>ORG_DEPT</th>\n",
       "      <th>ORG_DISTRICT</th>\n",
       "      <th>ORG_DUNS</th>\n",
       "      <th>ORG_FIPS</th>\n",
       "      <th>ORG_NAME</th>\n",
       "      <th>ORG_STATE</th>\n",
       "      <th>ORG_ZIPCODE</th>\n",
       "      <th>PHR</th>\n",
       "      <th>PI_IDS</th>\n",
       "      <th>PI_NAMEs</th>\n",
       "      <th>PROGRAM_OFFICER_NAME</th>\n",
       "      <th>PROJECT_START</th>\n",
       "      <th>PROJECT_END</th>\n",
       "      <th>PROJECT_TERMS</th>\n",
       "      <th>PROJECT_TITLE</th>\n",
       "      <th>SERIAL_NUMBER</th>\n",
       "      <th>STUDY_SECTION</th>\n",
       "      <th>STUDY_SECTION_NAME</th>\n",
       "      <th>SUBPROJECT_ID</th>\n",
       "      <th>SUFFIX</th>\n",
       "      <th>SUPPORT_YEAR</th>\n",
       "      <th>DIRECT_COST_AMT</th>\n",
       "      <th>INDIRECT_COST_AMT</th>\n",
       "      <th>TOTAL_COST</th>\n",
       "      <th>TOTAL_COST_SUB_PROJECT</th>\n",
       "    </tr>\n",
       "  </thead>\n",
       "  <tbody>\n",
       "    <tr>\n",
       "      <th>0</th>\n",
       "      <td>9115627</td>\n",
       "      <td>K23</td>\n",
       "      <td>GM</td>\n",
       "      <td>4</td>\n",
       "      <td>N</td>\n",
       "      <td>7/27/2016</td>\n",
       "      <td>8/1/2016</td>\n",
       "      <td>7/31/2017</td>\n",
       "      <td>859</td>\n",
       "      <td>K23GM104401</td>\n",
       "      <td>SCHOOLS OF MEDICINE</td>\n",
       "      <td>PA-11-009</td>\n",
       "      <td>4K23GM104401-04</td>\n",
       "      <td>NIGMS:194460\\</td>\n",
       "      <td>OTHER RESEARCH-RELATED</td>\n",
       "      <td>2016</td>\n",
       "      <td>NATIONAL INSTITUTE OF GENERAL MEDICAL SCIENCES</td>\n",
       "      <td>NaN</td>\n",
       "      <td>NEW YORK</td>\n",
       "      <td>UNITED STATES</td>\n",
       "      <td>GENETICS</td>\n",
       "      <td>13</td>\n",
       "      <td>78861598</td>\n",
       "      <td>US</td>\n",
       "      <td>ICAHN SCHOOL OF MEDICINE AT MOUNT SINAI</td>\n",
       "      <td>NY</td>\n",
       "      <td>100296574</td>\n",
       "      <td>PUBLIC HEALTH RELEVANCE: Antiplatelet response...</td>\n",
       "      <td>10799126;</td>\n",
       "      <td>SCOTT, STUART ALEXANDER;</td>\n",
       "      <td>LONG, ROCHELLE M.</td>\n",
       "      <td>8/1/2013</td>\n",
       "      <td>7/31/2017</td>\n",
       "      <td>ABCB1 gene; Accounting; acute coronary syndrom...</td>\n",
       "      <td>The Pharmacogenomic Control of Clopidogrel Res...</td>\n",
       "      <td>104401</td>\n",
       "      <td>GHD</td>\n",
       "      <td>Genetics of Health and Disease Study Section</td>\n",
       "      <td>NaN</td>\n",
       "      <td>NaN</td>\n",
       "      <td>4</td>\n",
       "      <td>180500</td>\n",
       "      <td>13960</td>\n",
       "      <td>194460</td>\n",
       "      <td>NaN</td>\n",
       "    </tr>\n",
       "    <tr>\n",
       "      <th>1</th>\n",
       "      <td>9128072</td>\n",
       "      <td>R01</td>\n",
       "      <td>NS</td>\n",
       "      <td>4</td>\n",
       "      <td>N</td>\n",
       "      <td>8/15/2016</td>\n",
       "      <td>8/1/2016</td>\n",
       "      <td>7/31/2017</td>\n",
       "      <td>853</td>\n",
       "      <td>R01NS085165</td>\n",
       "      <td>SCHOOLS OF MEDICINE</td>\n",
       "      <td>PA-11-260</td>\n",
       "      <td>4R01NS085165-04</td>\n",
       "      <td>NINDS:335781\\</td>\n",
       "      <td>Non-SBIR/STTR RPGs</td>\n",
       "      <td>2016</td>\n",
       "      <td>NATIONAL INSTITUTE OF NEUROLOGICAL DISORDERS A...</td>\n",
       "      <td>NaN</td>\n",
       "      <td>BALTIMORE</td>\n",
       "      <td>UNITED STATES</td>\n",
       "      <td>ANESTHESIOLOGY</td>\n",
       "      <td>7</td>\n",
       "      <td>188435911</td>\n",
       "      <td>US</td>\n",
       "      <td>UNIVERSITY OF MARYLAND BALTIMORE</td>\n",
       "      <td>MD</td>\n",
       "      <td>212011508</td>\n",
       "      <td>PUBLIC HEALTH RELEVANCE: Activation of microgl...</td>\n",
       "      <td>7017365;</td>\n",
       "      <td>POLSTER, BRIAN M;</td>\n",
       "      <td>MORRIS, JILL A</td>\n",
       "      <td>9/30/2013</td>\n",
       "      <td>7/31/2018</td>\n",
       "      <td>Acute; analog; Antioxidants; attenuation; Bind...</td>\n",
       "      <td>Novel Mechanisms of Microglial Neurotoxicity a...</td>\n",
       "      <td>85165</td>\n",
       "      <td>NOMD</td>\n",
       "      <td>Neural Oxidative Metabolism and Death Study Se...</td>\n",
       "      <td>NaN</td>\n",
       "      <td>NaN</td>\n",
       "      <td>4</td>\n",
       "      <td>218750</td>\n",
       "      <td>117031</td>\n",
       "      <td>335781</td>\n",
       "      <td>NaN</td>\n",
       "    </tr>\n",
       "  </tbody>\n",
       "</table>\n",
       "</div>"
      ],
      "text/plain": [
       "   APPLICATION_ID ACTIVITY ADMINISTERING_IC  APPLICATION_TYPE ARRA_FUNDED  \\\n",
       "0         9115627      K23               GM                 4           N   \n",
       "1         9128072      R01               NS                 4           N   \n",
       "\n",
       "  AWARD_NOTICE_DATE BUDGET_START BUDGET_END  CFDA_CODE CORE_PROJECT_NUM  \\\n",
       "0         7/27/2016     8/1/2016  7/31/2017        859      K23GM104401   \n",
       "1         8/15/2016     8/1/2016  7/31/2017        853      R01NS085165   \n",
       "\n",
       "          ED_INST_TYPE FOA_NUMBER FULL_PROJECT_NUM    FUNDING_ICs  \\\n",
       "0  SCHOOLS OF MEDICINE  PA-11-009  4K23GM104401-04  NIGMS:194460\\   \n",
       "1  SCHOOLS OF MEDICINE  PA-11-260  4R01NS085165-04  NINDS:335781\\   \n",
       "\n",
       "        FUNDING_MECHANISM    FY  \\\n",
       "0  OTHER RESEARCH-RELATED  2016   \n",
       "1      Non-SBIR/STTR RPGs  2016   \n",
       "\n",
       "                                             IC_NAME  NIH_SPENDING_CATS  \\\n",
       "0     NATIONAL INSTITUTE OF GENERAL MEDICAL SCIENCES                NaN   \n",
       "1  NATIONAL INSTITUTE OF NEUROLOGICAL DISORDERS A...                NaN   \n",
       "\n",
       "    ORG_CITY    ORG_COUNTRY        ORG_DEPT  ORG_DISTRICT   ORG_DUNS ORG_FIPS  \\\n",
       "0   NEW YORK  UNITED STATES        GENETICS            13   78861598       US   \n",
       "1  BALTIMORE  UNITED STATES  ANESTHESIOLOGY             7  188435911       US   \n",
       "\n",
       "                                  ORG_NAME ORG_STATE  ORG_ZIPCODE  \\\n",
       "0  ICAHN SCHOOL OF MEDICINE AT MOUNT SINAI        NY    100296574   \n",
       "1         UNIVERSITY OF MARYLAND BALTIMORE        MD    212011508   \n",
       "\n",
       "                                                 PHR      PI_IDS  \\\n",
       "0  PUBLIC HEALTH RELEVANCE: Antiplatelet response...  10799126;    \n",
       "1  PUBLIC HEALTH RELEVANCE: Activation of microgl...   7017365;    \n",
       "\n",
       "                   PI_NAMEs PROGRAM_OFFICER_NAME PROJECT_START PROJECT_END  \\\n",
       "0  SCOTT, STUART ALEXANDER;    LONG, ROCHELLE M.      8/1/2013   7/31/2017   \n",
       "1         POLSTER, BRIAN M;       MORRIS, JILL A     9/30/2013   7/31/2018   \n",
       "\n",
       "                                       PROJECT_TERMS  \\\n",
       "0  ABCB1 gene; Accounting; acute coronary syndrom...   \n",
       "1  Acute; analog; Antioxidants; attenuation; Bind...   \n",
       "\n",
       "                                       PROJECT_TITLE  SERIAL_NUMBER  \\\n",
       "0  The Pharmacogenomic Control of Clopidogrel Res...         104401   \n",
       "1  Novel Mechanisms of Microglial Neurotoxicity a...          85165   \n",
       "\n",
       "  STUDY_SECTION                                 STUDY_SECTION_NAME  \\\n",
       "0           GHD      Genetics of Health and Disease Study Section    \n",
       "1          NOMD  Neural Oxidative Metabolism and Death Study Se...   \n",
       "\n",
       "   SUBPROJECT_ID  SUFFIX  SUPPORT_YEAR  DIRECT_COST_AMT  INDIRECT_COST_AMT  \\\n",
       "0            NaN     NaN             4           180500              13960   \n",
       "1            NaN     NaN             4           218750             117031   \n",
       "\n",
       "   TOTAL_COST  TOTAL_COST_SUB_PROJECT  \n",
       "0      194460                     NaN  \n",
       "1      335781                     NaN  "
      ]
     },
     "execution_count": 4,
     "metadata": {},
     "output_type": "execute_result"
    }
   ],
   "source": [
    "#import first two rows of grants data from a single year\n",
    "csv = 'RePORTER_PRJ_C_FY2016.csv'\n",
    "df_columns = pd.read_csv(csv, encoding = 'latin1', nrows = 2)\n",
    "pd.set_option('display.max_columns', 50)\n",
    "df_columns"
   ]
  },
  {
   "cell_type": "markdown",
   "metadata": {},
   "source": [
    "There are three different dtypes in the grant data: str (the most common), floats and datetime. Create dictionaries/lists to specify dtypes on import."
   ]
  },
  {
   "cell_type": "code",
   "execution_count": 5,
   "metadata": {
    "collapsed": true
   },
   "outputs": [],
   "source": [
    "#names of columns with dtypes of datetime or floats\n",
    "dates = 'AWARD_NOTICE_DATE BUDGET_START BUDGET_END PROJECT_START PROJECT_END'.split()\n",
    "nums = 'DIRECT_COST_AMT INDIRECT_COST_AMT TOTAL_COST TOTAL_COST_SUB_PROJECT'.split()\n",
    "dtypes = nih.get_dtypes(df_columns, nums)"
   ]
  },
  {
   "cell_type": "markdown",
   "metadata": {},
   "source": [
    "Import csvs from all years and concatenate into a single dataframe."
   ]
  },
  {
   "cell_type": "code",
   "execution_count": 7,
   "metadata": {
    "collapsed": true
   },
   "outputs": [],
   "source": [
    "all_csvs = glob.glob('RePORTER_PRJ_C_FY*.csv')\n",
    "all_grants = pd.DataFrame()\n",
    "list_ = []\n",
    "for csv in all_csvs:\n",
    "    df = pd.read_csv(csv, index_col = None, header = 0, encoding = 'latin1',\n",
    "                    dtype = dtypes, parse_dates = dates)\n",
    "    list_.append(df)\n",
    "all_grants = pd.concat(list_)\n",
    "all_grants.to_csv('raw_data.csv', index = None, compression = 'gzip')"
   ]
  },
  {
   "cell_type": "markdown",
   "metadata": {},
   "source": [
    "Remove raw csvs from NIH's website from computer"
   ]
  },
  {
   "cell_type": "code",
   "execution_count": 8,
   "metadata": {
    "collapsed": true
   },
   "outputs": [],
   "source": [
    "for csv in all_csvs:\n",
    "    os.remove(csv)"
   ]
  },
  {
   "cell_type": "markdown",
   "metadata": {},
   "source": [
    "# Pre-processing"
   ]
  },
  {
   "cell_type": "markdown",
   "metadata": {},
   "source": [
    "Re-arrange columns to original column sequence and convert to lowercase"
   ]
  },
  {
   "cell_type": "code",
   "execution_count": 9,
   "metadata": {
    "collapsed": true
   },
   "outputs": [],
   "source": [
    "#all_grants = pd.read_csv('raw_data', compression = 'gzip', dtype = dtypes, parse_dates = dates)\n",
    "all_grants = all_grants[df_columns.columns.tolist()]"
   ]
  },
  {
   "cell_type": "code",
   "execution_count": 10,
   "metadata": {},
   "outputs": [
    {
     "data": {
      "text/html": [
       "<div>\n",
       "<table border=\"1\" class=\"dataframe\">\n",
       "  <thead>\n",
       "    <tr style=\"text-align: right;\">\n",
       "      <th></th>\n",
       "      <th>application_id</th>\n",
       "      <th>activity</th>\n",
       "      <th>administering_ic</th>\n",
       "      <th>application_type</th>\n",
       "      <th>arra_funded</th>\n",
       "      <th>award_notice_date</th>\n",
       "      <th>budget_start</th>\n",
       "      <th>budget_end</th>\n",
       "      <th>cfda_code</th>\n",
       "      <th>core_project_num</th>\n",
       "      <th>ed_inst_type</th>\n",
       "      <th>foa_number</th>\n",
       "      <th>full_project_num</th>\n",
       "      <th>funding_ics</th>\n",
       "      <th>funding_mechanism</th>\n",
       "      <th>fy</th>\n",
       "      <th>ic_name</th>\n",
       "      <th>nih_spending_cats</th>\n",
       "      <th>org_city</th>\n",
       "      <th>org_country</th>\n",
       "      <th>org_dept</th>\n",
       "      <th>org_district</th>\n",
       "      <th>org_duns</th>\n",
       "      <th>org_fips</th>\n",
       "      <th>org_name</th>\n",
       "      <th>org_state</th>\n",
       "      <th>org_zipcode</th>\n",
       "      <th>phr</th>\n",
       "      <th>pi_ids</th>\n",
       "      <th>pi_names</th>\n",
       "      <th>program_officer_name</th>\n",
       "      <th>project_start</th>\n",
       "      <th>project_end</th>\n",
       "      <th>project_terms</th>\n",
       "      <th>project_title</th>\n",
       "      <th>serial_number</th>\n",
       "      <th>study_section</th>\n",
       "      <th>study_section_name</th>\n",
       "      <th>subproject_id</th>\n",
       "      <th>suffix</th>\n",
       "      <th>support_year</th>\n",
       "      <th>direct_cost_amt</th>\n",
       "      <th>indirect_cost_amt</th>\n",
       "      <th>total_cost</th>\n",
       "      <th>total_cost_sub_project</th>\n",
       "    </tr>\n",
       "  </thead>\n",
       "  <tbody>\n",
       "    <tr>\n",
       "      <th>0</th>\n",
       "      <td>3000011</td>\n",
       "      <td>A03</td>\n",
       "      <td>AH</td>\n",
       "      <td>1</td>\n",
       "      <td>NaN</td>\n",
       "      <td>NaT</td>\n",
       "      <td>1985-07-01</td>\n",
       "      <td>1986-06-30</td>\n",
       "      <td>NaN</td>\n",
       "      <td>A03AH000859</td>\n",
       "      <td>SCHOOLS OF PUBLIC HEALTH</td>\n",
       "      <td>NaN</td>\n",
       "      <td>1A03AH000859-01</td>\n",
       "      <td>NaN</td>\n",
       "      <td>NaN</td>\n",
       "      <td>1985</td>\n",
       "      <td>DIVISION OF ASSOCIATED, DENTAL HEALTH PROFESSIONS</td>\n",
       "      <td>NaN</td>\n",
       "      <td>BIRMINGHAM</td>\n",
       "      <td>UNITED STATES</td>\n",
       "      <td>NaN</td>\n",
       "      <td>7</td>\n",
       "      <td>4514360</td>\n",
       "      <td>US</td>\n",
       "      <td>UNIVERSITY OF ALABAMA AT BIRMINGHAM</td>\n",
       "      <td>AL</td>\n",
       "      <td>35294</td>\n",
       "      <td>NaN</td>\n",
       "      <td>3700006;</td>\n",
       "      <td>BRIDGERS, WILLIAM F;</td>\n",
       "      <td>NaN</td>\n",
       "      <td>1985-07-01</td>\n",
       "      <td>1986-06-30 00:00:00</td>\n",
       "      <td>NaN</td>\n",
       "      <td>PUBLIC HEALTH TRAINEESHIPS</td>\n",
       "      <td>859</td>\n",
       "      <td>STC</td>\n",
       "      <td>NaN</td>\n",
       "      <td>NaN</td>\n",
       "      <td>NaN</td>\n",
       "      <td>1</td>\n",
       "      <td>NaN</td>\n",
       "      <td>NaN</td>\n",
       "      <td>NaN</td>\n",
       "      <td>NaN</td>\n",
       "    </tr>\n",
       "  </tbody>\n",
       "</table>\n",
       "</div>"
      ],
      "text/plain": [
       "  application_id activity administering_ic application_type arra_funded  \\\n",
       "0        3000011      A03               AH                1         NaN   \n",
       "\n",
       "  award_notice_date budget_start budget_end cfda_code core_project_num  \\\n",
       "0               NaT   1985-07-01 1986-06-30       NaN      A03AH000859   \n",
       "\n",
       "               ed_inst_type foa_number full_project_num funding_ics  \\\n",
       "0  SCHOOLS OF PUBLIC HEALTH        NaN  1A03AH000859-01         NaN   \n",
       "\n",
       "  funding_mechanism    fy                                            ic_name  \\\n",
       "0               NaN  1985  DIVISION OF ASSOCIATED, DENTAL HEALTH PROFESSIONS   \n",
       "\n",
       "  nih_spending_cats    org_city    org_country org_dept org_district org_duns  \\\n",
       "0               NaN  BIRMINGHAM  UNITED STATES      NaN            7  4514360   \n",
       "\n",
       "  org_fips                             org_name org_state org_zipcode  phr  \\\n",
       "0       US  UNIVERSITY OF ALABAMA AT BIRMINGHAM        AL       35294  NaN   \n",
       "\n",
       "     pi_ids              pi_names program_officer_name project_start  \\\n",
       "0  3700006;  BRIDGERS, WILLIAM F;                  NaN    1985-07-01   \n",
       "\n",
       "           project_end project_terms               project_title  \\\n",
       "0  1986-06-30 00:00:00           NaN  PUBLIC HEALTH TRAINEESHIPS   \n",
       "\n",
       "  serial_number study_section study_section_name subproject_id suffix  \\\n",
       "0           859           STC                NaN           NaN    NaN   \n",
       "\n",
       "  support_year  direct_cost_amt  indirect_cost_amt  total_cost  \\\n",
       "0            1              NaN                NaN         NaN   \n",
       "\n",
       "   total_cost_sub_project  \n",
       "0                     NaN  "
      ]
     },
     "execution_count": 10,
     "metadata": {},
     "output_type": "execute_result"
    }
   ],
   "source": [
    "all_grants.columns = all_grants.columns.str.lower()\n",
    "all_grants.head(1)"
   ]
  },
  {
   "cell_type": "markdown",
   "metadata": {},
   "source": [
    "Convert string columns to lowercase"
   ]
  },
  {
   "cell_type": "code",
   "execution_count": 11,
   "metadata": {
    "scrolled": false
   },
   "outputs": [
    {
     "data": {
      "text/html": [
       "<div>\n",
       "<table border=\"1\" class=\"dataframe\">\n",
       "  <thead>\n",
       "    <tr style=\"text-align: right;\">\n",
       "      <th></th>\n",
       "      <th>application_id</th>\n",
       "      <th>activity</th>\n",
       "      <th>administering_ic</th>\n",
       "      <th>application_type</th>\n",
       "      <th>arra_funded</th>\n",
       "      <th>award_notice_date</th>\n",
       "      <th>budget_start</th>\n",
       "      <th>budget_end</th>\n",
       "      <th>cfda_code</th>\n",
       "      <th>core_project_num</th>\n",
       "      <th>ed_inst_type</th>\n",
       "      <th>foa_number</th>\n",
       "      <th>full_project_num</th>\n",
       "      <th>funding_ics</th>\n",
       "      <th>funding_mechanism</th>\n",
       "      <th>fy</th>\n",
       "      <th>ic_name</th>\n",
       "      <th>nih_spending_cats</th>\n",
       "      <th>org_city</th>\n",
       "      <th>org_country</th>\n",
       "      <th>org_dept</th>\n",
       "      <th>org_district</th>\n",
       "      <th>org_duns</th>\n",
       "      <th>org_fips</th>\n",
       "      <th>org_name</th>\n",
       "      <th>org_state</th>\n",
       "      <th>org_zipcode</th>\n",
       "      <th>phr</th>\n",
       "      <th>pi_ids</th>\n",
       "      <th>pi_names</th>\n",
       "      <th>program_officer_name</th>\n",
       "      <th>project_start</th>\n",
       "      <th>project_end</th>\n",
       "      <th>project_terms</th>\n",
       "      <th>project_title</th>\n",
       "      <th>serial_number</th>\n",
       "      <th>study_section</th>\n",
       "      <th>study_section_name</th>\n",
       "      <th>subproject_id</th>\n",
       "      <th>suffix</th>\n",
       "      <th>support_year</th>\n",
       "      <th>direct_cost_amt</th>\n",
       "      <th>indirect_cost_amt</th>\n",
       "      <th>total_cost</th>\n",
       "      <th>total_cost_sub_project</th>\n",
       "    </tr>\n",
       "  </thead>\n",
       "  <tbody>\n",
       "    <tr>\n",
       "      <th>0</th>\n",
       "      <td>3000011</td>\n",
       "      <td>a03</td>\n",
       "      <td>ah</td>\n",
       "      <td>1</td>\n",
       "      <td>NaN</td>\n",
       "      <td>NaN</td>\n",
       "      <td>1985-07-01</td>\n",
       "      <td>1986-06-30</td>\n",
       "      <td>NaN</td>\n",
       "      <td>a03ah000859</td>\n",
       "      <td>schools of public health</td>\n",
       "      <td>NaN</td>\n",
       "      <td>1a03ah000859-01</td>\n",
       "      <td>NaN</td>\n",
       "      <td>NaN</td>\n",
       "      <td>1985</td>\n",
       "      <td>division of associated, dental health professions</td>\n",
       "      <td>NaN</td>\n",
       "      <td>birmingham</td>\n",
       "      <td>united states</td>\n",
       "      <td>NaN</td>\n",
       "      <td>7</td>\n",
       "      <td>4514360</td>\n",
       "      <td>us</td>\n",
       "      <td>university of alabama at birmingham</td>\n",
       "      <td>al</td>\n",
       "      <td>35294</td>\n",
       "      <td>NaN</td>\n",
       "      <td>3700006;</td>\n",
       "      <td>bridgers, william f;</td>\n",
       "      <td>NaN</td>\n",
       "      <td>1985-07-01</td>\n",
       "      <td>NaN</td>\n",
       "      <td>NaN</td>\n",
       "      <td>public health traineeships</td>\n",
       "      <td>859</td>\n",
       "      <td>stc</td>\n",
       "      <td>NaN</td>\n",
       "      <td>NaN</td>\n",
       "      <td>NaN</td>\n",
       "      <td>1</td>\n",
       "      <td>NaN</td>\n",
       "      <td>NaN</td>\n",
       "      <td>NaN</td>\n",
       "      <td>NaN</td>\n",
       "    </tr>\n",
       "  </tbody>\n",
       "</table>\n",
       "</div>"
      ],
      "text/plain": [
       "  application_id activity administering_ic application_type arra_funded  \\\n",
       "0        3000011      a03               ah                1         NaN   \n",
       "\n",
       "  award_notice_date budget_start budget_end cfda_code core_project_num  \\\n",
       "0               NaN   1985-07-01 1986-06-30       NaN      a03ah000859   \n",
       "\n",
       "               ed_inst_type foa_number full_project_num funding_ics  \\\n",
       "0  schools of public health        NaN  1a03ah000859-01         NaN   \n",
       "\n",
       "  funding_mechanism    fy                                            ic_name  \\\n",
       "0               NaN  1985  division of associated, dental health professions   \n",
       "\n",
       "  nih_spending_cats    org_city    org_country org_dept org_district org_duns  \\\n",
       "0               NaN  birmingham  united states      NaN            7  4514360   \n",
       "\n",
       "  org_fips                             org_name org_state org_zipcode  phr  \\\n",
       "0       us  university of alabama at birmingham        al       35294  NaN   \n",
       "\n",
       "     pi_ids              pi_names program_officer_name project_start  \\\n",
       "0  3700006;  bridgers, william f;                  NaN    1985-07-01   \n",
       "\n",
       "  project_end project_terms               project_title serial_number  \\\n",
       "0         NaN           NaN  public health traineeships           859   \n",
       "\n",
       "  study_section study_section_name subproject_id suffix support_year  \\\n",
       "0           stc                NaN           NaN    NaN            1   \n",
       "\n",
       "   direct_cost_amt  indirect_cost_amt  total_cost  total_cost_sub_project  \n",
       "0              NaN                NaN         NaN                     NaN  "
      ]
     },
     "execution_count": 11,
     "metadata": {},
     "output_type": "execute_result"
    }
   ],
   "source": [
    "for col in all_grants:\n",
    "    if all_grants[col].dtype == 'O':\n",
    "        all_grants[col] = all_grants[col].str.lower()\n",
    "all_grants.head(1)"
   ]
  },
  {
   "cell_type": "code",
   "execution_count": 12,
   "metadata": {},
   "outputs": [
    {
     "name": "stdout",
     "output_type": "stream",
     "text": [
      "<class 'pandas.core.frame.DataFrame'>\n",
      "Int64Index: 2223292 entries, 0 to 71826\n",
      "Data columns (total 45 columns):\n",
      "application_id            object\n",
      "activity                  object\n",
      "administering_ic          object\n",
      "application_type          object\n",
      "arra_funded               object\n",
      "award_notice_date         object\n",
      "budget_start              datetime64[ns]\n",
      "budget_end                datetime64[ns]\n",
      "cfda_code                 object\n",
      "core_project_num          object\n",
      "ed_inst_type              object\n",
      "foa_number                object\n",
      "full_project_num          object\n",
      "funding_ics               object\n",
      "funding_mechanism         object\n",
      "fy                        object\n",
      "ic_name                   object\n",
      "nih_spending_cats         object\n",
      "org_city                  object\n",
      "org_country               object\n",
      "org_dept                  object\n",
      "org_district              object\n",
      "org_duns                  object\n",
      "org_fips                  object\n",
      "org_name                  object\n",
      "org_state                 object\n",
      "org_zipcode               object\n",
      "phr                       object\n",
      "pi_ids                    object\n",
      "pi_names                  object\n",
      "program_officer_name      object\n",
      "project_start             datetime64[ns]\n",
      "project_end               object\n",
      "project_terms             object\n",
      "project_title             object\n",
      "serial_number             object\n",
      "study_section             object\n",
      "study_section_name        object\n",
      "subproject_id             object\n",
      "suffix                    object\n",
      "support_year              object\n",
      "direct_cost_amt           float64\n",
      "indirect_cost_amt         float64\n",
      "total_cost                float64\n",
      "total_cost_sub_project    float64\n",
      "dtypes: datetime64[ns](3), float64(4), object(38)\n",
      "memory usage: 780.3+ MB\n"
     ]
    }
   ],
   "source": [
    "all_grants.info()"
   ]
  },
  {
   "cell_type": "markdown",
   "metadata": {},
   "source": [
    "Column 'project_end' was not successfully imported as a datetime object because a few grants had project end dates with year 3012 instead of 2012 and other errors. Change 3012 to 2012 and coerce errors to NaT. Can go back and check end dates with original data frame if necessary."
   ]
  },
  {
   "cell_type": "code",
   "execution_count": 13,
   "metadata": {
    "collapsed": true
   },
   "outputs": [],
   "source": [
    "all_grants['project_end'] = all_grants['project_end'].replace({'04/30/3012':'04/30/2012', '4/30/3012':'04/30/2012'})\n",
    "all_grants['project_end'] = pd.to_datetime(all_grants['project_end'], errors = 'coerce')"
   ]
  },
  {
   "cell_type": "code",
   "execution_count": 14,
   "metadata": {},
   "outputs": [
    {
     "name": "stdout",
     "output_type": "stream",
     "text": [
      "<class 'pandas.core.frame.DataFrame'>\n",
      "Int64Index: 2223292 entries, 0 to 71826\n",
      "Data columns (total 45 columns):\n",
      "application_id            object\n",
      "activity                  object\n",
      "administering_ic          object\n",
      "application_type          object\n",
      "arra_funded               object\n",
      "award_notice_date         object\n",
      "budget_start              datetime64[ns]\n",
      "budget_end                datetime64[ns]\n",
      "cfda_code                 object\n",
      "core_project_num          object\n",
      "ed_inst_type              object\n",
      "foa_number                object\n",
      "full_project_num          object\n",
      "funding_ics               object\n",
      "funding_mechanism         object\n",
      "fy                        object\n",
      "ic_name                   object\n",
      "nih_spending_cats         object\n",
      "org_city                  object\n",
      "org_country               object\n",
      "org_dept                  object\n",
      "org_district              object\n",
      "org_duns                  object\n",
      "org_fips                  object\n",
      "org_name                  object\n",
      "org_state                 object\n",
      "org_zipcode               object\n",
      "phr                       object\n",
      "pi_ids                    object\n",
      "pi_names                  object\n",
      "program_officer_name      object\n",
      "project_start             datetime64[ns]\n",
      "project_end               datetime64[ns]\n",
      "project_terms             object\n",
      "project_title             object\n",
      "serial_number             object\n",
      "study_section             object\n",
      "study_section_name        object\n",
      "subproject_id             object\n",
      "suffix                    object\n",
      "support_year              object\n",
      "direct_cost_amt           float64\n",
      "indirect_cost_amt         float64\n",
      "total_cost                float64\n",
      "total_cost_sub_project    float64\n",
      "dtypes: datetime64[ns](4), float64(4), object(37)\n",
      "memory usage: 780.3+ MB\n"
     ]
    }
   ],
   "source": [
    "all_grants.info()"
   ]
  },
  {
   "cell_type": "markdown",
   "metadata": {},
   "source": [
    "Each fiscal year is indexed independently; reset index."
   ]
  },
  {
   "cell_type": "code",
   "execution_count": 15,
   "metadata": {
    "collapsed": true
   },
   "outputs": [],
   "source": [
    "all_grants.reset_index(drop = True, inplace = True)"
   ]
  },
  {
   "cell_type": "markdown",
   "metadata": {},
   "source": [
    "### Missing PI IDs\n",
    "There are pi_ids where the entry is either ';' or '; '. When the entries are stripped and the data frame saved and re-imported, these show up as NaNs, making it difficult to uniquely identify these PIs. To counteract this problem, we need to fill these entries. First strip the final empty space and semi-colon."
   ]
  },
  {
   "cell_type": "code",
   "execution_count": 16,
   "metadata": {
    "collapsed": true
   },
   "outputs": [],
   "source": [
    "all_grants = cln.strip_series(all_grants, ['pi_ids'], strip = ' ')\n",
    "all_grants = cln.strip_series(all_grants, ['pi_ids'], strip = ';')"
   ]
  },
  {
   "cell_type": "code",
   "execution_count": 20,
   "metadata": {
    "collapsed": true
   },
   "outputs": [],
   "source": [
    "#all_grants.to_csv('all_grants.csv', index = False, compression = 'gzip')\n",
    "\n",
    "dates = [date.lower() for date in dates]\n",
    "dtypes = {k.lower(): v for k, v in dtypes.items()}"
   ]
  },
  {
   "cell_type": "code",
   "execution_count": 21,
   "metadata": {},
   "outputs": [
    {
     "data": {
      "text/plain": [
       "12098"
      ]
     },
     "execution_count": 21,
     "metadata": {},
     "output_type": "execute_result"
    }
   ],
   "source": [
    "len(all_grants.ix[all_grants['pi_ids'].isnull()])"
   ]
  },
  {
   "cell_type": "code",
   "execution_count": 22,
   "metadata": {
    "collapsed": true
   },
   "outputs": [],
   "source": [
    "fill_values = list(range(len(all_grants)))\n",
    "fill_values = [str(value) for value in fill_values]\n",
    "all_grants['fill_values'] = fill_values"
   ]
  },
  {
   "cell_type": "code",
   "execution_count": 23,
   "metadata": {
    "collapsed": true
   },
   "outputs": [],
   "source": [
    "all_grants['pi_ids'].fillna(all_grants['fill_values'], inplace = True)\n",
    "del all_grants['fill_values']"
   ]
  },
  {
   "cell_type": "code",
   "execution_count": 24,
   "metadata": {},
   "outputs": [
    {
     "data": {
      "text/plain": [
       "0"
      ]
     },
     "execution_count": 24,
     "metadata": {},
     "output_type": "execute_result"
    }
   ],
   "source": [
    "len(all_grants.ix[all_grants['pi_ids'].isnull()])"
   ]
  },
  {
   "cell_type": "markdown",
   "metadata": {},
   "source": [
    "Save data prior to any processing for future reference. We will also load this dataset [here](cleaning-pi-info.ipynb) to clean PI information."
   ]
  },
  {
   "cell_type": "code",
   "execution_count": 27,
   "metadata": {
    "collapsed": true
   },
   "outputs": [],
   "source": [
    "all_grants.to_csv('all_grants.csv', index = False, compression = 'gzip')"
   ]
  },
  {
   "cell_type": "markdown",
   "metadata": {},
   "source": [
    "Let's continue cleaning the data.\n",
    "\n",
    "There are a total of 45 columns, which may contain redundant or unnecessary information. Descriptions of the data contained in each column was scraped from [here](https://exporter.nih.gov/about.aspx), and the code to scrape this information can be found [here](scrape_grant_info.ipynb). We will first filter out unnecessary columns based on descriptions. "
   ]
  },
  {
   "cell_type": "code",
   "execution_count": 28,
   "metadata": {},
   "outputs": [
    {
     "data": {
      "text/html": [
       "<div>\n",
       "<table border=\"1\" class=\"dataframe\">\n",
       "  <thead>\n",
       "    <tr style=\"text-align: right;\">\n",
       "      <th></th>\n",
       "      <th>column_name</th>\n",
       "      <th>descriptions</th>\n",
       "    </tr>\n",
       "  </thead>\n",
       "  <tbody>\n",
       "    <tr>\n",
       "      <th>0</th>\n",
       "      <td>application_id</td>\n",
       "      <td>A unique identifier of the project record in the  ExPORTER database.</td>\n",
       "    </tr>\n",
       "    <tr>\n",
       "      <th>1</th>\n",
       "      <td>activity</td>\n",
       "      <td>A 3-character code identifying the grant, contract, or  intramural activity through which a project is supported. Within each  funding mechanism , NIH  uses 3-character activity codes (e.g., F32, K08, P01, R01, T32, etc.) to  differentiate the wide variety of research-related programs NIH supports. A  comprehensive  list of activity codes  for grants and cooperative agreements may be found  on the  Types of Grant  Programs  Web page. RePORTER also includes R&amp;D contracts (activity  codes beginning with the letter N) and intramural projects (beginning with the  letter Z).</td>\n",
       "    </tr>\n",
       "    <tr>\n",
       "      <th>2</th>\n",
       "      <td>administering_ic</td>\n",
       "      <td>Administering Institute or Center - A two-character  code to designate the agency,NIH Institute, or Center administering the  grant. See  Institute/Center code  definitions</td>\n",
       "    </tr>\n",
       "    <tr>\n",
       "      <th>3</th>\n",
       "      <td>application_type</td>\n",
       "      <td>A one-digit code to identify the type of  application funded: 1 = New application                              2 = Competing continuation (also, competing renewal)                              3 = Application for additional (supplemental) support.  There are two kinds of type   3competing revisions (which are peer-reviewed and administrative supplements)                              4 = Competing extension for an R37 award or first  non-competing year of a Fast Track SBIR/STTR award                              5 = Non-competing continuation                              7 = Change of grantee institution                              9 = Change of NIH awarding Institute or Division (on a  competing continuation)</td>\n",
       "    </tr>\n",
       "    <tr>\n",
       "      <th>4</th>\n",
       "      <td>arra_funded</td>\n",
       "      <td>“Y”  indicates a project supported by funds appropriated through the American  Recovery and Reinvestment Act of 2009.</td>\n",
       "    </tr>\n",
       "    <tr>\n",
       "      <th>5</th>\n",
       "      <td>award_notice_date</td>\n",
       "      <td>Award notice date or Notice of Grant Award (NGA) is a legally binding document stating the government has obligated funds and which defines the period of support and the terms and conditions of award.\\r\\n</td>\n",
       "    </tr>\n",
       "    <tr>\n",
       "      <th>6</th>\n",
       "      <td>budget_start</td>\n",
       "      <td>The date when a  project’s funding for a particular fiscal year begins.</td>\n",
       "    </tr>\n",
       "    <tr>\n",
       "      <th>7</th>\n",
       "      <td>budget_end</td>\n",
       "      <td>The date when a  project’s funding for a particular fiscal year ends.</td>\n",
       "    </tr>\n",
       "    <tr>\n",
       "      <th>8</th>\n",
       "      <td>cfda_code</td>\n",
       "      <td>Federal programs are assigned a number in the Catalog of Federal Domestic Assistance (CFDA), which is referred to as the \"CFDA code.\" The CFDA database helps the Federal government track all programs it has domestically funded. \\r\\n</td>\n",
       "    </tr>\n",
       "  </tbody>\n",
       "</table>\n",
       "</div>"
      ],
      "text/plain": [
       "                                            column_name  \\\n",
       "0                                        application_id   \n",
       "1                                              activity   \n",
       "2                                    administering_ic     \n",
       "3                                      application_type   \n",
       "4                                           arra_funded   \n",
       "5                                   award_notice_date     \n",
       "6                                        budget_start     \n",
       "7                                          budget_end     \n",
       "8                                           cfda_code     \n",
       "\n",
       "                                                                                                                                                                                                                                                                                                                                                                                                                                                                                                                                                                                                                                                                                                                                      descriptions  \n",
       "0                                                                                                                                                                                                                                                                                                                                                                                                                                                                                                                                                                                                                                                                            A unique identifier of the project record in the  ExPORTER database.   \n",
       "1                                                                                                                                                 A 3-character code identifying the grant, contract, or  intramural activity through which a project is supported. Within each  funding mechanism , NIH  uses 3-character activity codes (e.g., F32, K08, P01, R01, T32, etc.) to  differentiate the wide variety of research-related programs NIH supports. A  comprehensive  list of activity codes  for grants and cooperative agreements may be found  on the  Types of Grant  Programs  Web page. RePORTER also includes R&D contracts (activity  codes beginning with the letter N) and intramural projects (beginning with the  letter Z).  \n",
       "2                                                                                                                                                                                                                                                                                                                                                                                                                                                                                                                                                                     Administering Institute or Center - A two-character  code to designate the agency,NIH Institute, or Center administering the  grant. See  Institute/Center code  definitions  \n",
       "3  A one-digit code to identify the type of  application funded: 1 = New application                              2 = Competing continuation (also, competing renewal)                              3 = Application for additional (supplemental) support.  There are two kinds of type   3competing revisions (which are peer-reviewed and administrative supplements)                              4 = Competing extension for an R37 award or first  non-competing year of a Fast Track SBIR/STTR award                              5 = Non-competing continuation                              7 = Change of grantee institution                              9 = Change of NIH awarding Institute or Division (on a  competing continuation)  \n",
       "4                                                                                                                                                                                                                                                                                                                                                                                                                                                                                                                                                                                                                           “Y”  indicates a project supported by funds appropriated through the American  Recovery and Reinvestment Act of 2009.   \n",
       "5                                                                                                                                                                                                                                                                                                                                                                                                                                                                                                     Award notice date or Notice of Grant Award (NGA) is a legally binding document stating the government has obligated funds and which defines the period of support and the terms and conditions of award.\\r\\n                                  \n",
       "6                                                                                                                                                                                                                                                                                                                                                                                                                                                                                                                                                                                                                                                                         The date when a  project’s funding for a particular fiscal year begins.   \n",
       "7                                                                                                                                                                                                                                                                                                                                                                                                                                                                                                                                                                                                                                                                            The date when a  project’s funding for a particular fiscal year ends.  \n",
       "8                                                                                                                                                                                                                                                                                                                                                                                                                                                                                                       Federal programs are assigned a number in the Catalog of Federal Domestic Assistance (CFDA), which is referred to as the \"CFDA code.\" The CFDA database helps the Federal government track all programs it has domestically funded. \\r\\n    "
      ]
     },
     "execution_count": 28,
     "metadata": {},
     "output_type": "execute_result"
    }
   ],
   "source": [
    "all_grants = pd.read_csv('all_grants.csv', compression = 'gzip',\n",
    "                        dtype = dtypes, parse_dates = dates)\n",
    "cols_info = nih.view_col_info('grant_col_info_all.csv')\n",
    "cols_info[:9]"
   ]
  },
  {
   "cell_type": "markdown",
   "metadata": {},
   "source": [
    "To remove (initial): 5-8, redundant information"
   ]
  },
  {
   "cell_type": "code",
   "execution_count": 29,
   "metadata": {
    "collapsed": true
   },
   "outputs": [],
   "source": [
    "to_drop = 'award_notice_date budget_start budget_end cfda_code'.split()\n",
    "all_grants = all_grants.drop(to_drop, axis = 1)"
   ]
  },
  {
   "cell_type": "code",
   "execution_count": 30,
   "metadata": {},
   "outputs": [
    {
     "data": {
      "text/html": [
       "<div>\n",
       "<table border=\"1\" class=\"dataframe\">\n",
       "  <thead>\n",
       "    <tr style=\"text-align: right;\">\n",
       "      <th></th>\n",
       "      <th>column_name</th>\n",
       "      <th>descriptions</th>\n",
       "    </tr>\n",
       "  </thead>\n",
       "  <tbody>\n",
       "    <tr>\n",
       "      <th>9</th>\n",
       "      <td>core_project_num</td>\n",
       "      <td>An identifier for each research project, used to associate the project with publication and patent records.  This identifier is not specific to any particular year of the project.  It consists of the project activity code, administering IC, and serial number (a concatenation of Activity, Administering_IC, and Serial_Number).  \\r\\n</td>\n",
       "    </tr>\n",
       "    <tr>\n",
       "      <th>10</th>\n",
       "      <td>ed_inst_type</td>\n",
       "      <td>Generic name for the grouping of components across an institution who has applied for or receives NIH funding. The official name as used by NIH is Major Component Combining Name. \\r\\n</td>\n",
       "    </tr>\n",
       "    <tr>\n",
       "      <th>11</th>\n",
       "      <td>foa_number</td>\n",
       "      <td>The  number of the funding opportunity announcement, if any, under which the project  application was solicited. Funding opportunity announcements may be  categorized as program announcements, requests for applications, notices of  funding availability, solicitations, or other names depending on the agency and  type of program. Funding opportunity announcements can be found at  Grants.gov/FIND  and in the  NIH Guide for Grants and  Contracts</td>\n",
       "    </tr>\n",
       "    <tr>\n",
       "      <th>12</th>\n",
       "      <td>full_project_num</td>\n",
       "      <td>Commonly referred to as a grant number,  intramural project, or contract number.  For grants, this unique  identification number is composed of the type code, activity code, Institute/Center  code, serial number, support year, and (optional) a suffix code to designate  amended applications and supplements.</td>\n",
       "    </tr>\n",
       "    <tr>\n",
       "      <th>13</th>\n",
       "      <td>funding_ic(s)</td>\n",
       "      <td>The NIH Institute  or Center(s) providing funding for a project are designated by their acronyms  (see  Institute/Center acronyms ).  Each funding IC is followed by a colon (:) and the amount of funding provided  for the fiscal year by that IC. Multiple ICs are separated by semicolons  (;). Project funding information is available only for NIH, CDC, and FDA projects .</td>\n",
       "    </tr>\n",
       "    <tr>\n",
       "      <th>14</th>\n",
       "      <td>funding_mechanism</td>\n",
       "      <td>The major  mechanism  categories used in NIH Budget mechanism tables for the President’s budget. Extramural research awards are divided into three main funding mechanisms: grants, cooperative agreements and contracts. A funding mechanism is the type of funded application or transaction used at the NIH. Within each funding mechanism NIH includes programs. Programs can be further refined by specific activity codes.</td>\n",
       "    </tr>\n",
       "    <tr>\n",
       "      <th>15</th>\n",
       "      <td>fy</td>\n",
       "      <td>The fiscal year appropriation from which project funds were  obligated.</td>\n",
       "    </tr>\n",
       "    <tr>\n",
       "      <th>16</th>\n",
       "      <td>ic_name</td>\n",
       "      <td>Full name of the administering agency, Institute, or  Center.</td>\n",
       "    </tr>\n",
       "    <tr>\n",
       "      <th>17</th>\n",
       "      <td>nih_spending_cats</td>\n",
       "      <td>Congressionally-mandated reporting  categories into which NIH projects are categorized. Available for fiscal  years 2008 and later. Each project’s spending category designations for  each fiscal year are made available the following year as part of the next  President’s Budget request. See the  Research,  Condition, and Disease Categorization System  for more information on the  categorization process.</td>\n",
       "    </tr>\n",
       "  </tbody>\n",
       "</table>\n",
       "</div>"
      ],
      "text/plain": [
       "             column_name  \\\n",
       "9     core_project_num     \n",
       "10        ed_inst_type     \n",
       "11          foa_number     \n",
       "12    full_project_num     \n",
       "13       funding_ic(s)     \n",
       "14  funding_mechanism      \n",
       "15                    fy   \n",
       "16             ic_name     \n",
       "17   nih_spending_cats     \n",
       "\n",
       "                                                                                                                                                                                                                                                                                                                                                                                                                                                     descriptions  \n",
       "9                                                                                                                  An identifier for each research project, used to associate the project with publication and patent records.  This identifier is not specific to any particular year of the project.  It consists of the project activity code, administering IC, and serial number (a concatenation of Activity, Administering_IC, and Serial_Number).  \\r\\n    \n",
       "10                                                                                                                                                                                                                                        Generic name for the grouping of components across an institution who has applied for or receives NIH funding. The official name as used by NIH is Major Component Combining Name. \\r\\n                                  \n",
       "11  The  number of the funding opportunity announcement, if any, under which the project  application was solicited. Funding opportunity announcements may be  categorized as program announcements, requests for applications, notices of  funding availability, solicitations, or other names depending on the agency and  type of program. Funding opportunity announcements can be found at  Grants.gov/FIND  and in the  NIH Guide for Grants and  Contracts  \n",
       "12                                                                                                                                            Commonly referred to as a grant number,  intramural project, or contract number.  For grants, this unique  identification number is composed of the type code, activity code, Institute/Center  code, serial number, support year, and (optional) a suffix code to designate  amended applications and supplements.  \n",
       "13                                                                             The NIH Institute  or Center(s) providing funding for a project are designated by their acronyms  (see  Institute/Center acronyms ).  Each funding IC is followed by a colon (:) and the amount of funding provided  for the fiscal year by that IC. Multiple ICs are separated by semicolons  (;). Project funding information is available only for NIH, CDC, and FDA projects .  \n",
       "14                               The major  mechanism  categories used in NIH Budget mechanism tables for the President’s budget. Extramural research awards are divided into three main funding mechanisms: grants, cooperative agreements and contracts. A funding mechanism is the type of funded application or transaction used at the NIH. Within each funding mechanism NIH includes programs. Programs can be further refined by specific activity codes.  \n",
       "15                                                                                                                                                                                                                                                                                                                                                                                        The fiscal year appropriation from which project funds were  obligated.  \n",
       "16                                                                                                                                                                                                                                                                                                                                                                                                 Full name of the administering agency, Institute, or  Center.   \n",
       "17                                          Congressionally-mandated reporting  categories into which NIH projects are categorized. Available for fiscal  years 2008 and later. Each project’s spending category designations for  each fiscal year are made available the following year as part of the next  President’s Budget request. See the  Research,  Condition, and Disease Categorization System  for more information on the  categorization process.  "
      ]
     },
     "execution_count": 30,
     "metadata": {},
     "output_type": "execute_result"
    }
   ],
   "source": [
    "cols_info[9:18]"
   ]
  },
  {
   "cell_type": "markdown",
   "metadata": {},
   "source": [
    "To remove: 9 (may add in later if correlating with publications), 10-12, 16; also 2 (redundant with funding_ics)"
   ]
  },
  {
   "cell_type": "code",
   "execution_count": 31,
   "metadata": {
    "collapsed": true
   },
   "outputs": [],
   "source": [
    "to_drop2 = 'administering_ic core_project_num ed_inst_type foa_number full_project_num ic_name'.split()\n",
    "all_grants = all_grants.drop(to_drop2, axis = 1)"
   ]
  },
  {
   "cell_type": "code",
   "execution_count": 32,
   "metadata": {
    "scrolled": false
   },
   "outputs": [
    {
     "data": {
      "text/html": [
       "<div>\n",
       "<table border=\"1\" class=\"dataframe\">\n",
       "  <thead>\n",
       "    <tr style=\"text-align: right;\">\n",
       "      <th></th>\n",
       "      <th>column_name</th>\n",
       "      <th>descriptions</th>\n",
       "    </tr>\n",
       "  </thead>\n",
       "  <tbody>\n",
       "    <tr>\n",
       "      <th>18</th>\n",
       "      <td>org_city</td>\n",
       "      <td>The city in which the  business office of the grantee organization or contractor is located.  Note  that this may be different from the research performance site.  For all NIH intramural projects, Bethesda, MD is  used.</td>\n",
       "    </tr>\n",
       "    <tr>\n",
       "      <th>19</th>\n",
       "      <td>org_country</td>\n",
       "      <td>The country in which  the business office of the grantee organization or contractor is located.   Note that this may be different from the research performance site.</td>\n",
       "    </tr>\n",
       "    <tr>\n",
       "      <th>20</th>\n",
       "      <td>org_dept</td>\n",
       "      <td>The departmental affiliation of the contact principal  investigator for a project, using a standardized categorization of departments.   Names are available only for medical school departments.</td>\n",
       "    </tr>\n",
       "    <tr>\n",
       "      <th>21</th>\n",
       "      <td>org_district</td>\n",
       "      <td>The congressional district in which the business office  of the grantee organization or contractor is located.  Note that this may  be different from the research performance site.</td>\n",
       "    </tr>\n",
       "    <tr>\n",
       "      <th>22</th>\n",
       "      <td>org_duns</td>\n",
       "      <td>This field may contain multiple DUNS Numbers separated by a semi-colon. The Data Universal Numbering System is a unique nine-digit number assigned by Dun and Bradstreet Information Services, recognized as the universal standard for identifying and keeping track of business worldwide. \\r\\n</td>\n",
       "    </tr>\n",
       "    <tr>\n",
       "      <th>23</th>\n",
       "      <td>org_fips</td>\n",
       "      <td>The country code of the grantee organization or contractor  as defined in the Federal Information Processing Standard.</td>\n",
       "    </tr>\n",
       "    <tr>\n",
       "      <th>24</th>\n",
       "      <td>org_name</td>\n",
       "      <td>The name of the educational institution, research organization, business, or government agency receiving funding for the grant, contract, cooperative agreement, or intramural project.</td>\n",
       "    </tr>\n",
       "    <tr>\n",
       "      <th>25</th>\n",
       "      <td>org_state</td>\n",
       "      <td>The state in which the business office of the grantee  organization or contractor is located.  Note that this may be different from  the research performance site.</td>\n",
       "    </tr>\n",
       "    <tr>\n",
       "      <th>26</th>\n",
       "      <td>org_zipcode</td>\n",
       "      <td>The zip code in which the business office of the grantee  organization or contractor is located.  Note that this may be different  from the research performance site.</td>\n",
       "    </tr>\n",
       "  </tbody>\n",
       "</table>\n",
       "</div>"
      ],
      "text/plain": [
       "            column_name  \\\n",
       "18           org_city     \n",
       "19        org_country     \n",
       "20             org_dept   \n",
       "21         org_district   \n",
       "22             org_duns   \n",
       "23             org_fips   \n",
       "24             org_name   \n",
       "25            org_state   \n",
       "26          org_zipcode   \n",
       "\n",
       "                                                                                                                                                                                                                                                                                             descriptions  \n",
       "18                                                                           The city in which the  business office of the grantee organization or contractor is located.  Note  that this may be different from the research performance site.  For all NIH intramural projects, Bethesda, MD is  used.   \n",
       "19                                                                                                                                 The country in which  the business office of the grantee organization or contractor is located.   Note that this may be different from the research performance site.   \n",
       "20                                                                                                     The departmental affiliation of the contact principal  investigator for a project, using a standardized categorization of departments.   Names are available only for medical school departments.   \n",
       "21                                                                                                                  The congressional district in which the business office  of the grantee organization or contractor is located.  Note that this may  be different from the research performance site.   \n",
       "22    This field may contain multiple DUNS Numbers separated by a semi-colon. The Data Universal Numbering System is a unique nine-digit number assigned by Dun and Bradstreet Information Services, recognized as the universal standard for identifying and keeping track of business worldwide. \\r\\n    \n",
       "23                                                                                                                                                                                The country code of the grantee organization or contractor  as defined in the Federal Information Processing Standard.   \n",
       "24                                                                                                               The name of the educational institution, research organization, business, or government agency receiving funding for the grant, contract, cooperative agreement, or intramural project.   \n",
       "25                                                                                                                                   The state in which the business office of the grantee  organization or contractor is located.  Note that this may be different from  the research performance site.   \n",
       "26                                                                                                                                 The zip code in which the business office of the grantee  organization or contractor is located.  Note that this may be different  from the research performance site.  "
      ]
     },
     "execution_count": 32,
     "metadata": {},
     "output_type": "execute_result"
    }
   ],
   "source": [
    "col_info[18:27]"
   ]
  },
  {
   "cell_type": "markdown",
   "metadata": {},
   "source": [
    "All redundant: 18, 20-23, 25\n",
    "\n",
    "Also remove 19, 24, 26; these will be added again later."
   ]
  },
  {
   "cell_type": "code",
   "execution_count": 33,
   "metadata": {
    "collapsed": true
   },
   "outputs": [],
   "source": [
    "to_drop3 = 'org_city org_country org_dept org_district org_duns org_fips org_name org_state org_zipcode'.split()\n",
    "all_grants = all_grants.drop(to_drop3, axis = 1)"
   ]
  },
  {
   "cell_type": "code",
   "execution_count": 34,
   "metadata": {},
   "outputs": [
    {
     "data": {
      "text/html": [
       "<div>\n",
       "<table border=\"1\" class=\"dataframe\">\n",
       "  <thead>\n",
       "    <tr style=\"text-align: right;\">\n",
       "      <th></th>\n",
       "      <th>column_name</th>\n",
       "      <th>descriptions</th>\n",
       "    </tr>\n",
       "  </thead>\n",
       "  <tbody>\n",
       "    <tr>\n",
       "      <th>27</th>\n",
       "      <td>phr</td>\n",
       "      <td>Submitted as part of a grant application, this  statement articulates a project's potential to improve public health.</td>\n",
       "    </tr>\n",
       "    <tr>\n",
       "      <th>28</th>\n",
       "      <td>pi_id(s)</td>\n",
       "      <td>A unique identifier for each of the project  Principal Investigators.  Each PI in the RePORTER database has a unique  identifier that is constant from project to project and year to year.</td>\n",
       "    </tr>\n",
       "    <tr>\n",
       "      <th>29</th>\n",
       "      <td>pi_name(s)</td>\n",
       "      <td>The name(s) of the Principal Investigator(s)  designated by the organization to direct the research project.</td>\n",
       "    </tr>\n",
       "    <tr>\n",
       "      <th>30</th>\n",
       "      <td>program_officer_name</td>\n",
       "      <td>An Institute staff member who coordinates the substantive aspects of a contract from planning the request for proposal to oversight.</td>\n",
       "    </tr>\n",
       "    <tr>\n",
       "      <th>31</th>\n",
       "      <td>project_start</td>\n",
       "      <td>The start date of  a project.  For subprojects of a  multi-project grant, this is the start date of the parent award.</td>\n",
       "    </tr>\n",
       "    <tr>\n",
       "      <th>32</th>\n",
       "      <td>project_end</td>\n",
       "      <td>The current end date  of the project, including any future years for which commitments have been made.  For subprojects of a multi-project grant,  this is the end date of the parent award.  Upon competitive renewal of a  grant, the project end date is extended by the length of the renewal  award.</td>\n",
       "    </tr>\n",
       "    <tr>\n",
       "      <th>33</th>\n",
       "      <td>project_terms</td>\n",
       "      <td>Prior to fiscal year 2008, these were thesaurus  terms assigned by NIH CRISP indexers.  For projects funded in fiscal year  2008 and later, these are concepts that are mined from the project's title,  abstract, and specific aims using an automated text mining tool.</td>\n",
       "    </tr>\n",
       "    <tr>\n",
       "      <th>34</th>\n",
       "      <td>project_title</td>\n",
       "      <td>Title of the funded grant, contract, or intramural  (sub)project.</td>\n",
       "    </tr>\n",
       "    <tr>\n",
       "      <th>35</th>\n",
       "      <td>serial_number</td>\n",
       "      <td>A six-digit number assigned in serial number order within  each administering organization.</td>\n",
       "    </tr>\n",
       "  </tbody>\n",
       "</table>\n",
       "</div>"
      ],
      "text/plain": [
       "               column_name  \\\n",
       "27                   phr     \n",
       "28                pi_id(s)   \n",
       "29              pi_name(s)   \n",
       "30  program_officer_name     \n",
       "31         project_start     \n",
       "32           project_end     \n",
       "33         project_terms     \n",
       "34         project_title     \n",
       "35          serial_number    \n",
       "\n",
       "                                                                                                                                                                                                                                                                                                  descriptions  \n",
       "27                                                                                                                                                                                      Submitted as part of a grant application, this  statement articulates a project's potential to improve public health.   \n",
       "28                                                                                                                A unique identifier for each of the project  Principal Investigators.  Each PI in the RePORTER database has a unique  identifier that is constant from project to project and year to year.   \n",
       "29                                                                                                                                                                                               The name(s) of the Principal Investigator(s)  designated by the organization to direct the research project.   \n",
       "30                                                                                                                                                                       An Institute staff member who coordinates the substantive aspects of a contract from planning the request for proposal to oversight.   \n",
       "31                                                                                                                                                                                      The start date of  a project.  For subprojects of a  multi-project grant, this is the start date of the parent award.   \n",
       "32  The current end date  of the project, including any future years for which commitments have been made.  For subprojects of a multi-project grant,  this is the end date of the parent award.  Upon competitive renewal of a  grant, the project end date is extended by the length of the renewal  award.   \n",
       "33                                  Prior to fiscal year 2008, these were thesaurus  terms assigned by NIH CRISP indexers.  For projects funded in fiscal year  2008 and later, these are concepts that are mined from the project's title,  abstract, and specific aims using an automated text mining tool.   \n",
       "34                                                                                                                                                                                                                                          Title of the funded grant, contract, or intramural  (sub)project.   \n",
       "35                                                                                                                                                                                                                A six-digit number assigned in serial number order within  each administering organization.   "
      ]
     },
     "execution_count": 34,
     "metadata": {},
     "output_type": "execute_result"
    }
   ],
   "source": [
    "col_info[27:36]"
   ]
  },
  {
   "cell_type": "code",
   "execution_count": 35,
   "metadata": {
    "collapsed": true
   },
   "outputs": [],
   "source": [
    "to_drop4 = 'pi_names program_officer_name project_title serial_number'.split()\n",
    "all_grants = all_grants.drop(to_drop4, axis = 1)"
   ]
  },
  {
   "cell_type": "code",
   "execution_count": 36,
   "metadata": {},
   "outputs": [
    {
     "data": {
      "text/html": [
       "<div>\n",
       "<table border=\"1\" class=\"dataframe\">\n",
       "  <thead>\n",
       "    <tr style=\"text-align: right;\">\n",
       "      <th></th>\n",
       "      <th>column_name</th>\n",
       "      <th>descriptions</th>\n",
       "    </tr>\n",
       "  </thead>\n",
       "  <tbody>\n",
       "    <tr>\n",
       "      <th>36</th>\n",
       "      <td>study_section</td>\n",
       "      <td>A designator of the legislatively-mandated panel of  subject matter experts that reviewed the research grant application for  scientific and technical merit.</td>\n",
       "    </tr>\n",
       "    <tr>\n",
       "      <th>37</th>\n",
       "      <td>study_section_name</td>\n",
       "      <td>The full name of a regular standing Study  Section that reviewed the research grant application for scientific and  technical merit.  Applications reviewed by panels other than regular  standing study sections are designated by “Special Emphasis Panel.”</td>\n",
       "    </tr>\n",
       "    <tr>\n",
       "      <th>38</th>\n",
       "      <td>subproject_id</td>\n",
       "      <td>A unique numeric designation assigned to  subprojects of a “parent” multi-project research grant.</td>\n",
       "    </tr>\n",
       "    <tr>\n",
       "      <th>39</th>\n",
       "      <td>suffix</td>\n",
       "      <td>A suffix to the grant application number that includes the  letter \"A\" and a serial number to identify an amended version of an  original application and/or the letter \"S\" and serial number  indicating a supplement to the project. .</td>\n",
       "    </tr>\n",
       "    <tr>\n",
       "      <th>40</th>\n",
       "      <td>support_year</td>\n",
       "      <td>The year of support  for a project, as shown in the full project number.  For example, a project with number  5R01GM0123456-04 is in its fourth year of support.</td>\n",
       "    </tr>\n",
       "    <tr>\n",
       "      <th>41</th>\n",
       "      <td>direct_cost_amt</td>\n",
       "      <td>Total  indirect cost  funding for a project from all NIH Institute and Centers for a given fiscal year.  Costs are available only for NIH awards funded in FY 2012 and onward. Indirect cost amounts are not available for SBIR/STTR awards.</td>\n",
       "    </tr>\n",
       "    <tr>\n",
       "      <th>42</th>\n",
       "      <td>indirect_cost_amt</td>\n",
       "      <td>Total  indirect cost  funding for a project from all NIH Institute and Centers for a given fiscal year.  Costs are available only for NIH awards funded in FY 2012 and onward. Indirect cost amounts are not available for SBIR/STTR awards.</td>\n",
       "    </tr>\n",
       "    <tr>\n",
       "      <th>43</th>\n",
       "      <td>total_cost</td>\n",
       "      <td>Total project funding from all NIH Institute and Centers for a given fiscal year. Costs are available only for: NIH, CDC, and FDA grant awards (only the parent record of multi-project grants). -NIH intramural projects (activity codes beginning with “Z”) in FY 2007 and later fiscal years. -NIH contracts (activity codes beginning with “N”) .   For multi-project grants, Total_Cost includes funding for all of the constituent subprojects.  This field will be blank on subproject records; the total cost of each subproject is found in Total_Cost_Sub_Project .</td>\n",
       "    </tr>\n",
       "    <tr>\n",
       "      <th>44</th>\n",
       "      <td>total_cost_sub_project</td>\n",
       "      <td>Applies to subproject  records only.  Total funding for a subproject from all NIH  Institute and Centers for a given fiscal year.  Costs are available only for NIH awards.</td>\n",
       "    </tr>\n",
       "  </tbody>\n",
       "</table>\n",
       "</div>"
      ],
      "text/plain": [
       "                 column_name  \\\n",
       "36           study_section     \n",
       "37       study_section_name    \n",
       "38           subproject_id     \n",
       "39                  suffix     \n",
       "40            support_year     \n",
       "41         direct_cost_amt     \n",
       "42       indirect_cost_amt     \n",
       "43              total_cost     \n",
       "44  total_cost_sub_project     \n",
       "\n",
       "                                                                                                                                                                                                                                                                                                                                                                                                                                                                                                                                                                     descriptions  \n",
       "36                                                                                                                                                                                                                                                                                                                                                                                                                 A designator of the legislatively-mandated panel of  subject matter experts that reviewed the research grant application for  scientific and technical merit.   \n",
       "37                                                                                                                                                                                                                                                                                                                  The full name of a regular standing Study  Section that reviewed the research grant application for scientific and  technical merit.  Applications reviewed by panels other than regular  standing study sections are designated by “Special Emphasis Panel.”  \n",
       "38                                                                                                                                                                                                                                                                                                                                                                                                                                                                             A unique numeric designation assigned to  subprojects of a “parent” multi-project research grant.   \n",
       "39                                                                                                                                                                                                                                                                                                                                      A suffix to the grant application number that includes the  letter \"A\" and a serial number to identify an amended version of an  original application and/or the letter \"S\" and serial number  indicating a supplement to the project. .   \n",
       "40                                                                                                                                                                                                                                                                                                                                                                                                               The year of support  for a project, as shown in the full project number.  For example, a project with number  5R01GM0123456-04 is in its fourth year of support.  \n",
       "41                                                                                                                                                                                                                                                                                                                                   Total  indirect cost  funding for a project from all NIH Institute and Centers for a given fiscal year.  Costs are available only for NIH awards funded in FY 2012 and onward. Indirect cost amounts are not available for SBIR/STTR awards.  \n",
       "42                                                                                                                                                                                                                                                                                                                                   Total  indirect cost  funding for a project from all NIH Institute and Centers for a given fiscal year.  Costs are available only for NIH awards funded in FY 2012 and onward. Indirect cost amounts are not available for SBIR/STTR awards.  \n",
       "43  Total project funding from all NIH Institute and Centers for a given fiscal year. Costs are available only for: NIH, CDC, and FDA grant awards (only the parent record of multi-project grants). -NIH intramural projects (activity codes beginning with “Z”) in FY 2007 and later fiscal years. -NIH contracts (activity codes beginning with “N”) .   For multi-project grants, Total_Cost includes funding for all of the constituent subprojects.  This field will be blank on subproject records; the total cost of each subproject is found in Total_Cost_Sub_Project .  \n",
       "44                                                                                                                                                                                                                                                                                                                                                                                                  Applies to subproject  records only.  Total funding for a subproject from all NIH  Institute and Centers for a given fiscal year.  Costs are available only for NIH awards.    "
      ]
     },
     "execution_count": 36,
     "metadata": {},
     "output_type": "execute_result"
    }
   ],
   "source": [
    "col_info[36:]"
   ]
  },
  {
   "cell_type": "markdown",
   "metadata": {},
   "source": [
    "37 (redundant with 36, can always look up)"
   ]
  },
  {
   "cell_type": "code",
   "execution_count": 37,
   "metadata": {},
   "outputs": [
    {
     "data": {
      "text/plain": [
       "(2223292, 22)"
      ]
     },
     "execution_count": 37,
     "metadata": {},
     "output_type": "execute_result"
    },
    {
     "data": {
      "text/plain": [
       "subproject_id    1727151\n",
       "suffix           1918047\n",
       "dtype: int64"
      ]
     },
     "execution_count": 37,
     "metadata": {},
     "output_type": "execute_result"
    }
   ],
   "source": [
    "#check number of subprojects\n",
    "all_grants.shape\n",
    "subproject_cols = 'subproject_id suffix'.split()\n",
    "all_grants[subproject_cols].isnull().sum()"
   ]
  },
  {
   "cell_type": "markdown",
   "metadata": {},
   "source": [
    "For simplicity will only investigate projects and not subprojects"
   ]
  },
  {
   "cell_type": "code",
   "execution_count": 38,
   "metadata": {
    "collapsed": true
   },
   "outputs": [],
   "source": [
    "all_grants = all_grants.drop(subproject_cols, axis = 1)"
   ]
  },
  {
   "cell_type": "code",
   "execution_count": 39,
   "metadata": {},
   "outputs": [
    {
     "data": {
      "text/html": [
       "<div>\n",
       "<table border=\"1\" class=\"dataframe\">\n",
       "  <thead>\n",
       "    <tr style=\"text-align: right;\">\n",
       "      <th></th>\n",
       "      <th>application_id</th>\n",
       "      <th>activity</th>\n",
       "      <th>application_type</th>\n",
       "      <th>arra_funded</th>\n",
       "      <th>funding_ics</th>\n",
       "      <th>funding_mechanism</th>\n",
       "      <th>fy</th>\n",
       "      <th>nih_spending_cats</th>\n",
       "      <th>phr</th>\n",
       "      <th>pi_ids</th>\n",
       "      <th>project_start</th>\n",
       "      <th>project_end</th>\n",
       "      <th>project_terms</th>\n",
       "      <th>study_section</th>\n",
       "      <th>study_section_name</th>\n",
       "      <th>support_year</th>\n",
       "      <th>direct_cost_amt</th>\n",
       "      <th>indirect_cost_amt</th>\n",
       "      <th>total_cost</th>\n",
       "      <th>total_cost_sub_project</th>\n",
       "    </tr>\n",
       "  </thead>\n",
       "  <tbody>\n",
       "    <tr>\n",
       "      <th>0</th>\n",
       "      <td>3000011</td>\n",
       "      <td>a03</td>\n",
       "      <td>1</td>\n",
       "      <td>NaN</td>\n",
       "      <td>NaN</td>\n",
       "      <td>NaN</td>\n",
       "      <td>1985</td>\n",
       "      <td>NaN</td>\n",
       "      <td>NaN</td>\n",
       "      <td>3700006</td>\n",
       "      <td>1985-07-01</td>\n",
       "      <td>NaT</td>\n",
       "      <td>NaN</td>\n",
       "      <td>stc</td>\n",
       "      <td>NaN</td>\n",
       "      <td>1</td>\n",
       "      <td>NaN</td>\n",
       "      <td>NaN</td>\n",
       "      <td>NaN</td>\n",
       "      <td>NaN</td>\n",
       "    </tr>\n",
       "    <tr>\n",
       "      <th>1</th>\n",
       "      <td>3000012</td>\n",
       "      <td>a03</td>\n",
       "      <td>1</td>\n",
       "      <td>NaN</td>\n",
       "      <td>NaN</td>\n",
       "      <td>NaN</td>\n",
       "      <td>1985</td>\n",
       "      <td>NaN</td>\n",
       "      <td>NaN</td>\n",
       "      <td>2407264</td>\n",
       "      <td>1985-07-01</td>\n",
       "      <td>NaT</td>\n",
       "      <td>NaN</td>\n",
       "      <td>stc</td>\n",
       "      <td>NaN</td>\n",
       "      <td>1</td>\n",
       "      <td>NaN</td>\n",
       "      <td>NaN</td>\n",
       "      <td>NaN</td>\n",
       "      <td>NaN</td>\n",
       "    </tr>\n",
       "    <tr>\n",
       "      <th>2</th>\n",
       "      <td>3000013</td>\n",
       "      <td>a03</td>\n",
       "      <td>1</td>\n",
       "      <td>NaN</td>\n",
       "      <td>NaN</td>\n",
       "      <td>NaN</td>\n",
       "      <td>1985</td>\n",
       "      <td>NaN</td>\n",
       "      <td>NaN</td>\n",
       "      <td>1871887</td>\n",
       "      <td>1985-07-01</td>\n",
       "      <td>NaT</td>\n",
       "      <td>NaN</td>\n",
       "      <td>stc</td>\n",
       "      <td>NaN</td>\n",
       "      <td>1</td>\n",
       "      <td>NaN</td>\n",
       "      <td>NaN</td>\n",
       "      <td>NaN</td>\n",
       "      <td>NaN</td>\n",
       "    </tr>\n",
       "    <tr>\n",
       "      <th>3</th>\n",
       "      <td>3000014</td>\n",
       "      <td>a03</td>\n",
       "      <td>1</td>\n",
       "      <td>NaN</td>\n",
       "      <td>NaN</td>\n",
       "      <td>NaN</td>\n",
       "      <td>1985</td>\n",
       "      <td>NaN</td>\n",
       "      <td>NaN</td>\n",
       "      <td>1877259</td>\n",
       "      <td>1985-07-01</td>\n",
       "      <td>NaT</td>\n",
       "      <td>NaN</td>\n",
       "      <td>stc</td>\n",
       "      <td>NaN</td>\n",
       "      <td>1</td>\n",
       "      <td>NaN</td>\n",
       "      <td>NaN</td>\n",
       "      <td>NaN</td>\n",
       "      <td>NaN</td>\n",
       "    </tr>\n",
       "    <tr>\n",
       "      <th>4</th>\n",
       "      <td>3000015</td>\n",
       "      <td>a03</td>\n",
       "      <td>1</td>\n",
       "      <td>NaN</td>\n",
       "      <td>NaN</td>\n",
       "      <td>NaN</td>\n",
       "      <td>1985</td>\n",
       "      <td>NaN</td>\n",
       "      <td>NaN</td>\n",
       "      <td>1957769</td>\n",
       "      <td>1985-07-01</td>\n",
       "      <td>NaT</td>\n",
       "      <td>NaN</td>\n",
       "      <td>stc</td>\n",
       "      <td>NaN</td>\n",
       "      <td>1</td>\n",
       "      <td>NaN</td>\n",
       "      <td>NaN</td>\n",
       "      <td>NaN</td>\n",
       "      <td>NaN</td>\n",
       "    </tr>\n",
       "  </tbody>\n",
       "</table>\n",
       "</div>"
      ],
      "text/plain": [
       "  application_id activity application_type arra_funded funding_ics  \\\n",
       "0        3000011      a03                1         NaN         NaN   \n",
       "1        3000012      a03                1         NaN         NaN   \n",
       "2        3000013      a03                1         NaN         NaN   \n",
       "3        3000014      a03                1         NaN         NaN   \n",
       "4        3000015      a03                1         NaN         NaN   \n",
       "\n",
       "  funding_mechanism    fy nih_spending_cats  phr   pi_ids project_start  \\\n",
       "0               NaN  1985               NaN  NaN  3700006    1985-07-01   \n",
       "1               NaN  1985               NaN  NaN  2407264    1985-07-01   \n",
       "2               NaN  1985               NaN  NaN  1871887    1985-07-01   \n",
       "3               NaN  1985               NaN  NaN  1877259    1985-07-01   \n",
       "4               NaN  1985               NaN  NaN  1957769    1985-07-01   \n",
       "\n",
       "  project_end project_terms study_section study_section_name support_year  \\\n",
       "0         NaT           NaN           stc                NaN            1   \n",
       "1         NaT           NaN           stc                NaN            1   \n",
       "2         NaT           NaN           stc                NaN            1   \n",
       "3         NaT           NaN           stc                NaN            1   \n",
       "4         NaT           NaN           stc                NaN            1   \n",
       "\n",
       "   direct_cost_amt  indirect_cost_amt  total_cost  total_cost_sub_project  \n",
       "0              NaN                NaN         NaN                     NaN  \n",
       "1              NaN                NaN         NaN                     NaN  \n",
       "2              NaN                NaN         NaN                     NaN  \n",
       "3              NaN                NaN         NaN                     NaN  \n",
       "4              NaN                NaN         NaN                     NaN  "
      ]
     },
     "execution_count": 39,
     "metadata": {},
     "output_type": "execute_result"
    }
   ],
   "source": [
    "pd.set_option('display.max_colwidth', 50)\n",
    "all_grants.head()"
   ]
  },
  {
   "cell_type": "markdown",
   "metadata": {},
   "source": [
    "## Extract funding institute information \n",
    "The column 'funding_ics' contains information about the agency or agencies that funded the grant as well as the amount awarded by that agency. Isolate this information along with the application_id for separate analysis and remove the column 'funding_ics'."
   ]
  },
  {
   "cell_type": "code",
   "execution_count": 40,
   "metadata": {
    "scrolled": true
   },
   "outputs": [
    {
     "data": {
      "text/html": [
       "<div>\n",
       "<table border=\"1\" class=\"dataframe\">\n",
       "  <thead>\n",
       "    <tr style=\"text-align: right;\">\n",
       "      <th></th>\n",
       "      <th>application_id</th>\n",
       "      <th>fy</th>\n",
       "      <th>funding_ics</th>\n",
       "    </tr>\n",
       "  </thead>\n",
       "  <tbody>\n",
       "    <tr>\n",
       "      <th>2223287</th>\n",
       "      <td>9119172</td>\n",
       "      <td>2016</td>\n",
       "      <td>nigms:180552\\</td>\n",
       "    </tr>\n",
       "    <tr>\n",
       "      <th>2223288</th>\n",
       "      <td>9128041</td>\n",
       "      <td>2016</td>\n",
       "      <td>nhlbi:751173\\</td>\n",
       "    </tr>\n",
       "    <tr>\n",
       "      <th>2223289</th>\n",
       "      <td>9033088</td>\n",
       "      <td>2016</td>\n",
       "      <td>nci:354563\\</td>\n",
       "    </tr>\n",
       "    <tr>\n",
       "      <th>2223290</th>\n",
       "      <td>9070525</td>\n",
       "      <td>2016</td>\n",
       "      <td>nimh:46182\\</td>\n",
       "    </tr>\n",
       "    <tr>\n",
       "      <th>2223291</th>\n",
       "      <td>9057001</td>\n",
       "      <td>2016</td>\n",
       "      <td>nci:306063\\</td>\n",
       "    </tr>\n",
       "  </tbody>\n",
       "</table>\n",
       "</div>"
      ],
      "text/plain": [
       "        application_id    fy    funding_ics\n",
       "2223287        9119172  2016  nigms:180552\\\n",
       "2223288        9128041  2016  nhlbi:751173\\\n",
       "2223289        9033088  2016    nci:354563\\\n",
       "2223290        9070525  2016    nimh:46182\\\n",
       "2223291        9057001  2016    nci:306063\\"
      ]
     },
     "execution_count": 40,
     "metadata": {},
     "output_type": "execute_result"
    }
   ],
   "source": [
    "institute_funds = all_grants.filter(items = 'application_id fy funding_ics'.split())\n",
    "institute_funds.tail()"
   ]
  },
  {
   "cell_type": "code",
   "execution_count": 41,
   "metadata": {
    "collapsed": true
   },
   "outputs": [],
   "source": [
    "all_grants = all_grants.drop(['funding_ics'], axis = 1)"
   ]
  },
  {
   "cell_type": "markdown",
   "metadata": {},
   "source": [
    "### Institute funds per grant"
   ]
  },
  {
   "cell_type": "code",
   "execution_count": 42,
   "metadata": {
    "scrolled": true
   },
   "outputs": [
    {
     "data": {
      "text/plain": [
       "(2223292, 3)"
      ]
     },
     "execution_count": 42,
     "metadata": {},
     "output_type": "execute_result"
    }
   ],
   "source": [
    "institute_funds.shape"
   ]
  },
  {
   "cell_type": "markdown",
   "metadata": {},
   "source": [
    "Split 'funding_ics' column so that every row contains a single institute code associated with the application and the amount of money given by that institute."
   ]
  },
  {
   "cell_type": "code",
   "execution_count": 43,
   "metadata": {},
   "outputs": [
    {
     "data": {
      "text/html": [
       "<div>\n",
       "<table border=\"1\" class=\"dataframe\">\n",
       "  <thead>\n",
       "    <tr style=\"text-align: right;\">\n",
       "      <th></th>\n",
       "      <th>application_id</th>\n",
       "      <th>fy</th>\n",
       "      <th>funding_ics</th>\n",
       "    </tr>\n",
       "  </thead>\n",
       "  <tbody>\n",
       "    <tr>\n",
       "      <th>0</th>\n",
       "      <td>3000011</td>\n",
       "      <td>1985</td>\n",
       "      <td>NaN</td>\n",
       "    </tr>\n",
       "    <tr>\n",
       "      <th>1</th>\n",
       "      <td>3000012</td>\n",
       "      <td>1985</td>\n",
       "      <td>NaN</td>\n",
       "    </tr>\n",
       "    <tr>\n",
       "      <th>2</th>\n",
       "      <td>3000013</td>\n",
       "      <td>1985</td>\n",
       "      <td>NaN</td>\n",
       "    </tr>\n",
       "    <tr>\n",
       "      <th>3</th>\n",
       "      <td>3000014</td>\n",
       "      <td>1985</td>\n",
       "      <td>NaN</td>\n",
       "    </tr>\n",
       "    <tr>\n",
       "      <th>4</th>\n",
       "      <td>3000015</td>\n",
       "      <td>1985</td>\n",
       "      <td>NaN</td>\n",
       "    </tr>\n",
       "  </tbody>\n",
       "</table>\n",
       "</div>"
      ],
      "text/plain": [
       "  application_id    fy funding_ics\n",
       "0        3000011  1985         NaN\n",
       "1        3000012  1985         NaN\n",
       "2        3000013  1985         NaN\n",
       "3        3000014  1985         NaN\n",
       "4        3000015  1985         NaN"
      ]
     },
     "execution_count": 43,
     "metadata": {},
     "output_type": "execute_result"
    }
   ],
   "source": [
    "institute_funds['funding_ics'] = institute_funds['funding_ics'].str.strip('\\ ')\n",
    "institute_funds = cln.split_rows(institute_funds, col_name = 'funding_ics', by = '\\\\')\n",
    "institute_funds.reset_index(drop = True, inplace = True)\n",
    "institute_funds.head()"
   ]
  },
  {
   "cell_type": "markdown",
   "metadata": {},
   "source": [
    "Create a new column, 'funds_awarded', with the amount of money the institute awarded to the particular application."
   ]
  },
  {
   "cell_type": "code",
   "execution_count": 44,
   "metadata": {
    "collapsed": true
   },
   "outputs": [],
   "source": [
    "ics = list(institute_funds['funding_ics'])\n",
    "for i in range(len(ics)):\n",
    "    if type(ics[i]) == float:\n",
    "        ics[i] = [np.nan, np.nan]\n",
    "    else:\n",
    "        ics[i] = ics[i].split(':')\n",
    "\n",
    "to_concat = pd.DataFrame(ics, columns = ['institute', 'funds_awarded'])\n",
    "institute_funds = pd.concat([institute_funds, to_concat], axis = 1)\n",
    "del institute_funds['funding_ics']"
   ]
  },
  {
   "cell_type": "code",
   "execution_count": 45,
   "metadata": {},
   "outputs": [
    {
     "data": {
      "text/html": [
       "<div>\n",
       "<table border=\"1\" class=\"dataframe\">\n",
       "  <thead>\n",
       "    <tr style=\"text-align: right;\">\n",
       "      <th></th>\n",
       "      <th>application_id</th>\n",
       "      <th>fy</th>\n",
       "      <th>institute</th>\n",
       "      <th>funds_awarded</th>\n",
       "    </tr>\n",
       "  </thead>\n",
       "  <tbody>\n",
       "    <tr>\n",
       "      <th>2260239</th>\n",
       "      <td>9119172</td>\n",
       "      <td>2016</td>\n",
       "      <td>nigms</td>\n",
       "      <td>180552</td>\n",
       "    </tr>\n",
       "    <tr>\n",
       "      <th>2260240</th>\n",
       "      <td>9128041</td>\n",
       "      <td>2016</td>\n",
       "      <td>nhlbi</td>\n",
       "      <td>751173</td>\n",
       "    </tr>\n",
       "    <tr>\n",
       "      <th>2260241</th>\n",
       "      <td>9033088</td>\n",
       "      <td>2016</td>\n",
       "      <td>nci</td>\n",
       "      <td>354563</td>\n",
       "    </tr>\n",
       "    <tr>\n",
       "      <th>2260242</th>\n",
       "      <td>9070525</td>\n",
       "      <td>2016</td>\n",
       "      <td>nimh</td>\n",
       "      <td>46182</td>\n",
       "    </tr>\n",
       "    <tr>\n",
       "      <th>2260243</th>\n",
       "      <td>9057001</td>\n",
       "      <td>2016</td>\n",
       "      <td>nci</td>\n",
       "      <td>306063</td>\n",
       "    </tr>\n",
       "  </tbody>\n",
       "</table>\n",
       "</div>"
      ],
      "text/plain": [
       "        application_id    fy institute funds_awarded\n",
       "2260239        9119172  2016     nigms        180552\n",
       "2260240        9128041  2016     nhlbi        751173\n",
       "2260241        9033088  2016       nci        354563\n",
       "2260242        9070525  2016      nimh         46182\n",
       "2260243        9057001  2016       nci        306063"
      ]
     },
     "execution_count": 45,
     "metadata": {},
     "output_type": "execute_result"
    }
   ],
   "source": [
    "institute_funds.tail()"
   ]
  },
  {
   "cell_type": "markdown",
   "metadata": {},
   "source": [
    "Save to .csv"
   ]
  },
  {
   "cell_type": "code",
   "execution_count": 46,
   "metadata": {
    "collapsed": true
   },
   "outputs": [],
   "source": [
    "institute_funds.to_csv('institute_funds.csv', index = False, compression = 'gzip')"
   ]
  },
  {
   "cell_type": "markdown",
   "metadata": {},
   "source": [
    "## Cost of grants (funds)\n",
    "There are 4 cost columns. Indirect and direct costs sum to total costs or to total subproject costs. Drop indirect and direct costs columns and combine the total costs into one column (costs are either listed as total cost or total subproject cost)."
   ]
  },
  {
   "cell_type": "code",
   "execution_count": 47,
   "metadata": {},
   "outputs": [
    {
     "data": {
      "text/html": [
       "<div>\n",
       "<table border=\"1\" class=\"dataframe\">\n",
       "  <thead>\n",
       "    <tr style=\"text-align: right;\">\n",
       "      <th></th>\n",
       "      <th>application_id</th>\n",
       "      <th>activity</th>\n",
       "      <th>application_type</th>\n",
       "      <th>arra_funded</th>\n",
       "      <th>funding_mechanism</th>\n",
       "      <th>fy</th>\n",
       "      <th>nih_spending_cats</th>\n",
       "      <th>phr</th>\n",
       "      <th>pi_ids</th>\n",
       "      <th>project_start</th>\n",
       "      <th>project_end</th>\n",
       "      <th>project_terms</th>\n",
       "      <th>study_section</th>\n",
       "      <th>study_section_name</th>\n",
       "      <th>support_year</th>\n",
       "      <th>direct_cost_amt</th>\n",
       "      <th>indirect_cost_amt</th>\n",
       "      <th>total_cost</th>\n",
       "      <th>total_cost_sub_project</th>\n",
       "    </tr>\n",
       "  </thead>\n",
       "  <tbody>\n",
       "    <tr>\n",
       "      <th>2223290</th>\n",
       "      <td>9070525</td>\n",
       "      <td>f30</td>\n",
       "      <td>4</td>\n",
       "      <td>n</td>\n",
       "      <td>training, individual</td>\n",
       "      <td>2016</td>\n",
       "      <td>NaN</td>\n",
       "      <td>the world health organization estimates that n...</td>\n",
       "      <td>10944221</td>\n",
       "      <td>2012-06-01</td>\n",
       "      <td>2017-05-31</td>\n",
       "      <td>amino acid sequence; anterior; anxiety; axon; ...</td>\n",
       "      <td>zrg1</td>\n",
       "      <td>special emphasis panel</td>\n",
       "      <td>5</td>\n",
       "      <td>46182.0</td>\n",
       "      <td>NaN</td>\n",
       "      <td>46182.0</td>\n",
       "      <td>NaN</td>\n",
       "    </tr>\n",
       "    <tr>\n",
       "      <th>2223291</th>\n",
       "      <td>9057001</td>\n",
       "      <td>r01</td>\n",
       "      <td>5</td>\n",
       "      <td>n</td>\n",
       "      <td>non-sbir/sttr rpgs</td>\n",
       "      <td>2016</td>\n",
       "      <td>NaN</td>\n",
       "      <td>public health relevance:  trip13 overexpressio...</td>\n",
       "      <td>9288457</td>\n",
       "      <td>2014-05-01</td>\n",
       "      <td>2018-04-30</td>\n",
       "      <td>adaptor signaling protein; address; affect; ag...</td>\n",
       "      <td>cg</td>\n",
       "      <td>cancer genetics study section</td>\n",
       "      <td>3</td>\n",
       "      <td>207500.0</td>\n",
       "      <td>98563.0</td>\n",
       "      <td>306063.0</td>\n",
       "      <td>NaN</td>\n",
       "    </tr>\n",
       "  </tbody>\n",
       "</table>\n",
       "</div>"
      ],
      "text/plain": [
       "        application_id activity application_type arra_funded  \\\n",
       "2223290        9070525      f30                4           n   \n",
       "2223291        9057001      r01                5           n   \n",
       "\n",
       "            funding_mechanism    fy nih_spending_cats  \\\n",
       "2223290  training, individual  2016               NaN   \n",
       "2223291    non-sbir/sttr rpgs  2016               NaN   \n",
       "\n",
       "                                                       phr    pi_ids  \\\n",
       "2223290  the world health organization estimates that n...  10944221   \n",
       "2223291  public health relevance:  trip13 overexpressio...   9288457   \n",
       "\n",
       "        project_start project_end  \\\n",
       "2223290    2012-06-01  2017-05-31   \n",
       "2223291    2014-05-01  2018-04-30   \n",
       "\n",
       "                                             project_terms study_section  \\\n",
       "2223290  amino acid sequence; anterior; anxiety; axon; ...          zrg1   \n",
       "2223291  adaptor signaling protein; address; affect; ag...            cg   \n",
       "\n",
       "                     study_section_name support_year  direct_cost_amt  \\\n",
       "2223290         special emphasis panel             5          46182.0   \n",
       "2223291  cancer genetics study section             3         207500.0   \n",
       "\n",
       "         indirect_cost_amt  total_cost  total_cost_sub_project  \n",
       "2223290                NaN     46182.0                     NaN  \n",
       "2223291            98563.0    306063.0                     NaN  "
      ]
     },
     "execution_count": 47,
     "metadata": {},
     "output_type": "execute_result"
    }
   ],
   "source": [
    "all_grants.tail(2)"
   ]
  },
  {
   "cell_type": "code",
   "execution_count": 48,
   "metadata": {
    "collapsed": true
   },
   "outputs": [],
   "source": [
    "all_grants = all_grants.drop(['direct_cost_amt', 'indirect_cost_amt'], axis = 1)\n",
    "all_grants['total_cost'].fillna(all_grants['total_cost_sub_project'], inplace = True)\n",
    "del all_grants['total_cost_sub_project']"
   ]
  },
  {
   "cell_type": "code",
   "execution_count": 49,
   "metadata": {},
   "outputs": [
    {
     "data": {
      "text/html": [
       "<div>\n",
       "<table border=\"1\" class=\"dataframe\">\n",
       "  <thead>\n",
       "    <tr style=\"text-align: right;\">\n",
       "      <th></th>\n",
       "      <th>application_id</th>\n",
       "      <th>activity</th>\n",
       "      <th>application_type</th>\n",
       "      <th>arra_funded</th>\n",
       "      <th>funding_mechanism</th>\n",
       "      <th>fy</th>\n",
       "      <th>nih_spending_cats</th>\n",
       "      <th>phr</th>\n",
       "      <th>pi_ids</th>\n",
       "      <th>project_start</th>\n",
       "      <th>project_end</th>\n",
       "      <th>project_terms</th>\n",
       "      <th>study_section</th>\n",
       "      <th>study_section_name</th>\n",
       "      <th>support_year</th>\n",
       "      <th>funds</th>\n",
       "    </tr>\n",
       "  </thead>\n",
       "  <tbody>\n",
       "    <tr>\n",
       "      <th>2223287</th>\n",
       "      <td>9119172</td>\n",
       "      <td>p20</td>\n",
       "      <td>4</td>\n",
       "      <td>n</td>\n",
       "      <td>research centers</td>\n",
       "      <td>2016</td>\n",
       "      <td>NaN</td>\n",
       "      <td>mycobacterium bovis is the causative agent of ...</td>\n",
       "      <td>9524770</td>\n",
       "      <td>2016-07-01</td>\n",
       "      <td>2017-06-30</td>\n",
       "      <td>adaptive immunity; animals; arm; biology; bovi...</td>\n",
       "      <td>zrr1</td>\n",
       "      <td>special emphasis panel</td>\n",
       "      <td>5</td>\n",
       "      <td>180552.0</td>\n",
       "    </tr>\n",
       "    <tr>\n",
       "      <th>2223288</th>\n",
       "      <td>9128041</td>\n",
       "      <td>u01</td>\n",
       "      <td>5</td>\n",
       "      <td>n</td>\n",
       "      <td>non-sbir/sttr rpgs</td>\n",
       "      <td>2016</td>\n",
       "      <td>NaN</td>\n",
       "      <td>public health relevance: disorders of excitabi...</td>\n",
       "      <td>6490459</td>\n",
       "      <td>2015-09-01</td>\n",
       "      <td>2020-08-31</td>\n",
       "      <td>3-dimensional; academia; adherence; affect; am...</td>\n",
       "      <td>zeb1</td>\n",
       "      <td>special emphasis panel</td>\n",
       "      <td>2</td>\n",
       "      <td>751173.0</td>\n",
       "    </tr>\n",
       "    <tr>\n",
       "      <th>2223289</th>\n",
       "      <td>9033088</td>\n",
       "      <td>r01</td>\n",
       "      <td>5</td>\n",
       "      <td>n</td>\n",
       "      <td>non-sbir/sttr rpgs</td>\n",
       "      <td>2016</td>\n",
       "      <td>NaN</td>\n",
       "      <td>public health relevance: hepatocarinoma is a m...</td>\n",
       "      <td>1901669</td>\n",
       "      <td>2015-07-01</td>\n",
       "      <td>2020-06-30</td>\n",
       "      <td>1-phosphatidylinositol 3-kinase; ablation; add...</td>\n",
       "      <td>tcb</td>\n",
       "      <td>tumor cell biology study section</td>\n",
       "      <td>2</td>\n",
       "      <td>354563.0</td>\n",
       "    </tr>\n",
       "    <tr>\n",
       "      <th>2223290</th>\n",
       "      <td>9070525</td>\n",
       "      <td>f30</td>\n",
       "      <td>4</td>\n",
       "      <td>n</td>\n",
       "      <td>training, individual</td>\n",
       "      <td>2016</td>\n",
       "      <td>NaN</td>\n",
       "      <td>the world health organization estimates that n...</td>\n",
       "      <td>10944221</td>\n",
       "      <td>2012-06-01</td>\n",
       "      <td>2017-05-31</td>\n",
       "      <td>amino acid sequence; anterior; anxiety; axon; ...</td>\n",
       "      <td>zrg1</td>\n",
       "      <td>special emphasis panel</td>\n",
       "      <td>5</td>\n",
       "      <td>46182.0</td>\n",
       "    </tr>\n",
       "    <tr>\n",
       "      <th>2223291</th>\n",
       "      <td>9057001</td>\n",
       "      <td>r01</td>\n",
       "      <td>5</td>\n",
       "      <td>n</td>\n",
       "      <td>non-sbir/sttr rpgs</td>\n",
       "      <td>2016</td>\n",
       "      <td>NaN</td>\n",
       "      <td>public health relevance:  trip13 overexpressio...</td>\n",
       "      <td>9288457</td>\n",
       "      <td>2014-05-01</td>\n",
       "      <td>2018-04-30</td>\n",
       "      <td>adaptor signaling protein; address; affect; ag...</td>\n",
       "      <td>cg</td>\n",
       "      <td>cancer genetics study section</td>\n",
       "      <td>3</td>\n",
       "      <td>306063.0</td>\n",
       "    </tr>\n",
       "  </tbody>\n",
       "</table>\n",
       "</div>"
      ],
      "text/plain": [
       "        application_id activity application_type arra_funded  \\\n",
       "2223287        9119172      p20                4           n   \n",
       "2223288        9128041      u01                5           n   \n",
       "2223289        9033088      r01                5           n   \n",
       "2223290        9070525      f30                4           n   \n",
       "2223291        9057001      r01                5           n   \n",
       "\n",
       "            funding_mechanism    fy nih_spending_cats  \\\n",
       "2223287      research centers  2016               NaN   \n",
       "2223288    non-sbir/sttr rpgs  2016               NaN   \n",
       "2223289    non-sbir/sttr rpgs  2016               NaN   \n",
       "2223290  training, individual  2016               NaN   \n",
       "2223291    non-sbir/sttr rpgs  2016               NaN   \n",
       "\n",
       "                                                       phr    pi_ids  \\\n",
       "2223287  mycobacterium bovis is the causative agent of ...   9524770   \n",
       "2223288  public health relevance: disorders of excitabi...   6490459   \n",
       "2223289  public health relevance: hepatocarinoma is a m...   1901669   \n",
       "2223290  the world health organization estimates that n...  10944221   \n",
       "2223291  public health relevance:  trip13 overexpressio...   9288457   \n",
       "\n",
       "        project_start project_end  \\\n",
       "2223287    2016-07-01  2017-06-30   \n",
       "2223288    2015-09-01  2020-08-31   \n",
       "2223289    2015-07-01  2020-06-30   \n",
       "2223290    2012-06-01  2017-05-31   \n",
       "2223291    2014-05-01  2018-04-30   \n",
       "\n",
       "                                             project_terms study_section  \\\n",
       "2223287  adaptive immunity; animals; arm; biology; bovi...          zrr1   \n",
       "2223288  3-dimensional; academia; adherence; affect; am...          zeb1   \n",
       "2223289  1-phosphatidylinositol 3-kinase; ablation; add...           tcb   \n",
       "2223290  amino acid sequence; anterior; anxiety; axon; ...          zrg1   \n",
       "2223291  adaptor signaling protein; address; affect; ag...            cg   \n",
       "\n",
       "                        study_section_name support_year     funds  \n",
       "2223287            special emphasis panel             5  180552.0  \n",
       "2223288            special emphasis panel             2  751173.0  \n",
       "2223289  tumor cell biology study section             2  354563.0  \n",
       "2223290            special emphasis panel             5   46182.0  \n",
       "2223291     cancer genetics study section             3  306063.0  "
      ]
     },
     "execution_count": 49,
     "metadata": {},
     "output_type": "execute_result"
    }
   ],
   "source": [
    "all_grants.rename(columns = {'total_cost':'funds'}, inplace = True)\n",
    "all_grants.tail()"
   ]
  },
  {
   "cell_type": "markdown",
   "metadata": {},
   "source": [
    "## Selecting years to analyze\n",
    "As we are interested in investigating factors driving funding of grants over time, years where funding information is unavailable or lacking are less relevant and can be ignored. However, we do not want to remove all grants where funding is not available as certain types of grants are not listed with funding information, but it could still be worth investigating how often/many these grants are awarded. Therefore we will determine the proportion of grants without funding information per year and remove those with a large proportion of missing funding information."
   ]
  },
  {
   "cell_type": "code",
   "execution_count": 50,
   "metadata": {},
   "outputs": [
    {
     "data": {
      "text/plain": [
       "{'1985': {'proportion null': 1.0, 'total': 49748},\n",
       " '1986': {'proportion null': 1.0, 'total': 42996},\n",
       " '1987': {'proportion null': 1.0, 'total': 47294},\n",
       " '1988': {'proportion null': 1.0, 'total': 47898},\n",
       " '1989': {'proportion null': 1.0, 'total': 48032},\n",
       " '1990': {'proportion null': 1.0, 'total': 52000},\n",
       " '1991': {'proportion null': 1.0, 'total': 53491},\n",
       " '1992': {'proportion null': 1.0, 'total': 51737},\n",
       " '1993': {'proportion null': 1.0, 'total': 51404},\n",
       " '1994': {'proportion null': 1.0, 'total': 53435},\n",
       " '1995': {'proportion null': 1.0, 'total': 54739},\n",
       " '1996': {'proportion null': 1.0, 'total': 65224},\n",
       " '1997': {'proportion null': 1.0, 'total': 70243},\n",
       " '1998': {'proportion null': 1.0, 'total': 71904},\n",
       " '1999': {'proportion null': 1.0, 'total': 80081},\n",
       " '2000': {'proportion null': 0.18039520958083832, 'total': 83500},\n",
       " '2001': {'proportion null': 0.23329846797514306, 'total': 81265},\n",
       " '2002': {'proportion null': 0.2331011831269554, 'total': 83423},\n",
       " '2003': {'proportion null': 0.0799844186197494, 'total': 61612},\n",
       " '2004': {'proportion null': 0.06882632206961334, 'total': 78778},\n",
       " '2005': {'proportion null': 0.07586760573659818, 'total': 82209},\n",
       " '2006': {'proportion null': 0.0777151952981511, 'total': 81670},\n",
       " '2007': {'proportion null': 0.07628872938370497, 'total': 88886},\n",
       " '2008': {'proportion null': 0.08139032324105457, 'total': 87922},\n",
       " '2009': {'proportion null': 0.03714297265064381, 'total': 98942},\n",
       " '2010': {'proportion null': 0.03940708219221875, 'total': 93841},\n",
       " '2011': {'proportion null': 0.05598794878232488, 'total': 83643},\n",
       " '2012': {'proportion null': 0.054754459481699984, 'total': 78989},\n",
       " '2013': {'proportion null': 0.05779116257334233, 'total': 77036},\n",
       " '2014': {'proportion null': 0.06467367757690339, 'total': 76167},\n",
       " '2015': {'proportion null': 0.032717160150498935, 'total': 73356},\n",
       " '2016': {'proportion null': 0.028290197279574533, 'total': 71827}}"
      ]
     },
     "execution_count": 50,
     "metadata": {},
     "output_type": "execute_result"
    }
   ],
   "source": [
    "years = all_grants['fy'].unique().tolist()\n",
    "percent_funded = {year: None for year in years}\n",
    "for year in years:\n",
    "    total = len(all_grants.ix[all_grants['fy'] == year])\n",
    "    nulls = len(all_grants.ix[(all_grants['funds'].isnull()) & (all_grants['fy'] == year)])\n",
    "    percent = nulls/total\n",
    "    percent_funded[year] = {'proportion null':percent, 'total':total}\n",
    "percent_funded"
   ]
  },
  {
   "cell_type": "markdown",
   "metadata": {},
   "source": [
    "No funding information is available until the 2000s. Therefore remove grants from 1985-2000."
   ]
  },
  {
   "cell_type": "code",
   "execution_count": 51,
   "metadata": {},
   "outputs": [
    {
     "data": {
      "text/plain": [
       "(1383066, 16)"
      ]
     },
     "execution_count": 51,
     "metadata": {},
     "output_type": "execute_result"
    },
    {
     "data": {
      "text/html": [
       "<div>\n",
       "<table border=\"1\" class=\"dataframe\">\n",
       "  <thead>\n",
       "    <tr style=\"text-align: right;\">\n",
       "      <th></th>\n",
       "      <th>application_id</th>\n",
       "      <th>activity</th>\n",
       "      <th>application_type</th>\n",
       "      <th>arra_funded</th>\n",
       "      <th>funding_mechanism</th>\n",
       "      <th>fy</th>\n",
       "      <th>nih_spending_cats</th>\n",
       "      <th>phr</th>\n",
       "      <th>pi_ids</th>\n",
       "      <th>project_start</th>\n",
       "      <th>project_end</th>\n",
       "      <th>project_terms</th>\n",
       "      <th>study_section</th>\n",
       "      <th>study_section_name</th>\n",
       "      <th>support_year</th>\n",
       "      <th>funds</th>\n",
       "    </tr>\n",
       "  </thead>\n",
       "  <tbody>\n",
       "    <tr>\n",
       "      <th>840226</th>\n",
       "      <td>6258248</td>\n",
       "      <td>c06</td>\n",
       "      <td>1</td>\n",
       "      <td>NaN</td>\n",
       "      <td>NaN</td>\n",
       "      <td>2000</td>\n",
       "      <td>NaN</td>\n",
       "      <td>NaN</td>\n",
       "      <td>1860776</td>\n",
       "      <td>2000-09-22</td>\n",
       "      <td>NaT</td>\n",
       "      <td>NaN</td>\n",
       "      <td>strb</td>\n",
       "      <td>scientific and technical review board on biome...</td>\n",
       "      <td>1</td>\n",
       "      <td>1488000.0</td>\n",
       "    </tr>\n",
       "    <tr>\n",
       "      <th>840227</th>\n",
       "      <td>6033399</td>\n",
       "      <td>c06</td>\n",
       "      <td>1</td>\n",
       "      <td>NaN</td>\n",
       "      <td>NaN</td>\n",
       "      <td>2000</td>\n",
       "      <td>NaN</td>\n",
       "      <td>NaN</td>\n",
       "      <td>6423558</td>\n",
       "      <td>2000-07-01</td>\n",
       "      <td>NaT</td>\n",
       "      <td>NaN</td>\n",
       "      <td>strb</td>\n",
       "      <td>scientific and technical review board on biome...</td>\n",
       "      <td>1</td>\n",
       "      <td>1000000.0</td>\n",
       "    </tr>\n",
       "    <tr>\n",
       "      <th>840228</th>\n",
       "      <td>6039178</td>\n",
       "      <td>c06</td>\n",
       "      <td>1</td>\n",
       "      <td>NaN</td>\n",
       "      <td>NaN</td>\n",
       "      <td>2000</td>\n",
       "      <td>NaN</td>\n",
       "      <td>NaN</td>\n",
       "      <td>1871945</td>\n",
       "      <td>2000-07-01</td>\n",
       "      <td>NaT</td>\n",
       "      <td>NaN</td>\n",
       "      <td>strb</td>\n",
       "      <td>scientific and technical review board on biome...</td>\n",
       "      <td>1</td>\n",
       "      <td>1000000.0</td>\n",
       "    </tr>\n",
       "    <tr>\n",
       "      <th>840229</th>\n",
       "      <td>6258225</td>\n",
       "      <td>c06</td>\n",
       "      <td>1</td>\n",
       "      <td>NaN</td>\n",
       "      <td>NaN</td>\n",
       "      <td>2000</td>\n",
       "      <td>NaN</td>\n",
       "      <td>NaN</td>\n",
       "      <td>6522067</td>\n",
       "      <td>2000-09-01</td>\n",
       "      <td>NaT</td>\n",
       "      <td>NaN</td>\n",
       "      <td>strb</td>\n",
       "      <td>scientific and technical review board on biome...</td>\n",
       "      <td>1</td>\n",
       "      <td>1000000.0</td>\n",
       "    </tr>\n",
       "    <tr>\n",
       "      <th>840230</th>\n",
       "      <td>6258259</td>\n",
       "      <td>c06</td>\n",
       "      <td>1</td>\n",
       "      <td>NaN</td>\n",
       "      <td>NaN</td>\n",
       "      <td>2000</td>\n",
       "      <td>NaN</td>\n",
       "      <td>NaN</td>\n",
       "      <td>8756854</td>\n",
       "      <td>2000-08-01</td>\n",
       "      <td>NaT</td>\n",
       "      <td>NaN</td>\n",
       "      <td>strb</td>\n",
       "      <td>scientific and technical review board on biome...</td>\n",
       "      <td>1</td>\n",
       "      <td>1999999.0</td>\n",
       "    </tr>\n",
       "  </tbody>\n",
       "</table>\n",
       "</div>"
      ],
      "text/plain": [
       "       application_id activity application_type arra_funded funding_mechanism  \\\n",
       "840226        6258248      c06                1         NaN               NaN   \n",
       "840227        6033399      c06                1         NaN               NaN   \n",
       "840228        6039178      c06                1         NaN               NaN   \n",
       "840229        6258225      c06                1         NaN               NaN   \n",
       "840230        6258259      c06                1         NaN               NaN   \n",
       "\n",
       "          fy nih_spending_cats  phr   pi_ids project_start project_end  \\\n",
       "840226  2000               NaN  NaN  1860776    2000-09-22         NaT   \n",
       "840227  2000               NaN  NaN  6423558    2000-07-01         NaT   \n",
       "840228  2000               NaN  NaN  1871945    2000-07-01         NaT   \n",
       "840229  2000               NaN  NaN  6522067    2000-09-01         NaT   \n",
       "840230  2000               NaN  NaN  8756854    2000-08-01         NaT   \n",
       "\n",
       "       project_terms study_section  \\\n",
       "840226           NaN          strb   \n",
       "840227           NaN          strb   \n",
       "840228           NaN          strb   \n",
       "840229           NaN          strb   \n",
       "840230           NaN          strb   \n",
       "\n",
       "                                       study_section_name support_year  \\\n",
       "840226  scientific and technical review board on biome...            1   \n",
       "840227  scientific and technical review board on biome...            1   \n",
       "840228  scientific and technical review board on biome...            1   \n",
       "840229  scientific and technical review board on biome...            1   \n",
       "840230  scientific and technical review board on biome...            1   \n",
       "\n",
       "            funds  \n",
       "840226  1488000.0  \n",
       "840227  1000000.0  \n",
       "840228  1000000.0  \n",
       "840229  1000000.0  \n",
       "840230  1999999.0  "
      ]
     },
     "execution_count": 51,
     "metadata": {},
     "output_type": "execute_result"
    }
   ],
   "source": [
    "all_grants = all_grants.ix[all_grants['fy'] >= '2000']\n",
    "all_grants.shape\n",
    "all_grants.head()"
   ]
  },
  {
   "cell_type": "markdown",
   "metadata": {},
   "source": [
    "## Splitting individual PIs when more than one is listed on a grant\n",
    "Split grants with multiple PIs so that each row only has a single PI listed. This will allow analysis on funding per individual and per institution."
   ]
  },
  {
   "cell_type": "code",
   "execution_count": 52,
   "metadata": {
    "scrolled": false
   },
   "outputs": [
    {
     "data": {
      "text/html": [
       "<div>\n",
       "<table border=\"1\" class=\"dataframe\">\n",
       "  <thead>\n",
       "    <tr style=\"text-align: right;\">\n",
       "      <th></th>\n",
       "      <th>application_id</th>\n",
       "      <th>activity</th>\n",
       "      <th>application_type</th>\n",
       "      <th>arra_funded</th>\n",
       "      <th>funding_mechanism</th>\n",
       "      <th>fy</th>\n",
       "      <th>nih_spending_cats</th>\n",
       "      <th>phr</th>\n",
       "      <th>project_start</th>\n",
       "      <th>project_end</th>\n",
       "      <th>project_terms</th>\n",
       "      <th>study_section</th>\n",
       "      <th>study_section_name</th>\n",
       "      <th>support_year</th>\n",
       "      <th>funds</th>\n",
       "      <th>pi_ids</th>\n",
       "    </tr>\n",
       "  </thead>\n",
       "  <tbody>\n",
       "    <tr>\n",
       "      <th>2223287</th>\n",
       "      <td>9119172</td>\n",
       "      <td>p20</td>\n",
       "      <td>4</td>\n",
       "      <td>n</td>\n",
       "      <td>research centers</td>\n",
       "      <td>2016</td>\n",
       "      <td>NaN</td>\n",
       "      <td>mycobacterium bovis is the causative agent of ...</td>\n",
       "      <td>2016-07-01</td>\n",
       "      <td>2017-06-30</td>\n",
       "      <td>adaptive immunity; animals; arm; biology; bovi...</td>\n",
       "      <td>zrr1</td>\n",
       "      <td>special emphasis panel</td>\n",
       "      <td>5</td>\n",
       "      <td>180552.0</td>\n",
       "      <td>9524770</td>\n",
       "    </tr>\n",
       "    <tr>\n",
       "      <th>2223288</th>\n",
       "      <td>9128041</td>\n",
       "      <td>u01</td>\n",
       "      <td>5</td>\n",
       "      <td>n</td>\n",
       "      <td>non-sbir/sttr rpgs</td>\n",
       "      <td>2016</td>\n",
       "      <td>NaN</td>\n",
       "      <td>public health relevance: disorders of excitabi...</td>\n",
       "      <td>2015-09-01</td>\n",
       "      <td>2020-08-31</td>\n",
       "      <td>3-dimensional; academia; adherence; affect; am...</td>\n",
       "      <td>zeb1</td>\n",
       "      <td>special emphasis panel</td>\n",
       "      <td>2</td>\n",
       "      <td>751173.0</td>\n",
       "      <td>6490459</td>\n",
       "    </tr>\n",
       "    <tr>\n",
       "      <th>2223289</th>\n",
       "      <td>9033088</td>\n",
       "      <td>r01</td>\n",
       "      <td>5</td>\n",
       "      <td>n</td>\n",
       "      <td>non-sbir/sttr rpgs</td>\n",
       "      <td>2016</td>\n",
       "      <td>NaN</td>\n",
       "      <td>public health relevance: hepatocarinoma is a m...</td>\n",
       "      <td>2015-07-01</td>\n",
       "      <td>2020-06-30</td>\n",
       "      <td>1-phosphatidylinositol 3-kinase; ablation; add...</td>\n",
       "      <td>tcb</td>\n",
       "      <td>tumor cell biology study section</td>\n",
       "      <td>2</td>\n",
       "      <td>354563.0</td>\n",
       "      <td>1901669</td>\n",
       "    </tr>\n",
       "    <tr>\n",
       "      <th>2223290</th>\n",
       "      <td>9070525</td>\n",
       "      <td>f30</td>\n",
       "      <td>4</td>\n",
       "      <td>n</td>\n",
       "      <td>training, individual</td>\n",
       "      <td>2016</td>\n",
       "      <td>NaN</td>\n",
       "      <td>the world health organization estimates that n...</td>\n",
       "      <td>2012-06-01</td>\n",
       "      <td>2017-05-31</td>\n",
       "      <td>amino acid sequence; anterior; anxiety; axon; ...</td>\n",
       "      <td>zrg1</td>\n",
       "      <td>special emphasis panel</td>\n",
       "      <td>5</td>\n",
       "      <td>46182.0</td>\n",
       "      <td>10944221</td>\n",
       "    </tr>\n",
       "    <tr>\n",
       "      <th>2223291</th>\n",
       "      <td>9057001</td>\n",
       "      <td>r01</td>\n",
       "      <td>5</td>\n",
       "      <td>n</td>\n",
       "      <td>non-sbir/sttr rpgs</td>\n",
       "      <td>2016</td>\n",
       "      <td>NaN</td>\n",
       "      <td>public health relevance:  trip13 overexpressio...</td>\n",
       "      <td>2014-05-01</td>\n",
       "      <td>2018-04-30</td>\n",
       "      <td>adaptor signaling protein; address; affect; ag...</td>\n",
       "      <td>cg</td>\n",
       "      <td>cancer genetics study section</td>\n",
       "      <td>3</td>\n",
       "      <td>306063.0</td>\n",
       "      <td>9288457</td>\n",
       "    </tr>\n",
       "  </tbody>\n",
       "</table>\n",
       "</div>"
      ],
      "text/plain": [
       "        application_id activity application_type arra_funded  \\\n",
       "2223287        9119172      p20                4           n   \n",
       "2223288        9128041      u01                5           n   \n",
       "2223289        9033088      r01                5           n   \n",
       "2223290        9070525      f30                4           n   \n",
       "2223291        9057001      r01                5           n   \n",
       "\n",
       "            funding_mechanism    fy nih_spending_cats  \\\n",
       "2223287      research centers  2016               NaN   \n",
       "2223288    non-sbir/sttr rpgs  2016               NaN   \n",
       "2223289    non-sbir/sttr rpgs  2016               NaN   \n",
       "2223290  training, individual  2016               NaN   \n",
       "2223291    non-sbir/sttr rpgs  2016               NaN   \n",
       "\n",
       "                                                       phr project_start  \\\n",
       "2223287  mycobacterium bovis is the causative agent of ...    2016-07-01   \n",
       "2223288  public health relevance: disorders of excitabi...    2015-09-01   \n",
       "2223289  public health relevance: hepatocarinoma is a m...    2015-07-01   \n",
       "2223290  the world health organization estimates that n...    2012-06-01   \n",
       "2223291  public health relevance:  trip13 overexpressio...    2014-05-01   \n",
       "\n",
       "        project_end                                      project_terms  \\\n",
       "2223287  2017-06-30  adaptive immunity; animals; arm; biology; bovi...   \n",
       "2223288  2020-08-31  3-dimensional; academia; adherence; affect; am...   \n",
       "2223289  2020-06-30  1-phosphatidylinositol 3-kinase; ablation; add...   \n",
       "2223290  2017-05-31  amino acid sequence; anterior; anxiety; axon; ...   \n",
       "2223291  2018-04-30  adaptor signaling protein; address; affect; ag...   \n",
       "\n",
       "        study_section                 study_section_name support_year  \\\n",
       "2223287          zrr1            special emphasis panel             5   \n",
       "2223288          zeb1            special emphasis panel             2   \n",
       "2223289           tcb  tumor cell biology study section             2   \n",
       "2223290          zrg1            special emphasis panel             5   \n",
       "2223291            cg     cancer genetics study section             3   \n",
       "\n",
       "            funds    pi_ids  \n",
       "2223287  180552.0   9524770  \n",
       "2223288  751173.0   6490459  \n",
       "2223289  354563.0   1901669  \n",
       "2223290   46182.0  10944221  \n",
       "2223291  306063.0   9288457  "
      ]
     },
     "execution_count": 52,
     "metadata": {},
     "output_type": "execute_result"
    }
   ],
   "source": [
    "col_to_clean = 'nih_spending_cats pi_ids project_terms'.split()\n",
    "\n",
    "#strip ';' from columns\n",
    "all_grants = cln.strip_series(all_grants, col_to_clean, strip = '; ')\n",
    "\n",
    "#individual PIs are delimited by a ';', so split into rows along the ';'\n",
    "all_grants = cln.split_rows(all_grants, col_name = 'pi_ids', by = ';')\n",
    "\n",
    "#strip '(contact)' string and final white space\n",
    "all_grants = cln.strip_series(all_grants, ['pi_ids'])\n",
    "all_grants = cln.strip_series(all_grants, ['pi_ids'], strip = ' ')\n",
    "all_grants.tail()"
   ]
  },
  {
   "cell_type": "code",
   "execution_count": 53,
   "metadata": {},
   "outputs": [
    {
     "data": {
      "text/plain": [
       "(1446254, 16)"
      ]
     },
     "execution_count": 53,
     "metadata": {},
     "output_type": "execute_result"
    }
   ],
   "source": [
    "all_grants.shape"
   ]
  },
  {
   "cell_type": "markdown",
   "metadata": {},
   "source": [
    "## Splitting rows by PI ids\n",
    "\n",
    "Split grant totals by number of associated PIs (assumption is that all PIs on a grant receive the same amount of money)."
   ]
  },
  {
   "cell_type": "code",
   "execution_count": 54,
   "metadata": {
    "collapsed": true
   },
   "outputs": [],
   "source": [
    "pi_per_grant = pd.DataFrame(all_grants['application_id'].value_counts())\n",
    "pi_per_grant = pi_per_grant.reset_index()\n",
    "pi_per_grant.columns = ['application_id', 'num_pis']\n",
    "\n",
    "#Match application IDs in df of grants and pi_per_grant\n",
    "#Divide the 3 cost columns by number of PIs per grant\n",
    "all_grants = pd.merge(all_grants, pi_per_grant, on = 'application_id')"
   ]
  },
  {
   "cell_type": "code",
   "execution_count": 55,
   "metadata": {
    "collapsed": true
   },
   "outputs": [],
   "source": [
    "#divide cost columns by # of times the application_id occurs\n",
    "all_grants['funds'] = all_grants['funds'] // all_grants['num_pis']"
   ]
  },
  {
   "cell_type": "markdown",
   "metadata": {},
   "source": [
    "Save to csv"
   ]
  },
  {
   "cell_type": "code",
   "execution_count": 56,
   "metadata": {
    "collapsed": true
   },
   "outputs": [],
   "source": [
    "all_grants.to_csv('for_analysis.csv', index = False, compression = 'gzip')"
   ]
  },
  {
   "cell_type": "markdown",
   "metadata": {},
   "source": [
    "For text mining of grant abstracts, see [here](funding-by-abstracts.ipynb)."
   ]
  }
 ],
 "metadata": {
  "kernelspec": {
   "display_name": "Python 3",
   "language": "python",
   "name": "python3"
  },
  "language_info": {
   "codemirror_mode": {
    "name": "ipython",
    "version": 3
   },
   "file_extension": ".py",
   "mimetype": "text/x-python",
   "name": "python",
   "nbconvert_exporter": "python",
   "pygments_lexer": "ipython3",
   "version": "3.6.0"
  }
 },
 "nbformat": 4,
 "nbformat_minor": 1
}
